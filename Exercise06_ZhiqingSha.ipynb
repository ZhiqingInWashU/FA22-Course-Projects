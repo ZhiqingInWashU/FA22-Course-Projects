{
 "cells": [
  {
   "cell_type": "markdown",
   "id": "c95180c2",
   "metadata": {},
   "source": [
    "### Load Data"
   ]
  },
  {
   "cell_type": "code",
   "execution_count": 1,
   "id": "a0ed862d",
   "metadata": {},
   "outputs": [],
   "source": [
    "import pandas as pd\n",
    "import numpy as np\n",
    "import seaborn as sns\n",
    "import matplotlib.pyplot as plt\n",
    "import statsmodels.api as sm # run OLS linear regression\n",
    "from statsmodels.graphics.factorplots import interaction_plot # plot interaction\n",
    "\n",
    "from sklearn.linear_model import Ridge\n",
    "from sklearn.linear_model import Lasso\n",
    "from sklearn.linear_model import RidgeCV\n",
    "from sklearn.linear_model import LassoCV\n",
    "\n",
    "from sklearn.model_selection import cross_val_score\n",
    "from sklearn.model_selection import RepeatedKFold\n",
    "from sklearn.model_selection import GridSearchCV\n",
    "\n",
    "from sklearn.metrics import mean_squared_error\n",
    "from sklearn.metrics import r2_score"
   ]
  },
  {
   "cell_type": "code",
   "execution_count": 2,
   "id": "434e6651",
   "metadata": {},
   "outputs": [
    {
     "data": {
      "text/html": [
       "<div>\n",
       "<style scoped>\n",
       "    .dataframe tbody tr th:only-of-type {\n",
       "        vertical-align: middle;\n",
       "    }\n",
       "\n",
       "    .dataframe tbody tr th {\n",
       "        vertical-align: top;\n",
       "    }\n",
       "\n",
       "    .dataframe thead th {\n",
       "        text-align: right;\n",
       "    }\n",
       "</style>\n",
       "<table border=\"1\" class=\"dataframe\">\n",
       "  <thead>\n",
       "    <tr style=\"text-align: right;\">\n",
       "      <th></th>\n",
       "      <th>spend</th>\n",
       "      <th>race</th>\n",
       "      <th>income</th>\n",
       "      <th>age</th>\n",
       "      <th>sex</th>\n",
       "      <th>schoolYears</th>\n",
       "    </tr>\n",
       "  </thead>\n",
       "  <tbody>\n",
       "    <tr>\n",
       "      <th>0</th>\n",
       "      <td>715.243646</td>\n",
       "      <td>white</td>\n",
       "      <td>38511.0</td>\n",
       "      <td>34.0</td>\n",
       "      <td>male</td>\n",
       "      <td>0.0</td>\n",
       "    </tr>\n",
       "    <tr>\n",
       "      <th>1</th>\n",
       "      <td>883.720255</td>\n",
       "      <td>other</td>\n",
       "      <td>280882.0</td>\n",
       "      <td>38.0</td>\n",
       "      <td>male</td>\n",
       "      <td>0.0</td>\n",
       "    </tr>\n",
       "    <tr>\n",
       "      <th>2</th>\n",
       "      <td>755.915697</td>\n",
       "      <td>white</td>\n",
       "      <td>160952.0</td>\n",
       "      <td>48.0</td>\n",
       "      <td>female</td>\n",
       "      <td>0.0</td>\n",
       "    </tr>\n",
       "    <tr>\n",
       "      <th>3</th>\n",
       "      <td>652.697972</td>\n",
       "      <td>white</td>\n",
       "      <td>73221.0</td>\n",
       "      <td>32.0</td>\n",
       "      <td>male</td>\n",
       "      <td>0.0</td>\n",
       "    </tr>\n",
       "    <tr>\n",
       "      <th>4</th>\n",
       "      <td>575.359129</td>\n",
       "      <td>white</td>\n",
       "      <td>17415.0</td>\n",
       "      <td>29.0</td>\n",
       "      <td>male</td>\n",
       "      <td>0.0</td>\n",
       "    </tr>\n",
       "  </tbody>\n",
       "</table>\n",
       "</div>"
      ],
      "text/plain": [
       "        spend   race    income   age     sex  schoolYears\n",
       "0  715.243646  white   38511.0  34.0    male          0.0\n",
       "1  883.720255  other  280882.0  38.0    male          0.0\n",
       "2  755.915697  white  160952.0  48.0  female          0.0\n",
       "3  652.697972  white   73221.0  32.0    male          0.0\n",
       "4  575.359129  white   17415.0  29.0    male          0.0"
      ]
     },
     "execution_count": 2,
     "metadata": {},
     "output_type": "execute_result"
    }
   ],
   "source": [
    "spending = pd.read_csv(\"../W8/lab07_customers.csv\")\n",
    "spending.head()"
   ]
  },
  {
   "cell_type": "markdown",
   "id": "03e1ab68",
   "metadata": {},
   "source": [
    "### 1. Build a linear regression with all the dependant variables and the interactions from the lab"
   ]
  },
  {
   "cell_type": "code",
   "execution_count": 3,
   "id": "c9866d3b",
   "metadata": {},
   "outputs": [],
   "source": [
    "# create dummy variables\n",
    "sp = pd.concat([spending, pd.get_dummies(spending[[\"race\", \"sex\"]], prefix = [\"race\", \"sex\"])], axis = 1)\n",
    "\n",
    "# create interaction terms\n",
    "sp[\"hispanic_male\"] = sp.apply(lambda x: 1 if (x[\"race\"] == \"hispanic\") & (x[\"sex\"] == \"male\") else 0, axis = 1)\n",
    "sp[\"black_female\"] = sp.apply(lambda x: 1 if (x[\"race\"] == \"black\") & (x[\"sex\"] == \"female\") else 0, axis = 1)\n",
    "sp[\"asian_female\"] = sp.apply(lambda x: 1 if (x[\"race\"] == \"asian\") & (x[\"sex\"] == \"female\") else 0, axis = 1)\n",
    "sp[\"educated_female\"] = sp.apply(lambda x: 1 if (x[\"sex\"] == \"female\") & (x[\"schoolYears\"] == 1) else 0, axis = 1)\n",
    "sp[\"educated_asian\"] = sp.apply(lambda x: 1 if (x[\"race\"] == \"asian\") & (x[\"schoolYears\"] == 1) else 0, axis = 1)\n",
    "sp[\"educated_asian_female\"] = sp.apply(lambda x: 1 if (x[\"race\"] == \"asian\") & (x[\"sex\"] == \"female\") & (x[\"schoolYears\"] == 1) else 0, axis = 1)\n",
    "\n",
    "# transform income (age is not able to transform, so leave it be - normal enough)\n",
    "sp[\"LNincome\"] = np.log(sp[\"income\"])"
   ]
  },
  {
   "cell_type": "code",
   "execution_count": 4,
   "id": "cfb97ea0",
   "metadata": {},
   "outputs": [],
   "source": [
    "X = sp[[\"LNincome\", \"age\", \"schoolYears\", \"race_asian\", \"race_black\", \"race_hispanic\", \"race_white\",\n",
    "        \"sex_male\", \"sex_female\", \"hispanic_male\", \"black_female\", \"asian_female\", \"educated_female\", \"educated_asian\",\n",
    "        \"educated_asian_female\"]]\n",
    "y = sp[\"spend\"]"
   ]
  },
  {
   "cell_type": "code",
   "execution_count": 5,
   "id": "17ccca71",
   "metadata": {},
   "outputs": [
    {
     "data": {
      "text/html": [
       "<table class=\"simpletable\">\n",
       "<caption>OLS Regression Results</caption>\n",
       "<tr>\n",
       "  <th>Dep. Variable:</th>          <td>spend</td>      <th>  R-squared:         </th> <td>   0.864</td> \n",
       "</tr>\n",
       "<tr>\n",
       "  <th>Model:</th>                   <td>OLS</td>       <th>  Adj. R-squared:    </th> <td>   0.864</td> \n",
       "</tr>\n",
       "<tr>\n",
       "  <th>Method:</th>             <td>Least Squares</td>  <th>  F-statistic:       </th> <td>   5787.</td> \n",
       "</tr>\n",
       "<tr>\n",
       "  <th>Date:</th>             <td>Wed, 26 Oct 2022</td> <th>  Prob (F-statistic):</th>  <td>  0.00</td>  \n",
       "</tr>\n",
       "<tr>\n",
       "  <th>Time:</th>                 <td>21:48:00</td>     <th>  Log-Likelihood:    </th> <td> -51739.</td> \n",
       "</tr>\n",
       "<tr>\n",
       "  <th>No. Observations:</th>      <td> 10000</td>      <th>  AIC:               </th> <td>1.035e+05</td>\n",
       "</tr>\n",
       "<tr>\n",
       "  <th>Df Residuals:</th>          <td>  9988</td>      <th>  BIC:               </th> <td>1.036e+05</td>\n",
       "</tr>\n",
       "<tr>\n",
       "  <th>Df Model:</th>              <td>    11</td>      <th>                     </th>     <td> </td>    \n",
       "</tr>\n",
       "<tr>\n",
       "  <th>Covariance Type:</th>      <td>nonrobust</td>    <th>                     </th>     <td> </td>    \n",
       "</tr>\n",
       "</table>\n",
       "<table class=\"simpletable\">\n",
       "<tr>\n",
       "            <td></td>               <th>coef</th>     <th>std err</th>      <th>t</th>      <th>P>|t|</th>  <th>[0.025</th>    <th>0.975]</th>  \n",
       "</tr>\n",
       "<tr>\n",
       "  <th>const</th>                 <td> -247.0738</td> <td>   13.562</td> <td>  -18.219</td> <td> 0.000</td> <td> -273.657</td> <td> -220.490</td>\n",
       "</tr>\n",
       "<tr>\n",
       "  <th>LNincome</th>              <td>   16.7310</td> <td>    0.427</td> <td>   39.213</td> <td> 0.000</td> <td>   15.895</td> <td>   17.567</td>\n",
       "</tr>\n",
       "<tr>\n",
       "  <th>age</th>                   <td>   20.7141</td> <td>    0.105</td> <td>  196.784</td> <td> 0.000</td> <td>   20.508</td> <td>   20.920</td>\n",
       "</tr>\n",
       "<tr>\n",
       "  <th>schoolYears</th>           <td>   23.0173</td> <td>    0.703</td> <td>   32.744</td> <td> 0.000</td> <td>   21.639</td> <td>   24.395</td>\n",
       "</tr>\n",
       "<tr>\n",
       "  <th>race_asian</th>            <td>    8.5266</td> <td>    2.783</td> <td>    3.064</td> <td> 0.002</td> <td>    3.072</td> <td>   13.982</td>\n",
       "</tr>\n",
       "<tr>\n",
       "  <th>race_black</th>            <td>   -0.4463</td> <td>    2.230</td> <td>   -0.200</td> <td> 0.841</td> <td>   -4.818</td> <td>    3.926</td>\n",
       "</tr>\n",
       "<tr>\n",
       "  <th>race_hispanic</th>         <td>    1.1951</td> <td>    2.108</td> <td>    0.567</td> <td> 0.571</td> <td>   -2.937</td> <td>    5.327</td>\n",
       "</tr>\n",
       "<tr>\n",
       "  <th>race_white</th>            <td>    5.0611</td> <td>    1.392</td> <td>    3.636</td> <td> 0.000</td> <td>    2.332</td> <td>    7.790</td>\n",
       "</tr>\n",
       "<tr>\n",
       "  <th>sex_male</th>              <td>   94.9926</td> <td>   12.382</td> <td>    7.672</td> <td> 0.000</td> <td>   70.722</td> <td>  119.263</td>\n",
       "</tr>\n",
       "<tr>\n",
       "  <th>sex_female</th>            <td> -201.2418</td> <td>   12.563</td> <td>  -16.019</td> <td> 0.000</td> <td> -225.867</td> <td> -176.617</td>\n",
       "</tr>\n",
       "<tr>\n",
       "  <th>hispanic_male</th>         <td>  151.1170</td> <td>    2.550</td> <td>   59.269</td> <td> 0.000</td> <td>  146.119</td> <td>  156.115</td>\n",
       "</tr>\n",
       "<tr>\n",
       "  <th>black_female</th>          <td> -209.6685</td> <td>    2.709</td> <td>  -77.397</td> <td> 0.000</td> <td> -214.979</td> <td> -204.358</td>\n",
       "</tr>\n",
       "<tr>\n",
       "  <th>asian_female</th>          <td>   23.0173</td> <td>    0.703</td> <td>   32.744</td> <td> 0.000</td> <td>   21.639</td> <td>   24.395</td>\n",
       "</tr>\n",
       "<tr>\n",
       "  <th>educated_female</th>       <td>   23.0173</td> <td>    0.703</td> <td>   32.744</td> <td> 0.000</td> <td>   21.639</td> <td>   24.395</td>\n",
       "</tr>\n",
       "<tr>\n",
       "  <th>educated_asian</th>        <td>   23.0173</td> <td>    0.703</td> <td>   32.744</td> <td> 0.000</td> <td>   21.639</td> <td>   24.395</td>\n",
       "</tr>\n",
       "<tr>\n",
       "  <th>educated_asian_female</th> <td>   23.0173</td> <td>    0.703</td> <td>   32.744</td> <td> 0.000</td> <td>   21.639</td> <td>   24.395</td>\n",
       "</tr>\n",
       "</table>\n",
       "<table class=\"simpletable\">\n",
       "<tr>\n",
       "  <th>Omnibus:</th>       <td>476.497</td> <th>  Durbin-Watson:     </th> <td>   2.004</td> \n",
       "</tr>\n",
       "<tr>\n",
       "  <th>Prob(Omnibus):</th> <td> 0.000</td>  <th>  Jarque-Bera (JB):  </th> <td> 618.176</td> \n",
       "</tr>\n",
       "<tr>\n",
       "  <th>Skew:</th>          <td> 0.481</td>  <th>  Prob(JB):          </th> <td>5.82e-135</td>\n",
       "</tr>\n",
       "<tr>\n",
       "  <th>Kurtosis:</th>      <td> 3.746</td>  <th>  Cond. No.          </th> <td>6.40e+64</td> \n",
       "</tr>\n",
       "</table><br/><br/>Notes:<br/>[1] Standard Errors assume that the covariance matrix of the errors is correctly specified.<br/>[2] The smallest eigenvalue is 4.82e-123. This might indicate that there are<br/>strong multicollinearity problems or that the design matrix is singular."
      ],
      "text/plain": [
       "<class 'statsmodels.iolib.summary.Summary'>\n",
       "\"\"\"\n",
       "                            OLS Regression Results                            \n",
       "==============================================================================\n",
       "Dep. Variable:                  spend   R-squared:                       0.864\n",
       "Model:                            OLS   Adj. R-squared:                  0.864\n",
       "Method:                 Least Squares   F-statistic:                     5787.\n",
       "Date:                Wed, 26 Oct 2022   Prob (F-statistic):               0.00\n",
       "Time:                        21:48:00   Log-Likelihood:                -51739.\n",
       "No. Observations:               10000   AIC:                         1.035e+05\n",
       "Df Residuals:                    9988   BIC:                         1.036e+05\n",
       "Df Model:                          11                                         \n",
       "Covariance Type:            nonrobust                                         \n",
       "=========================================================================================\n",
       "                            coef    std err          t      P>|t|      [0.025      0.975]\n",
       "-----------------------------------------------------------------------------------------\n",
       "const                  -247.0738     13.562    -18.219      0.000    -273.657    -220.490\n",
       "LNincome                 16.7310      0.427     39.213      0.000      15.895      17.567\n",
       "age                      20.7141      0.105    196.784      0.000      20.508      20.920\n",
       "schoolYears              23.0173      0.703     32.744      0.000      21.639      24.395\n",
       "race_asian                8.5266      2.783      3.064      0.002       3.072      13.982\n",
       "race_black               -0.4463      2.230     -0.200      0.841      -4.818       3.926\n",
       "race_hispanic             1.1951      2.108      0.567      0.571      -2.937       5.327\n",
       "race_white                5.0611      1.392      3.636      0.000       2.332       7.790\n",
       "sex_male                 94.9926     12.382      7.672      0.000      70.722     119.263\n",
       "sex_female             -201.2418     12.563    -16.019      0.000    -225.867    -176.617\n",
       "hispanic_male           151.1170      2.550     59.269      0.000     146.119     156.115\n",
       "black_female           -209.6685      2.709    -77.397      0.000    -214.979    -204.358\n",
       "asian_female             23.0173      0.703     32.744      0.000      21.639      24.395\n",
       "educated_female          23.0173      0.703     32.744      0.000      21.639      24.395\n",
       "educated_asian           23.0173      0.703     32.744      0.000      21.639      24.395\n",
       "educated_asian_female    23.0173      0.703     32.744      0.000      21.639      24.395\n",
       "==============================================================================\n",
       "Omnibus:                      476.497   Durbin-Watson:                   2.004\n",
       "Prob(Omnibus):                  0.000   Jarque-Bera (JB):              618.176\n",
       "Skew:                           0.481   Prob(JB):                    5.82e-135\n",
       "Kurtosis:                       3.746   Cond. No.                     6.40e+64\n",
       "==============================================================================\n",
       "\n",
       "Notes:\n",
       "[1] Standard Errors assume that the covariance matrix of the errors is correctly specified.\n",
       "[2] The smallest eigenvalue is 4.82e-123. This might indicate that there are\n",
       "strong multicollinearity problems or that the design matrix is singular.\n",
       "\"\"\""
      ]
     },
     "execution_count": 5,
     "metadata": {},
     "output_type": "execute_result"
    }
   ],
   "source": [
    "model_lr = sm.OLS(y, sm.add_constant(X)).fit()\n",
    "model_lr.summary()"
   ]
  },
  {
   "cell_type": "markdown",
   "id": "319ebb5c",
   "metadata": {},
   "source": [
    "### 2. Build ridge models with various values for alpha. Create a chart showing how the coefficients change with alpha values\n",
    "reference: https://machinelearningmastery.com/ridge-regression-with-python/  \n",
    "reference: https://scikit-learn.org/stable/auto_examples/linear_model/plot_ridge_path.html  \n",
    "reference: https://www.pluralsight.com/guides/linear-lasso-ridge-regression-scikit-learn  \n",
    "reference: http://www.science.smith.edu/~jcrouser/SDS293/labs/lab10-py.html"
   ]
  },
  {
   "cell_type": "code",
   "execution_count": 6,
   "id": "d32b8872",
   "metadata": {},
   "outputs": [],
   "source": [
    "alphas = 10**np.linspace(5,-5,100)*0.5\n",
    "coefs = []\n",
    "mse = []\n",
    "for a in alphas:\n",
    "    ridge = Ridge(alpha=a, fit_intercept=True)\n",
    "    ridge.fit(X, y)\n",
    "    coefs.append(ridge.coef_)\n",
    "    mse.append(mean_squared_error(y, ridge.predict(X)))"
   ]
  },
  {
   "cell_type": "code",
   "execution_count": 7,
   "id": "de5d42fa",
   "metadata": {},
   "outputs": [
    {
     "data": {
      "image/png": "[encoded data removed]",
      "text/plain": [
       "<Figure size 432x288 with 1 Axes>"
      ]
     },
     "metadata": {
      "needs_background": "light"
     },
     "output_type": "display_data"
    }
   ],
   "source": [
    "ax = plt.gca()\n",
    "ax.plot(alphas, coefs)\n",
    "ax.set_xscale(\"log\")\n",
    "ax.set_xlim(ax.get_xlim()[::-1])  # reverse axis\n",
    "plt.xlabel(\"alpha\")\n",
    "plt.ylabel(\"coefficients\")\n",
    "plt.title(\"Ridge coefficients as a function of the regularization\")\n",
    "plt.axis(\"tight\")\n",
    "plt.show()"
   ]
  },
  {
   "cell_type": "markdown",
   "id": "aa77d1e2",
   "metadata": {},
   "source": [
    "*As the plot above shows, the best alpha at which coefficients stablalize would be between 0.1 and 10, possibly more close to 0.1.*"
   ]
  },
  {
   "cell_type": "code",
   "execution_count": 8,
   "id": "2257660d",
   "metadata": {},
   "outputs": [
    {
     "name": "stdout",
     "output_type": "stream",
     "text": [
      "With RidgeCV, the best alpha identified is: 0.382\n"
     ]
    }
   ],
   "source": [
    "# cross-validation for best Ridge alpha\n",
    "\n",
    "cv = RepeatedKFold(n_splits=10, n_repeats=3, random_state=1)\n",
    "model_ridge_best = RidgeCV(alphas=np.arange(0, 1, 0.001), cv=cv, scoring=\"neg_mean_squared_error\", fit_intercept=True)\n",
    "# model_ridge_best = RidgeCV(cv=cv, scoring=\"neg_mean_squared_error\")\n",
    "model_ridge_best.fit(X, y)\n",
    "print(\"With RidgeCV, the best alpha identified is:\", model_ridge_best.alpha_)"
   ]
  },
  {
   "cell_type": "markdown",
   "id": "6b191121",
   "metadata": {},
   "source": [
    "### 3. Build lasso models with various values for alpha. Create a chart showing how the coefficients change with alpha values"
   ]
  },
  {
   "cell_type": "code",
   "execution_count": 9,
   "id": "bfa0753c",
   "metadata": {},
   "outputs": [],
   "source": [
    "lasso = Lasso(max_iter = 10000, normalize = True)\n",
    "coef_lasso = []\n",
    "mse_lasso = []\n",
    "for a in alphas:\n",
    "    lasso.set_params(alpha=a)\n",
    "    lasso.fit(X, y)\n",
    "    coef_lasso.append(lasso.coef_)\n",
    "    mse_lasso.append(mean_squared_error(y, lasso.predict(X)))"
   ]
  },
  {
   "cell_type": "code",
   "execution_count": 10,
   "id": "a72ffd57",
   "metadata": {},
   "outputs": [
    {
     "data": {
      "image/png": "[encoded data removed]",
      "text/plain": [
       "<Figure size 432x288 with 1 Axes>"
      ]
     },
     "metadata": {
      "needs_background": "light"
     },
     "output_type": "display_data"
    }
   ],
   "source": [
    "# plt.figure(figsize = (15,4))\n",
    "ax = plt.gca()\n",
    "ax.plot(alphas, coef_lasso)\n",
    "ax.set_xscale('log')\n",
    "ax.set_xlim(ax.get_xlim()[::-1])  # reverse axis\n",
    "plt.axis('tight')\n",
    "plt.xlabel('alpha')\n",
    "plt.ylabel('weights')\n",
    "plt.show()"
   ]
  },
  {
   "cell_type": "markdown",
   "id": "ef88b6f3",
   "metadata": {},
   "source": [
    "*As the graph shows, the alpha at which coefficients stablize is around 0.01.*"
   ]
  },
  {
   "cell_type": "code",
   "execution_count": 11,
   "id": "851dc837",
   "metadata": {},
   "outputs": [
    {
     "name": "stdout",
     "output_type": "stream",
     "text": [
      "With LassoCV, the best alpha identified is 0.3411657805596771\n"
     ]
    }
   ],
   "source": [
    "cv = RepeatedKFold(n_splits=10, n_repeats=3, random_state=1)\n",
    "model_lasso_best = LassoCV(alphas=None, cv=cv, max_iter = 100000, fit_intercept=True)\n",
    "model_lasso_best.fit(X, y)\n",
    "\n",
    "print(\"With LassoCV, the best alpha identified is\", model_lasso_best.alpha_)"
   ]
  },
  {
   "cell_type": "markdown",
   "id": "c25e65e3",
   "metadata": {},
   "source": [
    "### 4. Compare the coefficients from linear regression, ridge, and lasso (select an alpha value using your chart)"
   ]
  },
  {
   "cell_type": "code",
   "execution_count": 12,
   "id": "77c57a24",
   "metadata": {},
   "outputs": [
    {
     "name": "stdout",
     "output_type": "stream",
     "text": [
      "========== Linear coefficients ==========\n",
      " const                   -247.073758\n",
      "LNincome                  16.731040\n",
      "age                       20.714053\n",
      "schoolYears               23.017314\n",
      "race_asian                 8.526570\n",
      "race_black                -0.446285\n",
      "race_hispanic              1.195117\n",
      "race_white                 5.061055\n",
      "sex_male                  94.992568\n",
      "sex_female              -201.241795\n",
      "hispanic_male            151.117036\n",
      "black_female            -209.668530\n",
      "asian_female              23.017314\n",
      "educated_female           23.017314\n",
      "educated_asian            23.017314\n",
      "educated_asian_female     23.017314\n",
      "dtype: float64\n"
     ]
    }
   ],
   "source": [
    "print(\"========== Linear coefficients ==========\\n\", model_lr.params)"
   ]
  },
  {
   "cell_type": "code",
   "execution_count": 13,
   "id": "e7f9157a",
   "metadata": {},
   "outputs": [
    {
     "name": "stdout",
     "output_type": "stream",
     "text": [
      "========== Ridge coefficients ==========\n",
      "LNincome \t\t 16.729381766650445\n",
      "age \t\t 20.705581787667825\n",
      "schoolYears \t\t 23.017599566793546\n",
      "race_asian \t\t 8.509503055462202\n",
      "race_black \t\t -0.6135932755013283\n",
      "race_hispanic \t\t 1.294713296869411\n",
      "race_white \t\t 5.054378004066066\n",
      "sex_male \t\t 98.25567248620736\n",
      "sex_female \t\t -197.8883696817818\n",
      "hispanic_male \t\t 150.8954933329863\n",
      "black_female \t\t -209.34941903068744\n",
      "asian_female \t\t 23.017599566816084\n",
      "educated_female \t\t 23.0175995668232\n",
      "educated_asian \t\t 23.017599566823208\n",
      "educated_asian_female \t\t 23.01759956681963\n"
     ]
    }
   ],
   "source": [
    "print(\"========== Ridge coefficients ==========\")\n",
    "for i in range(len(X.columns)):\n",
    "    print(X.columns[i], \"\\t\\t\", model_ridge_best.coef_[i])"
   ]
  },
  {
   "cell_type": "code",
   "execution_count": 14,
   "id": "73b27037",
   "metadata": {},
   "outputs": [
    {
     "name": "stdout",
     "output_type": "stream",
     "text": [
      "========== Lasso coefficients ==========\n",
      "LNincome \t\t 16.354918995246933\n",
      "age \t\t 20.368360889187663\n",
      "schoolYears \t\t 0.0\n",
      "race_asian \t\t 4.560510045181136\n",
      "race_black \t\t -4.414758788852227\n",
      "race_hispanic \t\t 0.0\n",
      "race_white \t\t 0.3869613994777981\n",
      "sex_male \t\t 101.7359108507142\n",
      "sex_female \t\t -188.6944432140528\n",
      "hispanic_male \t\t 143.1174771966463\n",
      "black_female \t\t -203.91639587949768\n",
      "asian_female \t\t 104.6073082641507\n",
      "educated_female \t\t 0.0\n",
      "educated_asian \t\t 0.0\n",
      "educated_asian_female \t\t 0.0\n"
     ]
    }
   ],
   "source": [
    "print(\"========== Lasso coefficients ==========\")\n",
    "for i in range(len(X.columns)):\n",
    "    print(X.columns[i], \"\\t\\t\", model_lasso_best.coef_[i])"
   ]
  },
  {
   "cell_type": "markdown",
   "id": "5ad34726",
   "metadata": {},
   "source": [
    "### 5. Compare the R2 from lr, ridge, and lasso"
   ]
  },
  {
   "cell_type": "code",
   "execution_count": 15,
   "id": "07aaa058",
   "metadata": {},
   "outputs": [
    {
     "name": "stdout",
     "output_type": "stream",
     "text": [
      "Linear R2: 0.8643841768850987 \n",
      "Ridge R2: 0.8643829191127347 \n",
      "Lasso R2: 0.8634729874055433\n"
     ]
    }
   ],
   "source": [
    "model_ridge_best_pred = model_ridge_best.predict(X)\n",
    "model_lasso_best_pred = model_lasso_best.predict(X)\n",
    "print(\"Linear R2:\", model_lr.rsquared,\n",
    "      \"\\nRidge R2:\", r2_score(y, model_ridge_best_pred),\n",
    "      \"\\nLasso R2:\", r2_score(y, model_lasso_best_pred))"
   ]
  },
  {
   "cell_type": "markdown",
   "id": "1df8d136",
   "metadata": {},
   "source": [
    "*The R2 from lr, ridge and lasso are very close to each other, with linear slightly larger.*"
   ]
  },
  {
   "cell_type": "markdown",
   "id": "fd4a02fe",
   "metadata": {},
   "source": [
    "### 6. Which model would you choose, and why?"
   ]
  },
  {
   "cell_type": "markdown",
   "id": "237183a5",
   "metadata": {},
   "source": [
    "*I would choose the model with linear regression. It has the largest R2, even though three R2s are very similar. Regularization is not so necessary if R2s are pretty similar. Additionally, Ridge has a slightly smaller R2, and Lasso shrinks some predictors on which interactions are based, so Lasso might not be that good.*"
   ]
  },
  {
   "cell_type": "markdown",
   "id": "fe69c25a",
   "metadata": {},
   "source": [
    "### 7. Interpret your chosen model"
   ]
  },
  {
   "cell_type": "markdown",
   "id": "f92cfc10",
   "metadata": {},
   "source": [
    "- *The model R2 is 0.864, suggesting that around 86.4% of the variations in spending can be explained by the model.*   \n",
    "- *In this model, almost all variables are significant. Variable race_black and race_hispanic are not significant, but they have to be kept in the model because their interactions are significant and will be kept.*\n",
    "- *In this model, some strong variables are given larger coefficients. For example, black_female has a coefficient as large as -209.7, indicating it is a very strong predictor of spending in this dataset.*  "
   ]
  }
 ],
 "metadata": {
  "kernelspec": {
   "display_name": "Python 3",
   "language": "python",
   "name": "python3"
  },
  "language_info": {
   "codemirror_mode": {
    "name": "ipython",
    "version": 3
   },
   "file_extension": ".py",
   "mimetype": "text/x-python",
   "name": "python",
   "nbconvert_exporter": "python",
   "pygments_lexer": "ipython3",
   "version": "3.8.8"
  }
 },
 "nbformat": 4,
 "nbformat_minor": 5
}
