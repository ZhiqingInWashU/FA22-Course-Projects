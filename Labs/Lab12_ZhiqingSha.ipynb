{
 "cells": [
  {
   "cell_type": "code",
   "execution_count": 1,
   "id": "e277dfe5",
   "metadata": {},
   "outputs": [],
   "source": [
    "import pandas as pd\n",
    "import numpy as np\n",
    "import seaborn as sns\n",
    "import matplotlib.pyplot as plt"
   ]
  },
  {
   "cell_type": "markdown",
   "id": "f788d567",
   "metadata": {},
   "source": [
    "### 1. Import the data and make the same changes to the data you made in exercise 8."
   ]
  },
  {
   "cell_type": "code",
   "execution_count": 2,
   "id": "e7c91b32",
   "metadata": {},
   "outputs": [
    {
     "data": {
      "text/html": [
       "<div>\n",
       "<style scoped>\n",
       "    .dataframe tbody tr th:only-of-type {\n",
       "        vertical-align: middle;\n",
       "    }\n",
       "\n",
       "    .dataframe tbody tr th {\n",
       "        vertical-align: top;\n",
       "    }\n",
       "\n",
       "    .dataframe thead th {\n",
       "        text-align: right;\n",
       "    }\n",
       "</style>\n",
       "<table border=\"1\" class=\"dataframe\">\n",
       "  <thead>\n",
       "    <tr style=\"text-align: right;\">\n",
       "      <th></th>\n",
       "      <th>id</th>\n",
       "      <th>sex</th>\n",
       "      <th>sbp</th>\n",
       "      <th>dbp</th>\n",
       "      <th>scl</th>\n",
       "      <th>age</th>\n",
       "      <th>bmi</th>\n",
       "      <th>month</th>\n",
       "      <th>chdfate</th>\n",
       "    </tr>\n",
       "  </thead>\n",
       "  <tbody>\n",
       "    <tr>\n",
       "      <th>0</th>\n",
       "      <td>2642</td>\n",
       "      <td>1</td>\n",
       "      <td>120</td>\n",
       "      <td>80</td>\n",
       "      <td>267.0</td>\n",
       "      <td>55</td>\n",
       "      <td>25.0</td>\n",
       "      <td>8</td>\n",
       "      <td>1</td>\n",
       "    </tr>\n",
       "    <tr>\n",
       "      <th>1</th>\n",
       "      <td>4627</td>\n",
       "      <td>1</td>\n",
       "      <td>130</td>\n",
       "      <td>78</td>\n",
       "      <td>192.0</td>\n",
       "      <td>53</td>\n",
       "      <td>28.4</td>\n",
       "      <td>12</td>\n",
       "      <td>1</td>\n",
       "    </tr>\n",
       "    <tr>\n",
       "      <th>2</th>\n",
       "      <td>2568</td>\n",
       "      <td>1</td>\n",
       "      <td>144</td>\n",
       "      <td>90</td>\n",
       "      <td>207.0</td>\n",
       "      <td>61</td>\n",
       "      <td>25.1</td>\n",
       "      <td>8</td>\n",
       "      <td>1</td>\n",
       "    </tr>\n",
       "    <tr>\n",
       "      <th>3</th>\n",
       "      <td>4192</td>\n",
       "      <td>1</td>\n",
       "      <td>92</td>\n",
       "      <td>66</td>\n",
       "      <td>231.0</td>\n",
       "      <td>48</td>\n",
       "      <td>26.2</td>\n",
       "      <td>11</td>\n",
       "      <td>1</td>\n",
       "    </tr>\n",
       "    <tr>\n",
       "      <th>4</th>\n",
       "      <td>3977</td>\n",
       "      <td>1</td>\n",
       "      <td>162</td>\n",
       "      <td>98</td>\n",
       "      <td>271.0</td>\n",
       "      <td>39</td>\n",
       "      <td>28.4</td>\n",
       "      <td>11</td>\n",
       "      <td>1</td>\n",
       "    </tr>\n",
       "    <tr>\n",
       "      <th>...</th>\n",
       "      <td>...</td>\n",
       "      <td>...</td>\n",
       "      <td>...</td>\n",
       "      <td>...</td>\n",
       "      <td>...</td>\n",
       "      <td>...</td>\n",
       "      <td>...</td>\n",
       "      <td>...</td>\n",
       "      <td>...</td>\n",
       "    </tr>\n",
       "    <tr>\n",
       "      <th>4690</th>\n",
       "      <td>1805</td>\n",
       "      <td>2</td>\n",
       "      <td>130</td>\n",
       "      <td>84</td>\n",
       "      <td>175.0</td>\n",
       "      <td>35</td>\n",
       "      <td>27.7</td>\n",
       "      <td>4</td>\n",
       "      <td>0</td>\n",
       "    </tr>\n",
       "    <tr>\n",
       "      <th>4691</th>\n",
       "      <td>1976</td>\n",
       "      <td>2</td>\n",
       "      <td>136</td>\n",
       "      <td>92</td>\n",
       "      <td>197.0</td>\n",
       "      <td>45</td>\n",
       "      <td>23.1</td>\n",
       "      <td>5</td>\n",
       "      <td>0</td>\n",
       "    </tr>\n",
       "    <tr>\n",
       "      <th>4692</th>\n",
       "      <td>3195</td>\n",
       "      <td>1</td>\n",
       "      <td>130</td>\n",
       "      <td>88</td>\n",
       "      <td>213.0</td>\n",
       "      <td>47</td>\n",
       "      <td>28.4</td>\n",
       "      <td>9</td>\n",
       "      <td>0</td>\n",
       "    </tr>\n",
       "    <tr>\n",
       "      <th>4693</th>\n",
       "      <td>1674</td>\n",
       "      <td>2</td>\n",
       "      <td>112</td>\n",
       "      <td>68</td>\n",
       "      <td>252.0</td>\n",
       "      <td>40</td>\n",
       "      <td>22.0</td>\n",
       "      <td>4</td>\n",
       "      <td>0</td>\n",
       "    </tr>\n",
       "    <tr>\n",
       "      <th>4694</th>\n",
       "      <td>4526</td>\n",
       "      <td>1</td>\n",
       "      <td>112</td>\n",
       "      <td>76</td>\n",
       "      <td>177.0</td>\n",
       "      <td>40</td>\n",
       "      <td>23.5</td>\n",
       "      <td>12</td>\n",
       "      <td>0</td>\n",
       "    </tr>\n",
       "  </tbody>\n",
       "</table>\n",
       "<p>4695 rows × 9 columns</p>\n",
       "</div>"
      ],
      "text/plain": [
       "        id  sex  sbp  dbp    scl  age   bmi  month  chdfate\n",
       "0     2642    1  120   80  267.0   55  25.0      8        1\n",
       "1     4627    1  130   78  192.0   53  28.4     12        1\n",
       "2     2568    1  144   90  207.0   61  25.1      8        1\n",
       "3     4192    1   92   66  231.0   48  26.2     11        1\n",
       "4     3977    1  162   98  271.0   39  28.4     11        1\n",
       "...    ...  ...  ...  ...    ...  ...   ...    ...      ...\n",
       "4690  1805    2  130   84  175.0   35  27.7      4        0\n",
       "4691  1976    2  136   92  197.0   45  23.1      5        0\n",
       "4692  3195    1  130   88  213.0   47  28.4      9        0\n",
       "4693  1674    2  112   68  252.0   40  22.0      4        0\n",
       "4694  4526    1  112   76  177.0   40  23.5     12        0\n",
       "\n",
       "[4695 rows x 9 columns]"
      ]
     },
     "metadata": {},
     "output_type": "display_data"
    }
   ],
   "source": [
    "df = pd.read_excel('../W13/framingham_dataset_mod.xlsx')\n",
    "display(df)\n",
    "df = df.dropna()"
   ]
  },
  {
   "cell_type": "code",
   "execution_count": 3,
   "id": "21e58eba",
   "metadata": {},
   "outputs": [
    {
     "data": {
      "text/html": [
       "<div>\n",
       "<style scoped>\n",
       "    .dataframe tbody tr th:only-of-type {\n",
       "        vertical-align: middle;\n",
       "    }\n",
       "\n",
       "    .dataframe tbody tr th {\n",
       "        vertical-align: top;\n",
       "    }\n",
       "\n",
       "    .dataframe thead th {\n",
       "        text-align: right;\n",
       "    }\n",
       "</style>\n",
       "<table border=\"1\" class=\"dataframe\">\n",
       "  <thead>\n",
       "    <tr style=\"text-align: right;\">\n",
       "      <th></th>\n",
       "      <th>id</th>\n",
       "      <th>sex</th>\n",
       "      <th>sbp</th>\n",
       "      <th>dbp</th>\n",
       "      <th>scl</th>\n",
       "      <th>age</th>\n",
       "      <th>bmi</th>\n",
       "      <th>month</th>\n",
       "      <th>chdfate</th>\n",
       "      <th>winter</th>\n",
       "      <th>spring</th>\n",
       "      <th>summer</th>\n",
       "      <th>fall</th>\n",
       "    </tr>\n",
       "  </thead>\n",
       "  <tbody>\n",
       "    <tr>\n",
       "      <th>0</th>\n",
       "      <td>2642</td>\n",
       "      <td>1</td>\n",
       "      <td>120</td>\n",
       "      <td>80</td>\n",
       "      <td>267.0</td>\n",
       "      <td>55</td>\n",
       "      <td>25.0</td>\n",
       "      <td>8</td>\n",
       "      <td>1</td>\n",
       "      <td>0</td>\n",
       "      <td>0</td>\n",
       "      <td>1</td>\n",
       "      <td>0</td>\n",
       "    </tr>\n",
       "    <tr>\n",
       "      <th>1</th>\n",
       "      <td>4627</td>\n",
       "      <td>1</td>\n",
       "      <td>130</td>\n",
       "      <td>78</td>\n",
       "      <td>192.0</td>\n",
       "      <td>53</td>\n",
       "      <td>28.4</td>\n",
       "      <td>12</td>\n",
       "      <td>1</td>\n",
       "      <td>1</td>\n",
       "      <td>0</td>\n",
       "      <td>0</td>\n",
       "      <td>0</td>\n",
       "    </tr>\n",
       "    <tr>\n",
       "      <th>2</th>\n",
       "      <td>2568</td>\n",
       "      <td>1</td>\n",
       "      <td>144</td>\n",
       "      <td>90</td>\n",
       "      <td>207.0</td>\n",
       "      <td>61</td>\n",
       "      <td>25.1</td>\n",
       "      <td>8</td>\n",
       "      <td>1</td>\n",
       "      <td>0</td>\n",
       "      <td>0</td>\n",
       "      <td>1</td>\n",
       "      <td>0</td>\n",
       "    </tr>\n",
       "    <tr>\n",
       "      <th>3</th>\n",
       "      <td>4192</td>\n",
       "      <td>1</td>\n",
       "      <td>92</td>\n",
       "      <td>66</td>\n",
       "      <td>231.0</td>\n",
       "      <td>48</td>\n",
       "      <td>26.2</td>\n",
       "      <td>11</td>\n",
       "      <td>1</td>\n",
       "      <td>0</td>\n",
       "      <td>0</td>\n",
       "      <td>0</td>\n",
       "      <td>1</td>\n",
       "    </tr>\n",
       "    <tr>\n",
       "      <th>4</th>\n",
       "      <td>3977</td>\n",
       "      <td>1</td>\n",
       "      <td>162</td>\n",
       "      <td>98</td>\n",
       "      <td>271.0</td>\n",
       "      <td>39</td>\n",
       "      <td>28.4</td>\n",
       "      <td>11</td>\n",
       "      <td>1</td>\n",
       "      <td>0</td>\n",
       "      <td>0</td>\n",
       "      <td>0</td>\n",
       "      <td>1</td>\n",
       "    </tr>\n",
       "    <tr>\n",
       "      <th>...</th>\n",
       "      <td>...</td>\n",
       "      <td>...</td>\n",
       "      <td>...</td>\n",
       "      <td>...</td>\n",
       "      <td>...</td>\n",
       "      <td>...</td>\n",
       "      <td>...</td>\n",
       "      <td>...</td>\n",
       "      <td>...</td>\n",
       "      <td>...</td>\n",
       "      <td>...</td>\n",
       "      <td>...</td>\n",
       "      <td>...</td>\n",
       "    </tr>\n",
       "    <tr>\n",
       "      <th>4690</th>\n",
       "      <td>1805</td>\n",
       "      <td>2</td>\n",
       "      <td>130</td>\n",
       "      <td>84</td>\n",
       "      <td>175.0</td>\n",
       "      <td>35</td>\n",
       "      <td>27.7</td>\n",
       "      <td>4</td>\n",
       "      <td>0</td>\n",
       "      <td>0</td>\n",
       "      <td>1</td>\n",
       "      <td>0</td>\n",
       "      <td>0</td>\n",
       "    </tr>\n",
       "    <tr>\n",
       "      <th>4691</th>\n",
       "      <td>1976</td>\n",
       "      <td>2</td>\n",
       "      <td>136</td>\n",
       "      <td>92</td>\n",
       "      <td>197.0</td>\n",
       "      <td>45</td>\n",
       "      <td>23.1</td>\n",
       "      <td>5</td>\n",
       "      <td>0</td>\n",
       "      <td>0</td>\n",
       "      <td>1</td>\n",
       "      <td>0</td>\n",
       "      <td>0</td>\n",
       "    </tr>\n",
       "    <tr>\n",
       "      <th>4692</th>\n",
       "      <td>3195</td>\n",
       "      <td>1</td>\n",
       "      <td>130</td>\n",
       "      <td>88</td>\n",
       "      <td>213.0</td>\n",
       "      <td>47</td>\n",
       "      <td>28.4</td>\n",
       "      <td>9</td>\n",
       "      <td>0</td>\n",
       "      <td>0</td>\n",
       "      <td>0</td>\n",
       "      <td>0</td>\n",
       "      <td>1</td>\n",
       "    </tr>\n",
       "    <tr>\n",
       "      <th>4693</th>\n",
       "      <td>1674</td>\n",
       "      <td>2</td>\n",
       "      <td>112</td>\n",
       "      <td>68</td>\n",
       "      <td>252.0</td>\n",
       "      <td>40</td>\n",
       "      <td>22.0</td>\n",
       "      <td>4</td>\n",
       "      <td>0</td>\n",
       "      <td>0</td>\n",
       "      <td>1</td>\n",
       "      <td>0</td>\n",
       "      <td>0</td>\n",
       "    </tr>\n",
       "    <tr>\n",
       "      <th>4694</th>\n",
       "      <td>4526</td>\n",
       "      <td>1</td>\n",
       "      <td>112</td>\n",
       "      <td>76</td>\n",
       "      <td>177.0</td>\n",
       "      <td>40</td>\n",
       "      <td>23.5</td>\n",
       "      <td>12</td>\n",
       "      <td>0</td>\n",
       "      <td>1</td>\n",
       "      <td>0</td>\n",
       "      <td>0</td>\n",
       "      <td>0</td>\n",
       "    </tr>\n",
       "  </tbody>\n",
       "</table>\n",
       "<p>4654 rows × 13 columns</p>\n",
       "</div>"
      ],
      "text/plain": [
       "        id  sex  sbp  dbp    scl  age   bmi  month  chdfate  winter  spring  \\\n",
       "0     2642    1  120   80  267.0   55  25.0      8        1       0       0   \n",
       "1     4627    1  130   78  192.0   53  28.4     12        1       1       0   \n",
       "2     2568    1  144   90  207.0   61  25.1      8        1       0       0   \n",
       "3     4192    1   92   66  231.0   48  26.2     11        1       0       0   \n",
       "4     3977    1  162   98  271.0   39  28.4     11        1       0       0   \n",
       "...    ...  ...  ...  ...    ...  ...   ...    ...      ...     ...     ...   \n",
       "4690  1805    2  130   84  175.0   35  27.7      4        0       0       1   \n",
       "4691  1976    2  136   92  197.0   45  23.1      5        0       0       1   \n",
       "4692  3195    1  130   88  213.0   47  28.4      9        0       0       0   \n",
       "4693  1674    2  112   68  252.0   40  22.0      4        0       0       1   \n",
       "4694  4526    1  112   76  177.0   40  23.5     12        0       1       0   \n",
       "\n",
       "      summer  fall  \n",
       "0          1     0  \n",
       "1          0     0  \n",
       "2          1     0  \n",
       "3          0     1  \n",
       "4          0     1  \n",
       "...      ...   ...  \n",
       "4690       0     0  \n",
       "4691       0     0  \n",
       "4692       0     1  \n",
       "4693       0     0  \n",
       "4694       0     0  \n",
       "\n",
       "[4654 rows x 13 columns]"
      ]
     },
     "metadata": {},
     "output_type": "display_data"
    }
   ],
   "source": [
    "df['winter'] = np.where((df.month == 12) | (df.month < 3), 1, 0)\n",
    "df['spring'] = np.where((df.month > 3) & (df.month < 6), 1, 0)\n",
    "df['summer'] = np.where((df.month > 5) & (df.month < 9), 1, 0)\n",
    "df['fall'] = np.where((df.month > 8) & (df.month < 12), 1, 0)\n",
    "display(df)"
   ]
  },
  {
   "cell_type": "markdown",
   "id": "98a828a9",
   "metadata": {},
   "source": [
    "### 2. Split the data into a training test split. Use an 80% training and 20% test set split."
   ]
  },
  {
   "cell_type": "code",
   "execution_count": 4,
   "id": "6b076d12",
   "metadata": {},
   "outputs": [],
   "source": [
    "from sklearn.model_selection import train_test_split\n",
    "\n",
    "train, test = train_test_split(df, test_size = 0.2, random_state = 0)\n",
    "#X_train = train[['sex', 'sbp', 'dbp', 'scl', 'age', 'bmi', 'spring', 'summer', 'fall']]\n",
    "#X_test = test[['sex', 'sbp', 'dbp', 'scl', 'age', 'bmi', 'spring', 'summer', 'fall']]\n",
    "y_train = train['chdfate']\n",
    "y_test = test['chdfate']"
   ]
  },
  {
   "cell_type": "markdown",
   "id": "6700ec02",
   "metadata": {},
   "source": [
    "### 3. Scale the predictor variables"
   ]
  },
  {
   "cell_type": "code",
   "execution_count": 5,
   "id": "fb658510",
   "metadata": {},
   "outputs": [],
   "source": [
    "from sklearn.preprocessing import StandardScaler\n",
    "X_train = StandardScaler().fit_transform(train[['sex', 'sbp', 'dbp', 'scl', 'age', 'bmi', 'spring', 'summer', 'fall']])\n",
    "X_test = StandardScaler().fit_transform(test[['sex', 'sbp', 'dbp', 'scl', 'age', 'bmi', 'spring', 'summer', 'fall']])"
   ]
  },
  {
   "cell_type": "markdown",
   "id": "2e4e5f42",
   "metadata": {},
   "source": [
    "### 4. Fit a logistic regression model on the training data using all the relevant predictor variables (Note: use season, not month. Also, ID is not a predictor variable. Do not use it). Use sklearn. "
   ]
  },
  {
   "cell_type": "code",
   "execution_count": 6,
   "id": "0cd4107d",
   "metadata": {},
   "outputs": [],
   "source": [
    "from sklearn.linear_model import LogisticRegression\n",
    "\n",
    "# initialize model\n",
    "model_logit = LogisticRegression(random_state = 0)\n",
    "# train model\n",
    "model_logit.fit(X_train, y_train)\n",
    "# make prediction on the test set\n",
    "y_pred_1 = model_logit.predict(X_test)"
   ]
  },
  {
   "cell_type": "code",
   "execution_count": 7,
   "id": "fa6ca35d",
   "metadata": {},
   "outputs": [
    {
     "name": "stdout",
     "output_type": "stream",
     "text": [
      "Confusion Matrix : \n",
      " [[584  45]\n",
      " [245  57]]\n"
     ]
    }
   ],
   "source": [
    "from sklearn.metrics import confusion_matrix\n",
    "cm_logit = confusion_matrix(y_test, y_pred_1)\n",
    "print (\"Confusion Matrix : \\n\", cm_logit)"
   ]
  },
  {
   "cell_type": "markdown",
   "id": "1de83592",
   "metadata": {},
   "source": [
    "### 5. Using the test data, generate a confusion matrix and evaluate the logistic regression model\n",
    "**a. Accuracy**"
   ]
  },
  {
   "cell_type": "code",
   "execution_count": 8,
   "id": "24f4d36d",
   "metadata": {},
   "outputs": [
    {
     "name": "stdout",
     "output_type": "stream",
     "text": [
      "Accuracy :  0.6885069817400644 \n",
      "Precision :  0.5588235294117647 \n",
      "Recall :  0.18874172185430463\n"
     ]
    }
   ],
   "source": [
    "from sklearn.metrics import accuracy_score\n",
    "from sklearn.metrics import precision_score\n",
    "from sklearn.metrics import recall_score\n",
    "\n",
    "print (\"Accuracy : \", accuracy_score(y_test, y_pred_1),\n",
    "      \"\\nPrecision : \", precision_score(y_test, y_pred_1),\n",
    "      \"\\nRecall : \", recall_score(y_test, y_pred_1))"
   ]
  },
  {
   "cell_type": "markdown",
   "id": "9f84acbc",
   "metadata": {},
   "source": [
    "### 6. Fit a neural net classifier model using the defaults"
   ]
  },
  {
   "cell_type": "code",
   "execution_count": 9,
   "id": "107c9a90",
   "metadata": {},
   "outputs": [
    {
     "name": "stderr",
     "output_type": "stream",
     "text": [
      "/opt/anaconda3/lib/python3.8/site-packages/sklearn/neural_network/_multilayer_perceptron.py:614: ConvergenceWarning: Stochastic Optimizer: Maximum iterations (200) reached and the optimization hasn't converged yet.\n",
      "  warnings.warn(\n"
     ]
    }
   ],
   "source": [
    "from sklearn.neural_network import MLPClassifier\n",
    "model_neural_default = MLPClassifier(random_state=1) # MLPClassifier(solver='lbfgs', alpha=1e-5, hidden_layer_sizes=(5, 2), random_state=1)\n",
    "model_neural_default.fit(X_train, y_train)\n",
    "\n",
    "y_pred_2 = model_neural_default.predict(X_test)"
   ]
  },
  {
   "cell_type": "markdown",
   "id": "f236a788",
   "metadata": {},
   "source": [
    "### 7. Generate a confusion matrix and evaluate the neural net model\n",
    "a. Accuracy\n",
    "b. Precision\n",
    "c. Recall"
   ]
  },
  {
   "cell_type": "code",
   "execution_count": 10,
   "id": "1c36b9ff",
   "metadata": {},
   "outputs": [
    {
     "name": "stdout",
     "output_type": "stream",
     "text": [
      "Confusion Matrix : \n",
      " [[571  58]\n",
      " [241  61]]\n"
     ]
    }
   ],
   "source": [
    "cm = confusion_matrix(y_test, y_pred_2)\n",
    "print (\"Confusion Matrix : \\n\", cm)"
   ]
  },
  {
   "cell_type": "code",
   "execution_count": 11,
   "id": "e88b7f55",
   "metadata": {},
   "outputs": [
    {
     "name": "stdout",
     "output_type": "stream",
     "text": [
      "Accuracy :  0.6788399570354458 \n",
      "Precision :  0.5126050420168067 \n",
      "Recall :  0.20198675496688742\n"
     ]
    }
   ],
   "source": [
    "print (\"Accuracy : \", accuracy_score(y_test, y_pred_2),\n",
    "      \"\\nPrecision : \", precision_score(y_test, y_pred_2),\n",
    "      \"\\nRecall : \", recall_score(y_test, y_pred_2))"
   ]
  },
  {
   "cell_type": "markdown",
   "id": "277287e9",
   "metadata": {},
   "source": [
    "### 8. Fit a neural net classifier model using 24 neurons and 2 hidden layers"
   ]
  },
  {
   "cell_type": "code",
   "execution_count": 12,
   "id": "65ad73fe",
   "metadata": {},
   "outputs": [
    {
     "name": "stderr",
     "output_type": "stream",
     "text": [
      "/opt/anaconda3/lib/python3.8/site-packages/sklearn/neural_network/_multilayer_perceptron.py:614: ConvergenceWarning: Stochastic Optimizer: Maximum iterations (200) reached and the optimization hasn't converged yet.\n",
      "  warnings.warn(\n"
     ]
    }
   ],
   "source": [
    "model_neural_2 = MLPClassifier(hidden_layer_sizes=(24, 2), random_state=1)\n",
    "model_neural_2.fit(X_train, y_train)\n",
    "\n",
    "y_pred_3 = model_neural_2.predict(X_test)"
   ]
  },
  {
   "cell_type": "markdown",
   "id": "e6db4cb7",
   "metadata": {},
   "source": [
    "### 9. Generate a confusion matrix and evaluate the new neural net model\n",
    "a. Accuracy\n",
    "b. Precision\n",
    "c. Recall"
   ]
  },
  {
   "cell_type": "code",
   "execution_count": 13,
   "id": "dfe390d6",
   "metadata": {},
   "outputs": [
    {
     "name": "stdout",
     "output_type": "stream",
     "text": [
      "Confusion Matrix : \n",
      " [[567  62]\n",
      " [233  69]]\n"
     ]
    }
   ],
   "source": [
    "cm_3 = confusion_matrix(y_test, y_pred_3)\n",
    "print (\"Confusion Matrix : \\n\", cm_3)"
   ]
  },
  {
   "cell_type": "code",
   "execution_count": 14,
   "id": "ddebf4c2",
   "metadata": {},
   "outputs": [
    {
     "name": "stdout",
     "output_type": "stream",
     "text": [
      "Accuracy :  0.6831364124597207 \n",
      "Precision :  0.5267175572519084 \n",
      "Recall :  0.22847682119205298\n"
     ]
    }
   ],
   "source": [
    "print (\"Accuracy : \", accuracy_score(y_test, y_pred_3),\n",
    "      \"\\nPrecision : \", precision_score(y_test, y_pred_3),\n",
    "      \"\\nRecall : \", recall_score(y_test, y_pred_3))"
   ]
  },
  {
   "cell_type": "markdown",
   "id": "9a64975e",
   "metadata": {},
   "source": [
    "### 10. Compare performance of all 3 models"
   ]
  },
  {
   "cell_type": "code",
   "execution_count": 15,
   "id": "c914a64b",
   "metadata": {},
   "outputs": [
    {
     "data": {
      "text/html": [
       "<div>\n",
       "<style scoped>\n",
       "    .dataframe tbody tr th:only-of-type {\n",
       "        vertical-align: middle;\n",
       "    }\n",
       "\n",
       "    .dataframe tbody tr th {\n",
       "        vertical-align: top;\n",
       "    }\n",
       "\n",
       "    .dataframe thead th {\n",
       "        text-align: right;\n",
       "    }\n",
       "</style>\n",
       "<table border=\"1\" class=\"dataframe\">\n",
       "  <thead>\n",
       "    <tr style=\"text-align: right;\">\n",
       "      <th></th>\n",
       "      <th>Accuracy</th>\n",
       "      <th>Precision</th>\n",
       "      <th>Recall</th>\n",
       "    </tr>\n",
       "    <tr>\n",
       "      <th>Model</th>\n",
       "      <th></th>\n",
       "      <th></th>\n",
       "      <th></th>\n",
       "    </tr>\n",
       "  </thead>\n",
       "  <tbody>\n",
       "    <tr>\n",
       "      <th>Logistic Regression</th>\n",
       "      <td>0.688507</td>\n",
       "      <td>0.558824</td>\n",
       "      <td>0.188742</td>\n",
       "    </tr>\n",
       "    <tr>\n",
       "      <th>Default Neural Net</th>\n",
       "      <td>0.678840</td>\n",
       "      <td>0.512605</td>\n",
       "      <td>0.201987</td>\n",
       "    </tr>\n",
       "    <tr>\n",
       "      <th>Neural Net</th>\n",
       "      <td>0.683136</td>\n",
       "      <td>0.526718</td>\n",
       "      <td>0.228477</td>\n",
       "    </tr>\n",
       "  </tbody>\n",
       "</table>\n",
       "</div>"
      ],
      "text/plain": [
       "                     Accuracy  Precision    Recall\n",
       "Model                                             \n",
       "Logistic Regression  0.688507   0.558824  0.188742\n",
       "Default Neural Net   0.678840   0.512605  0.201987\n",
       "Neural Net           0.683136   0.526718  0.228477"
      ]
     },
     "execution_count": 15,
     "metadata": {},
     "output_type": "execute_result"
    }
   ],
   "source": [
    "performance = pd.DataFrame({\"Accuracy\" : [accuracy_score(y_test, y_pred_1), accuracy_score(y_test, y_pred_2), accuracy_score(y_test, y_pred_3)],\n",
    "                            \"Precision\" : [precision_score(y_test, y_pred_1), precision_score(y_test, y_pred_2), precision_score(y_test, y_pred_3)],\n",
    "                            \"Recall\" : [recall_score(y_test, y_pred_1), recall_score(y_test, y_pred_2), recall_score(y_test, y_pred_3)],\n",
    "                           \"Model\" : [\"Logistic Regression\", \"Default Neural Net\", \"Neural Net\"]})\n",
    "performance.set_index(\"Model\", inplace = True)\n",
    "performance"
   ]
  },
  {
   "cell_type": "markdown",
   "id": "09ebe489",
   "metadata": {},
   "source": [
    "*While the three models all perform relatively bad, logistic regression has the best accuracy and precision, but the lowest recall. In terms of all three scales, the neural network with 24 neurons and 2 hidden layers perform slightly better than the default one. In the end, which model to choose should depend on the practical goal and concerns.*"
   ]
  }
 ],
 "metadata": {
  "kernelspec": {
   "display_name": "Python 3",
   "language": "python",
   "name": "python3"
  },
  "language_info": {
   "codemirror_mode": {
    "name": "ipython",
    "version": 3
   },
   "file_extension": ".py",
   "mimetype": "text/x-python",
   "name": "python",
   "nbconvert_exporter": "python",
   "pygments_lexer": "ipython3",
   "version": "3.8.8"
  }
 },
 "nbformat": 4,
 "nbformat_minor": 5
}
