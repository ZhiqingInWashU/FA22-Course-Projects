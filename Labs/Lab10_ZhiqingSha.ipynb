{
 "cells": [
  {
   "cell_type": "code",
   "execution_count": 1,
   "id": "84f7ed8d",
   "metadata": {},
   "outputs": [],
   "source": [
    "import pandas as pd\n",
    "import numpy as np\n",
    "import matplotlib.pyplot as plt\n",
    "import seaborn as sns"
   ]
  },
  {
   "cell_type": "code",
   "execution_count": 2,
   "id": "03a9ced8",
   "metadata": {},
   "outputs": [
    {
     "data": {
      "text/html": [
       "<div>\n",
       "<style scoped>\n",
       "    .dataframe tbody tr th:only-of-type {\n",
       "        vertical-align: middle;\n",
       "    }\n",
       "\n",
       "    .dataframe tbody tr th {\n",
       "        vertical-align: top;\n",
       "    }\n",
       "\n",
       "    .dataframe thead th {\n",
       "        text-align: right;\n",
       "    }\n",
       "</style>\n",
       "<table border=\"1\" class=\"dataframe\">\n",
       "  <thead>\n",
       "    <tr style=\"text-align: right;\">\n",
       "      <th></th>\n",
       "      <th>state</th>\n",
       "      <th>fipscode</th>\n",
       "      <th>county</th>\n",
       "      <th>population</th>\n",
       "      <th>hispanic</th>\n",
       "      <th>minority</th>\n",
       "      <th>female</th>\n",
       "      <th>unemployed</th>\n",
       "      <th>income</th>\n",
       "      <th>nodegree</th>\n",
       "      <th>bachelor</th>\n",
       "      <th>inactivity</th>\n",
       "      <th>obesity</th>\n",
       "      <th>density</th>\n",
       "      <th>cancer</th>\n",
       "      <th>votergap</th>\n",
       "      <th>trump</th>\n",
       "      <th>clinton</th>\n",
       "    </tr>\n",
       "  </thead>\n",
       "  <tbody>\n",
       "    <tr>\n",
       "      <th>0</th>\n",
       "      <td>Colorado</td>\n",
       "      <td>8117</td>\n",
       "      <td>Summit County</td>\n",
       "      <td>27239</td>\n",
       "      <td>15.173</td>\n",
       "      <td>4.918</td>\n",
       "      <td>45.996</td>\n",
       "      <td>2.5</td>\n",
       "      <td>68352</td>\n",
       "      <td>5.4</td>\n",
       "      <td>48.1</td>\n",
       "      <td>8.1</td>\n",
       "      <td>13.1</td>\n",
       "      <td>46.0</td>\n",
       "      <td>46.2</td>\n",
       "      <td>-27.632</td>\n",
       "      <td>31.530</td>\n",
       "      <td>59.162</td>\n",
       "    </tr>\n",
       "    <tr>\n",
       "      <th>1</th>\n",
       "      <td>Colorado</td>\n",
       "      <td>8037</td>\n",
       "      <td>Eagle County</td>\n",
       "      <td>53653</td>\n",
       "      <td>30.040</td>\n",
       "      <td>5.169</td>\n",
       "      <td>47.231</td>\n",
       "      <td>3.1</td>\n",
       "      <td>76661</td>\n",
       "      <td>10.1</td>\n",
       "      <td>47.3</td>\n",
       "      <td>9.4</td>\n",
       "      <td>11.8</td>\n",
       "      <td>31.0</td>\n",
       "      <td>47.1</td>\n",
       "      <td>-19.897</td>\n",
       "      <td>36.058</td>\n",
       "      <td>55.955</td>\n",
       "    </tr>\n",
       "    <tr>\n",
       "      <th>2</th>\n",
       "      <td>Idaho</td>\n",
       "      <td>16067</td>\n",
       "      <td>Minidoka County</td>\n",
       "      <td>19226</td>\n",
       "      <td>34.070</td>\n",
       "      <td>5.611</td>\n",
       "      <td>49.318</td>\n",
       "      <td>3.7</td>\n",
       "      <td>46332</td>\n",
       "      <td>24.1</td>\n",
       "      <td>11.8</td>\n",
       "      <td>18.3</td>\n",
       "      <td>34.2</td>\n",
       "      <td>80.0</td>\n",
       "      <td>61.8</td>\n",
       "      <td>54.148</td>\n",
       "      <td>71.135</td>\n",
       "      <td>16.987</td>\n",
       "    </tr>\n",
       "    <tr>\n",
       "      <th>3</th>\n",
       "      <td>Colorado</td>\n",
       "      <td>8113</td>\n",
       "      <td>San Miguel County</td>\n",
       "      <td>7558</td>\n",
       "      <td>10.154</td>\n",
       "      <td>4.747</td>\n",
       "      <td>46.808</td>\n",
       "      <td>3.7</td>\n",
       "      <td>59603</td>\n",
       "      <td>4.7</td>\n",
       "      <td>54.4</td>\n",
       "      <td>12.4</td>\n",
       "      <td>16.7</td>\n",
       "      <td>5.7</td>\n",
       "      <td>62.6</td>\n",
       "      <td>-44.769</td>\n",
       "      <td>23.892</td>\n",
       "      <td>68.662</td>\n",
       "    </tr>\n",
       "    <tr>\n",
       "      <th>4</th>\n",
       "      <td>Utah</td>\n",
       "      <td>49051</td>\n",
       "      <td>Wasatch County</td>\n",
       "      <td>21600</td>\n",
       "      <td>13.244</td>\n",
       "      <td>4.125</td>\n",
       "      <td>48.812</td>\n",
       "      <td>3.4</td>\n",
       "      <td>65207</td>\n",
       "      <td>9.5</td>\n",
       "      <td>34.4</td>\n",
       "      <td>13.9</td>\n",
       "      <td>23.0</td>\n",
       "      <td>257.8</td>\n",
       "      <td>68.3</td>\n",
       "      <td>25.357</td>\n",
       "      <td>50.471</td>\n",
       "      <td>25.114</td>\n",
       "    </tr>\n",
       "  </tbody>\n",
       "</table>\n",
       "</div>"
      ],
      "text/plain": [
       "      state  fipscode             county  population  hispanic  minority  \\\n",
       "0  Colorado      8117      Summit County       27239    15.173     4.918   \n",
       "1  Colorado      8037       Eagle County       53653    30.040     5.169   \n",
       "2     Idaho     16067    Minidoka County       19226    34.070     5.611   \n",
       "3  Colorado      8113  San Miguel County        7558    10.154     4.747   \n",
       "4      Utah     49051     Wasatch County       21600    13.244     4.125   \n",
       "\n",
       "   female  unemployed  income  nodegree  bachelor  inactivity  obesity  \\\n",
       "0  45.996         2.5   68352       5.4      48.1         8.1     13.1   \n",
       "1  47.231         3.1   76661      10.1      47.3         9.4     11.8   \n",
       "2  49.318         3.7   46332      24.1      11.8        18.3     34.2   \n",
       "3  46.808         3.7   59603       4.7      54.4        12.4     16.7   \n",
       "4  48.812         3.4   65207       9.5      34.4        13.9     23.0   \n",
       "\n",
       "   density  cancer  votergap   trump  clinton  \n",
       "0     46.0    46.2   -27.632  31.530   59.162  \n",
       "1     31.0    47.1   -19.897  36.058   55.955  \n",
       "2     80.0    61.8    54.148  71.135   16.987  \n",
       "3      5.7    62.6   -44.769  23.892   68.662  \n",
       "4    257.8    68.3    25.357  50.471   25.114  "
      ]
     },
     "execution_count": 2,
     "metadata": {},
     "output_type": "execute_result"
    }
   ],
   "source": [
    "vote = pd.read_csv(\"../W11/county_level_election.csv\")\n",
    "vote.head()"
   ]
  },
  {
   "cell_type": "markdown",
   "id": "9f25fcb8",
   "metadata": {},
   "source": [
    "# Exploratory Data Analysis\n",
    "### 1. Estimate the national overall votergap, assuming the entire population voted?"
   ]
  },
  {
   "cell_type": "code",
   "execution_count": 3,
   "id": "e80b36ad",
   "metadata": {},
   "outputs": [],
   "source": [
    "calculation = vote.copy()\n",
    "calculation[\"true_population\"] = calculation[\"votergap\"] * calculation[\"population\"] / 100"
   ]
  },
  {
   "cell_type": "code",
   "execution_count": 4,
   "id": "038519b9",
   "metadata": {},
   "outputs": [
    {
     "data": {
      "text/plain": [
       "-2.788506804371381"
      ]
     },
     "execution_count": 4,
     "metadata": {},
     "output_type": "execute_result"
    }
   ],
   "source": [
    "calculation[\"true_population\"].sum() / calculation[\"population\"].sum() * 100"
   ]
  },
  {
   "cell_type": "markdown",
   "id": "984fd8f5",
   "metadata": {},
   "source": [
    "*To get the true population overall votergap, we take the sum of the voter gap% divided by the sum of population * 100.*\n",
    "*The national overall votergap will be -2.79%.*"
   ]
  },
  {
   "cell_type": "markdown",
   "id": "fbd9923d",
   "metadata": {},
   "source": [
    "### 2. What is the average votergap, assuming all counties are weighted equally?"
   ]
  },
  {
   "cell_type": "code",
   "execution_count": 5,
   "id": "6bd1588f",
   "metadata": {},
   "outputs": [],
   "source": [
    "temp1 = calculation.groupby([\"state\", \"county\"])[[\"population\", \"true_population\"]].sum()\n",
    "temp1[\"county_votergap\"] =  temp1[\"true_population\"] / temp1[\"population\"] * 100"
   ]
  },
  {
   "cell_type": "code",
   "execution_count": 6,
   "id": "094ea3c0",
   "metadata": {},
   "outputs": [
    {
     "data": {
      "text/plain": [
       "31.723198303979125"
      ]
     },
     "execution_count": 6,
     "metadata": {},
     "output_type": "execute_result"
    }
   ],
   "source": [
    "temp1[\"county_votergap\"].mean()"
   ]
  },
  {
   "cell_type": "code",
   "execution_count": 7,
   "id": "ab9a0ad2",
   "metadata": {},
   "outputs": [
    {
     "data": {
      "text/plain": [
       "31.723198303979125"
      ]
     },
     "execution_count": 7,
     "metadata": {},
     "output_type": "execute_result"
    }
   ],
   "source": [
    "calculation[\"votergap\"].mean()"
   ]
  },
  {
   "cell_type": "markdown",
   "id": "ff4727a4",
   "metadata": {},
   "source": [
    "*The average votergap assuming all counties are weighted equally will be 31.72%.*"
   ]
  },
  {
   "cell_type": "markdown",
   "id": "94a5de65",
   "metadata": {},
   "source": [
    "### 3. What is the average votergap, assuming all states are weighted equally?"
   ]
  },
  {
   "cell_type": "code",
   "execution_count": 8,
   "id": "4285a018",
   "metadata": {},
   "outputs": [],
   "source": [
    "temp2 = calculation.groupby(\"state\")[[\"population\", \"true_population\"]].sum()\n",
    "temp2[\"state_votergap\"] =  temp2[\"true_population\"] / temp2[\"population\"] * 100"
   ]
  },
  {
   "cell_type": "code",
   "execution_count": 9,
   "id": "fe303cbf",
   "metadata": {},
   "outputs": [
    {
     "data": {
      "text/plain": [
       "2.9734235672898266"
      ]
     },
     "execution_count": 9,
     "metadata": {},
     "output_type": "execute_result"
    }
   ],
   "source": [
    "temp2[\"state_votergap\"].mean()"
   ]
  },
  {
   "cell_type": "markdown",
   "id": "cc860b0e",
   "metadata": {},
   "source": [
    "# Decision Trees"
   ]
  },
  {
   "cell_type": "markdown",
   "id": "643aec0e",
   "metadata": {},
   "source": [
    "**Building Decision Tree Model**"
   ]
  },
  {
   "cell_type": "code",
   "execution_count": 10,
   "id": "99ca0721",
   "metadata": {},
   "outputs": [],
   "source": [
    "from sklearn.model_selection import train_test_split, cross_val_score \n",
    "from sklearn.tree import DecisionTreeRegressor\n",
    "from sklearn import tree"
   ]
  },
  {
   "cell_type": "code",
   "execution_count": 11,
   "id": "a68bd743",
   "metadata": {},
   "outputs": [],
   "source": [
    "# \"state\", \"county\" excluded from the model\n",
    "X = vote[[\"fipscode\", \"population\", \"hispanic\", \"minority\", \"female\", \"unemployed\", \"income\", \"nodegree\", \"bachelor\", \"inactivity\", \"obesity\", \"density\", \"cancer\", \"trump\", \"clinton\"]]\n",
    "y = vote[\"votergap\"]"
   ]
  },
  {
   "cell_type": "code",
   "execution_count": 12,
   "id": "012cca9d",
   "metadata": {},
   "outputs": [],
   "source": [
    "# train - test split\n",
    "X_train, X_test, y_train, y_test = train_test_split(X, y, test_size = 0.2, random_state = 0)"
   ]
  },
  {
   "cell_type": "markdown",
   "id": "53d44f63",
   "metadata": {},
   "source": [
    "### 1. Plot the number of nodes (max depth) on the X axis against the accuracy on the y axis, with separate lines for the training data and the mean cross validation."
   ]
  },
  {
   "cell_type": "markdown",
   "id": "6fb618e1",
   "metadata": {},
   "source": [
    "**Method 1: Using cross-validation**  \n",
    "reference: https://towardsdatascience.com/how-to-find-decision-tree-depth-via-cross-validation-2bf143f0f3d6"
   ]
  },
  {
   "cell_type": "code",
   "execution_count": 13,
   "id": "76d18950",
   "metadata": {},
   "outputs": [],
   "source": [
    "# define two functions to run cross validation on decision tree\n",
    " \n",
    "# function for fitting trees of various depths on the training data using cross-validation\n",
    "def run_cross_validation_on_trees(X, y, tree_depths, cv=10, scoring='neg_mean_squared_error'):\n",
    "    cv_scores_list = []\n",
    "    cv_scores_std = []\n",
    "    cv_scores_mean = []\n",
    "    accuracy_scores = []\n",
    "    \n",
    "    for depth in tree_depths:\n",
    "        tree_model = DecisionTreeRegressor(max_depth=depth, random_state = 5)\n",
    "        cv_scores = cross_val_score(tree_model, X, y, cv=cv, scoring=scoring)\n",
    "        cv_scores_list.append(cv_scores)\n",
    "        cv_scores_mean.append(cv_scores.mean())\n",
    "        cv_scores_std.append(cv_scores.std())\n",
    "        accuracy_scores.append(tree_model.fit(X, y).score(X, y))\n",
    "        \n",
    "    cv_scores_mean = np.array(cv_scores_mean)\n",
    "    cv_scores_std = np.array(cv_scores_std)\n",
    "    accuracy_scores = np.array(accuracy_scores)\n",
    "    \n",
    "    return cv_scores_mean, cv_scores_std, accuracy_scores"
   ]
  },
  {
   "cell_type": "code",
   "execution_count": 14,
   "id": "b36487e6",
   "metadata": {},
   "outputs": [],
   "source": [
    "# function for plotting cross-validation results\n",
    "def plot_cross_validation_on_trees(depths, cv_scores_mean, cv_scores_std, accuracy_scores, title):\n",
    "    fig, ax = plt.subplots(1,1, figsize=(15,5))\n",
    "    ax.plot(depths, cv_scores_mean, '-o', label='mean cross-validation MSE', alpha=0.9)\n",
    "    ax.fill_between(depths, cv_scores_mean-2*cv_scores_std, cv_scores_mean+2*cv_scores_std, alpha=0.2)\n",
    "    ylim = plt.ylim()\n",
    "    ax.plot(depths, accuracy_scores, '-*', label='train MSE', alpha=0.9)\n",
    "    ax.set_title(title, fontsize=16)\n",
    "    ax.set_xlabel('Tree depth', fontsize=14)\n",
    "    #ax.set_ylabel('(Negative) Mean Squared Error', fontsize=14)\n",
    "    ax.set_ylim(ylim)\n",
    "    ax.set_xticks(depths)\n",
    "    ax.legend()\n",
    "    ax.axvline(x=cv_scores_mean.argmax()+1, color='orange', linestyle='--') # plt.axvline(x=7, color='orange', linestyle='--')"
   ]
  },
  {
   "cell_type": "code",
   "execution_count": 15,
   "id": "36020444",
   "metadata": {},
   "outputs": [
    {
     "data": {
      "image/png": "[encoded data removed]",
      "text/plain": [
       "<Figure size 1080x360 with 1 Axes>"
      ]
     },
     "metadata": {
      "needs_background": "light"
     },
     "output_type": "display_data"
    }
   ],
   "source": [
    "# fitting trees of depth 1 to 20\n",
    "sm_tree_depths = range(1, 21)\n",
    "sm_cv_scores_mean, sm_cv_scores_std, sm_accuracy_scores = run_cross_validation_on_trees(X_train, y_train, sm_tree_depths)\n",
    "\n",
    "# plotting accuracy\n",
    "plot_cross_validation_on_trees(sm_tree_depths, sm_cv_scores_mean, sm_cv_scores_std, sm_accuracy_scores, \n",
    "                               'Negative MSE per decision tree depth on training data')"
   ]
  },
  {
   "cell_type": "code",
   "execution_count": 16,
   "id": "346a92de",
   "metadata": {},
   "outputs": [
    {
     "name": "stdout",
     "output_type": "stream",
     "text": [
      "The depth-14 tree achieves the best mean cross-validation accuracy -147.77371 +/- 52.59628% on training dataset\n"
     ]
    }
   ],
   "source": [
    "idx_max = sm_cv_scores_mean.argmax()\n",
    "sm_best_tree_depth = sm_tree_depths[idx_max]\n",
    "sm_best_tree_cv_score = sm_cv_scores_mean[idx_max]\n",
    "sm_best_tree_cv_score_std = sm_cv_scores_std[idx_max]\n",
    "print('The depth-{} tree achieves the best mean cross-validation accuracy {} +/- {}% on training dataset'.format(\n",
    "      sm_best_tree_depth, round(sm_best_tree_cv_score*100,5), round(sm_best_tree_cv_score_std*100, 5)))"
   ]
  },
  {
   "cell_type": "code",
   "execution_count": 17,
   "id": "6473fbea",
   "metadata": {},
   "outputs": [
    {
     "data": {
      "image/png": "[encoded data removed]",
      "text/plain": [
       "<Figure size 1080x360 with 1 Axes>"
      ]
     },
     "metadata": {
      "needs_background": "light"
     },
     "output_type": "display_data"
    }
   ],
   "source": [
    "sm_cv_scores_mean, sm_cv_scores_std, sm_accuracy_scores = run_cross_validation_on_trees(X_train, y_train, sm_tree_depths, scoring=\"r2\")\n",
    "plot_cross_validation_on_trees(sm_tree_depths, sm_cv_scores_mean, sm_cv_scores_std, sm_accuracy_scores, \n",
    "                               'R2 per decision tree depth on training data')"
   ]
  },
  {
   "cell_type": "markdown",
   "id": "86959c05",
   "metadata": {},
   "source": [
    "*Using both (negative) MSE and R-squared metrics, the optimal depth identified is 14.*"
   ]
  },
  {
   "cell_type": "markdown",
   "id": "dab5fd86",
   "metadata": {},
   "source": [
    "**Method2: Using for loop**  \n",
    "reference: https://towardsdatascience.com/train-a-regression-model-using-a-decision-tree-70012c22bcc1"
   ]
  },
  {
   "cell_type": "code",
   "execution_count": 18,
   "id": "99056289",
   "metadata": {},
   "outputs": [
    {
     "data": {
      "text/plain": [
       "<matplotlib.legend.Legend at 0x11f731490>"
      ]
     },
     "execution_count": 18,
     "metadata": {},
     "output_type": "execute_result"
    },
    {
     "data": {
      "image/png": "[encoded data removed]",
      "text/plain": [
       "<Figure size 720x432 with 1 Axes>"
      ]
     },
     "metadata": {
      "needs_background": "light"
     },
     "output_type": "display_data"
    }
   ],
   "source": [
    "from sklearn.metrics import mean_squared_error as mse\n",
    "\n",
    "max_depths = range(1, 21)\n",
    "training_error = []\n",
    "for max_depth in max_depths:\n",
    "    model_1 = DecisionTreeRegressor(max_depth=max_depth)\n",
    "    model_1.fit(X, y)\n",
    "    training_error.append(mse(y, model_1.predict(X)))\n",
    "    \n",
    "testing_error = []\n",
    "for max_depth in max_depths:\n",
    "    model_2 = DecisionTreeRegressor(max_depth=max_depth)\n",
    "    model_2.fit(X_train, y_train)\n",
    "    testing_error.append(mse(y_test, model_2.predict(X_test)))\n",
    "\n",
    "plt.figure(figsize = (10,6))\n",
    "plt.plot(max_depths, training_error, color='blue', label='Training error')\n",
    "plt.plot(max_depths, testing_error, color='green', label='Testing error')\n",
    "plt.xlabel('Tree depth')\n",
    "\n",
    "# +1 because it starts from 1 node\n",
    "plt.axvline(x=testing_error.index(min(testing_error))+1, color='orange', linestyle='--') # plt.axvline(x=7, color='orange', linestyle='--')\n",
    "plt.annotate('optimum ='+str(testing_error.index(min(testing_error))+1), xy=(9, 5), color='red') # plt.annotate('optimum = ?', xy=(7.5, 1.17), color='red')\n",
    "plt.ylabel('Mean squared error')\n",
    "plt.title('Hyperparameter Tuning', pad=15, size=15)\n",
    "plt.legend()"
   ]
  },
  {
   "cell_type": "markdown",
   "id": "142e5976",
   "metadata": {},
   "source": [
    "### 2. Based on the plot, how many nodes would you recommend as the max depth?"
   ]
  },
  {
   "cell_type": "markdown",
   "id": "b0ad65b2",
   "metadata": {},
   "source": [
    "*I would recommend depth = 14, since this depth is corresponding to a minimal MSE or a highest R2 on the training data.*"
   ]
  },
  {
   "cell_type": "markdown",
   "id": "289db725",
   "metadata": {},
   "source": [
    "###  3. The cross validation starts to fall off at a certain point, why?"
   ]
  },
  {
   "cell_type": "markdown",
   "id": "a2681bce",
   "metadata": {},
   "source": [
    "*The model is increasing the number of depth or the complexity. At the same time, the model's bias is decrease and start to fit the data better. The model starts with depth = 1, which is essentially only one root. As expected, this model is too simple and cannot explain the data. The point at which the cross validation fall off dramatically is when the model starts to capture the essence of data pattern and thus there is a huge increase in performance. It also implies that the added predictor is helping a lot in increasing prediction accuracy.*  \n",
    "*As the depth increases, cross validation is gradually going flat. This means not much increase in the performance of model when further increase the depth. In other words, the model performs the best approximately when it reaches depth = 18, and further depth does not increase accuracy much. This is likely due to the fact that we put around 15 features in the model, and too much further branching might not help prediction.*"
   ]
  }
 ],
 "metadata": {
  "kernelspec": {
   "display_name": "Python 3",
   "language": "python",
   "name": "python3"
  },
  "language_info": {
   "codemirror_mode": {
    "name": "ipython",
    "version": 3
   },
   "file_extension": ".py",
   "mimetype": "text/x-python",
   "name": "python",
   "nbconvert_exporter": "python",
   "pygments_lexer": "ipython3",
   "version": "3.8.8"
  }
 },
 "nbformat": 4,
 "nbformat_minor": 5
}
