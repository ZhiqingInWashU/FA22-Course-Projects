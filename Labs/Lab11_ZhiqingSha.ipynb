{
 "cells": [
  {
   "cell_type": "code",
   "execution_count": 1,
   "id": "2b437fa3",
   "metadata": {},
   "outputs": [],
   "source": [
    "import pandas as pd\n",
    "import matplotlib.pyplot as plt\n",
    "import seaborn as sns"
   ]
  },
  {
   "cell_type": "code",
   "execution_count": 2,
   "id": "d58f9006",
   "metadata": {},
   "outputs": [
    {
     "data": {
      "text/html": [
       "<div>\n",
       "<style scoped>\n",
       "    .dataframe tbody tr th:only-of-type {\n",
       "        vertical-align: middle;\n",
       "    }\n",
       "\n",
       "    .dataframe tbody tr th {\n",
       "        vertical-align: top;\n",
       "    }\n",
       "\n",
       "    .dataframe thead th {\n",
       "        text-align: right;\n",
       "    }\n",
       "</style>\n",
       "<table border=\"1\" class=\"dataframe\">\n",
       "  <thead>\n",
       "    <tr style=\"text-align: right;\">\n",
       "      <th></th>\n",
       "      <th>cid</th>\n",
       "      <th>age</th>\n",
       "      <th>school</th>\n",
       "      <th>sex</th>\n",
       "      <th>items</th>\n",
       "      <th>dollars</th>\n",
       "      <th>segment</th>\n",
       "    </tr>\n",
       "  </thead>\n",
       "  <tbody>\n",
       "    <tr>\n",
       "      <th>0</th>\n",
       "      <td>1</td>\n",
       "      <td>48</td>\n",
       "      <td>14</td>\n",
       "      <td>male</td>\n",
       "      <td>3</td>\n",
       "      <td>14</td>\n",
       "      <td>8</td>\n",
       "    </tr>\n",
       "    <tr>\n",
       "      <th>1</th>\n",
       "      <td>2</td>\n",
       "      <td>26</td>\n",
       "      <td>10</td>\n",
       "      <td>female</td>\n",
       "      <td>1</td>\n",
       "      <td>7</td>\n",
       "      <td>1</td>\n",
       "    </tr>\n",
       "    <tr>\n",
       "      <th>2</th>\n",
       "      <td>3</td>\n",
       "      <td>23</td>\n",
       "      <td>16</td>\n",
       "      <td>male</td>\n",
       "      <td>2</td>\n",
       "      <td>16</td>\n",
       "      <td>2</td>\n",
       "    </tr>\n",
       "    <tr>\n",
       "      <th>3</th>\n",
       "      <td>4</td>\n",
       "      <td>32</td>\n",
       "      <td>18</td>\n",
       "      <td>female</td>\n",
       "      <td>7</td>\n",
       "      <td>81</td>\n",
       "      <td>3</td>\n",
       "    </tr>\n",
       "    <tr>\n",
       "      <th>4</th>\n",
       "      <td>5</td>\n",
       "      <td>55</td>\n",
       "      <td>16</td>\n",
       "      <td>male</td>\n",
       "      <td>4</td>\n",
       "      <td>58</td>\n",
       "      <td>4</td>\n",
       "    </tr>\n",
       "  </tbody>\n",
       "</table>\n",
       "</div>"
      ],
      "text/plain": [
       "   cid  age  school     sex  items  dollars  segment\n",
       "0    1   48      14    male      3       14        8\n",
       "1    2   26      10  female      1        7        1\n",
       "2    3   23      16    male      2       16        2\n",
       "3    4   32      18  female      7       81        3\n",
       "4    5   55      16    male      4       58        4"
      ]
     },
     "execution_count": 2,
     "metadata": {},
     "output_type": "execute_result"
    }
   ],
   "source": [
    "segment = pd.read_csv(\"../W12/segmentData.csv\")\n",
    "segment.head()"
   ]
  },
  {
   "cell_type": "markdown",
   "id": "a81e9bc7",
   "metadata": {},
   "source": [
    "## Exploratory Data Analysis\n",
    "### 1. Describe the centroids of the 8 segments. You will need to recode sex, then create a table of the mean of each variable for the segment."
   ]
  },
  {
   "cell_type": "code",
   "execution_count": 3,
   "id": "b3789b1f",
   "metadata": {},
   "outputs": [
    {
     "data": {
      "text/plain": [
       "array(['male', 'female'], dtype=object)"
      ]
     },
     "execution_count": 3,
     "metadata": {},
     "output_type": "execute_result"
    }
   ],
   "source": [
    "segment[\"sex\"].unique()"
   ]
  },
  {
   "cell_type": "code",
   "execution_count": 4,
   "id": "388dd973",
   "metadata": {},
   "outputs": [
    {
     "data": {
      "text/html": [
       "<div>\n",
       "<style scoped>\n",
       "    .dataframe tbody tr th:only-of-type {\n",
       "        vertical-align: middle;\n",
       "    }\n",
       "\n",
       "    .dataframe tbody tr th {\n",
       "        vertical-align: top;\n",
       "    }\n",
       "\n",
       "    .dataframe thead th {\n",
       "        text-align: right;\n",
       "    }\n",
       "</style>\n",
       "<table border=\"1\" class=\"dataframe\">\n",
       "  <thead>\n",
       "    <tr style=\"text-align: right;\">\n",
       "      <th></th>\n",
       "      <th>cid</th>\n",
       "      <th>age</th>\n",
       "      <th>school</th>\n",
       "      <th>sex</th>\n",
       "      <th>items</th>\n",
       "      <th>dollars</th>\n",
       "      <th>segment</th>\n",
       "    </tr>\n",
       "  </thead>\n",
       "  <tbody>\n",
       "    <tr>\n",
       "      <th>0</th>\n",
       "      <td>1</td>\n",
       "      <td>48</td>\n",
       "      <td>14</td>\n",
       "      <td>1</td>\n",
       "      <td>3</td>\n",
       "      <td>14</td>\n",
       "      <td>8</td>\n",
       "    </tr>\n",
       "    <tr>\n",
       "      <th>1</th>\n",
       "      <td>2</td>\n",
       "      <td>26</td>\n",
       "      <td>10</td>\n",
       "      <td>0</td>\n",
       "      <td>1</td>\n",
       "      <td>7</td>\n",
       "      <td>1</td>\n",
       "    </tr>\n",
       "    <tr>\n",
       "      <th>2</th>\n",
       "      <td>3</td>\n",
       "      <td>23</td>\n",
       "      <td>16</td>\n",
       "      <td>1</td>\n",
       "      <td>2</td>\n",
       "      <td>16</td>\n",
       "      <td>2</td>\n",
       "    </tr>\n",
       "    <tr>\n",
       "      <th>3</th>\n",
       "      <td>4</td>\n",
       "      <td>32</td>\n",
       "      <td>18</td>\n",
       "      <td>0</td>\n",
       "      <td>7</td>\n",
       "      <td>81</td>\n",
       "      <td>3</td>\n",
       "    </tr>\n",
       "    <tr>\n",
       "      <th>4</th>\n",
       "      <td>5</td>\n",
       "      <td>55</td>\n",
       "      <td>16</td>\n",
       "      <td>1</td>\n",
       "      <td>4</td>\n",
       "      <td>58</td>\n",
       "      <td>4</td>\n",
       "    </tr>\n",
       "  </tbody>\n",
       "</table>\n",
       "</div>"
      ],
      "text/plain": [
       "   cid  age  school  sex  items  dollars  segment\n",
       "0    1   48      14    1      3       14        8\n",
       "1    2   26      10    0      1        7        1\n",
       "2    3   23      16    1      2       16        2\n",
       "3    4   32      18    0      7       81        3\n",
       "4    5   55      16    1      4       58        4"
      ]
     },
     "execution_count": 4,
     "metadata": {},
     "output_type": "execute_result"
    }
   ],
   "source": [
    "segment[\"sex\"] = segment[\"sex\"].apply(lambda x: 1 if x == \"male\" else 0)\n",
    "segment.head()"
   ]
  },
  {
   "cell_type": "code",
   "execution_count": 5,
   "id": "b33e1e05",
   "metadata": {},
   "outputs": [
    {
     "data": {
      "text/html": [
       "<div>\n",
       "<style scoped>\n",
       "    .dataframe tbody tr th:only-of-type {\n",
       "        vertical-align: middle;\n",
       "    }\n",
       "\n",
       "    .dataframe tbody tr th {\n",
       "        vertical-align: top;\n",
       "    }\n",
       "\n",
       "    .dataframe thead th {\n",
       "        text-align: right;\n",
       "    }\n",
       "</style>\n",
       "<table border=\"1\" class=\"dataframe\">\n",
       "  <thead>\n",
       "    <tr style=\"text-align: right;\">\n",
       "      <th></th>\n",
       "      <th>age</th>\n",
       "      <th>school</th>\n",
       "      <th>sex</th>\n",
       "      <th>items</th>\n",
       "      <th>dollars</th>\n",
       "    </tr>\n",
       "    <tr>\n",
       "      <th>segment</th>\n",
       "      <th></th>\n",
       "      <th></th>\n",
       "      <th></th>\n",
       "      <th></th>\n",
       "      <th></th>\n",
       "    </tr>\n",
       "  </thead>\n",
       "  <tbody>\n",
       "    <tr>\n",
       "      <th>1</th>\n",
       "      <td>22.66828</td>\n",
       "      <td>10.44376</td>\n",
       "      <td>0.50503</td>\n",
       "      <td>1.36501</td>\n",
       "      <td>6.79798</td>\n",
       "    </tr>\n",
       "    <tr>\n",
       "      <th>2</th>\n",
       "      <td>24.05608</td>\n",
       "      <td>15.80716</td>\n",
       "      <td>0.50504</td>\n",
       "      <td>1.80906</td>\n",
       "      <td>15.51609</td>\n",
       "    </tr>\n",
       "    <tr>\n",
       "      <th>3</th>\n",
       "      <td>34.50573</td>\n",
       "      <td>17.81266</td>\n",
       "      <td>0.50433</td>\n",
       "      <td>8.50312</td>\n",
       "      <td>74.49335</td>\n",
       "    </tr>\n",
       "    <tr>\n",
       "      <th>4</th>\n",
       "      <td>54.49724</td>\n",
       "      <td>16.36582</td>\n",
       "      <td>0.50580</td>\n",
       "      <td>5.49679</td>\n",
       "      <td>61.50463</td>\n",
       "    </tr>\n",
       "    <tr>\n",
       "      <th>5</th>\n",
       "      <td>71.86368</td>\n",
       "      <td>13.49566</td>\n",
       "      <td>0.25236</td>\n",
       "      <td>2.55861</td>\n",
       "      <td>8.68422</td>\n",
       "    </tr>\n",
       "    <tr>\n",
       "      <th>6</th>\n",
       "      <td>34.50223</td>\n",
       "      <td>13.44966</td>\n",
       "      <td>0.50448</td>\n",
       "      <td>2.55283</td>\n",
       "      <td>9.57435</td>\n",
       "    </tr>\n",
       "    <tr>\n",
       "      <th>7</th>\n",
       "      <td>44.54140</td>\n",
       "      <td>15.52418</td>\n",
       "      <td>0.75779</td>\n",
       "      <td>1.81227</td>\n",
       "      <td>36.50430</td>\n",
       "    </tr>\n",
       "    <tr>\n",
       "      <th>8</th>\n",
       "      <td>45.50983</td>\n",
       "      <td>13.50443</td>\n",
       "      <td>0.50709</td>\n",
       "      <td>2.56042</td>\n",
       "      <td>11.51952</td>\n",
       "    </tr>\n",
       "  </tbody>\n",
       "</table>\n",
       "</div>"
      ],
      "text/plain": [
       "              age    school      sex    items   dollars\n",
       "segment                                                \n",
       "1        22.66828  10.44376  0.50503  1.36501   6.79798\n",
       "2        24.05608  15.80716  0.50504  1.80906  15.51609\n",
       "3        34.50573  17.81266  0.50433  8.50312  74.49335\n",
       "4        54.49724  16.36582  0.50580  5.49679  61.50463\n",
       "5        71.86368  13.49566  0.25236  2.55861   8.68422\n",
       "6        34.50223  13.44966  0.50448  2.55283   9.57435\n",
       "7        44.54140  15.52418  0.75779  1.81227  36.50430\n",
       "8        45.50983  13.50443  0.50709  2.56042  11.51952"
      ]
     },
     "execution_count": 5,
     "metadata": {},
     "output_type": "execute_result"
    }
   ],
   "source": [
    "segment.drop(\"cid\", axis = 1).groupby(by = \"segment\").mean()"
   ]
  },
  {
   "cell_type": "markdown",
   "id": "8fc47fce",
   "metadata": {},
   "source": [
    "- *Segment 1:  __young reserved buyer__, young buyers with shorter years of education, purchasing fewest items, not clear of gender, spending low*\n",
    "- *Segment 2: __younger saver__, customers with no significant characteristics and shopping preference from the data, but have the potential to get incentivized to buy more, overall younger*\n",
    "- *Segment 3: __high-ed shopper__, shoppers with the highest education level and highest spending, buying a wide range of products, our prioritized segment*\n",
    "- *Segment 4: __accomplished shopper__, presumably customers with stack of wealth and would like to buy a range of items, spending quite of amount, should be our second target segment*\n",
    "- *Segment 5: __elder ladies__, who do not show much interest in our products*\n",
    "- *Segment 6: __adult reserved buyer__, who do not have much purchase intention in our product, not clear of sex, very few amount spent*\n",
    "- *Segment 7: __working-class luxury male buyer__, who spend quite a lot but on limited range of items, with higher than average education, likely to be male, could be in our target list too*\n",
    "- *Segment 8: __older saver__, customers with no significant characteristics and shopping preference from the data, generally spend less but have the potential to get incentivized to buy more, overall older*"
   ]
  },
  {
   "cell_type": "markdown",
   "id": "6909c2b1",
   "metadata": {},
   "source": [
    "## Effectiveness Metrics\n",
    "### 1. Compute the gain, cumulative gain, lift, and cumulative lift for each segment. Don’t forget to sort to compute the cumulative statistics."
   ]
  },
  {
   "cell_type": "code",
   "execution_count": 6,
   "id": "bdd26752",
   "metadata": {},
   "outputs": [
    {
     "data": {
      "text/html": [
       "<div>\n",
       "<style scoped>\n",
       "    .dataframe tbody tr th:only-of-type {\n",
       "        vertical-align: middle;\n",
       "    }\n",
       "\n",
       "    .dataframe tbody tr th {\n",
       "        vertical-align: top;\n",
       "    }\n",
       "\n",
       "    .dataframe thead th {\n",
       "        text-align: right;\n",
       "    }\n",
       "</style>\n",
       "<table border=\"1\" class=\"dataframe\">\n",
       "  <thead>\n",
       "    <tr style=\"text-align: right;\">\n",
       "      <th></th>\n",
       "      <th>segment</th>\n",
       "      <th>dollars</th>\n",
       "      <th>gain</th>\n",
       "      <th>cumulative_gain</th>\n",
       "    </tr>\n",
       "  </thead>\n",
       "  <tbody>\n",
       "    <tr>\n",
       "      <th>0</th>\n",
       "      <td>3</td>\n",
       "      <td>74.49335</td>\n",
       "      <td>33.167940</td>\n",
       "      <td>33.167940</td>\n",
       "    </tr>\n",
       "    <tr>\n",
       "      <th>1</th>\n",
       "      <td>4</td>\n",
       "      <td>61.50463</td>\n",
       "      <td>27.384752</td>\n",
       "      <td>60.552692</td>\n",
       "    </tr>\n",
       "    <tr>\n",
       "      <th>2</th>\n",
       "      <td>7</td>\n",
       "      <td>36.50430</td>\n",
       "      <td>16.253430</td>\n",
       "      <td>76.806122</td>\n",
       "    </tr>\n",
       "    <tr>\n",
       "      <th>3</th>\n",
       "      <td>2</td>\n",
       "      <td>15.51609</td>\n",
       "      <td>6.908492</td>\n",
       "      <td>83.714615</td>\n",
       "    </tr>\n",
       "    <tr>\n",
       "      <th>4</th>\n",
       "      <td>8</td>\n",
       "      <td>11.51952</td>\n",
       "      <td>5.129032</td>\n",
       "      <td>88.843646</td>\n",
       "    </tr>\n",
       "    <tr>\n",
       "      <th>5</th>\n",
       "      <td>6</td>\n",
       "      <td>9.57435</td>\n",
       "      <td>4.262951</td>\n",
       "      <td>93.106597</td>\n",
       "    </tr>\n",
       "    <tr>\n",
       "      <th>6</th>\n",
       "      <td>5</td>\n",
       "      <td>8.68422</td>\n",
       "      <td>3.866623</td>\n",
       "      <td>96.973220</td>\n",
       "    </tr>\n",
       "    <tr>\n",
       "      <th>7</th>\n",
       "      <td>1</td>\n",
       "      <td>6.79798</td>\n",
       "      <td>3.026780</td>\n",
       "      <td>100.000000</td>\n",
       "    </tr>\n",
       "  </tbody>\n",
       "</table>\n",
       "</div>"
      ],
      "text/plain": [
       "   segment   dollars       gain  cumulative_gain\n",
       "0        3  74.49335  33.167940        33.167940\n",
       "1        4  61.50463  27.384752        60.552692\n",
       "2        7  36.50430  16.253430        76.806122\n",
       "3        2  15.51609   6.908492        83.714615\n",
       "4        8  11.51952   5.129032        88.843646\n",
       "5        6   9.57435   4.262951        93.106597\n",
       "6        5   8.68422   3.866623        96.973220\n",
       "7        1   6.79798   3.026780       100.000000"
      ]
     },
     "execution_count": 6,
     "metadata": {},
     "output_type": "execute_result"
    }
   ],
   "source": [
    "gain = pd.DataFrame(segment.groupby(by = \"segment\")[\"dollars\"].mean())\n",
    "gain[\"gain\"] = gain[\"dollars\"] / gain[\"dollars\"].sum()*100\n",
    "gain.sort_values(by = \"gain\",  ascending = False, inplace = True)\n",
    "gain[\"cumulative_gain\"] = gain[\"gain\"].cumsum()\n",
    "gain.reset_index(drop = False, inplace = True)\n",
    "gain"
   ]
  },
  {
   "cell_type": "code",
   "execution_count": 7,
   "id": "270ca936",
   "metadata": {},
   "outputs": [
    {
     "data": {
      "text/html": [
       "<div>\n",
       "<style scoped>\n",
       "    .dataframe tbody tr th:only-of-type {\n",
       "        vertical-align: middle;\n",
       "    }\n",
       "\n",
       "    .dataframe tbody tr th {\n",
       "        vertical-align: top;\n",
       "    }\n",
       "\n",
       "    .dataframe thead th {\n",
       "        text-align: right;\n",
       "    }\n",
       "</style>\n",
       "<table border=\"1\" class=\"dataframe\">\n",
       "  <thead>\n",
       "    <tr style=\"text-align: right;\">\n",
       "      <th></th>\n",
       "      <th>segment</th>\n",
       "      <th>dollars</th>\n",
       "      <th>lift</th>\n",
       "      <th>cumulative_lift</th>\n",
       "    </tr>\n",
       "  </thead>\n",
       "  <tbody>\n",
       "    <tr>\n",
       "      <th>0</th>\n",
       "      <td>3</td>\n",
       "      <td>74.49335</td>\n",
       "      <td>165.343523</td>\n",
       "      <td>1.653435e+02</td>\n",
       "    </tr>\n",
       "    <tr>\n",
       "      <th>1</th>\n",
       "      <td>4</td>\n",
       "      <td>61.50463</td>\n",
       "      <td>119.078015</td>\n",
       "      <td>1.422108e+02</td>\n",
       "    </tr>\n",
       "    <tr>\n",
       "      <th>2</th>\n",
       "      <td>7</td>\n",
       "      <td>36.50430</td>\n",
       "      <td>30.027440</td>\n",
       "      <td>1.048163e+02</td>\n",
       "    </tr>\n",
       "    <tr>\n",
       "      <th>3</th>\n",
       "      <td>2</td>\n",
       "      <td>15.51609</td>\n",
       "      <td>-44.732060</td>\n",
       "      <td>6.742923e+01</td>\n",
       "    </tr>\n",
       "    <tr>\n",
       "      <th>4</th>\n",
       "      <td>8</td>\n",
       "      <td>11.51952</td>\n",
       "      <td>-58.967746</td>\n",
       "      <td>4.214983e+01</td>\n",
       "    </tr>\n",
       "    <tr>\n",
       "      <th>5</th>\n",
       "      <td>6</td>\n",
       "      <td>9.57435</td>\n",
       "      <td>-65.896395</td>\n",
       "      <td>2.414213e+01</td>\n",
       "    </tr>\n",
       "    <tr>\n",
       "      <th>6</th>\n",
       "      <td>5</td>\n",
       "      <td>8.68422</td>\n",
       "      <td>-69.067017</td>\n",
       "      <td>1.082654e+01</td>\n",
       "    </tr>\n",
       "    <tr>\n",
       "      <th>7</th>\n",
       "      <td>1</td>\n",
       "      <td>6.79798</td>\n",
       "      <td>-75.785759</td>\n",
       "      <td>7.105427e-15</td>\n",
       "    </tr>\n",
       "  </tbody>\n",
       "</table>\n",
       "</div>"
      ],
      "text/plain": [
       "   segment   dollars        lift  cumulative_lift\n",
       "0        3  74.49335  165.343523     1.653435e+02\n",
       "1        4  61.50463  119.078015     1.422108e+02\n",
       "2        7  36.50430   30.027440     1.048163e+02\n",
       "3        2  15.51609  -44.732060     6.742923e+01\n",
       "4        8  11.51952  -58.967746     4.214983e+01\n",
       "5        6   9.57435  -65.896395     2.414213e+01\n",
       "6        5   8.68422  -69.067017     1.082654e+01\n",
       "7        1   6.79798  -75.785759     7.105427e-15"
      ]
     },
     "execution_count": 7,
     "metadata": {},
     "output_type": "execute_result"
    }
   ],
   "source": [
    "lift = pd.DataFrame(segment.groupby(by = \"segment\")[\"dollars\"].mean())\n",
    "seg_exp = lift[\"dollars\"].sum() / lift.shape[0]\n",
    "lift[\"lift\"] = (lift[\"dollars\"] / seg_exp - 1) * 100\n",
    "lift.sort_values(by = \"lift\", ascending = False, inplace = True)\n",
    "lift.reset_index(drop = False, inplace = True)\n",
    "lift[\"cumulative_lift\"] = lift[\"lift\"].cumsum() / (lift.index+1) # lift is like a cumulative running average\n",
    "# another way to calculate cumulative moving average: lift[\"cumulative_lift\"] = lift[\"lift\"].expanding().mean()\n",
    "lift"
   ]
  },
  {
   "cell_type": "markdown",
   "id": "508ce0ec",
   "metadata": {},
   "source": [
    "### 2. Plot the gain as a bar chart"
   ]
  },
  {
   "cell_type": "code",
   "execution_count": 8,
   "id": "3b7ebb9f",
   "metadata": {},
   "outputs": [
    {
     "data": {
      "text/plain": [
       "<AxesSubplot:xlabel='segment', ylabel='gain'>"
      ]
     },
     "execution_count": 8,
     "metadata": {},
     "output_type": "execute_result"
    },
    {
     "data": {
      "image/png": "[encoded data removed]",
      "text/plain": [
       "<Figure size 432x288 with 1 Axes>"
      ]
     },
     "metadata": {
      "needs_background": "light"
     },
     "output_type": "display_data"
    }
   ],
   "source": [
    "sns.barplot(data = gain, x = \"segment\", y = \"gain\", order = gain[\"segment\"])"
   ]
  },
  {
   "cell_type": "markdown",
   "id": "7c692353",
   "metadata": {},
   "source": [
    "### 3. Plot the cumulative gain as a line chart"
   ]
  },
  {
   "cell_type": "code",
   "execution_count": 9,
   "id": "25f4b49d",
   "metadata": {},
   "outputs": [
    {
     "data": {
      "image/png": "[encoded data removed]",
      "text/plain": [
       "<Figure size 432x288 with 1 Axes>"
      ]
     },
     "metadata": {
      "needs_background": "light"
     },
     "output_type": "display_data"
    }
   ],
   "source": [
    "sns.lineplot(x=gain.index, y=gain.cumulative_gain)\n",
    "plt.xticks([0,1,2,3,4,5,6,7], [3,4,7,2,8,6,5,1])\n",
    "plt.xlabel(\"Segment\")\n",
    "plt.ylabel(\"Cumulative Gain\")\n",
    "plt.show()\n",
    "# another way to do this: \n",
    "# https://stackoverflow.com/questions/50543055/custom-sorting-of-categorical-variable-on-x-axis-using-matplotlib"
   ]
  },
  {
   "cell_type": "markdown",
   "id": "99d7616a",
   "metadata": {},
   "source": [
    "### 4. Plot the lift as a bar chart"
   ]
  },
  {
   "cell_type": "code",
   "execution_count": 10,
   "id": "a06220ab",
   "metadata": {},
   "outputs": [
    {
     "data": {
      "image/png": "[encoded data removed]",
      "text/plain": [
       "<Figure size 432x288 with 1 Axes>"
      ]
     },
     "metadata": {
      "needs_background": "light"
     },
     "output_type": "display_data"
    }
   ],
   "source": [
    "sns.barplot(x=lift.segment, y=lift.lift, order = lift[\"segment\"])\n",
    "plt.xlabel(\"Segment\")\n",
    "plt.ylabel(\"Lift\")\n",
    "plt.show()"
   ]
  },
  {
   "cell_type": "markdown",
   "id": "7700ff44",
   "metadata": {},
   "source": [
    "### 5. Plot the cumulative lift as a line chart"
   ]
  },
  {
   "cell_type": "code",
   "execution_count": 11,
   "id": "6bb66487",
   "metadata": {},
   "outputs": [
    {
     "data": {
      "image/png": "[encoded data removed]",
      "text/plain": [
       "<Figure size 432x288 with 1 Axes>"
      ]
     },
     "metadata": {
      "needs_background": "light"
     },
     "output_type": "display_data"
    }
   ],
   "source": [
    "sns.lineplot(x=lift.index, y=lift.cumulative_lift)\n",
    "plt.xlabel(\"Segment\")\n",
    "plt.ylabel(\"Cumulative Lift\")\n",
    "plt.xticks([0,1,2,3,4,5,6,7], [3,4,7,2,8,6,5,1])\n",
    "plt.show()"
   ]
  }
 ],
 "metadata": {
  "kernelspec": {
   "display_name": "Python 3",
   "language": "python",
   "name": "python3"
  },
  "language_info": {
   "codemirror_mode": {
    "name": "ipython",
    "version": 3
   },
   "file_extension": ".py",
   "mimetype": "text/x-python",
   "name": "python",
   "nbconvert_exporter": "python",
   "pygments_lexer": "ipython3",
   "version": "3.8.8"
  }
 },
 "nbformat": 4,
 "nbformat_minor": 5
}
