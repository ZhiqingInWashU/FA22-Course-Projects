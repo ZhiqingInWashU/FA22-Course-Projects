{
 "cells": [
  {
   "cell_type": "markdown",
   "id": "e27282f1",
   "metadata": {},
   "source": [
    "**Collaborated with student Sophie Guo, Yitong Zhao, and Fanxi Chen**"
   ]
  },
  {
   "cell_type": "markdown",
   "id": "05d8cc92",
   "metadata": {},
   "source": [
    "### Section 1: Linear Algebra"
   ]
  },
  {
   "cell_type": "code",
   "execution_count": 1,
   "id": "64f17dcd",
   "metadata": {},
   "outputs": [],
   "source": [
    "import numpy as np\n",
    "m1 = np.array([[1,3,5], [4,12,8]])\n",
    "m2 = np.array([[1,5,9], [3,4,15]])"
   ]
  },
  {
   "cell_type": "code",
   "execution_count": 2,
   "id": "d37e373c",
   "metadata": {},
   "outputs": [
    {
     "data": {
      "text/plain": [
       "array([[ 2,  8, 14],\n",
       "       [ 7, 16, 23]])"
      ]
     },
     "execution_count": 2,
     "metadata": {},
     "output_type": "execute_result"
    }
   ],
   "source": [
    "# 1. Add m1 to m2\n",
    "m1 + m2"
   ]
  },
  {
   "cell_type": "code",
   "execution_count": 3,
   "id": "283ef55d",
   "metadata": {},
   "outputs": [
    {
     "data": {
      "text/plain": [
       "array([[ 0, -2, -4],\n",
       "       [ 1,  8, -7]])"
      ]
     },
     "execution_count": 3,
     "metadata": {},
     "output_type": "execute_result"
    }
   ],
   "source": [
    "# 2. Subtraction: m1 – m2\n",
    "m1 - m2"
   ]
  },
  {
   "cell_type": "code",
   "execution_count": 4,
   "id": "7782c5d5",
   "metadata": {},
   "outputs": [
    {
     "data": {
      "text/plain": [
       "array([[ 61,  90],\n",
       "       [136, 180]])"
      ]
     },
     "execution_count": 4,
     "metadata": {},
     "output_type": "execute_result"
    }
   ],
   "source": [
    "# 3a. Multiply m1 x m2\n",
    "np.dot(m1, m2.T)"
   ]
  },
  {
   "cell_type": "code",
   "execution_count": 5,
   "id": "f2caa4b9",
   "metadata": {},
   "outputs": [
    {
     "data": {
      "text/plain": [
       "array([[ 61, 136],\n",
       "       [ 90, 180]])"
      ]
     },
     "execution_count": 5,
     "metadata": {},
     "output_type": "execute_result"
    }
   ],
   "source": [
    "# 3b. Multiply m2 x m1\n",
    "np.dot(m2, m1.T)"
   ]
  },
  {
   "cell_type": "code",
   "execution_count": 6,
   "id": "0177bcaf",
   "metadata": {},
   "outputs": [],
   "source": [
    "# 3c. Are the resultant matrices the same? Explain."
   ]
  },
  {
   "cell_type": "markdown",
   "id": "02e5e973",
   "metadata": {},
   "source": [
    "*The results are not the same. Difference matrix got transposed, and the order is different.*"
   ]
  },
  {
   "cell_type": "code",
   "execution_count": 7,
   "id": "8a233bc9",
   "metadata": {},
   "outputs": [],
   "source": [
    "# 4a. Using numpy append, append the vector to the bottom of m1\n",
    "m3 = np.append(m1, [[2,6,7]], axis=0)"
   ]
  },
  {
   "cell_type": "code",
   "execution_count": 8,
   "id": "679e9e97",
   "metadata": {},
   "outputs": [
    {
     "ename": "LinAlgError",
     "evalue": "Singular matrix",
     "output_type": "error",
     "traceback": [
      "\u001b[0;31m---------------------------------------------------------------------------\u001b[0m",
      "\u001b[0;31mLinAlgError\u001b[0m                               Traceback (most recent call last)",
      "\u001b[0;32m<ipython-input-8-55484e3f939b>\u001b[0m in \u001b[0;36m<module>\u001b[0;34m\u001b[0m\n\u001b[1;32m      1\u001b[0m \u001b[0;31m# 4b. Invert m3\u001b[0m\u001b[0;34m\u001b[0m\u001b[0;34m\u001b[0m\u001b[0;34m\u001b[0m\u001b[0m\n\u001b[0;32m----> 2\u001b[0;31m \u001b[0mnp\u001b[0m\u001b[0;34m.\u001b[0m\u001b[0mlinalg\u001b[0m\u001b[0;34m.\u001b[0m\u001b[0minv\u001b[0m\u001b[0;34m(\u001b[0m\u001b[0mm3\u001b[0m\u001b[0;34m)\u001b[0m\u001b[0;34m\u001b[0m\u001b[0;34m\u001b[0m\u001b[0m\n\u001b[0m",
      "\u001b[0;32m<__array_function__ internals>\u001b[0m in \u001b[0;36minv\u001b[0;34m(*args, **kwargs)\u001b[0m\n",
      "\u001b[0;32m/opt/anaconda3/lib/python3.8/site-packages/numpy/linalg/linalg.py\u001b[0m in \u001b[0;36minv\u001b[0;34m(a)\u001b[0m\n\u001b[1;32m    543\u001b[0m     \u001b[0msignature\u001b[0m \u001b[0;34m=\u001b[0m \u001b[0;34m'D->D'\u001b[0m \u001b[0;32mif\u001b[0m \u001b[0misComplexType\u001b[0m\u001b[0;34m(\u001b[0m\u001b[0mt\u001b[0m\u001b[0;34m)\u001b[0m \u001b[0;32melse\u001b[0m \u001b[0;34m'd->d'\u001b[0m\u001b[0;34m\u001b[0m\u001b[0;34m\u001b[0m\u001b[0m\n\u001b[1;32m    544\u001b[0m     \u001b[0mextobj\u001b[0m \u001b[0;34m=\u001b[0m \u001b[0mget_linalg_error_extobj\u001b[0m\u001b[0;34m(\u001b[0m\u001b[0m_raise_linalgerror_singular\u001b[0m\u001b[0;34m)\u001b[0m\u001b[0;34m\u001b[0m\u001b[0;34m\u001b[0m\u001b[0m\n\u001b[0;32m--> 545\u001b[0;31m     \u001b[0mainv\u001b[0m \u001b[0;34m=\u001b[0m \u001b[0m_umath_linalg\u001b[0m\u001b[0;34m.\u001b[0m\u001b[0minv\u001b[0m\u001b[0;34m(\u001b[0m\u001b[0ma\u001b[0m\u001b[0;34m,\u001b[0m \u001b[0msignature\u001b[0m\u001b[0;34m=\u001b[0m\u001b[0msignature\u001b[0m\u001b[0;34m,\u001b[0m \u001b[0mextobj\u001b[0m\u001b[0;34m=\u001b[0m\u001b[0mextobj\u001b[0m\u001b[0;34m)\u001b[0m\u001b[0;34m\u001b[0m\u001b[0;34m\u001b[0m\u001b[0m\n\u001b[0m\u001b[1;32m    546\u001b[0m     \u001b[0;32mreturn\u001b[0m \u001b[0mwrap\u001b[0m\u001b[0;34m(\u001b[0m\u001b[0mainv\u001b[0m\u001b[0;34m.\u001b[0m\u001b[0mastype\u001b[0m\u001b[0;34m(\u001b[0m\u001b[0mresult_t\u001b[0m\u001b[0;34m,\u001b[0m \u001b[0mcopy\u001b[0m\u001b[0;34m=\u001b[0m\u001b[0;32mFalse\u001b[0m\u001b[0;34m)\u001b[0m\u001b[0;34m)\u001b[0m\u001b[0;34m\u001b[0m\u001b[0;34m\u001b[0m\u001b[0m\n\u001b[1;32m    547\u001b[0m \u001b[0;34m\u001b[0m\u001b[0m\n",
      "\u001b[0;32m/opt/anaconda3/lib/python3.8/site-packages/numpy/linalg/linalg.py\u001b[0m in \u001b[0;36m_raise_linalgerror_singular\u001b[0;34m(err, flag)\u001b[0m\n\u001b[1;32m     86\u001b[0m \u001b[0;34m\u001b[0m\u001b[0m\n\u001b[1;32m     87\u001b[0m \u001b[0;32mdef\u001b[0m \u001b[0m_raise_linalgerror_singular\u001b[0m\u001b[0;34m(\u001b[0m\u001b[0merr\u001b[0m\u001b[0;34m,\u001b[0m \u001b[0mflag\u001b[0m\u001b[0;34m)\u001b[0m\u001b[0;34m:\u001b[0m\u001b[0;34m\u001b[0m\u001b[0;34m\u001b[0m\u001b[0m\n\u001b[0;32m---> 88\u001b[0;31m     \u001b[0;32mraise\u001b[0m \u001b[0mLinAlgError\u001b[0m\u001b[0;34m(\u001b[0m\u001b[0;34m\"Singular matrix\"\u001b[0m\u001b[0;34m)\u001b[0m\u001b[0;34m\u001b[0m\u001b[0;34m\u001b[0m\u001b[0m\n\u001b[0m\u001b[1;32m     89\u001b[0m \u001b[0;34m\u001b[0m\u001b[0m\n\u001b[1;32m     90\u001b[0m \u001b[0;32mdef\u001b[0m \u001b[0m_raise_linalgerror_nonposdef\u001b[0m\u001b[0;34m(\u001b[0m\u001b[0merr\u001b[0m\u001b[0;34m,\u001b[0m \u001b[0mflag\u001b[0m\u001b[0;34m)\u001b[0m\u001b[0;34m:\u001b[0m\u001b[0;34m\u001b[0m\u001b[0;34m\u001b[0m\u001b[0m\n",
      "\u001b[0;31mLinAlgError\u001b[0m: Singular matrix"
     ]
    }
   ],
   "source": [
    "# 4b. Invert m3\n",
    "np.linalg.inv(m3)"
   ]
  },
  {
   "cell_type": "code",
   "execution_count": 9,
   "id": "06b513d1",
   "metadata": {},
   "outputs": [
    {
     "data": {
      "text/plain": [
       "0.0"
      ]
     },
     "execution_count": 9,
     "metadata": {},
     "output_type": "execute_result"
    }
   ],
   "source": [
    "# 4c. Find the determinant of m3\n",
    "np.linalg.det(m3)"
   ]
  },
  {
   "cell_type": "code",
   "execution_count": 10,
   "id": "69da987a",
   "metadata": {},
   "outputs": [],
   "source": [
    "# 4d. Using numpy append, append the following vector to the bottom of m1\n",
    "m4 = np.append(m1, [[2,0,7]], axis=0)"
   ]
  },
  {
   "cell_type": "code",
   "execution_count": 11,
   "id": "f00c99a0",
   "metadata": {},
   "outputs": [
    {
     "name": "stdout",
     "output_type": "stream",
     "text": [
      "[[-1.16666667  0.29166667  0.5       ]\n",
      " [ 0.16666667  0.04166667 -0.16666667]\n",
      " [ 0.33333333 -0.08333333  0.        ]] \n",
      "Determinant = -72.0\n"
     ]
    }
   ],
   "source": [
    "# 4e. Repeat b & c above. Why can you invert one but not the other?\n",
    "print(np.linalg.inv(m4), \"\\nDeterminant =\", np.linalg.det(m4))"
   ]
  },
  {
   "cell_type": "markdown",
   "id": "f959da04",
   "metadata": {},
   "source": [
    "*M3 does not have an inverse because it is determinant is 0, and a matrix cannot be inverted when its determinant is 0. M4's determinant is -72, and therefore it can have an inverse.*"
   ]
  },
  {
   "cell_type": "code",
   "execution_count": 12,
   "id": "6532cd66",
   "metadata": {},
   "outputs": [
    {
     "name": "stdout",
     "output_type": "stream",
     "text": [
      "Eigen value is  [-0.74625347 13.70776234  7.03849113]\n",
      "Eigen vector is  [[-0.95796008  0.25760791  0.01007287]\n",
      " [ 0.14538858  0.96319186 -0.85203586]\n",
      " [ 0.24733507  0.0768089   0.5233865 ]]\n"
     ]
    }
   ],
   "source": [
    "# 5. Find the Eigen vectors and values of m4\n",
    "e_value, e_vector = np.linalg.eig(m4)\n",
    "print('Eigen value is ', e_value)\n",
    "print('Eigen vector is ', e_vector)"
   ]
  },
  {
   "cell_type": "markdown",
   "id": "c9e5fdd4",
   "metadata": {},
   "source": [
    "### Section 2: Probability"
   ]
  },
  {
   "cell_type": "code",
   "execution_count": 22,
   "id": "8355b195",
   "metadata": {},
   "outputs": [
    {
     "data": {
      "image/png": "[encoded data removed]",
      "text/plain": [
       "<Figure size 1008x288 with 2 Axes>"
      ]
     },
     "metadata": {
      "needs_background": "light"
     },
     "output_type": "display_data"
    }
   ],
   "source": [
    "# 1. Generate the following. Use seed(155) to make sure the results are always the same.\n",
    "\n",
    "import numpy as np\n",
    "import matplotlib.pyplot as plt\n",
    "import seaborn as sns\n",
    "\n",
    "# a. x1: 40 observations from a random normal distribution with a mean of 15 and standard deviation of 2\n",
    "np.random.seed(155)\n",
    "x1 = np.random.normal(loc = 15, scale = 2, size = 40)\n",
    "\n",
    "# b. x2: 40 observations from a random normal distribution with a mean of 17 and standard deviation of 1.5\n",
    "np.random.seed(155)\n",
    "x2 = np.random.normal(loc = 17, scale = 1.5, size = 40)\n",
    "\n",
    "# c. Produce histograms of these distributions on the same plot\n",
    "fig, ax = plt.subplots(nrows=1, ncols=2, figsize = (14,4))\n",
    "sns.histplot(ax = ax[0], x=x1, color=\"skyblue\", label=\"X1\", kde=True)\n",
    "sns.histplot(ax = ax[1], x=x2, color=\"skyblue\", label=\"X2\", kde=True)\n",
    "ax[0].title.set_text('X1')\n",
    "ax[1].title.set_text('X2')\n",
    "plt.show()"
   ]
  },
  {
   "cell_type": "code",
   "execution_count": 23,
   "id": "8c0dc6b1",
   "metadata": {},
   "outputs": [
    {
     "data": {
      "text/plain": [
       "<AxesSubplot:ylabel='Count'>"
      ]
     },
     "execution_count": 23,
     "metadata": {},
     "output_type": "execute_result"
    },
    {
     "data": {
      "image/png": "[encoded data removed]",
      "text/plain": [
       "<Figure size 432x288 with 1 Axes>"
      ]
     },
     "metadata": {
      "needs_background": "light"
     },
     "output_type": "display_data"
    }
   ],
   "source": [
    "# 2. Subtract the first set of observations from the second set to get x3. This is equivalent to vector subtraction. \n",
    "#    Produce a histogram of the differences. What is the distribution of x3?\n",
    "x3 = x2 - x1\n",
    "sns.histplot(x=x3, color=\"red\", label=\"X3\", kde=True)"
   ]
  },
  {
   "cell_type": "markdown",
   "id": "c164ca0f",
   "metadata": {},
   "source": [
    "*The distribution of x3 looks like a normal distribution. Most differences lie between 1.6 and 2.3.*"
   ]
  },
  {
   "cell_type": "markdown",
   "id": "240ea191",
   "metadata": {},
   "source": [
    "### Section 3: Statistics"
   ]
  },
  {
   "cell_type": "code",
   "execution_count": 24,
   "id": "9bbdb38d",
   "metadata": {},
   "outputs": [
    {
     "name": "stdout",
     "output_type": "stream",
     "text": [
      "X1: \tMean =14.802853912665578    Median =14.895544528517114    Mode =16.248701316383627\n",
      "X2: \tMean =16.852140434499184    Median =16.921658396387834    Mode =17.93652598728772\n",
      "X3 \tMean =2.0492865218336056    Median =2.0261138678707207    Mode =1.6878246709040923\n"
     ]
    }
   ],
   "source": [
    "# 1. Compute the mean, median, & mode for x1, x2, & x3.\n",
    "import statistics\n",
    "\n",
    "def comp_stats(arr):\n",
    "    return \"\\tMean =\" + str(arr.mean())+\"    Median =\"+str(statistics.median(arr))+ \"    Mode =\" + str(statistics.mode(arr))\n",
    "\n",
    "print(\"X1:\", comp_stats(x1))\n",
    "print(\"X2:\", comp_stats(x2))\n",
    "print(\"X3\", comp_stats(x3))"
   ]
  },
  {
   "cell_type": "code",
   "execution_count": 16,
   "id": "11bf98f9",
   "metadata": {},
   "outputs": [],
   "source": [
    "# a. The mode values may not be what you would expect. Look at the x3 values and explain what has happened."
   ]
  },
  {
   "cell_type": "markdown",
   "id": "6f53cd62",
   "metadata": {},
   "source": [
    "*The value of these modes are not really the mode. Since these arrays have a lot of digits, they are all different from each other. Therefore, the mode() function cannot find a mode in the data, but rather it returns the first number in the array. To obtain a mode with a little sacrifice in precision, we may round the numbers to integers, and then find the mode.*"
   ]
  },
  {
   "cell_type": "code",
   "execution_count": 17,
   "id": "93f5dcf0",
   "metadata": {},
   "outputs": [
    {
     "data": {
      "text/plain": [
       "2.0"
      ]
     },
     "execution_count": 17,
     "metadata": {},
     "output_type": "execute_result"
    }
   ],
   "source": [
    "# b. When you round the x3 values to the closest integer using the round() function, what is the new mode?\n",
    "statistics.mode(np.round(x3))"
   ]
  },
  {
   "cell_type": "code",
   "execution_count": 18,
   "id": "9f373bbb",
   "metadata": {},
   "outputs": [
    {
     "name": "stdout",
     "output_type": "stream",
     "text": [
      "X1: 3.705907471583822 1.9250733678444107 0.30825844433226685\n",
      "X2: 2.0635261510395324 1.4364978771441093 0.23002375301201308\n",
      "X3: 6.780441355578228 2.6039280626734347 0.41696219331715434\n"
     ]
    }
   ],
   "source": [
    "# 2. Compute the sample variance, sample standard deviation, and standard error for x1, x2, & x3. \n",
    "from scipy.stats import sem\n",
    "\n",
    "print(\"X1:\", np.var(x1), np.std(x1), sem(x1))\n",
    "print(\"X2:\", np.var(x2), np.std(x2), sem(x2))\n",
    "print(\"X3:\", np.var(x3), np.std(x3), sem(x3))"
   ]
  },
  {
   "cell_type": "code",
   "execution_count": 19,
   "id": "9368b268",
   "metadata": {},
   "outputs": [
    {
     "name": "stdout",
     "output_type": "stream",
     "text": [
      "X1: range = 8.653972842075435\n",
      "X2: range = 6.867847677132708\n"
     ]
    }
   ],
   "source": [
    "# 3. For x1 and x2\n",
    "# a. Compute the range\n",
    "print(\"X1: range =\", x1.max() - x1.min())\n",
    "print(\"X2: range =\", x2.max() - x2.min())"
   ]
  },
  {
   "cell_type": "code",
   "execution_count": 20,
   "id": "710c35d5",
   "metadata": {},
   "outputs": [
    {
     "name": "stdout",
     "output_type": "stream",
     "text": [
      "X1: Q1 = 13.36709336572737 , Q2 = 14.895544528517114\n",
      "X2: Q1 = 15.823522136638141 , Q2 = 16.79919015225647\n"
     ]
    }
   ],
   "source": [
    "# b. Find Q1 and Q2\n",
    "print(\"X1:\", \"Q1 =\", np.quantile(x1, 0.25), \", Q2 =\", np.quantile(x1, 0.5))\n",
    "print(\"X2:\", \"Q1 =\", np.quantile(x2, 0.25), \", Q2 =\", np.quantile(x2, 0.5))"
   ]
  },
  {
   "cell_type": "code",
   "execution_count": 21,
   "id": "7792535f",
   "metadata": {},
   "outputs": [
    {
     "name": "stdout",
     "output_type": "stream",
     "text": [
      "X1: IQR = 2.5975437371308274\n",
      "X2: IQR = 1.9595713209638443\n"
     ]
    }
   ],
   "source": [
    "# c. Compute the IQR\n",
    "print(\"X1:\", \"IQR =\", np.quantile(x1, 0.75) - np.quantile(x1, 0.25) )\n",
    "print(\"X2:\", \"IQR =\", np.quantile(x2, 0.75) - np.quantile(x2, 0.25))"
   ]
  }
 ],
 "metadata": {
  "kernelspec": {
   "display_name": "Python 3",
   "language": "python",
   "name": "python3"
  },
  "language_info": {
   "codemirror_mode": {
    "name": "ipython",
    "version": 3
   },
   "file_extension": ".py",
   "mimetype": "text/x-python",
   "name": "python",
   "nbconvert_exporter": "python",
   "pygments_lexer": "ipython3",
   "version": "3.8.8"
  }
 },
 "nbformat": 4,
 "nbformat_minor": 5
}
