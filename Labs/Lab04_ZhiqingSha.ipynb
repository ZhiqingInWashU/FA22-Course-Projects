{
 "cells": [
  {
   "cell_type": "markdown",
   "id": "8c0abf9c",
   "metadata": {},
   "source": [
    "**Collaborated with student Sophie Guo, Yitong Zhao, and Fanxi Chen**"
   ]
  },
  {
   "cell_type": "markdown",
   "id": "f8542970",
   "metadata": {},
   "source": [
    "## Section 1: Group Comparisons with Continuous Data"
   ]
  },
  {
   "cell_type": "markdown",
   "id": "62d1967b",
   "metadata": {},
   "source": [
    "#### 1. Read the males_ht_wt_cntry.csv file into a data frame"
   ]
  },
  {
   "cell_type": "code",
   "execution_count": 1,
   "id": "8345cfdf",
   "metadata": {},
   "outputs": [],
   "source": [
    "import pandas as pd\n",
    "import numpy as np\n",
    "males = pd.read_csv(\"../W4/males_ht_wt_cntry.csv\")"
   ]
  },
  {
   "cell_type": "markdown",
   "id": "d3e14a0e",
   "metadata": {},
   "source": [
    "#### 2. Examine the data"
   ]
  },
  {
   "cell_type": "code",
   "execution_count": 2,
   "id": "ef3751f8",
   "metadata": {},
   "outputs": [
    {
     "data": {
      "text/html": [
       "<div>\n",
       "<style scoped>\n",
       "    .dataframe tbody tr th:only-of-type {\n",
       "        vertical-align: middle;\n",
       "    }\n",
       "\n",
       "    .dataframe tbody tr th {\n",
       "        vertical-align: top;\n",
       "    }\n",
       "\n",
       "    .dataframe thead th {\n",
       "        text-align: right;\n",
       "    }\n",
       "</style>\n",
       "<table border=\"1\" class=\"dataframe\">\n",
       "  <thead>\n",
       "    <tr style=\"text-align: right;\">\n",
       "      <th></th>\n",
       "      <th>Height</th>\n",
       "      <th>Weight</th>\n",
       "      <th>Country</th>\n",
       "    </tr>\n",
       "  </thead>\n",
       "  <tbody>\n",
       "    <tr>\n",
       "      <th>0</th>\n",
       "      <td>64.0</td>\n",
       "      <td>144.0</td>\n",
       "      <td>Italy</td>\n",
       "    </tr>\n",
       "    <tr>\n",
       "      <th>1</th>\n",
       "      <td>68.0</td>\n",
       "      <td>150.0</td>\n",
       "      <td>Italy</td>\n",
       "    </tr>\n",
       "    <tr>\n",
       "      <th>2</th>\n",
       "      <td>66.0</td>\n",
       "      <td>147.0</td>\n",
       "      <td>Italy</td>\n",
       "    </tr>\n",
       "    <tr>\n",
       "      <th>3</th>\n",
       "      <td>71.0</td>\n",
       "      <td>170.0</td>\n",
       "      <td>Italy</td>\n",
       "    </tr>\n",
       "    <tr>\n",
       "      <th>4</th>\n",
       "      <td>65.0</td>\n",
       "      <td>163.0</td>\n",
       "      <td>Italy</td>\n",
       "    </tr>\n",
       "  </tbody>\n",
       "</table>\n",
       "</div>"
      ],
      "text/plain": [
       "   Height  Weight Country\n",
       "0    64.0   144.0   Italy\n",
       "1    68.0   150.0   Italy\n",
       "2    66.0   147.0   Italy\n",
       "3    71.0   170.0   Italy\n",
       "4    65.0   163.0   Italy"
      ]
     },
     "execution_count": 2,
     "metadata": {},
     "output_type": "execute_result"
    }
   ],
   "source": [
    "# 2a. Display some rows to make sure it imported correctly\n",
    "males.head()"
   ]
  },
  {
   "cell_type": "code",
   "execution_count": 3,
   "id": "7bab37d3",
   "metadata": {},
   "outputs": [
    {
     "data": {
      "text/plain": [
       "<AxesSubplot:xlabel='Height', ylabel='Count'>"
      ]
     },
     "execution_count": 3,
     "metadata": {},
     "output_type": "execute_result"
    },
    {
     "data": {
      "image/png": "[encoded data removed]",
      "text/plain": [
       "<Figure size 432x288 with 1 Axes>"
      ]
     },
     "metadata": {
      "needs_background": "light"
     },
     "output_type": "display_data"
    }
   ],
   "source": [
    "# 2b. Generate histograms of the heights by country\n",
    "import seaborn as sns\n",
    "import matplotlib.pyplot as plt\n",
    "\n",
    "sns.histplot(x=males[\"Height\"], hue=males[\"Country\"], label=\"height\") # multiple=\"dodge\""
   ]
  },
  {
   "cell_type": "code",
   "execution_count": 4,
   "id": "7de5ecd1",
   "metadata": {},
   "outputs": [
    {
     "data": {
      "text/plain": [
       "<AxesSubplot:xlabel='Weight', ylabel='Count'>"
      ]
     },
     "execution_count": 4,
     "metadata": {},
     "output_type": "execute_result"
    },
    {
     "data": {
      "image/png": "[encoded data removed]",
      "text/plain": [
       "<Figure size 432x288 with 1 Axes>"
      ]
     },
     "metadata": {
      "needs_background": "light"
     },
     "output_type": "display_data"
    }
   ],
   "source": [
    "# 2c. Generate histograms of the weights by country\n",
    "sns.histplot(x=males[\"Weight\"], hue=males[\"Country\"], label=\"height\")"
   ]
  },
  {
   "cell_type": "markdown",
   "id": "4440e8fe",
   "metadata": {},
   "source": [
    "#### 3. Conduct a test to determine if the weights differ by nationality and interpret your results."
   ]
  },
  {
   "cell_type": "code",
   "execution_count": 5,
   "id": "e79c0121",
   "metadata": {},
   "outputs": [
    {
     "data": {
      "image/png": "[encoded data removed]",
      "text/plain": [
       "<Figure size 1080x288 with 3 Axes>"
      ]
     },
     "metadata": {
      "needs_background": "light"
     },
     "output_type": "display_data"
    }
   ],
   "source": [
    "w1 = males.loc[males[\"Country\"]==\"Italy\", \"Weight\"]\n",
    "w2 = males.loc[males[\"Country\"]==\"USA\", \"Weight\"]\n",
    "w3 = males.loc[males[\"Country\"]==\"Netherlands\", \"Weight\"]\n",
    "\n",
    "# (1) check if data follows a normal distribution\n",
    "fig = plt.figure(figsize=(15,4))   \n",
    "fig.subplots_adjust(wspace=0.2, hspace=0.1) \n",
    "\n",
    "ax1 = fig.add_subplot(131) \n",
    "plt.hist(w1, bins=10, color = \"#eab676\")\n",
    "plt.axvline(x = np.mean(w1), c = 'r')\n",
    "plt.text(np.mean(w1)+2, 13, round(np.mean(w1),2), c='r')\n",
    "\n",
    "ax2 = fig.add_subplot(132) \n",
    "plt.hist(w2, bins=10, color = \"#e28743\")\n",
    "plt.axvline(x = np.mean(w2), c = 'r')\n",
    "plt.text(np.mean(w2)+2, 13, round(np.mean(w2),2), c='r')\n",
    "\n",
    "ax3 = fig.add_subplot(133) \n",
    "plt.hist(w3, bins=10, color = \"#873e23\")\n",
    "plt.axvline(x = np.mean(w3), c = 'r')\n",
    "plt.text(np.mean(w3)+2, 13, round(np.mean(w3),2), c='r')\n",
    "\n",
    "plt.show()"
   ]
  },
  {
   "cell_type": "markdown",
   "id": "0a4044b3",
   "metadata": {},
   "source": [
    "*It looks like the three samples all roughly follow normal distribution.*"
   ]
  },
  {
   "cell_type": "code",
   "execution_count": 6,
   "id": "dfc56ce6",
   "metadata": {},
   "outputs": [
    {
     "name": "stdout",
     "output_type": "stream",
     "text": [
      "resulting p-value = 0.07218180380373036\n"
     ]
    }
   ],
   "source": [
    "# (2) check if variances are equal across groups\n",
    "from scipy.stats import f_oneway, levene\n",
    "\n",
    "stat, p = levene(w1, w2, w3)\n",
    "print(\"resulting p-value =\", p)"
   ]
  },
  {
   "cell_type": "markdown",
   "id": "b295245b",
   "metadata": {},
   "source": [
    "*The resulting p-value for levene is around 0.07, which means that we do not reject the null hypothesis that the three sample weights are from populations with equal variances. With this confirmation, ANOVA test is available to use on this dataset.*"
   ]
  },
  {
   "cell_type": "code",
   "execution_count": 7,
   "id": "6fa418ad",
   "metadata": {},
   "outputs": [
    {
     "name": "stdout",
     "output_type": "stream",
     "text": [
      "p-value: 1.9503368513081563e-25 \n",
      "F-stat: 73.0316861418844\n"
     ]
    }
   ],
   "source": [
    "result = f_oneway(w1, w2, w3)\n",
    "print(\"p-value:\", result.pvalue, \"\\nF-stat:\", result.statistic)"
   ]
  },
  {
   "cell_type": "markdown",
   "id": "6b7241be",
   "metadata": {},
   "source": [
    "*The resulting p-value from ANOVA test is smaller than 0.05. This means that the weights across three countries are significantly unlikely to be equal. Based on the result, we conclude that the average weights of 3 countries are not equal.*"
   ]
  },
  {
   "cell_type": "markdown",
   "id": "95b73567",
   "metadata": {},
   "source": [
    "#### 4. ANOVA won’t tell you which sets of weights differ. You will need to compare each group against each other to determine that."
   ]
  },
  {
   "cell_type": "code",
   "execution_count": 8,
   "id": "f07af095",
   "metadata": {},
   "outputs": [
    {
     "name": "stdout",
     "output_type": "stream",
     "text": [
      "101.44489795918368 118.35484374999999\n"
     ]
    }
   ],
   "source": [
    "# a. Conduct a test to determine if the weights of the Italian males were significantly different than the Dutch males \n",
    "#    (from the Netherlands) and interpret your results\n",
    "import scipy.stats as stats\n",
    "print(np.var(w1), np.var(w3)) # see if two sample have equal variance"
   ]
  },
  {
   "cell_type": "code",
   "execution_count": 9,
   "id": "916b5c7e",
   "metadata": {},
   "outputs": [
    {
     "data": {
      "text/plain": [
       "Ttest_indResult(statistic=-11.135754716464666, pvalue=2.6541621479997745e-21)"
      ]
     },
     "execution_count": 9,
     "metadata": {},
     "output_type": "execute_result"
    }
   ],
   "source": [
    "stats.ttest_ind(w1, w3, equal_var=True)"
   ]
  },
  {
   "cell_type": "markdown",
   "id": "5fbe9a5b",
   "metadata": {},
   "source": [
    "*The two samples have close variance (118.35/101.44 < 4), so equal variance is assumed.*  \n",
    "*Two-sample t-test shows that p-value is much smaller than 0.05, meaning that Italian males and Dutch males have significantly different weights.*"
   ]
  },
  {
   "cell_type": "code",
   "execution_count": 10,
   "id": "f33d2454",
   "metadata": {},
   "outputs": [
    {
     "name": "stdout",
     "output_type": "stream",
     "text": [
      "101.44489795918368 162.00111111111104\n"
     ]
    }
   ],
   "source": [
    "# b. Conduct a test to determine if the weights of the Italian males were significantly different than the American males \n",
    "#    and interpret your results\n",
    "print(np.var(w1), np.var(w2))"
   ]
  },
  {
   "cell_type": "code",
   "execution_count": 11,
   "id": "fd987916",
   "metadata": {},
   "outputs": [
    {
     "data": {
      "text/plain": [
       "Ttest_indResult(statistic=-10.715936381667479, pvalue=1.755707616976545e-20)"
      ]
     },
     "execution_count": 11,
     "metadata": {},
     "output_type": "execute_result"
    }
   ],
   "source": [
    "stats.ttest_ind(w1, w2, equal_var=True)"
   ]
  },
  {
   "cell_type": "markdown",
   "id": "ce4a286d",
   "metadata": {},
   "source": [
    "*The two samples have close variance (162/101.44 < 4), so equal variance is assumed.*  \n",
    "*Two-sample t-test shows that p-value is smaller than 0.05, meaning that Italian males and American males have significantly different weights.*"
   ]
  },
  {
   "cell_type": "code",
   "execution_count": 12,
   "id": "819f9239",
   "metadata": {},
   "outputs": [
    {
     "name": "stdout",
     "output_type": "stream",
     "text": [
      "162.00111111111104 118.35484374999999\n"
     ]
    }
   ],
   "source": [
    "# c. Conduct a test to determine if the weights of the American males were significantly different than the Dutch males \n",
    "#    (from the Netherlands) and interpret your results\n",
    "print(np.var(w2), np.var(w3))"
   ]
  },
  {
   "cell_type": "code",
   "execution_count": 13,
   "id": "888415b9",
   "metadata": {},
   "outputs": [
    {
     "data": {
      "text/plain": [
       "Ttest_indResult(statistic=0.39209148079725187, pvalue=0.6954875719362548)"
      ]
     },
     "execution_count": 13,
     "metadata": {},
     "output_type": "execute_result"
    }
   ],
   "source": [
    "stats.ttest_ind(w2, w3, equal_var=True)"
   ]
  },
  {
   "cell_type": "markdown",
   "id": "16122f1f",
   "metadata": {},
   "source": [
    "*The two samples have close variance (162/118.35 < 4), so equal variance is assumed.*  \n",
    "*Two-sample t-test shows that p-value is greater than 0.05, meaning that we fail to reject the null hypothesis that Dutch males and American males have significantly different weights.*"
   ]
  },
  {
   "cell_type": "markdown",
   "id": "005e0281",
   "metadata": {},
   "source": [
    "#### 5. What is the probability one of these t-tests is not actually significant (i.e. false positive)?"
   ]
  },
  {
   "cell_type": "code",
   "execution_count": 14,
   "id": "d3d0c320",
   "metadata": {},
   "outputs": [
    {
     "data": {
      "text/plain": [
       "0.1426250000000001"
      ]
     },
     "execution_count": 14,
     "metadata": {},
     "output_type": "execute_result"
    }
   ],
   "source": [
    "1 - (1-0.05)**3"
   ]
  },
  {
   "cell_type": "markdown",
   "id": "108b6ca9",
   "metadata": {},
   "source": [
    "*Using the formula P(Making at least 1 Type I error in m tests) = 1-(1-α)^m, m = 3 (Italy-USA, Italy-Netherlands, USA-Netherlands) and alpha = 0.05, the probability of making at least one Type I error is around 0.1426.*"
   ]
  },
  {
   "cell_type": "markdown",
   "id": "247ca9b4",
   "metadata": {},
   "source": [
    "#### 6. When comparing these groups, it’s better to control the FWER. Use a multiple comparison procedure with a Tukey adjustment. "
   ]
  },
  {
   "cell_type": "code",
   "execution_count": 15,
   "id": "0b6a37a4",
   "metadata": {},
   "outputs": [
    {
     "name": "stdout",
     "output_type": "stream",
     "text": [
      "Results of ANOVA test:\n",
      "\tThe F-statistic is: 73.0316861418844\n",
      "\tThe p-value is: 1.9503368513081563e-25\n"
     ]
    }
   ],
   "source": [
    "# showing the ANOVA test result again\n",
    "print(f\"Results of ANOVA test:\\n\\tThe F-statistic is: {result.statistic}\\n\\tThe p-value is: {result.pvalue}\")"
   ]
  },
  {
   "cell_type": "code",
   "execution_count": 16,
   "id": "06bc0de6",
   "metadata": {},
   "outputs": [
    {
     "name": "stdout",
     "output_type": "stream",
     "text": [
      "     Multiple Comparison of Means - Tukey HSD, FWER=0.05     \n",
      "=============================================================\n",
      "   group1      group2   meandiff p-adj  lower   upper  reject\n",
      "-------------------------------------------------------------\n",
      "      Italy Netherlands  19.2839 0.001 14.8583 23.7095   True\n",
      "      Italy         USA  20.0048 0.001 15.6954 24.3141   True\n",
      "Netherlands         USA   0.7208   0.9 -3.4342  4.8759  False\n",
      "-------------------------------------------------------------\n"
     ]
    }
   ],
   "source": [
    "# run Tukey multiple comparison procedure to show which pair(s) of groups are significantly different\n",
    "from statsmodels.stats.multicomp import pairwise_tukeyhsd\n",
    "tukey_comp = pairwise_tukeyhsd(endog = males[\"Weight\"], groups = males[\"Country\"], alpha=0.05)\n",
    "print(tukey_comp)"
   ]
  },
  {
   "cell_type": "markdown",
   "id": "e531a63a",
   "metadata": {},
   "source": [
    "*Matching previous two-sample t-tests, Dutch males and American males do not have a significant difference in weight. Italian and Dutch, as well as Italian and American males have significant difference in weight.*"
   ]
  },
  {
   "cell_type": "markdown",
   "id": "c492a062",
   "metadata": {},
   "source": [
    "## Section 2: Group Comparisons with Categorical Data"
   ]
  },
  {
   "cell_type": "code",
   "execution_count": 17,
   "id": "1c645286",
   "metadata": {},
   "outputs": [
    {
     "data": {
      "text/html": [
       "<div>\n",
       "<style scoped>\n",
       "    .dataframe tbody tr th:only-of-type {\n",
       "        vertical-align: middle;\n",
       "    }\n",
       "\n",
       "    .dataframe tbody tr th {\n",
       "        vertical-align: top;\n",
       "    }\n",
       "\n",
       "    .dataframe thead th {\n",
       "        text-align: right;\n",
       "    }\n",
       "</style>\n",
       "<table border=\"1\" class=\"dataframe\">\n",
       "  <thead>\n",
       "    <tr style=\"text-align: right;\">\n",
       "      <th></th>\n",
       "      <th>Height</th>\n",
       "      <th>Weight</th>\n",
       "      <th>Country</th>\n",
       "      <th>BMI</th>\n",
       "    </tr>\n",
       "  </thead>\n",
       "  <tbody>\n",
       "    <tr>\n",
       "      <th>0</th>\n",
       "      <td>64.0</td>\n",
       "      <td>144.0</td>\n",
       "      <td>Italy</td>\n",
       "      <td>24.714844</td>\n",
       "    </tr>\n",
       "    <tr>\n",
       "      <th>1</th>\n",
       "      <td>68.0</td>\n",
       "      <td>150.0</td>\n",
       "      <td>Italy</td>\n",
       "      <td>22.804931</td>\n",
       "    </tr>\n",
       "    <tr>\n",
       "      <th>2</th>\n",
       "      <td>66.0</td>\n",
       "      <td>147.0</td>\n",
       "      <td>Italy</td>\n",
       "      <td>23.723829</td>\n",
       "    </tr>\n",
       "    <tr>\n",
       "      <th>3</th>\n",
       "      <td>71.0</td>\n",
       "      <td>170.0</td>\n",
       "      <td>Italy</td>\n",
       "      <td>23.707598</td>\n",
       "    </tr>\n",
       "    <tr>\n",
       "      <th>4</th>\n",
       "      <td>65.0</td>\n",
       "      <td>163.0</td>\n",
       "      <td>Italy</td>\n",
       "      <td>27.121657</td>\n",
       "    </tr>\n",
       "  </tbody>\n",
       "</table>\n",
       "</div>"
      ],
      "text/plain": [
       "   Height  Weight Country        BMI\n",
       "0    64.0   144.0   Italy  24.714844\n",
       "1    68.0   150.0   Italy  22.804931\n",
       "2    66.0   147.0   Italy  23.723829\n",
       "3    71.0   170.0   Italy  23.707598\n",
       "4    65.0   163.0   Italy  27.121657"
      ]
     },
     "execution_count": 17,
     "metadata": {},
     "output_type": "execute_result"
    }
   ],
   "source": [
    "# 1. Create a new BMI column\n",
    "males2 = males.copy()\n",
    "males2[\"BMI\"] = (males2[\"Weight\"] * 703)  / (males2[\"Height\"]**2)\n",
    "males2.head()"
   ]
  },
  {
   "cell_type": "code",
   "execution_count": 18,
   "id": "012501d6",
   "metadata": {},
   "outputs": [
    {
     "data": {
      "text/html": [
       "<div>\n",
       "<style scoped>\n",
       "    .dataframe tbody tr th:only-of-type {\n",
       "        vertical-align: middle;\n",
       "    }\n",
       "\n",
       "    .dataframe tbody tr th {\n",
       "        vertical-align: top;\n",
       "    }\n",
       "\n",
       "    .dataframe thead th {\n",
       "        text-align: right;\n",
       "    }\n",
       "</style>\n",
       "<table border=\"1\" class=\"dataframe\">\n",
       "  <thead>\n",
       "    <tr style=\"text-align: right;\">\n",
       "      <th></th>\n",
       "      <th>Height</th>\n",
       "      <th>Weight</th>\n",
       "      <th>Country</th>\n",
       "      <th>BMI</th>\n",
       "      <th>Overweight</th>\n",
       "    </tr>\n",
       "  </thead>\n",
       "  <tbody>\n",
       "    <tr>\n",
       "      <th>0</th>\n",
       "      <td>64.0</td>\n",
       "      <td>144.0</td>\n",
       "      <td>Italy</td>\n",
       "      <td>24.714844</td>\n",
       "      <td>0</td>\n",
       "    </tr>\n",
       "    <tr>\n",
       "      <th>1</th>\n",
       "      <td>68.0</td>\n",
       "      <td>150.0</td>\n",
       "      <td>Italy</td>\n",
       "      <td>22.804931</td>\n",
       "      <td>0</td>\n",
       "    </tr>\n",
       "    <tr>\n",
       "      <th>2</th>\n",
       "      <td>66.0</td>\n",
       "      <td>147.0</td>\n",
       "      <td>Italy</td>\n",
       "      <td>23.723829</td>\n",
       "      <td>0</td>\n",
       "    </tr>\n",
       "    <tr>\n",
       "      <th>3</th>\n",
       "      <td>71.0</td>\n",
       "      <td>170.0</td>\n",
       "      <td>Italy</td>\n",
       "      <td>23.707598</td>\n",
       "      <td>0</td>\n",
       "    </tr>\n",
       "    <tr>\n",
       "      <th>4</th>\n",
       "      <td>65.0</td>\n",
       "      <td>163.0</td>\n",
       "      <td>Italy</td>\n",
       "      <td>27.121657</td>\n",
       "      <td>1</td>\n",
       "    </tr>\n",
       "  </tbody>\n",
       "</table>\n",
       "</div>"
      ],
      "text/plain": [
       "   Height  Weight Country        BMI  Overweight\n",
       "0    64.0   144.0   Italy  24.714844           0\n",
       "1    68.0   150.0   Italy  22.804931           0\n",
       "2    66.0   147.0   Italy  23.723829           0\n",
       "3    71.0   170.0   Italy  23.707598           0\n",
       "4    65.0   163.0   Italy  27.121657           1"
      ]
     },
     "execution_count": 18,
     "metadata": {},
     "output_type": "execute_result"
    }
   ],
   "source": [
    "# 2. Create another new column ‘Overweight’ that is a 1 if BMI >= 25 and 0 otherwise.\n",
    "# males2[\"Overweight\"] = males.apply(lambda x: 1 if x[\"BMI\"] >= 25 else 0, axis = 1)\n",
    "males2[\"Overweight\"] = np.where(males2[\"BMI\"] >= 25, 1, 0)\n",
    "males2.head()"
   ]
  },
  {
   "cell_type": "code",
   "execution_count": 19,
   "id": "4011c7df",
   "metadata": {},
   "outputs": [
    {
     "data": {
      "text/html": [
       "<div>\n",
       "<style scoped>\n",
       "    .dataframe tbody tr th:only-of-type {\n",
       "        vertical-align: middle;\n",
       "    }\n",
       "\n",
       "    .dataframe tbody tr th {\n",
       "        vertical-align: top;\n",
       "    }\n",
       "\n",
       "    .dataframe thead th {\n",
       "        text-align: right;\n",
       "    }\n",
       "</style>\n",
       "<table border=\"1\" class=\"dataframe\">\n",
       "  <thead>\n",
       "    <tr style=\"text-align: right;\">\n",
       "      <th>Overweight</th>\n",
       "      <th>0</th>\n",
       "      <th>1</th>\n",
       "    </tr>\n",
       "    <tr>\n",
       "      <th>Country</th>\n",
       "      <th></th>\n",
       "      <th></th>\n",
       "    </tr>\n",
       "  </thead>\n",
       "  <tbody>\n",
       "    <tr>\n",
       "      <th>Italy</th>\n",
       "      <td>54</td>\n",
       "      <td>16</td>\n",
       "    </tr>\n",
       "    <tr>\n",
       "      <th>Netherlands</th>\n",
       "      <td>48</td>\n",
       "      <td>32</td>\n",
       "    </tr>\n",
       "    <tr>\n",
       "      <th>USA</th>\n",
       "      <td>38</td>\n",
       "      <td>52</td>\n",
       "    </tr>\n",
       "  </tbody>\n",
       "</table>\n",
       "</div>"
      ],
      "text/plain": [
       "Overweight    0   1\n",
       "Country            \n",
       "Italy        54  16\n",
       "Netherlands  48  32\n",
       "USA          38  52"
      ]
     },
     "execution_count": 19,
     "metadata": {},
     "output_type": "execute_result"
    }
   ],
   "source": [
    "# 3. Create a contingency table and examine it. Describe any differences you see between nationalities.\n",
    "ct = pd.crosstab(males2[\"Country\"], males2[\"Overweight\"], margins = False)\n",
    "ct"
   ]
  },
  {
   "cell_type": "markdown",
   "id": "9d780cd3",
   "metadata": {},
   "source": [
    "*It looks like USA are more leaning towards the overweight side, Italy is generally less overweighted, and Netherlands has even distribution in overweight and not overweight.*"
   ]
  },
  {
   "cell_type": "code",
   "execution_count": 20,
   "id": "ea9a3ee5",
   "metadata": {},
   "outputs": [],
   "source": [
    "# 4. Conduct a test to see if the differences are significant. Explain your findings.\n",
    "from scipy.stats import chi2_contingency\n",
    "stat, p, dof, expected = chi2_contingency(ct)"
   ]
  },
  {
   "cell_type": "code",
   "execution_count": 21,
   "id": "82991b8f",
   "metadata": {},
   "outputs": [
    {
     "name": "stdout",
     "output_type": "stream",
     "text": [
      "p value is 4.7913059538762396e-05\n",
      "Dependent (reject H0)\n"
     ]
    }
   ],
   "source": [
    "alpha = 0.05\n",
    "print(\"p value is \" + str(p))\n",
    "if p <= alpha:\n",
    "    print('Dependent (reject H0)')\n",
    "else:\n",
    "    print('Independent (H0 holds true)')"
   ]
  },
  {
   "cell_type": "markdown",
   "id": "b5ee9085",
   "metadata": {},
   "source": [
    "*The p-value is much smaller than 0.05, meaning that we reject the null hypothesis that overweight and nationality is independent of each other. Rather, overweight and nationality is highly related to each other.*"
   ]
  },
  {
   "cell_type": "markdown",
   "id": "adec6f53",
   "metadata": {},
   "source": [
    "## Section 3: Regression"
   ]
  },
  {
   "cell_type": "markdown",
   "id": "af01af76",
   "metadata": {},
   "source": [
    "#### 1. Build a linear regression of to see whether height predicts weight. Explain the results."
   ]
  },
  {
   "cell_type": "code",
   "execution_count": 22,
   "id": "52b79f40",
   "metadata": {},
   "outputs": [
    {
     "data": {
      "text/html": [
       "<table class=\"simpletable\">\n",
       "<caption>OLS Regression Results</caption>\n",
       "<tr>\n",
       "  <th>Dep. Variable:</th>         <td>Weight</td>      <th>  R-squared:         </th> <td>   0.364</td>\n",
       "</tr>\n",
       "<tr>\n",
       "  <th>Model:</th>                   <td>OLS</td>       <th>  Adj. R-squared:    </th> <td>   0.361</td>\n",
       "</tr>\n",
       "<tr>\n",
       "  <th>Method:</th>             <td>Least Squares</td>  <th>  F-statistic:       </th> <td>   135.9</td>\n",
       "</tr>\n",
       "<tr>\n",
       "  <th>Date:</th>             <td>Thu, 22 Sep 2022</td> <th>  Prob (F-statistic):</th> <td>3.82e-25</td>\n",
       "</tr>\n",
       "<tr>\n",
       "  <th>Time:</th>                 <td>01:20:38</td>     <th>  Log-Likelihood:    </th> <td> -927.86</td>\n",
       "</tr>\n",
       "<tr>\n",
       "  <th>No. Observations:</th>      <td>   240</td>      <th>  AIC:               </th> <td>   1860.</td>\n",
       "</tr>\n",
       "<tr>\n",
       "  <th>Df Residuals:</th>          <td>   238</td>      <th>  BIC:               </th> <td>   1867.</td>\n",
       "</tr>\n",
       "<tr>\n",
       "  <th>Df Model:</th>              <td>     1</td>      <th>                     </th>     <td> </td>   \n",
       "</tr>\n",
       "<tr>\n",
       "  <th>Covariance Type:</th>      <td>nonrobust</td>    <th>                     </th>     <td> </td>   \n",
       "</tr>\n",
       "</table>\n",
       "<table class=\"simpletable\">\n",
       "<tr>\n",
       "     <td></td>       <th>coef</th>     <th>std err</th>      <th>t</th>      <th>P>|t|</th>  <th>[0.025</th>    <th>0.975]</th>  \n",
       "</tr>\n",
       "<tr>\n",
       "  <th>const</th>  <td>  -28.2547</td> <td>   17.138</td> <td>   -1.649</td> <td> 0.101</td> <td>  -62.016</td> <td>    5.507</td>\n",
       "</tr>\n",
       "<tr>\n",
       "  <th>Height</th> <td>    2.8537</td> <td>    0.245</td> <td>   11.659</td> <td> 0.000</td> <td>    2.371</td> <td>    3.336</td>\n",
       "</tr>\n",
       "</table>\n",
       "<table class=\"simpletable\">\n",
       "<tr>\n",
       "  <th>Omnibus:</th>       <td> 9.561</td> <th>  Durbin-Watson:     </th> <td>   1.524</td>\n",
       "</tr>\n",
       "<tr>\n",
       "  <th>Prob(Omnibus):</th> <td> 0.008</td> <th>  Jarque-Bera (JB):  </th> <td>   4.822</td>\n",
       "</tr>\n",
       "<tr>\n",
       "  <th>Skew:</th>          <td> 0.094</td> <th>  Prob(JB):          </th> <td>  0.0897</td>\n",
       "</tr>\n",
       "<tr>\n",
       "  <th>Kurtosis:</th>      <td> 2.332</td> <th>  Cond. No.          </th> <td>1.60e+03</td>\n",
       "</tr>\n",
       "</table><br/><br/>Notes:<br/>[1] Standard Errors assume that the covariance matrix of the errors is correctly specified.<br/>[2] The condition number is large, 1.6e+03. This might indicate that there are<br/>strong multicollinearity or other numerical problems."
      ],
      "text/plain": [
       "<class 'statsmodels.iolib.summary.Summary'>\n",
       "\"\"\"\n",
       "                            OLS Regression Results                            \n",
       "==============================================================================\n",
       "Dep. Variable:                 Weight   R-squared:                       0.364\n",
       "Model:                            OLS   Adj. R-squared:                  0.361\n",
       "Method:                 Least Squares   F-statistic:                     135.9\n",
       "Date:                Thu, 22 Sep 2022   Prob (F-statistic):           3.82e-25\n",
       "Time:                        01:20:38   Log-Likelihood:                -927.86\n",
       "No. Observations:                 240   AIC:                             1860.\n",
       "Df Residuals:                     238   BIC:                             1867.\n",
       "Df Model:                           1                                         \n",
       "Covariance Type:            nonrobust                                         \n",
       "==============================================================================\n",
       "                 coef    std err          t      P>|t|      [0.025      0.975]\n",
       "------------------------------------------------------------------------------\n",
       "const        -28.2547     17.138     -1.649      0.101     -62.016       5.507\n",
       "Height         2.8537      0.245     11.659      0.000       2.371       3.336\n",
       "==============================================================================\n",
       "Omnibus:                        9.561   Durbin-Watson:                   1.524\n",
       "Prob(Omnibus):                  0.008   Jarque-Bera (JB):                4.822\n",
       "Skew:                           0.094   Prob(JB):                       0.0897\n",
       "Kurtosis:                       2.332   Cond. No.                     1.60e+03\n",
       "==============================================================================\n",
       "\n",
       "Notes:\n",
       "[1] Standard Errors assume that the covariance matrix of the errors is correctly specified.\n",
       "[2] The condition number is large, 1.6e+03. This might indicate that there are\n",
       "strong multicollinearity or other numerical problems.\n",
       "\"\"\""
      ]
     },
     "execution_count": 22,
     "metadata": {},
     "output_type": "execute_result"
    }
   ],
   "source": [
    "# 1. Build a linear regression of to see whether height predicts weight.\n",
    "# method 1: statsmodel\n",
    "import statsmodels.api as sm\n",
    "\n",
    "x = males[\"Height\"]\n",
    "y = males[\"Weight\"]\n",
    "x = sm.add_constant(x) # add a constant column of \"1\" to perform matrix multiplication\n",
    "lm = sm.OLS(y, x).fit()\n",
    "# lm.predict(x)\n",
    "lm.summary()"
   ]
  },
  {
   "cell_type": "code",
   "execution_count": 23,
   "id": "e14b539d",
   "metadata": {},
   "outputs": [
    {
     "data": {
      "text/plain": [
       "<AxesSubplot:xlabel='Height', ylabel='Weight'>"
      ]
     },
     "execution_count": 23,
     "metadata": {},
     "output_type": "execute_result"
    },
    {
     "data": {
      "image/png": "[encoded data removed]",
      "text/plain": [
       "<Figure size 432x288 with 1 Axes>"
      ]
     },
     "metadata": {
      "needs_background": "light"
     },
     "output_type": "display_data"
    }
   ],
   "source": [
    "y_pred = 2.8537 * x[\"Height\"] -28.2547\n",
    "sns.scatterplot(x = x[\"Height\"], y = males[\"Weight\"])\n",
    "sns.lineplot(x = x[\"Height\"], y = y_pred, color = \"red\")"
   ]
  },
  {
   "cell_type": "code",
   "execution_count": 24,
   "id": "8683d6d7",
   "metadata": {},
   "outputs": [
    {
     "name": "stdout",
     "output_type": "stream",
     "text": [
      "R-squared: 0.3635026287541787 \n",
      "Weight = 2.8536531102607468 * Height -28.254701729405923\n"
     ]
    }
   ],
   "source": [
    "# method2: sklearn\n",
    "from sklearn import linear_model\n",
    "\n",
    "x2 = np.reshape(np.array(males[\"Height\"]), (len(males[\"Height\"]), 1))\n",
    "lm2 = linear_model.LinearRegression()\n",
    "lm2.fit(x2, y)\n",
    "# lm2.predict(x2)\n",
    "\n",
    "print(\"R-squared:\", lm2.score(x2, y), \"\\nWeight =\",  float(lm2.coef_), \"* Height\",  lm2.intercept_ )"
   ]
  },
  {
   "cell_type": "markdown",
   "id": "4fd26900",
   "metadata": {},
   "source": [
    "*The regression results in a coefficient of slope 2.85 with a p-value much smaller than 0.05, and a constant is -28.25. With the small p-value, it means that height is a strong predictor of weight, and for each unit increase in height, weight will increase by 2.85 units.*  \n",
    "*The proportion of variance in weight accounted for by height in the dataset is around 0.364. It means that around 36% of the variability observed in the weight is explained by the proposed regression model.*"
   ]
  },
  {
   "cell_type": "markdown",
   "id": "dd9735bb",
   "metadata": {},
   "source": [
    "#### 2. Fit the same regression model using linear algebra. Compare your resultant β's to the ones you obtained earlier."
   ]
  },
  {
   "cell_type": "code",
   "execution_count": 25,
   "id": "f8b0f09c",
   "metadata": {},
   "outputs": [
    {
     "data": {
      "text/plain": [
       "array([-28.25470173,   2.85365311])"
      ]
     },
     "execution_count": 25,
     "metadata": {},
     "output_type": "execute_result"
    }
   ],
   "source": [
    "# Convert the problem to solving vector 𝛽 which equals to (𝑋𝑇𝑋)^ (−1) 𝑋𝑇𝑌\n",
    "X = males[\"Height\"]\n",
    "Y = males[\"Weight\"]\n",
    "\n",
    "X = np.vstack((np.array([1]*len(X)), X)).T # add a column of 1s\n",
    "XT = np.transpose(X)\n",
    "XTX = np.matmul(XT, X)\n",
    "XTX_inv = np.linalg.inv(XTX)\n",
    "\n",
    "XTY = np.matmul(XT, Y)\n",
    "\n",
    "B = np.matmul(XTX_inv, XTY)\n",
    "B"
   ]
  },
  {
   "cell_type": "markdown",
   "id": "8cc310ca",
   "metadata": {},
   "source": [
    "*β0 = -28.25, corresponding to the constant / intercept of linear regression. β1 = 2.85, corresponding to the slope or the coefficient in previous regression result.*"
   ]
  }
 ],
 "metadata": {
  "kernelspec": {
   "display_name": "Python 3",
   "language": "python",
   "name": "python3"
  },
  "language_info": {
   "codemirror_mode": {
    "name": "ipython",
    "version": 3
   },
   "file_extension": ".py",
   "mimetype": "text/x-python",
   "name": "python",
   "nbconvert_exporter": "python",
   "pygments_lexer": "ipython3",
   "version": "3.8.8"
  }
 },
 "nbformat": 4,
 "nbformat_minor": 5
}
