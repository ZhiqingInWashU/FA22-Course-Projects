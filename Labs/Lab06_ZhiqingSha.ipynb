{
 "cells": [
  {
   "cell_type": "markdown",
   "id": "a33cfb30",
   "metadata": {},
   "source": [
    "**Collaborated with students Sophie Guo, Fanxi Chen, and Yixin Zhao**"
   ]
  },
  {
   "cell_type": "markdown",
   "id": "eaa33dd6",
   "metadata": {},
   "source": [
    "### Load Data"
   ]
  },
  {
   "cell_type": "code",
   "execution_count": 1,
   "id": "41083438",
   "metadata": {},
   "outputs": [
    {
     "data": {
      "text/html": [
       "<div>\n",
       "<style scoped>\n",
       "    .dataframe tbody tr th:only-of-type {\n",
       "        vertical-align: middle;\n",
       "    }\n",
       "\n",
       "    .dataframe tbody tr th {\n",
       "        vertical-align: top;\n",
       "    }\n",
       "\n",
       "    .dataframe thead th {\n",
       "        text-align: right;\n",
       "    }\n",
       "</style>\n",
       "<table border=\"1\" class=\"dataframe\">\n",
       "  <thead>\n",
       "    <tr style=\"text-align: right;\">\n",
       "      <th></th>\n",
       "      <th>Name</th>\n",
       "      <th>Location</th>\n",
       "      <th>Year</th>\n",
       "      <th>Kilometers_Driven</th>\n",
       "      <th>Fuel_Type</th>\n",
       "      <th>Transmission</th>\n",
       "      <th>Owner_Type</th>\n",
       "      <th>Mileage</th>\n",
       "      <th>Engine</th>\n",
       "      <th>Power</th>\n",
       "      <th>Seats</th>\n",
       "      <th>New_Price</th>\n",
       "      <th>Price</th>\n",
       "    </tr>\n",
       "  </thead>\n",
       "  <tbody>\n",
       "    <tr>\n",
       "      <th>0</th>\n",
       "      <td>Maruti Wagon R LXI CNG</td>\n",
       "      <td>Mumbai</td>\n",
       "      <td>2010</td>\n",
       "      <td>72000</td>\n",
       "      <td>CNG</td>\n",
       "      <td>Manual</td>\n",
       "      <td>First</td>\n",
       "      <td>26.6 km/kg</td>\n",
       "      <td>998 CC</td>\n",
       "      <td>58.16 bhp</td>\n",
       "      <td>5.0</td>\n",
       "      <td>NaN</td>\n",
       "      <td>1.75</td>\n",
       "    </tr>\n",
       "    <tr>\n",
       "      <th>1</th>\n",
       "      <td>Hyundai Creta 1.6 CRDi SX Option</td>\n",
       "      <td>Pune</td>\n",
       "      <td>2015</td>\n",
       "      <td>41000</td>\n",
       "      <td>Diesel</td>\n",
       "      <td>Manual</td>\n",
       "      <td>First</td>\n",
       "      <td>19.67 kmpl</td>\n",
       "      <td>1582 CC</td>\n",
       "      <td>126.2 bhp</td>\n",
       "      <td>5.0</td>\n",
       "      <td>NaN</td>\n",
       "      <td>12.50</td>\n",
       "    </tr>\n",
       "    <tr>\n",
       "      <th>2</th>\n",
       "      <td>Honda Jazz V</td>\n",
       "      <td>Chennai</td>\n",
       "      <td>2011</td>\n",
       "      <td>46000</td>\n",
       "      <td>Petrol</td>\n",
       "      <td>Manual</td>\n",
       "      <td>First</td>\n",
       "      <td>18.2 kmpl</td>\n",
       "      <td>1199 CC</td>\n",
       "      <td>88.7 bhp</td>\n",
       "      <td>5.0</td>\n",
       "      <td>8.61 Lakh</td>\n",
       "      <td>4.50</td>\n",
       "    </tr>\n",
       "    <tr>\n",
       "      <th>3</th>\n",
       "      <td>Maruti Ertiga VDI</td>\n",
       "      <td>Chennai</td>\n",
       "      <td>2012</td>\n",
       "      <td>87000</td>\n",
       "      <td>Diesel</td>\n",
       "      <td>Manual</td>\n",
       "      <td>First</td>\n",
       "      <td>20.77 kmpl</td>\n",
       "      <td>1248 CC</td>\n",
       "      <td>88.76 bhp</td>\n",
       "      <td>7.0</td>\n",
       "      <td>NaN</td>\n",
       "      <td>6.00</td>\n",
       "    </tr>\n",
       "    <tr>\n",
       "      <th>4</th>\n",
       "      <td>Audi A4 New 2.0 TDI Multitronic</td>\n",
       "      <td>Coimbatore</td>\n",
       "      <td>2013</td>\n",
       "      <td>40670</td>\n",
       "      <td>Diesel</td>\n",
       "      <td>Automatic</td>\n",
       "      <td>Second</td>\n",
       "      <td>15.2 kmpl</td>\n",
       "      <td>1968 CC</td>\n",
       "      <td>140.8 bhp</td>\n",
       "      <td>5.0</td>\n",
       "      <td>NaN</td>\n",
       "      <td>17.74</td>\n",
       "    </tr>\n",
       "  </tbody>\n",
       "</table>\n",
       "</div>"
      ],
      "text/plain": [
       "                               Name    Location  Year  Kilometers_Driven  \\\n",
       "0            Maruti Wagon R LXI CNG      Mumbai  2010              72000   \n",
       "1  Hyundai Creta 1.6 CRDi SX Option        Pune  2015              41000   \n",
       "2                      Honda Jazz V     Chennai  2011              46000   \n",
       "3                 Maruti Ertiga VDI     Chennai  2012              87000   \n",
       "4   Audi A4 New 2.0 TDI Multitronic  Coimbatore  2013              40670   \n",
       "\n",
       "  Fuel_Type Transmission Owner_Type     Mileage   Engine      Power  Seats  \\\n",
       "0       CNG       Manual      First  26.6 km/kg   998 CC  58.16 bhp    5.0   \n",
       "1    Diesel       Manual      First  19.67 kmpl  1582 CC  126.2 bhp    5.0   \n",
       "2    Petrol       Manual      First   18.2 kmpl  1199 CC   88.7 bhp    5.0   \n",
       "3    Diesel       Manual      First  20.77 kmpl  1248 CC  88.76 bhp    7.0   \n",
       "4    Diesel    Automatic     Second   15.2 kmpl  1968 CC  140.8 bhp    5.0   \n",
       "\n",
       "   New_Price  Price  \n",
       "0        NaN   1.75  \n",
       "1        NaN  12.50  \n",
       "2  8.61 Lakh   4.50  \n",
       "3        NaN   6.00  \n",
       "4        NaN  17.74  "
      ]
     },
     "execution_count": 1,
     "metadata": {},
     "output_type": "execute_result"
    }
   ],
   "source": [
    "import pandas as pd\n",
    "import numpy as np\n",
    "import matplotlib.pyplot as plt\n",
    "import seaborn as sns\n",
    "\n",
    "cars = pd.read_csv(\"../W7/train.csv\")\n",
    "cars.head()"
   ]
  },
  {
   "cell_type": "markdown",
   "id": "759dfa04",
   "metadata": {},
   "source": [
    "### 1. Visualize the distribution of price"
   ]
  },
  {
   "cell_type": "code",
   "execution_count": 2,
   "id": "108c328b",
   "metadata": {},
   "outputs": [
    {
     "data": {
      "image/png": "[encoded data removed]",
      "text/plain": [
       "<Figure size 432x288 with 1 Axes>"
      ]
     },
     "metadata": {
      "needs_background": "light"
     },
     "output_type": "display_data"
    }
   ],
   "source": [
    "sns.histplot(cars[\"Price\"], color = \"skyblue\", label = \"Price\", kde = True)\n",
    "plt.show()"
   ]
  },
  {
   "cell_type": "markdown",
   "id": "deb7ae96",
   "metadata": {},
   "source": [
    "*Price is not normally distributed - it is missing the left half of the \"bell\". The rule-of-thumb transformation for data of this shape would be log.*"
   ]
  },
  {
   "cell_type": "markdown",
   "id": "2c713616",
   "metadata": {},
   "source": [
    "### 2. Transform Price so that it looks more normal"
   ]
  },
  {
   "cell_type": "code",
   "execution_count": 3,
   "id": "e6e4077f",
   "metadata": {},
   "outputs": [
    {
     "data": {
      "text/plain": [
       "<AxesSubplot:xlabel='LogPrice', ylabel='Count'>"
      ]
     },
     "execution_count": 3,
     "metadata": {},
     "output_type": "execute_result"
    },
    {
     "data": {
      "image/png": "[encoded data removed]",
      "text/plain": [
       "<Figure size 432x288 with 1 Axes>"
      ]
     },
     "metadata": {
      "needs_background": "light"
     },
     "output_type": "display_data"
    }
   ],
   "source": [
    "cars[\"LogPrice\"] = np.log(cars[\"Price\"])\n",
    "sns.histplot(x = cars[\"LogPrice\"], color = \"skyblue\", label = \"Price\", kde = True)"
   ]
  },
  {
   "cell_type": "markdown",
   "id": "3b536d52",
   "metadata": {},
   "source": [
    "*With log-transformation, the new price looks roughly normal.*"
   ]
  },
  {
   "cell_type": "markdown",
   "id": "17f281cb",
   "metadata": {},
   "source": [
    "### 3. Build a model of transformed price based on the other 4 variables, how much variance is explained?"
   ]
  },
  {
   "cell_type": "code",
   "execution_count": 4,
   "id": "965dcaee",
   "metadata": {},
   "outputs": [],
   "source": [
    "# transform dataset\n",
    "\n",
    "# delete units in column\n",
    "cars[\"Power\"] = cars[\"Power\"].str.rstrip(\" bhp\")\n",
    "cars[\"Engine\"] = cars[\"Engine\"].str.rstrip(\" CC\")\n",
    "# replace \"null\" with NaN\n",
    "cars[\"Power\"] = cars[\"Power\"].replace(regex=\"null\", value = np.nan)\n",
    "# fix data types (from string to float)\n",
    "cars[\"Power\"] = cars[\"Power\"].astype(\"float\")\n",
    "cars[\"Engine\"] = cars[\"Engine\"].astype(\"float\")"
   ]
  },
  {
   "cell_type": "code",
   "execution_count": 5,
   "id": "219df360",
   "metadata": {},
   "outputs": [
    {
     "data": {
      "text/html": [
       "<div>\n",
       "<style scoped>\n",
       "    .dataframe tbody tr th:only-of-type {\n",
       "        vertical-align: middle;\n",
       "    }\n",
       "\n",
       "    .dataframe tbody tr th {\n",
       "        vertical-align: top;\n",
       "    }\n",
       "\n",
       "    .dataframe thead th {\n",
       "        text-align: right;\n",
       "    }\n",
       "</style>\n",
       "<table border=\"1\" class=\"dataframe\">\n",
       "  <thead>\n",
       "    <tr style=\"text-align: right;\">\n",
       "      <th></th>\n",
       "      <th>Power</th>\n",
       "      <th>Engine</th>\n",
       "      <th>Kilometers_Driven</th>\n",
       "      <th>Year</th>\n",
       "      <th>Price</th>\n",
       "      <th>LogPrice</th>\n",
       "    </tr>\n",
       "  </thead>\n",
       "  <tbody>\n",
       "    <tr>\n",
       "      <th>0</th>\n",
       "      <td>58.16</td>\n",
       "      <td>998.0</td>\n",
       "      <td>72000</td>\n",
       "      <td>2010</td>\n",
       "      <td>1.75</td>\n",
       "      <td>0.559616</td>\n",
       "    </tr>\n",
       "    <tr>\n",
       "      <th>1</th>\n",
       "      <td>126.20</td>\n",
       "      <td>1582.0</td>\n",
       "      <td>41000</td>\n",
       "      <td>2015</td>\n",
       "      <td>12.50</td>\n",
       "      <td>2.525729</td>\n",
       "    </tr>\n",
       "    <tr>\n",
       "      <th>2</th>\n",
       "      <td>88.70</td>\n",
       "      <td>1199.0</td>\n",
       "      <td>46000</td>\n",
       "      <td>2011</td>\n",
       "      <td>4.50</td>\n",
       "      <td>1.504077</td>\n",
       "    </tr>\n",
       "    <tr>\n",
       "      <th>3</th>\n",
       "      <td>88.76</td>\n",
       "      <td>1248.0</td>\n",
       "      <td>87000</td>\n",
       "      <td>2012</td>\n",
       "      <td>6.00</td>\n",
       "      <td>1.791759</td>\n",
       "    </tr>\n",
       "    <tr>\n",
       "      <th>4</th>\n",
       "      <td>140.80</td>\n",
       "      <td>1968.0</td>\n",
       "      <td>40670</td>\n",
       "      <td>2013</td>\n",
       "      <td>17.74</td>\n",
       "      <td>2.875822</td>\n",
       "    </tr>\n",
       "  </tbody>\n",
       "</table>\n",
       "</div>"
      ],
      "text/plain": [
       "    Power  Engine  Kilometers_Driven  Year  Price  LogPrice\n",
       "0   58.16   998.0              72000  2010   1.75  0.559616\n",
       "1  126.20  1582.0              41000  2015  12.50  2.525729\n",
       "2   88.70  1199.0              46000  2011   4.50  1.504077\n",
       "3   88.76  1248.0              87000  2012   6.00  1.791759\n",
       "4  140.80  1968.0              40670  2013  17.74  2.875822"
      ]
     },
     "execution_count": 5,
     "metadata": {},
     "output_type": "execute_result"
    }
   ],
   "source": [
    "# select needed columns and drop NA\n",
    "car = cars.loc[:, [\"Power\", \"Engine\", \"Kilometers_Driven\", \"Year\", \"Price\", \"LogPrice\"]]\n",
    "car.dropna(inplace = True)\n",
    "car.reset_index(inplace=True, drop=True)  # reset index to make continuous index (index missing from NaN removal)\n",
    "car.head()"
   ]
  },
  {
   "cell_type": "code",
   "execution_count": 6,
   "id": "6957fea8",
   "metadata": {},
   "outputs": [
    {
     "name": "stdout",
     "output_type": "stream",
     "text": [
      "                            OLS Regression Results                            \n",
      "==============================================================================\n",
      "Dep. Variable:               LogPrice   R-squared:                       0.832\n",
      "Model:                            OLS   Adj. R-squared:                  0.832\n",
      "Method:                 Least Squares   F-statistic:                     7279.\n",
      "Date:                Wed, 12 Oct 2022   Prob (F-statistic):               0.00\n",
      "Time:                        22:52:49   Log-Likelihood:                -2234.0\n",
      "No. Observations:                5876   AIC:                             4478.\n",
      "Df Residuals:                    5871   BIC:                             4511.\n",
      "Df Model:                           4                                         \n",
      "Covariance Type:            nonrobust                                         \n",
      "=====================================================================================\n",
      "                        coef    std err          t      P>|t|      [0.025      0.975]\n",
      "-------------------------------------------------------------------------------------\n",
      "const              -271.9753      3.014    -90.236      0.000    -277.884    -266.067\n",
      "Power                 0.0088      0.000     50.399      0.000       0.008       0.009\n",
      "Engine                0.0004   1.56e-05     22.794      0.000       0.000       0.000\n",
      "Kilometers_Driven  3.426e-09   5.12e-08      0.067      0.947   -9.69e-08    1.04e-07\n",
      "Year                  0.1352      0.001     90.371      0.000       0.132       0.138\n",
      "==============================================================================\n",
      "Omnibus:                     1380.898   Durbin-Watson:                   1.990\n",
      "Prob(Omnibus):                  0.000   Jarque-Bera (JB):            16199.836\n",
      "Skew:                          -0.786   Prob(JB):                         0.00\n",
      "Kurtosis:                      10.981   Cond. No.                     7.12e+07\n",
      "==============================================================================\n",
      "\n",
      "Notes:\n",
      "[1] Standard Errors assume that the covariance matrix of the errors is correctly specified.\n",
      "[2] The condition number is large, 7.12e+07. This might indicate that there are\n",
      "strong multicollinearity or other numerical problems.\n"
     ]
    }
   ],
   "source": [
    "# build regression model\n",
    "import statsmodels.api as sm\n",
    "\n",
    "y = car[\"LogPrice\"]\n",
    "x = car[[\"Power\", \"Engine\", \"Kilometers_Driven\", \"Year\"]]\n",
    "x = sm.add_constant(x)\n",
    "\n",
    "model_4p = sm.OLS(y, x).fit()\n",
    "print(model_4p.summary())"
   ]
  },
  {
   "cell_type": "markdown",
   "id": "db754983",
   "metadata": {},
   "source": [
    "*Around 83.2% of variance in the (log) price can be explained by the model composed of Power, Engine, Kilometers Driven, and Year.*"
   ]
  },
  {
   "cell_type": "markdown",
   "id": "d5a97825",
   "metadata": {},
   "source": [
    "### 4. Compute the VIF of each variable, which 2 are potential problems?"
   ]
  },
  {
   "cell_type": "code",
   "execution_count": 7,
   "id": "266cdd82",
   "metadata": {},
   "outputs": [
    {
     "data": {
      "text/html": [
       "<div>\n",
       "<style scoped>\n",
       "    .dataframe tbody tr th:only-of-type {\n",
       "        vertical-align: middle;\n",
       "    }\n",
       "\n",
       "    .dataframe tbody tr th {\n",
       "        vertical-align: top;\n",
       "    }\n",
       "\n",
       "    .dataframe thead th {\n",
       "        text-align: right;\n",
       "    }\n",
       "</style>\n",
       "<table border=\"1\" class=\"dataframe\">\n",
       "  <thead>\n",
       "    <tr style=\"text-align: right;\">\n",
       "      <th></th>\n",
       "      <th>VIF</th>\n",
       "      <th>variable</th>\n",
       "    </tr>\n",
       "  </thead>\n",
       "  <tbody>\n",
       "    <tr>\n",
       "      <th>0</th>\n",
       "      <td>425843.625194</td>\n",
       "      <td>Intercept</td>\n",
       "    </tr>\n",
       "    <tr>\n",
       "      <th>1</th>\n",
       "      <td>4.115131</td>\n",
       "      <td>Power</td>\n",
       "    </tr>\n",
       "    <tr>\n",
       "      <th>2</th>\n",
       "      <td>4.156524</td>\n",
       "      <td>Engine</td>\n",
       "    </tr>\n",
       "    <tr>\n",
       "      <th>3</th>\n",
       "      <td>1.042054</td>\n",
       "      <td>Kilometers_Driven</td>\n",
       "    </tr>\n",
       "    <tr>\n",
       "      <th>4</th>\n",
       "      <td>1.051550</td>\n",
       "      <td>Year</td>\n",
       "    </tr>\n",
       "  </tbody>\n",
       "</table>\n",
       "</div>"
      ],
      "text/plain": [
       "             VIF           variable\n",
       "0  425843.625194          Intercept\n",
       "1       4.115131              Power\n",
       "2       4.156524             Engine\n",
       "3       1.042054  Kilometers_Driven\n",
       "4       1.051550               Year"
      ]
     },
     "execution_count": 7,
     "metadata": {},
     "output_type": "execute_result"
    }
   ],
   "source": [
    "import numpy as np\n",
    "from patsy import dmatrices\n",
    "from statsmodels.stats.outliers_influence import variance_inflation_factor\n",
    "\n",
    "outcome, predictors = dmatrices(\"LogPrice ~ Power+Engine+Kilometers_Driven+Year\", data = car, return_type = \"dataframe\")\n",
    "\n",
    "# calculate VIF for each explanatory variable\n",
    "vif_4p = pd.DataFrame()\n",
    "vif_4p[\"VIF\"] = [variance_inflation_factor(predictors.values, i) for i in range(predictors.shape[1])]\n",
    "vif_4p['variable'] = predictors.columns\n",
    "\n",
    "# view VIF for each explanatory variable \n",
    "vif_4p"
   ]
  },
  {
   "cell_type": "markdown",
   "id": "4204a999",
   "metadata": {},
   "source": [
    "*Power and Engine might have potential problems, with VIF values higher than 3.*"
   ]
  },
  {
   "cell_type": "markdown",
   "id": "85390f30",
   "metadata": {},
   "source": [
    "### 5. Use PCA to create principal components and create a scree plot"
   ]
  },
  {
   "cell_type": "code",
   "execution_count": 8,
   "id": "96144cf3",
   "metadata": {},
   "outputs": [],
   "source": [
    "# Standardization predictors\n",
    "from sklearn.preprocessing import StandardScaler\n",
    "\n",
    "x = car.loc[:, [\"Power\", \"Engine\", \"Kilometers_Driven\", \"Year\"]].values\n",
    "x = StandardScaler().fit_transform(x)"
   ]
  },
  {
   "cell_type": "code",
   "execution_count": 9,
   "id": "942db5ef",
   "metadata": {},
   "outputs": [
    {
     "data": {
      "text/plain": [
       "Text(0, 0.5, 'Cumulative % Variance Explained')"
      ]
     },
     "execution_count": 9,
     "metadata": {},
     "output_type": "execute_result"
    },
    {
     "data": {
      "image/png": "[encoded data removed]",
      "text/plain": [
       "<Figure size 432x288 with 1 Axes>"
      ]
     },
     "metadata": {
      "needs_background": "light"
     },
     "output_type": "display_data"
    }
   ],
   "source": [
    "# conduct PCA on the four predictors to find out optimal number of components to use\n",
    "from sklearn.decomposition import PCA\n",
    "pca_tune = PCA().fit(x.data)\n",
    "\n",
    "# scree plot\n",
    "plt.plot( np.cumsum(pca_tune.explained_variance_ratio_) )\n",
    "plt.xlabel(\"Number of Principle Components\")\n",
    "plt.ylabel(\"Cumulative % Variance Explained\")"
   ]
  },
  {
   "cell_type": "markdown",
   "id": "e54fb327",
   "metadata": {},
   "source": [
    "*The cumulative variance explained graph shows that after 2 components, the total variance explained does not improve much. Therefore, the optimal number of components to use would be 2.*"
   ]
  },
  {
   "cell_type": "code",
   "execution_count": 10,
   "id": "c2e278f7",
   "metadata": {},
   "outputs": [],
   "source": [
    "# conduct PCA for dimensionality reduction\n",
    "pca = PCA(n_components = 2) # dimension reduced from 4 to 2\n",
    "principalComponents = pca.fit_transform(x) # 2D-array of principle components\n",
    "principalDf = pd.DataFrame(principalComponents, columns = ['principal_component_1', 'principal_component_2'])"
   ]
  },
  {
   "cell_type": "code",
   "execution_count": 11,
   "id": "2dbf81d9",
   "metadata": {},
   "outputs": [
    {
     "data": {
      "text/html": [
       "<div>\n",
       "<style scoped>\n",
       "    .dataframe tbody tr th:only-of-type {\n",
       "        vertical-align: middle;\n",
       "    }\n",
       "\n",
       "    .dataframe tbody tr th {\n",
       "        vertical-align: top;\n",
       "    }\n",
       "\n",
       "    .dataframe thead th {\n",
       "        text-align: right;\n",
       "    }\n",
       "</style>\n",
       "<table border=\"1\" class=\"dataframe\">\n",
       "  <thead>\n",
       "    <tr style=\"text-align: right;\">\n",
       "      <th></th>\n",
       "      <th>principal_component_1</th>\n",
       "      <th>principal_component_2</th>\n",
       "      <th>LogPrice</th>\n",
       "    </tr>\n",
       "  </thead>\n",
       "  <tbody>\n",
       "    <tr>\n",
       "      <th>0</th>\n",
       "      <td>-1.359609</td>\n",
       "      <td>1.066173</td>\n",
       "      <td>0.559616</td>\n",
       "    </tr>\n",
       "    <tr>\n",
       "      <th>1</th>\n",
       "      <td>0.064058</td>\n",
       "      <td>-0.501776</td>\n",
       "      <td>2.525729</td>\n",
       "    </tr>\n",
       "    <tr>\n",
       "      <th>2</th>\n",
       "      <td>-0.781486</td>\n",
       "      <td>0.555761</td>\n",
       "      <td>1.504077</td>\n",
       "    </tr>\n",
       "    <tr>\n",
       "      <th>3</th>\n",
       "      <td>-0.693321</td>\n",
       "      <td>0.633934</td>\n",
       "      <td>1.791759</td>\n",
       "    </tr>\n",
       "    <tr>\n",
       "      <th>4</th>\n",
       "      <td>0.745730</td>\n",
       "      <td>-0.118226</td>\n",
       "      <td>2.875822</td>\n",
       "    </tr>\n",
       "  </tbody>\n",
       "</table>\n",
       "</div>"
      ],
      "text/plain": [
       "   principal_component_1  principal_component_2  LogPrice\n",
       "0              -1.359609               1.066173  0.559616\n",
       "1               0.064058              -0.501776  2.525729\n",
       "2              -0.781486               0.555761  1.504077\n",
       "3              -0.693321               0.633934  1.791759\n",
       "4               0.745730              -0.118226  2.875822"
      ]
     },
     "execution_count": 11,
     "metadata": {},
     "output_type": "execute_result"
    }
   ],
   "source": [
    "# create a new data frame with the identified principle components and outcome (log of price)\n",
    "finalDf = pd.concat([principalDf, car[\"LogPrice\"]], axis = 1)\n",
    "finalDf.head()"
   ]
  },
  {
   "cell_type": "code",
   "execution_count": 12,
   "id": "37fb120c",
   "metadata": {},
   "outputs": [
    {
     "data": {
      "text/plain": [
       "array([0.46973362, 0.29070772])"
      ]
     },
     "execution_count": 12,
     "metadata": {},
     "output_type": "execute_result"
    }
   ],
   "source": [
    "# show the variance explained by each component\n",
    "pca.explained_variance_ratio_"
   ]
  },
  {
   "cell_type": "markdown",
   "id": "d0d2115f",
   "metadata": {},
   "source": [
    "### 6. Create / select 2 components and rerun the regression with transformed price, what is the amount of variance explained?"
   ]
  },
  {
   "cell_type": "code",
   "execution_count": 13,
   "id": "abc212b9",
   "metadata": {},
   "outputs": [
    {
     "name": "stdout",
     "output_type": "stream",
     "text": [
      "                            OLS Regression Results                            \n",
      "==============================================================================\n",
      "Dep. Variable:               LogPrice   R-squared:                       0.738\n",
      "Model:                            OLS   Adj. R-squared:                  0.738\n",
      "Method:                 Least Squares   F-statistic:                     8291.\n",
      "Date:                Wed, 12 Oct 2022   Prob (F-statistic):               0.00\n",
      "Time:                        22:52:50   Log-Likelihood:                -3538.0\n",
      "No. Observations:                5876   AIC:                             7082.\n",
      "Df Residuals:                    5873   BIC:                             7102.\n",
      "Df Model:                           2                                         \n",
      "Covariance Type:            nonrobust                                         \n",
      "=========================================================================================\n",
      "                            coef    std err          t      P>|t|      [0.025      0.975]\n",
      "-----------------------------------------------------------------------------------------\n",
      "const                     1.8455      0.006    320.097      0.000       1.834       1.857\n",
      "principal_component_1     0.4528      0.004    107.648      0.000       0.445       0.461\n",
      "principal_component_2    -0.3778      0.005    -70.670      0.000      -0.388      -0.367\n",
      "==============================================================================\n",
      "Omnibus:                     7376.731   Durbin-Watson:                   2.001\n",
      "Prob(Omnibus):                  0.000   Jarque-Bera (JB):         12148256.425\n",
      "Skew:                           5.932   Prob(JB):                         0.00\n",
      "Kurtosis:                     225.436   Cond. No.                         1.37\n",
      "==============================================================================\n",
      "\n",
      "Notes:\n",
      "[1] Standard Errors assume that the covariance matrix of the errors is correctly specified.\n"
     ]
    }
   ],
   "source": [
    "# run regression again with identified principle components\n",
    "x2 = finalDf[[\"principal_component_1\", \"principal_component_2\"]]\n",
    "x2 = sm.add_constant(x2)\n",
    "\n",
    "model_2c = sm.OLS(finalDf[\"LogPrice\"], x2).fit()\n",
    "print(model_2c.summary())"
   ]
  },
  {
   "cell_type": "markdown",
   "id": "ff92b3e8",
   "metadata": {},
   "source": [
    "*Around 73.8% of variance in the (log) price can be explained by the two principle components produced by PCA. There is a decrease in R-sqaured by 9%.*"
   ]
  },
  {
   "cell_type": "markdown",
   "id": "9f8fbdd2",
   "metadata": {},
   "source": [
    "### 7. What is the VIF of the components?"
   ]
  },
  {
   "cell_type": "code",
   "execution_count": 14,
   "id": "92f5c562",
   "metadata": {},
   "outputs": [
    {
     "data": {
      "text/html": [
       "<div>\n",
       "<style scoped>\n",
       "    .dataframe tbody tr th:only-of-type {\n",
       "        vertical-align: middle;\n",
       "    }\n",
       "\n",
       "    .dataframe tbody tr th {\n",
       "        vertical-align: top;\n",
       "    }\n",
       "\n",
       "    .dataframe thead th {\n",
       "        text-align: right;\n",
       "    }\n",
       "</style>\n",
       "<table border=\"1\" class=\"dataframe\">\n",
       "  <thead>\n",
       "    <tr style=\"text-align: right;\">\n",
       "      <th></th>\n",
       "      <th>VIF</th>\n",
       "      <th>variable</th>\n",
       "    </tr>\n",
       "  </thead>\n",
       "  <tbody>\n",
       "    <tr>\n",
       "      <th>0</th>\n",
       "      <td>1.0</td>\n",
       "      <td>Intercept</td>\n",
       "    </tr>\n",
       "    <tr>\n",
       "      <th>1</th>\n",
       "      <td>1.0</td>\n",
       "      <td>principal_component_1</td>\n",
       "    </tr>\n",
       "    <tr>\n",
       "      <th>2</th>\n",
       "      <td>1.0</td>\n",
       "      <td>principal_component_2</td>\n",
       "    </tr>\n",
       "  </tbody>\n",
       "</table>\n",
       "</div>"
      ],
      "text/plain": [
       "   VIF               variable\n",
       "0  1.0              Intercept\n",
       "1  1.0  principal_component_1\n",
       "2  1.0  principal_component_2"
      ]
     },
     "execution_count": 14,
     "metadata": {},
     "output_type": "execute_result"
    }
   ],
   "source": [
    "yy, XX = dmatrices(\"LogPrice ~ principal_component_1+principal_component_2\", data = finalDf, return_type = \"dataframe\")\n",
    "\n",
    "vif_2c = pd.DataFrame()\n",
    "vif_2c[\"VIF\"] = [variance_inflation_factor(XX.values, i) for i in range(XX.shape[1])]\n",
    "vif_2c['variable'] = XX.columns\n",
    "\n",
    "vif_2c"
   ]
  },
  {
   "cell_type": "markdown",
   "id": "90f550e9",
   "metadata": {},
   "source": [
    "*The VIF of both principle components is 1. It means collinearity is no longer a concern. PCA has efficiently reduced dimensionality and fixed collinearity problem.*"
   ]
  }
 ],
 "metadata": {
  "kernelspec": {
   "display_name": "Python 3",
   "language": "python",
   "name": "python3"
  },
  "language_info": {
   "codemirror_mode": {
    "name": "ipython",
    "version": 3
   },
   "file_extension": ".py",
   "mimetype": "text/x-python",
   "name": "python",
   "nbconvert_exporter": "python",
   "pygments_lexer": "ipython3",
   "version": "3.8.8"
  }
 },
 "nbformat": 4,
 "nbformat_minor": 5
}
