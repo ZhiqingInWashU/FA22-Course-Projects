{
 "cells": [
  {
   "cell_type": "markdown",
   "id": "adcdf1f0",
   "metadata": {},
   "source": [
    "## Naïve Bayes with Categorical Data: Manual Calculation"
   ]
  },
  {
   "cell_type": "markdown",
   "id": "010bcd06",
   "metadata": {},
   "source": [
    "**1. Suppose tomorrow will be mild, rainy, and windy, with high humidity. Should we play golf tomorrow? Show how the answer was calculated.**  \n",
    "*From the likelihood tables on slides, we obtain P (Rainy|Golf) = 3/9, P (Mild | Golf) = 4/9, P (High | Golf) = 3/9, and P (True | Golf) = 3/9 and so on, where True is used to represent windy.*  \n",
    "- *__P (Golf | Rainy,Mild,High,True)__ ∝ P (Rainy|Golf) × P (Mild | Golf) × P (High | Golf) × P (True | Golf) x P(Golf). Plugging in known likelihoods, we get __P (Golf | Rainy,Mild,High,True)__ ∝ 2/189 ≈ 0.0106.*  \n",
    "- *__P (!Golf | Rainy,Mild,High,True)__ ∝ P (Rainy|!Golf) × P (Mild|!Golf) × P (High|!Golf) × P (True|!Golf) x P(!Golf) = 2/5 × 2/5 × 4/5 × 3/5 x 5/14 = 23/875 ≈ 0.0274.*  \n",
    "- *Normalization would produce __P (Golf | tomorrow)__ = 0.0106/(0.0106+0.0183) ≈ 0.367.*  \n",
    "- *Similarly, __P (!Golf | tomorrow)__ = 0.0183/(0.0106+0.0183) ≈ 0.633.*\n",
    "\n",
    "*Comparing the two posterior likelihood, we see that __P (Golf | Rainy,Mild,High,True)__ < __P (!Golf | Rainy,Mild,High,True)__. Therefore, we should not go play golf tomorrow.*"
   ]
  },
  {
   "cell_type": "markdown",
   "id": "e1990e0a",
   "metadata": {},
   "source": [
    "**2. Is the assumption that outlook and humidity are independent a good assumption? Explain why or why not.**  \n",
    "*It is probably a bad assumption. Usually, we would expect higher humidity if it is rainy. Therefore, these two variables are not independent, and the probabilities calculated for each class based on them might not be correct.*"
   ]
  },
  {
   "cell_type": "markdown",
   "id": "1ae1f70a",
   "metadata": {},
   "source": [
    "## Naïve Bayes with Categorical Data: Sklearn"
   ]
  },
  {
   "cell_type": "code",
   "execution_count": 1,
   "id": "4cafcd7c",
   "metadata": {},
   "outputs": [],
   "source": [
    "import pandas as pd\n",
    "import numpy as np\n",
    "from sklearn.naive_bayes import CategoricalNB # naive Bayes"
   ]
  },
  {
   "cell_type": "code",
   "execution_count": 2,
   "id": "f87f9c75",
   "metadata": {},
   "outputs": [
    {
     "data": {
      "text/html": [
       "<div>\n",
       "<style scoped>\n",
       "    .dataframe tbody tr th:only-of-type {\n",
       "        vertical-align: middle;\n",
       "    }\n",
       "\n",
       "    .dataframe tbody tr th {\n",
       "        vertical-align: top;\n",
       "    }\n",
       "\n",
       "    .dataframe thead th {\n",
       "        text-align: right;\n",
       "    }\n",
       "</style>\n",
       "<table border=\"1\" class=\"dataframe\">\n",
       "  <thead>\n",
       "    <tr style=\"text-align: right;\">\n",
       "      <th></th>\n",
       "      <th>Outlook</th>\n",
       "      <th>Temperature</th>\n",
       "      <th>Humidity</th>\n",
       "      <th>Windy</th>\n",
       "      <th>PlayGolf</th>\n",
       "    </tr>\n",
       "  </thead>\n",
       "  <tbody>\n",
       "    <tr>\n",
       "      <th>0</th>\n",
       "      <td>Rainy</td>\n",
       "      <td>Hot</td>\n",
       "      <td>High</td>\n",
       "      <td>False</td>\n",
       "      <td>No</td>\n",
       "    </tr>\n",
       "    <tr>\n",
       "      <th>1</th>\n",
       "      <td>Rainy</td>\n",
       "      <td>Hot</td>\n",
       "      <td>High</td>\n",
       "      <td>True</td>\n",
       "      <td>No</td>\n",
       "    </tr>\n",
       "    <tr>\n",
       "      <th>2</th>\n",
       "      <td>Overcast</td>\n",
       "      <td>Hot</td>\n",
       "      <td>High</td>\n",
       "      <td>False</td>\n",
       "      <td>Yes</td>\n",
       "    </tr>\n",
       "    <tr>\n",
       "      <th>3</th>\n",
       "      <td>Sunny</td>\n",
       "      <td>Mild</td>\n",
       "      <td>High</td>\n",
       "      <td>False</td>\n",
       "      <td>Yes</td>\n",
       "    </tr>\n",
       "    <tr>\n",
       "      <th>4</th>\n",
       "      <td>Sunny</td>\n",
       "      <td>Cool</td>\n",
       "      <td>Normal</td>\n",
       "      <td>False</td>\n",
       "      <td>Yes</td>\n",
       "    </tr>\n",
       "  </tbody>\n",
       "</table>\n",
       "</div>"
      ],
      "text/plain": [
       "    Outlook Temperature Humidity  Windy PlayGolf\n",
       "0     Rainy         Hot     High  False       No\n",
       "1     Rainy         Hot     High   True       No\n",
       "2  Overcast         Hot     High  False      Yes\n",
       "3     Sunny        Mild     High  False      Yes\n",
       "4     Sunny        Cool   Normal  False      Yes"
      ]
     },
     "execution_count": 2,
     "metadata": {},
     "output_type": "execute_result"
    }
   ],
   "source": [
    "golf = pd.read_csv(\"../W10/PlayGolf.csv\")\n",
    "golf.head()"
   ]
  },
  {
   "cell_type": "markdown",
   "id": "40772cc2",
   "metadata": {},
   "source": [
    "### 1. Temperature and Outlook are ordinal variables. Instead of converting them to dummy variables, they need to be recoded as ordinal variables."
   ]
  },
  {
   "cell_type": "code",
   "execution_count": 3,
   "id": "c83320c2",
   "metadata": {},
   "outputs": [
    {
     "data": {
      "text/plain": [
       "(Rainy       5\n",
       " Sunny       5\n",
       " Overcast    4\n",
       " Name: Outlook, dtype: int64,\n",
       " Mild    6\n",
       " Hot     4\n",
       " Cool    4\n",
       " Name: Temperature, dtype: int64)"
      ]
     },
     "execution_count": 3,
     "metadata": {},
     "output_type": "execute_result"
    }
   ],
   "source": [
    "golf[\"Outlook\"].value_counts(), golf[\"Temperature\"].value_counts()"
   ]
  },
  {
   "cell_type": "code",
   "execution_count": 4,
   "id": "3779a86e",
   "metadata": {},
   "outputs": [
    {
     "data": {
      "text/plain": [
       "(1    5\n",
       " 2    5\n",
       " 3    4\n",
       " Name: Outlook, dtype: int64,\n",
       " 1    6\n",
       " 2    4\n",
       " 3    4\n",
       " Name: Temperature, dtype: int64)"
      ]
     },
     "execution_count": 4,
     "metadata": {},
     "output_type": "execute_result"
    }
   ],
   "source": [
    "outlook_mapper = {\"Rainy\":1, \"Sunny\":2, \"Overcast\":3}\n",
    "temperature_mapper = {\"Mild\":1, \"Hot\":2, \"Cool\":3}\n",
    "golf[\"Outlook\"] = golf[\"Outlook\"].replace(outlook_mapper)\n",
    "golf[\"Temperature\"] = golf[\"Temperature\"].replace(temperature_mapper)\n",
    "golf[\"Outlook\"].value_counts(), golf[\"Temperature\"].value_counts()"
   ]
  },
  {
   "cell_type": "markdown",
   "id": "afdb19f2",
   "metadata": {},
   "source": [
    "### 2. The other variables need to be recoded to binary variables. Because Windy is Boolean, it does not need to be recoded."
   ]
  },
  {
   "cell_type": "code",
   "execution_count": 5,
   "id": "8663c17d",
   "metadata": {},
   "outputs": [
    {
     "data": {
      "text/plain": [
       "(0    7\n",
       " 1    7\n",
       " Name: Humidity, dtype: int64,\n",
       " 1    9\n",
       " 0    5\n",
       " Name: PlayGolf, dtype: int64)"
      ]
     },
     "execution_count": 5,
     "metadata": {},
     "output_type": "execute_result"
    }
   ],
   "source": [
    "humidity_mapper = {\"High\":0, \"Normal\":1}\n",
    "golf_mapper = {\"Yes\":1, \"No\":0}\n",
    "golf[\"Humidity\"] = golf[\"Humidity\"].replace(humidity_mapper)\n",
    "golf[\"PlayGolf\"] = golf[\"PlayGolf\"].replace(golf_mapper)\n",
    "golf[\"Humidity\"].value_counts(), golf[\"PlayGolf\"].value_counts()"
   ]
  },
  {
   "cell_type": "markdown",
   "id": "ea10b527",
   "metadata": {},
   "source": [
    "### 3. Fit the data using CategoricalNB."
   ]
  },
  {
   "cell_type": "code",
   "execution_count": 6,
   "id": "2cc70a46",
   "metadata": {},
   "outputs": [],
   "source": [
    "X = golf[[\"Outlook\", \"Temperature\", \"Humidity\", \"Windy\"]]\n",
    "y = golf[\"PlayGolf\"]"
   ]
  },
  {
   "cell_type": "code",
   "execution_count": 7,
   "id": "df175137",
   "metadata": {},
   "outputs": [
    {
     "data": {
      "text/plain": [
       "CategoricalNB()"
      ]
     },
     "execution_count": 7,
     "metadata": {},
     "output_type": "execute_result"
    }
   ],
   "source": [
    "cnb = CategoricalNB()\n",
    "cnb.fit(X, y)"
   ]
  },
  {
   "cell_type": "markdown",
   "id": "527f8cd9",
   "metadata": {},
   "source": [
    "### 4. Using the data set, PlayGolfNext.csv, use your Naïve Bayes model to predict the next few days. Which days should you play golf?"
   ]
  },
  {
   "cell_type": "code",
   "execution_count": 8,
   "id": "0500cfc8",
   "metadata": {},
   "outputs": [
    {
     "data": {
      "text/html": [
       "<div>\n",
       "<style scoped>\n",
       "    .dataframe tbody tr th:only-of-type {\n",
       "        vertical-align: middle;\n",
       "    }\n",
       "\n",
       "    .dataframe tbody tr th {\n",
       "        vertical-align: top;\n",
       "    }\n",
       "\n",
       "    .dataframe thead th {\n",
       "        text-align: right;\n",
       "    }\n",
       "</style>\n",
       "<table border=\"1\" class=\"dataframe\">\n",
       "  <thead>\n",
       "    <tr style=\"text-align: right;\">\n",
       "      <th></th>\n",
       "      <th>Day</th>\n",
       "      <th>Outlook</th>\n",
       "      <th>Temperature</th>\n",
       "      <th>Humidity</th>\n",
       "      <th>Windy</th>\n",
       "    </tr>\n",
       "  </thead>\n",
       "  <tbody>\n",
       "    <tr>\n",
       "      <th>0</th>\n",
       "      <td>Day After Tomorrow</td>\n",
       "      <td>Overcast</td>\n",
       "      <td>Cool</td>\n",
       "      <td>High</td>\n",
       "      <td>False</td>\n",
       "    </tr>\n",
       "    <tr>\n",
       "      <th>1</th>\n",
       "      <td>Tomorrow</td>\n",
       "      <td>Rainy</td>\n",
       "      <td>Mild</td>\n",
       "      <td>High</td>\n",
       "      <td>True</td>\n",
       "    </tr>\n",
       "    <tr>\n",
       "      <th>2</th>\n",
       "      <td>Today</td>\n",
       "      <td>Sunny</td>\n",
       "      <td>Hot</td>\n",
       "      <td>Normal</td>\n",
       "      <td>False</td>\n",
       "    </tr>\n",
       "  </tbody>\n",
       "</table>\n",
       "</div>"
      ],
      "text/plain": [
       "                  Day   Outlook Temperature Humidity  Windy\n",
       "0  Day After Tomorrow  Overcast        Cool     High  False\n",
       "1            Tomorrow     Rainy        Mild     High   True\n",
       "2               Today     Sunny         Hot   Normal  False"
      ]
     },
     "execution_count": 8,
     "metadata": {},
     "output_type": "execute_result"
    }
   ],
   "source": [
    "future = pd.read_csv(\"../W10/PlayGolfNext.csv\")\n",
    "future.head()"
   ]
  },
  {
   "cell_type": "code",
   "execution_count": 9,
   "id": "e8bbead0",
   "metadata": {},
   "outputs": [
    {
     "data": {
      "text/html": [
       "<div>\n",
       "<style scoped>\n",
       "    .dataframe tbody tr th:only-of-type {\n",
       "        vertical-align: middle;\n",
       "    }\n",
       "\n",
       "    .dataframe tbody tr th {\n",
       "        vertical-align: top;\n",
       "    }\n",
       "\n",
       "    .dataframe thead th {\n",
       "        text-align: right;\n",
       "    }\n",
       "</style>\n",
       "<table border=\"1\" class=\"dataframe\">\n",
       "  <thead>\n",
       "    <tr style=\"text-align: right;\">\n",
       "      <th></th>\n",
       "      <th>Day</th>\n",
       "      <th>Outlook</th>\n",
       "      <th>Temperature</th>\n",
       "      <th>Humidity</th>\n",
       "      <th>Windy</th>\n",
       "    </tr>\n",
       "  </thead>\n",
       "  <tbody>\n",
       "    <tr>\n",
       "      <th>0</th>\n",
       "      <td>Day After Tomorrow</td>\n",
       "      <td>3</td>\n",
       "      <td>3</td>\n",
       "      <td>0</td>\n",
       "      <td>False</td>\n",
       "    </tr>\n",
       "    <tr>\n",
       "      <th>1</th>\n",
       "      <td>Tomorrow</td>\n",
       "      <td>1</td>\n",
       "      <td>1</td>\n",
       "      <td>0</td>\n",
       "      <td>True</td>\n",
       "    </tr>\n",
       "    <tr>\n",
       "      <th>2</th>\n",
       "      <td>Today</td>\n",
       "      <td>2</td>\n",
       "      <td>2</td>\n",
       "      <td>1</td>\n",
       "      <td>False</td>\n",
       "    </tr>\n",
       "  </tbody>\n",
       "</table>\n",
       "</div>"
      ],
      "text/plain": [
       "                  Day  Outlook  Temperature  Humidity  Windy\n",
       "0  Day After Tomorrow        3            3         0  False\n",
       "1            Tomorrow        1            1         0   True\n",
       "2               Today        2            2         1  False"
      ]
     },
     "execution_count": 9,
     "metadata": {},
     "output_type": "execute_result"
    }
   ],
   "source": [
    "future[\"Outlook\"] = future[\"Outlook\"].replace(outlook_mapper)\n",
    "future[\"Temperature\"] = future[\"Temperature\"].replace(temperature_mapper)\n",
    "future[\"Humidity\"] = future[\"Humidity\"].replace(humidity_mapper)\n",
    "future.head()"
   ]
  },
  {
   "cell_type": "code",
   "execution_count": 10,
   "id": "736f3f9b",
   "metadata": {},
   "outputs": [
    {
     "data": {
      "text/plain": [
       "array([1, 0, 1])"
      ]
     },
     "execution_count": 10,
     "metadata": {},
     "output_type": "execute_result"
    }
   ],
   "source": [
    "cnb.predict(future.iloc[:, 1:5]) # ignore the Day column"
   ]
  },
  {
   "cell_type": "markdown",
   "id": "6997f7a0",
   "metadata": {},
   "source": [
    "*The prediction is:*\n",
    "- *__Today__: play*\n",
    "- *__Tomorrow__: not play*\n",
    "- *__Day After Tomorrow__: play*"
   ]
  },
  {
   "cell_type": "markdown",
   "id": "7affd8ab",
   "metadata": {},
   "source": [
    "### 5. Does the recommendation (Yes or No to play golf) for today and tomorrow match the class example and your manual prediction above?"
   ]
  },
  {
   "cell_type": "markdown",
   "id": "e7cedb9c",
   "metadata": {},
   "source": [
    "*Yes, the recommendation and manual prediction match. They both say we should go play golf today, but not tomorrow.*"
   ]
  }
 ],
 "metadata": {
  "kernelspec": {
   "display_name": "Python 3",
   "language": "python",
   "name": "python3"
  },
  "language_info": {
   "codemirror_mode": {
    "name": "ipython",
    "version": 3
   },
   "file_extension": ".py",
   "mimetype": "text/x-python",
   "name": "python",
   "nbconvert_exporter": "python",
   "pygments_lexer": "ipython3",
   "version": "3.8.8"
  }
 },
 "nbformat": 4,
 "nbformat_minor": 5
}
