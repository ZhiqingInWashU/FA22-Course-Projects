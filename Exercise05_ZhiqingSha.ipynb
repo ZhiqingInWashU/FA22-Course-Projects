{
 "cells": [
  {
   "cell_type": "markdown",
   "id": "3ba2e610",
   "metadata": {},
   "source": [
    "### Data Import & Basic Exploration & Transformation"
   ]
  },
  {
   "cell_type": "code",
   "execution_count": 1,
   "id": "e74901fb",
   "metadata": {},
   "outputs": [],
   "source": [
    "import pandas as pd\n",
    "import numpy as np\n",
    "import matplotlib.pyplot as plt\n",
    "import seaborn as sns\n",
    "\n",
    "import statsmodels.api as sm # run OLS linear regression\n",
    "from sklearn.linear_model import LinearRegression # linear regression estimator for MICE\n",
    "from sklearn.experimental import enable_iterative_imputer # experiment setting of imputer for MICE\n",
    "from sklearn.impute import IterativeImputer # imputer for MICE"
   ]
  },
  {
   "cell_type": "code",
   "execution_count": 2,
   "id": "47968e62",
   "metadata": {},
   "outputs": [
    {
     "data": {
      "text/html": [
       "<div>\n",
       "<style scoped>\n",
       "    .dataframe tbody tr th:only-of-type {\n",
       "        vertical-align: middle;\n",
       "    }\n",
       "\n",
       "    .dataframe tbody tr th {\n",
       "        vertical-align: top;\n",
       "    }\n",
       "\n",
       "    .dataframe thead th {\n",
       "        text-align: right;\n",
       "    }\n",
       "</style>\n",
       "<table border=\"1\" class=\"dataframe\">\n",
       "  <thead>\n",
       "    <tr style=\"text-align: right;\">\n",
       "      <th></th>\n",
       "      <th>Name</th>\n",
       "      <th>Location</th>\n",
       "      <th>Year</th>\n",
       "      <th>Kilometers_Driven</th>\n",
       "      <th>Fuel_Type</th>\n",
       "      <th>Transmission</th>\n",
       "      <th>Owner_Type</th>\n",
       "      <th>Mileage</th>\n",
       "      <th>Engine</th>\n",
       "      <th>Power</th>\n",
       "      <th>Seats</th>\n",
       "      <th>New_Price</th>\n",
       "      <th>Price</th>\n",
       "    </tr>\n",
       "  </thead>\n",
       "  <tbody>\n",
       "    <tr>\n",
       "      <th>0</th>\n",
       "      <td>Maruti Wagon R LXI CNG</td>\n",
       "      <td>Mumbai</td>\n",
       "      <td>2010</td>\n",
       "      <td>72000</td>\n",
       "      <td>CNG</td>\n",
       "      <td>Manual</td>\n",
       "      <td>First</td>\n",
       "      <td>26.6 km/kg</td>\n",
       "      <td>998 CC</td>\n",
       "      <td>58.16 bhp</td>\n",
       "      <td>5.0</td>\n",
       "      <td>NaN</td>\n",
       "      <td>1.75</td>\n",
       "    </tr>\n",
       "    <tr>\n",
       "      <th>1</th>\n",
       "      <td>Hyundai Creta 1.6 CRDi SX Option</td>\n",
       "      <td>Pune</td>\n",
       "      <td>2015</td>\n",
       "      <td>41000</td>\n",
       "      <td>Diesel</td>\n",
       "      <td>Manual</td>\n",
       "      <td>First</td>\n",
       "      <td>19.67 kmpl</td>\n",
       "      <td>1582 CC</td>\n",
       "      <td>126.2 bhp</td>\n",
       "      <td>5.0</td>\n",
       "      <td>NaN</td>\n",
       "      <td>12.50</td>\n",
       "    </tr>\n",
       "    <tr>\n",
       "      <th>2</th>\n",
       "      <td>Honda Jazz V</td>\n",
       "      <td>Chennai</td>\n",
       "      <td>2011</td>\n",
       "      <td>46000</td>\n",
       "      <td>Petrol</td>\n",
       "      <td>Manual</td>\n",
       "      <td>First</td>\n",
       "      <td>18.2 kmpl</td>\n",
       "      <td>1199 CC</td>\n",
       "      <td>88.7 bhp</td>\n",
       "      <td>5.0</td>\n",
       "      <td>8.61 Lakh</td>\n",
       "      <td>4.50</td>\n",
       "    </tr>\n",
       "    <tr>\n",
       "      <th>3</th>\n",
       "      <td>Maruti Ertiga VDI</td>\n",
       "      <td>Chennai</td>\n",
       "      <td>2012</td>\n",
       "      <td>87000</td>\n",
       "      <td>Diesel</td>\n",
       "      <td>Manual</td>\n",
       "      <td>First</td>\n",
       "      <td>20.77 kmpl</td>\n",
       "      <td>1248 CC</td>\n",
       "      <td>88.76 bhp</td>\n",
       "      <td>7.0</td>\n",
       "      <td>NaN</td>\n",
       "      <td>6.00</td>\n",
       "    </tr>\n",
       "    <tr>\n",
       "      <th>4</th>\n",
       "      <td>Audi A4 New 2.0 TDI Multitronic</td>\n",
       "      <td>Coimbatore</td>\n",
       "      <td>2013</td>\n",
       "      <td>40670</td>\n",
       "      <td>Diesel</td>\n",
       "      <td>Automatic</td>\n",
       "      <td>Second</td>\n",
       "      <td>15.2 kmpl</td>\n",
       "      <td>1968 CC</td>\n",
       "      <td>140.8 bhp</td>\n",
       "      <td>5.0</td>\n",
       "      <td>NaN</td>\n",
       "      <td>17.74</td>\n",
       "    </tr>\n",
       "  </tbody>\n",
       "</table>\n",
       "</div>"
      ],
      "text/plain": [
       "                               Name    Location  Year  Kilometers_Driven  \\\n",
       "0            Maruti Wagon R LXI CNG      Mumbai  2010              72000   \n",
       "1  Hyundai Creta 1.6 CRDi SX Option        Pune  2015              41000   \n",
       "2                      Honda Jazz V     Chennai  2011              46000   \n",
       "3                 Maruti Ertiga VDI     Chennai  2012              87000   \n",
       "4   Audi A4 New 2.0 TDI Multitronic  Coimbatore  2013              40670   \n",
       "\n",
       "  Fuel_Type Transmission Owner_Type     Mileage   Engine      Power  Seats  \\\n",
       "0       CNG       Manual      First  26.6 km/kg   998 CC  58.16 bhp    5.0   \n",
       "1    Diesel       Manual      First  19.67 kmpl  1582 CC  126.2 bhp    5.0   \n",
       "2    Petrol       Manual      First   18.2 kmpl  1199 CC   88.7 bhp    5.0   \n",
       "3    Diesel       Manual      First  20.77 kmpl  1248 CC  88.76 bhp    7.0   \n",
       "4    Diesel    Automatic     Second   15.2 kmpl  1968 CC  140.8 bhp    5.0   \n",
       "\n",
       "   New_Price  Price  \n",
       "0        NaN   1.75  \n",
       "1        NaN  12.50  \n",
       "2  8.61 Lakh   4.50  \n",
       "3        NaN   6.00  \n",
       "4        NaN  17.74  "
      ]
     },
     "execution_count": 2,
     "metadata": {},
     "output_type": "execute_result"
    }
   ],
   "source": [
    "cars = pd.read_csv(\"../W7/train.csv\")\n",
    "cars.head()"
   ]
  },
  {
   "cell_type": "code",
   "execution_count": 3,
   "id": "2d61d4f5",
   "metadata": {},
   "outputs": [
    {
     "name": "stdout",
     "output_type": "stream",
     "text": [
      "<class 'pandas.core.frame.DataFrame'>\n",
      "RangeIndex: 6019 entries, 0 to 6018\n",
      "Data columns (total 13 columns):\n",
      " #   Column             Non-Null Count  Dtype  \n",
      "---  ------             --------------  -----  \n",
      " 0   Name               6019 non-null   object \n",
      " 1   Location           6019 non-null   object \n",
      " 2   Year               6019 non-null   int64  \n",
      " 3   Kilometers_Driven  6019 non-null   int64  \n",
      " 4   Fuel_Type          6019 non-null   object \n",
      " 5   Transmission       6019 non-null   object \n",
      " 6   Owner_Type         6019 non-null   object \n",
      " 7   Mileage            6017 non-null   object \n",
      " 8   Engine             5983 non-null   object \n",
      " 9   Power              5983 non-null   object \n",
      " 10  Seats              5977 non-null   float64\n",
      " 11  New_Price          824 non-null    object \n",
      " 12  Price              6019 non-null   float64\n",
      "dtypes: float64(2), int64(2), object(9)\n",
      "memory usage: 611.4+ KB\n"
     ]
    }
   ],
   "source": [
    "cars.info()"
   ]
  },
  {
   "cell_type": "markdown",
   "id": "62a014ff",
   "metadata": {},
   "source": [
    "*Observations:*  \n",
    "*Fuel_Type, Transmission, and Owner_Type should be categorical.*  \n",
    "*Mileage, Engine, and Power should have attached unit stripped and turned to type float.*  \n",
    "*It is not detected above, but \"null\" string in Power should be turned to NaN too.*"
   ]
  },
  {
   "cell_type": "code",
   "execution_count": 4,
   "id": "0ffe86e2",
   "metadata": {},
   "outputs": [],
   "source": [
    "# variable transformation\n",
    "\n",
    "# strip units\n",
    "cars[\"Mileage\"] = cars[\"Mileage\"].str.rstrip(\" kmpl\")\n",
    "cars[\"Mileage\"] = cars[\"Mileage\"].str.rstrip(\" km/g\")\n",
    "cars[\"Engine\"] = cars[\"Engine\"].str.rstrip(\" CC\")\n",
    "cars[\"Power\"] = cars[\"Power\"].str.rstrip(\" bhp\")\n",
    "\n",
    "# replace null string with NaN\n",
    "cars[\"Power\"] = cars[\"Power\"].replace(regex=\"null\", value = np.nan)\n",
    "\n",
    "# convert object type to categorical type\n",
    "cars[\"Fuel_Type\"] = cars[\"Fuel_Type\"].astype(\"category\")\n",
    "cars[\"Transmission\"] = cars[\"Transmission\"].astype(\"category\")\n",
    "cars[\"Owner_Type\"] = cars[\"Owner_Type\"].astype(\"category\")\n",
    "\n",
    "# convert object type to float type\n",
    "cars[\"Mileage\"] = cars[\"Mileage\"].astype(\"float\")\n",
    "cars[\"Power\"] = cars[\"Power\"].astype(\"float\")\n",
    "cars[\"Engine\"] = cars[\"Engine\"].astype(\"float\")\n",
    "\n",
    "# split column\n",
    "cars[\"Company\"] = cars[\"Name\"].str.split(\" \").str[0]\n",
    "cars[\"Model\"] = cars[\"Name\"].str.split(\" \").str[1]+cars[\"Name\"].str.split(\" \").str[2]"
   ]
  },
  {
   "cell_type": "code",
   "execution_count": 5,
   "id": "37f0a6fc",
   "metadata": {},
   "outputs": [
    {
     "data": {
      "text/html": [
       "<div>\n",
       "<style scoped>\n",
       "    .dataframe tbody tr th:only-of-type {\n",
       "        vertical-align: middle;\n",
       "    }\n",
       "\n",
       "    .dataframe tbody tr th {\n",
       "        vertical-align: top;\n",
       "    }\n",
       "\n",
       "    .dataframe thead th {\n",
       "        text-align: right;\n",
       "    }\n",
       "</style>\n",
       "<table border=\"1\" class=\"dataframe\">\n",
       "  <thead>\n",
       "    <tr style=\"text-align: right;\">\n",
       "      <th></th>\n",
       "      <th>Name</th>\n",
       "      <th>Location</th>\n",
       "      <th>Year</th>\n",
       "      <th>Kilometers_Driven</th>\n",
       "      <th>Fuel_Type</th>\n",
       "      <th>Transmission</th>\n",
       "      <th>Owner_Type</th>\n",
       "      <th>Mileage</th>\n",
       "      <th>Engine</th>\n",
       "      <th>Power</th>\n",
       "      <th>Seats</th>\n",
       "      <th>New_Price</th>\n",
       "      <th>Price</th>\n",
       "      <th>Company</th>\n",
       "      <th>Model</th>\n",
       "    </tr>\n",
       "  </thead>\n",
       "  <tbody>\n",
       "    <tr>\n",
       "      <th>0</th>\n",
       "      <td>Maruti Wagon R LXI CNG</td>\n",
       "      <td>Mumbai</td>\n",
       "      <td>2010</td>\n",
       "      <td>72000</td>\n",
       "      <td>CNG</td>\n",
       "      <td>Manual</td>\n",
       "      <td>First</td>\n",
       "      <td>26.60</td>\n",
       "      <td>998.0</td>\n",
       "      <td>58.16</td>\n",
       "      <td>5.0</td>\n",
       "      <td>NaN</td>\n",
       "      <td>1.75</td>\n",
       "      <td>Maruti</td>\n",
       "      <td>WagonR</td>\n",
       "    </tr>\n",
       "    <tr>\n",
       "      <th>1</th>\n",
       "      <td>Hyundai Creta 1.6 CRDi SX Option</td>\n",
       "      <td>Pune</td>\n",
       "      <td>2015</td>\n",
       "      <td>41000</td>\n",
       "      <td>Diesel</td>\n",
       "      <td>Manual</td>\n",
       "      <td>First</td>\n",
       "      <td>19.67</td>\n",
       "      <td>1582.0</td>\n",
       "      <td>126.20</td>\n",
       "      <td>5.0</td>\n",
       "      <td>NaN</td>\n",
       "      <td>12.50</td>\n",
       "      <td>Hyundai</td>\n",
       "      <td>Creta1.6</td>\n",
       "    </tr>\n",
       "    <tr>\n",
       "      <th>2</th>\n",
       "      <td>Honda Jazz V</td>\n",
       "      <td>Chennai</td>\n",
       "      <td>2011</td>\n",
       "      <td>46000</td>\n",
       "      <td>Petrol</td>\n",
       "      <td>Manual</td>\n",
       "      <td>First</td>\n",
       "      <td>18.20</td>\n",
       "      <td>1199.0</td>\n",
       "      <td>88.70</td>\n",
       "      <td>5.0</td>\n",
       "      <td>8.61 Lakh</td>\n",
       "      <td>4.50</td>\n",
       "      <td>Honda</td>\n",
       "      <td>JazzV</td>\n",
       "    </tr>\n",
       "    <tr>\n",
       "      <th>3</th>\n",
       "      <td>Maruti Ertiga VDI</td>\n",
       "      <td>Chennai</td>\n",
       "      <td>2012</td>\n",
       "      <td>87000</td>\n",
       "      <td>Diesel</td>\n",
       "      <td>Manual</td>\n",
       "      <td>First</td>\n",
       "      <td>20.77</td>\n",
       "      <td>1248.0</td>\n",
       "      <td>88.76</td>\n",
       "      <td>7.0</td>\n",
       "      <td>NaN</td>\n",
       "      <td>6.00</td>\n",
       "      <td>Maruti</td>\n",
       "      <td>ErtigaVDI</td>\n",
       "    </tr>\n",
       "    <tr>\n",
       "      <th>4</th>\n",
       "      <td>Audi A4 New 2.0 TDI Multitronic</td>\n",
       "      <td>Coimbatore</td>\n",
       "      <td>2013</td>\n",
       "      <td>40670</td>\n",
       "      <td>Diesel</td>\n",
       "      <td>Automatic</td>\n",
       "      <td>Second</td>\n",
       "      <td>15.20</td>\n",
       "      <td>1968.0</td>\n",
       "      <td>140.80</td>\n",
       "      <td>5.0</td>\n",
       "      <td>NaN</td>\n",
       "      <td>17.74</td>\n",
       "      <td>Audi</td>\n",
       "      <td>A4New</td>\n",
       "    </tr>\n",
       "  </tbody>\n",
       "</table>\n",
       "</div>"
      ],
      "text/plain": [
       "                               Name    Location  Year  Kilometers_Driven  \\\n",
       "0            Maruti Wagon R LXI CNG      Mumbai  2010              72000   \n",
       "1  Hyundai Creta 1.6 CRDi SX Option        Pune  2015              41000   \n",
       "2                      Honda Jazz V     Chennai  2011              46000   \n",
       "3                 Maruti Ertiga VDI     Chennai  2012              87000   \n",
       "4   Audi A4 New 2.0 TDI Multitronic  Coimbatore  2013              40670   \n",
       "\n",
       "  Fuel_Type Transmission Owner_Type  Mileage  Engine   Power  Seats  \\\n",
       "0       CNG       Manual      First    26.60   998.0   58.16    5.0   \n",
       "1    Diesel       Manual      First    19.67  1582.0  126.20    5.0   \n",
       "2    Petrol       Manual      First    18.20  1199.0   88.70    5.0   \n",
       "3    Diesel       Manual      First    20.77  1248.0   88.76    7.0   \n",
       "4    Diesel    Automatic     Second    15.20  1968.0  140.80    5.0   \n",
       "\n",
       "   New_Price  Price  Company      Model  \n",
       "0        NaN   1.75   Maruti     WagonR  \n",
       "1        NaN  12.50  Hyundai   Creta1.6  \n",
       "2  8.61 Lakh   4.50    Honda      JazzV  \n",
       "3        NaN   6.00   Maruti  ErtigaVDI  \n",
       "4        NaN  17.74     Audi      A4New  "
      ]
     },
     "execution_count": 5,
     "metadata": {},
     "output_type": "execute_result"
    }
   ],
   "source": [
    "cars.head()"
   ]
  },
  {
   "cell_type": "markdown",
   "id": "9d6415e8",
   "metadata": {},
   "source": [
    "### 1. Transform Price so that it looks more normal"
   ]
  },
  {
   "cell_type": "code",
   "execution_count": 6,
   "id": "28dc23af",
   "metadata": {},
   "outputs": [
    {
     "data": {
      "image/png": "[encoded data removed]",
      "text/plain": [
       "<Figure size 432x288 with 1 Axes>"
      ]
     },
     "metadata": {
      "needs_background": "light"
     },
     "output_type": "display_data"
    }
   ],
   "source": [
    "# original price distribution \n",
    "sns.histplot(x = cars[\"Price\"], color = \"skyblue\", label = \"Price\", kde = True)\n",
    "plt.show()"
   ]
  },
  {
   "cell_type": "code",
   "execution_count": 7,
   "id": "fe1da129",
   "metadata": {},
   "outputs": [
    {
     "data": {
      "image/png": "[encoded data removed]",
      "text/plain": [
       "<Figure size 432x288 with 1 Axes>"
      ]
     },
     "metadata": {
      "needs_background": "light"
     },
     "output_type": "display_data"
    }
   ],
   "source": [
    "# log-price distribution\n",
    "cars[\"LnPrice\"] = np.log(cars[\"Price\"])\n",
    "sns.histplot(x = cars[\"LnPrice\"], color = \"skyblue\", label = \"Price\", kde = True)\n",
    "plt.show()"
   ]
  },
  {
   "cell_type": "markdown",
   "id": "c4cc373f",
   "metadata": {},
   "source": [
    "### 2. How many values are missing for Power and Engine?"
   ]
  },
  {
   "cell_type": "code",
   "execution_count": 8,
   "id": "c4be9e25",
   "metadata": {},
   "outputs": [
    {
     "name": "stdout",
     "output_type": "stream",
     "text": [
      "Power column has 143 missing values.\n",
      "Engine column has 36 missing values.\n"
     ]
    }
   ],
   "source": [
    "print(\"Power column has\", cars[\"Power\"].isna().sum(), \"missing values.\\n\"\n",
    "      \"Engine column has\", cars[\"Engine\"].isna().sum(), \"missing values.\")"
   ]
  },
  {
   "cell_type": "markdown",
   "id": "6a869bb9",
   "metadata": {},
   "source": [
    "### 3. Which column has the most missing values and what should we do about it?"
   ]
  },
  {
   "cell_type": "code",
   "execution_count": 9,
   "id": "c598bb54",
   "metadata": {},
   "outputs": [
    {
     "data": {
      "text/plain": [
       "Name                    0\n",
       "Location                0\n",
       "Year                    0\n",
       "Kilometers_Driven       0\n",
       "Fuel_Type               0\n",
       "Transmission            0\n",
       "Owner_Type              0\n",
       "Mileage                 2\n",
       "Engine                 36\n",
       "Power                 143\n",
       "Seats                  42\n",
       "New_Price            5195\n",
       "Price                   0\n",
       "Company                 0\n",
       "Model                   0\n",
       "LnPrice                 0\n",
       "dtype: int64"
      ]
     },
     "execution_count": 9,
     "metadata": {},
     "output_type": "execute_result"
    }
   ],
   "source": [
    "cars.isnull().sum()"
   ]
  },
  {
   "cell_type": "code",
   "execution_count": 10,
   "id": "62e4e39b",
   "metadata": {},
   "outputs": [
    {
     "name": "stdout",
     "output_type": "stream",
     "text": [
      "86.31% of data is missing in the New_Price column\n"
     ]
    }
   ],
   "source": [
    "print(round(cars[\"New_Price\"].isnull().sum()/cars.shape[0]*100,3), \"% of data is missing in the New_Price column\", sep = \"\")"
   ]
  },
  {
   "cell_type": "code",
   "execution_count": 11,
   "id": "d962feac",
   "metadata": {},
   "outputs": [
    {
     "data": {
      "text/plain": [
       "63.71 Lakh    6\n",
       "4.78 Lakh     6\n",
       "95.13 Lakh    6\n",
       "4.98 Lakh     5\n",
       "44.28 Lakh    5\n",
       "             ..\n",
       "12.14 Lakh    1\n",
       "12.02 Lakh    1\n",
       "10.1 Lakh     1\n",
       "15.94 Lakh    1\n",
       "79.78 Lakh    1\n",
       "Name: New_Price, Length: 540, dtype: int64"
      ]
     },
     "execution_count": 11,
     "metadata": {},
     "output_type": "execute_result"
    }
   ],
   "source": [
    "cars[\"New_Price\"].value_counts()"
   ]
  },
  {
   "cell_type": "markdown",
   "id": "628254f8",
   "metadata": {},
   "source": [
    "*New_Price solumn has the most missing values, with 5195 observations missing. Since the percentage missing is as high as 86% and this variable is in our interest, I think it is fair to drop the column.*"
   ]
  },
  {
   "cell_type": "markdown",
   "id": "a16e34aa",
   "metadata": {},
   "source": [
    "### 4. Build a model of transformed price based on Power, Engine, Kilometers Driven, and Year, how much variance is explained?"
   ]
  },
  {
   "cell_type": "code",
   "execution_count": 12,
   "id": "64795c30",
   "metadata": {},
   "outputs": [
    {
     "data": {
      "text/html": [
       "<div>\n",
       "<style scoped>\n",
       "    .dataframe tbody tr th:only-of-type {\n",
       "        vertical-align: middle;\n",
       "    }\n",
       "\n",
       "    .dataframe tbody tr th {\n",
       "        vertical-align: top;\n",
       "    }\n",
       "\n",
       "    .dataframe thead th {\n",
       "        text-align: right;\n",
       "    }\n",
       "</style>\n",
       "<table border=\"1\" class=\"dataframe\">\n",
       "  <thead>\n",
       "    <tr style=\"text-align: right;\">\n",
       "      <th></th>\n",
       "      <th>Power</th>\n",
       "      <th>Engine</th>\n",
       "      <th>Kilometers_Driven</th>\n",
       "      <th>Year</th>\n",
       "      <th>Price</th>\n",
       "      <th>LnPrice</th>\n",
       "    </tr>\n",
       "  </thead>\n",
       "  <tbody>\n",
       "    <tr>\n",
       "      <th>0</th>\n",
       "      <td>58.16</td>\n",
       "      <td>998.0</td>\n",
       "      <td>72000</td>\n",
       "      <td>2010</td>\n",
       "      <td>1.75</td>\n",
       "      <td>0.559616</td>\n",
       "    </tr>\n",
       "    <tr>\n",
       "      <th>1</th>\n",
       "      <td>126.20</td>\n",
       "      <td>1582.0</td>\n",
       "      <td>41000</td>\n",
       "      <td>2015</td>\n",
       "      <td>12.50</td>\n",
       "      <td>2.525729</td>\n",
       "    </tr>\n",
       "    <tr>\n",
       "      <th>2</th>\n",
       "      <td>88.70</td>\n",
       "      <td>1199.0</td>\n",
       "      <td>46000</td>\n",
       "      <td>2011</td>\n",
       "      <td>4.50</td>\n",
       "      <td>1.504077</td>\n",
       "    </tr>\n",
       "    <tr>\n",
       "      <th>3</th>\n",
       "      <td>88.76</td>\n",
       "      <td>1248.0</td>\n",
       "      <td>87000</td>\n",
       "      <td>2012</td>\n",
       "      <td>6.00</td>\n",
       "      <td>1.791759</td>\n",
       "    </tr>\n",
       "    <tr>\n",
       "      <th>4</th>\n",
       "      <td>140.80</td>\n",
       "      <td>1968.0</td>\n",
       "      <td>40670</td>\n",
       "      <td>2013</td>\n",
       "      <td>17.74</td>\n",
       "      <td>2.875822</td>\n",
       "    </tr>\n",
       "  </tbody>\n",
       "</table>\n",
       "</div>"
      ],
      "text/plain": [
       "    Power  Engine  Kilometers_Driven  Year  Price   LnPrice\n",
       "0   58.16   998.0              72000  2010   1.75  0.559616\n",
       "1  126.20  1582.0              41000  2015  12.50  2.525729\n",
       "2   88.70  1199.0              46000  2011   4.50  1.504077\n",
       "3   88.76  1248.0              87000  2012   6.00  1.791759\n",
       "4  140.80  1968.0              40670  2013  17.74  2.875822"
      ]
     },
     "execution_count": 12,
     "metadata": {},
     "output_type": "execute_result"
    }
   ],
   "source": [
    "car1 = cars.loc[:, [\"Power\", \"Engine\", \"Kilometers_Driven\", \"Year\", \"Price\", \"LnPrice\"]]\n",
    "car1.dropna(inplace = True)\n",
    "car1.reset_index(inplace=True, drop=True)  # reset index to make continuous index (index missing from NaN removal)\n",
    "car1.head()"
   ]
  },
  {
   "cell_type": "code",
   "execution_count": 13,
   "id": "570420b8",
   "metadata": {},
   "outputs": [
    {
     "data": {
      "text/html": [
       "<table class=\"simpletable\">\n",
       "<caption>OLS Regression Results</caption>\n",
       "<tr>\n",
       "  <th>Dep. Variable:</th>         <td>LnPrice</td>     <th>  R-squared:         </th> <td>   0.832</td>\n",
       "</tr>\n",
       "<tr>\n",
       "  <th>Model:</th>                   <td>OLS</td>       <th>  Adj. R-squared:    </th> <td>   0.832</td>\n",
       "</tr>\n",
       "<tr>\n",
       "  <th>Method:</th>             <td>Least Squares</td>  <th>  F-statistic:       </th> <td>   7279.</td>\n",
       "</tr>\n",
       "<tr>\n",
       "  <th>Date:</th>             <td>Wed, 19 Oct 2022</td> <th>  Prob (F-statistic):</th>  <td>  0.00</td> \n",
       "</tr>\n",
       "<tr>\n",
       "  <th>Time:</th>                 <td>16:39:27</td>     <th>  Log-Likelihood:    </th> <td> -2234.0</td>\n",
       "</tr>\n",
       "<tr>\n",
       "  <th>No. Observations:</th>      <td>  5876</td>      <th>  AIC:               </th> <td>   4478.</td>\n",
       "</tr>\n",
       "<tr>\n",
       "  <th>Df Residuals:</th>          <td>  5871</td>      <th>  BIC:               </th> <td>   4511.</td>\n",
       "</tr>\n",
       "<tr>\n",
       "  <th>Df Model:</th>              <td>     4</td>      <th>                     </th>     <td> </td>   \n",
       "</tr>\n",
       "<tr>\n",
       "  <th>Covariance Type:</th>      <td>nonrobust</td>    <th>                     </th>     <td> </td>   \n",
       "</tr>\n",
       "</table>\n",
       "<table class=\"simpletable\">\n",
       "<tr>\n",
       "          <td></td>             <th>coef</th>     <th>std err</th>      <th>t</th>      <th>P>|t|</th>  <th>[0.025</th>    <th>0.975]</th>  \n",
       "</tr>\n",
       "<tr>\n",
       "  <th>const</th>             <td> -271.9753</td> <td>    3.014</td> <td>  -90.236</td> <td> 0.000</td> <td> -277.884</td> <td> -266.067</td>\n",
       "</tr>\n",
       "<tr>\n",
       "  <th>Power</th>             <td>    0.0088</td> <td>    0.000</td> <td>   50.399</td> <td> 0.000</td> <td>    0.008</td> <td>    0.009</td>\n",
       "</tr>\n",
       "<tr>\n",
       "  <th>Engine</th>            <td>    0.0004</td> <td> 1.56e-05</td> <td>   22.794</td> <td> 0.000</td> <td>    0.000</td> <td>    0.000</td>\n",
       "</tr>\n",
       "<tr>\n",
       "  <th>Kilometers_Driven</th> <td> 3.426e-09</td> <td> 5.12e-08</td> <td>    0.067</td> <td> 0.947</td> <td>-9.69e-08</td> <td> 1.04e-07</td>\n",
       "</tr>\n",
       "<tr>\n",
       "  <th>Year</th>              <td>    0.1352</td> <td>    0.001</td> <td>   90.371</td> <td> 0.000</td> <td>    0.132</td> <td>    0.138</td>\n",
       "</tr>\n",
       "</table>\n",
       "<table class=\"simpletable\">\n",
       "<tr>\n",
       "  <th>Omnibus:</th>       <td>1380.898</td> <th>  Durbin-Watson:     </th> <td>   1.990</td> \n",
       "</tr>\n",
       "<tr>\n",
       "  <th>Prob(Omnibus):</th>  <td> 0.000</td>  <th>  Jarque-Bera (JB):  </th> <td>16199.836</td>\n",
       "</tr>\n",
       "<tr>\n",
       "  <th>Skew:</th>           <td>-0.786</td>  <th>  Prob(JB):          </th> <td>    0.00</td> \n",
       "</tr>\n",
       "<tr>\n",
       "  <th>Kurtosis:</th>       <td>10.981</td>  <th>  Cond. No.          </th> <td>7.12e+07</td> \n",
       "</tr>\n",
       "</table><br/><br/>Notes:<br/>[1] Standard Errors assume that the covariance matrix of the errors is correctly specified.<br/>[2] The condition number is large, 7.12e+07. This might indicate that there are<br/>strong multicollinearity or other numerical problems."
      ],
      "text/plain": [
       "<class 'statsmodels.iolib.summary.Summary'>\n",
       "\"\"\"\n",
       "                            OLS Regression Results                            \n",
       "==============================================================================\n",
       "Dep. Variable:                LnPrice   R-squared:                       0.832\n",
       "Model:                            OLS   Adj. R-squared:                  0.832\n",
       "Method:                 Least Squares   F-statistic:                     7279.\n",
       "Date:                Wed, 19 Oct 2022   Prob (F-statistic):               0.00\n",
       "Time:                        16:39:27   Log-Likelihood:                -2234.0\n",
       "No. Observations:                5876   AIC:                             4478.\n",
       "Df Residuals:                    5871   BIC:                             4511.\n",
       "Df Model:                           4                                         \n",
       "Covariance Type:            nonrobust                                         \n",
       "=====================================================================================\n",
       "                        coef    std err          t      P>|t|      [0.025      0.975]\n",
       "-------------------------------------------------------------------------------------\n",
       "const              -271.9753      3.014    -90.236      0.000    -277.884    -266.067\n",
       "Power                 0.0088      0.000     50.399      0.000       0.008       0.009\n",
       "Engine                0.0004   1.56e-05     22.794      0.000       0.000       0.000\n",
       "Kilometers_Driven  3.426e-09   5.12e-08      0.067      0.947   -9.69e-08    1.04e-07\n",
       "Year                  0.1352      0.001     90.371      0.000       0.132       0.138\n",
       "==============================================================================\n",
       "Omnibus:                     1380.898   Durbin-Watson:                   1.990\n",
       "Prob(Omnibus):                  0.000   Jarque-Bera (JB):            16199.836\n",
       "Skew:                          -0.786   Prob(JB):                         0.00\n",
       "Kurtosis:                      10.981   Cond. No.                     7.12e+07\n",
       "==============================================================================\n",
       "\n",
       "Notes:\n",
       "[1] Standard Errors assume that the covariance matrix of the errors is correctly specified.\n",
       "[2] The condition number is large, 7.12e+07. This might indicate that there are\n",
       "strong multicollinearity or other numerical problems.\n",
       "\"\"\""
      ]
     },
     "execution_count": 13,
     "metadata": {},
     "output_type": "execute_result"
    }
   ],
   "source": [
    "model_drop_na = sm.OLS(car1[\"LnPrice\"], sm.add_constant(car1[[\"Power\", \"Engine\", \"Kilometers_Driven\", \"Year\"]]) ).fit()\n",
    "model_drop_na.summary()"
   ]
  },
  {
   "cell_type": "markdown",
   "id": "c13097f8",
   "metadata": {},
   "source": [
    "*83.2% of variance is explained by the model.*"
   ]
  },
  {
   "cell_type": "markdown",
   "id": "6ac92a91",
   "metadata": {},
   "source": [
    "### 5. How many rows were used to train the model?\n",
    "*The model summary says \"No. Observations: 5876\", meaning that 5876 observations were used to train the model.*"
   ]
  },
  {
   "cell_type": "markdown",
   "id": "3f5b5c9b",
   "metadata": {},
   "source": [
    "### 6. Fill the missing values in Power and Engine with their respective means and rebuild the model. Now how much variance is explained?"
   ]
  },
  {
   "cell_type": "code",
   "execution_count": 14,
   "id": "88bdd145",
   "metadata": {},
   "outputs": [],
   "source": [
    "car2 = cars.loc[:, [\"Power\", \"Engine\", \"Kilometers_Driven\", \"Year\", \"Price\", \"LnPrice\"]]\n",
    "car2[\"Power\"].fillna(value = car2[\"Power\"].mean(), inplace = True)\n",
    "car2[\"Engine\"].fillna(value = car2[\"Engine\"].mean(), inplace = True)"
   ]
  },
  {
   "cell_type": "code",
   "execution_count": 15,
   "id": "4746bf56",
   "metadata": {},
   "outputs": [
    {
     "data": {
      "text/html": [
       "<table class=\"simpletable\">\n",
       "<caption>OLS Regression Results</caption>\n",
       "<tr>\n",
       "  <th>Dep. Variable:</th>         <td>LnPrice</td>     <th>  R-squared:         </th> <td>   0.828</td>\n",
       "</tr>\n",
       "<tr>\n",
       "  <th>Model:</th>                   <td>OLS</td>       <th>  Adj. R-squared:    </th> <td>   0.828</td>\n",
       "</tr>\n",
       "<tr>\n",
       "  <th>Method:</th>             <td>Least Squares</td>  <th>  F-statistic:       </th> <td>   7219.</td>\n",
       "</tr>\n",
       "<tr>\n",
       "  <th>Date:</th>             <td>Wed, 19 Oct 2022</td> <th>  Prob (F-statistic):</th>  <td>  0.00</td> \n",
       "</tr>\n",
       "<tr>\n",
       "  <th>Time:</th>                 <td>16:39:27</td>     <th>  Log-Likelihood:    </th> <td> -2438.9</td>\n",
       "</tr>\n",
       "<tr>\n",
       "  <th>No. Observations:</th>      <td>  6019</td>      <th>  AIC:               </th> <td>   4888.</td>\n",
       "</tr>\n",
       "<tr>\n",
       "  <th>Df Residuals:</th>          <td>  6014</td>      <th>  BIC:               </th> <td>   4921.</td>\n",
       "</tr>\n",
       "<tr>\n",
       "  <th>Df Model:</th>              <td>     4</td>      <th>                     </th>     <td> </td>   \n",
       "</tr>\n",
       "<tr>\n",
       "  <th>Covariance Type:</th>      <td>nonrobust</td>    <th>                     </th>     <td> </td>   \n",
       "</tr>\n",
       "</table>\n",
       "<table class=\"simpletable\">\n",
       "<tr>\n",
       "          <td></td>             <th>coef</th>     <th>std err</th>      <th>t</th>      <th>P>|t|</th>  <th>[0.025</th>    <th>0.975]</th>  \n",
       "</tr>\n",
       "<tr>\n",
       "  <th>const</th>             <td> -275.1688</td> <td>    2.944</td> <td>  -93.476</td> <td> 0.000</td> <td> -280.940</td> <td> -269.398</td>\n",
       "</tr>\n",
       "<tr>\n",
       "  <th>Power</th>             <td>    0.0084</td> <td>    0.000</td> <td>   48.441</td> <td> 0.000</td> <td>    0.008</td> <td>    0.009</td>\n",
       "</tr>\n",
       "<tr>\n",
       "  <th>Engine</th>            <td>    0.0004</td> <td> 1.54e-05</td> <td>   25.581</td> <td> 0.000</td> <td>    0.000</td> <td>    0.000</td>\n",
       "</tr>\n",
       "<tr>\n",
       "  <th>Kilometers_Driven</th> <td>-9.706e-09</td> <td> 5.24e-08</td> <td>   -0.185</td> <td> 0.853</td> <td>-1.12e-07</td> <td>  9.3e-08</td>\n",
       "</tr>\n",
       "<tr>\n",
       "  <th>Year</th>              <td>    0.1368</td> <td>    0.001</td> <td>   93.594</td> <td> 0.000</td> <td>    0.134</td> <td>    0.140</td>\n",
       "</tr>\n",
       "</table>\n",
       "<table class=\"simpletable\">\n",
       "<tr>\n",
       "  <th>Omnibus:</th>       <td>1161.102</td> <th>  Durbin-Watson:     </th> <td>   1.977</td> \n",
       "</tr>\n",
       "<tr>\n",
       "  <th>Prob(Omnibus):</th>  <td> 0.000</td>  <th>  Jarque-Bera (JB):  </th> <td>15841.911</td>\n",
       "</tr>\n",
       "<tr>\n",
       "  <th>Skew:</th>           <td>-0.524</td>  <th>  Prob(JB):          </th> <td>    0.00</td> \n",
       "</tr>\n",
       "<tr>\n",
       "  <th>Kurtosis:</th>       <td>10.878</td>  <th>  Cond. No.          </th> <td>6.83e+07</td> \n",
       "</tr>\n",
       "</table><br/><br/>Notes:<br/>[1] Standard Errors assume that the covariance matrix of the errors is correctly specified.<br/>[2] The condition number is large, 6.83e+07. This might indicate that there are<br/>strong multicollinearity or other numerical problems."
      ],
      "text/plain": [
       "<class 'statsmodels.iolib.summary.Summary'>\n",
       "\"\"\"\n",
       "                            OLS Regression Results                            \n",
       "==============================================================================\n",
       "Dep. Variable:                LnPrice   R-squared:                       0.828\n",
       "Model:                            OLS   Adj. R-squared:                  0.828\n",
       "Method:                 Least Squares   F-statistic:                     7219.\n",
       "Date:                Wed, 19 Oct 2022   Prob (F-statistic):               0.00\n",
       "Time:                        16:39:27   Log-Likelihood:                -2438.9\n",
       "No. Observations:                6019   AIC:                             4888.\n",
       "Df Residuals:                    6014   BIC:                             4921.\n",
       "Df Model:                           4                                         \n",
       "Covariance Type:            nonrobust                                         \n",
       "=====================================================================================\n",
       "                        coef    std err          t      P>|t|      [0.025      0.975]\n",
       "-------------------------------------------------------------------------------------\n",
       "const              -275.1688      2.944    -93.476      0.000    -280.940    -269.398\n",
       "Power                 0.0084      0.000     48.441      0.000       0.008       0.009\n",
       "Engine                0.0004   1.54e-05     25.581      0.000       0.000       0.000\n",
       "Kilometers_Driven -9.706e-09   5.24e-08     -0.185      0.853   -1.12e-07     9.3e-08\n",
       "Year                  0.1368      0.001     93.594      0.000       0.134       0.140\n",
       "==============================================================================\n",
       "Omnibus:                     1161.102   Durbin-Watson:                   1.977\n",
       "Prob(Omnibus):                  0.000   Jarque-Bera (JB):            15841.911\n",
       "Skew:                          -0.524   Prob(JB):                         0.00\n",
       "Kurtosis:                      10.878   Cond. No.                     6.83e+07\n",
       "==============================================================================\n",
       "\n",
       "Notes:\n",
       "[1] Standard Errors assume that the covariance matrix of the errors is correctly specified.\n",
       "[2] The condition number is large, 6.83e+07. This might indicate that there are\n",
       "strong multicollinearity or other numerical problems.\n",
       "\"\"\""
      ]
     },
     "execution_count": 15,
     "metadata": {},
     "output_type": "execute_result"
    }
   ],
   "source": [
    "model_fill_mean = sm.OLS(car2[\"LnPrice\"], sm.add_constant(car2[[\"Power\", \"Engine\", \"Kilometers_Driven\", \"Year\"]]) ).fit()\n",
    "model_fill_mean.summary()"
   ]
  },
  {
   "cell_type": "markdown",
   "id": "b4e40941",
   "metadata": {},
   "source": [
    "*82.8% of variance in outcome is explained by the variables. There is a small drop in R-sqaured in this fill-NA-with-mean model compared to the previous drop-NA model.*"
   ]
  },
  {
   "cell_type": "markdown",
   "id": "d06013c9",
   "metadata": {},
   "source": [
    "### 7. How many rows were used to train the model?\n",
    "*The model summary says \"No. Observations: 6019\", meaning that 6019 observations were used to train the model. Compared to the previous model, more observations were used.*"
   ]
  },
  {
   "cell_type": "markdown",
   "id": "259125c8",
   "metadata": {},
   "source": [
    "### 8. Impute the missing data using MICE and rebuild the model"
   ]
  },
  {
   "cell_type": "code",
   "execution_count": 16,
   "id": "3f784502",
   "metadata": {},
   "outputs": [
    {
     "name": "stdout",
     "output_type": "stream",
     "text": [
      "[IterativeImputer] Completing matrix with shape (6019, 4)\n",
      "[IterativeImputer] Ending imputation round 1/100, elapsed time 0.01\n",
      "[IterativeImputer] Change: 139.89629145912852, scaled tolerance: 0.00065 \n",
      "[IterativeImputer] Ending imputation round 2/100, elapsed time 0.02\n",
      "[IterativeImputer] Change: 33.14139332511968, scaled tolerance: 0.00065 \n",
      "[IterativeImputer] Ending imputation round 3/100, elapsed time 0.03\n",
      "[IterativeImputer] Change: 25.18748348945246, scaled tolerance: 0.00065 \n",
      "[IterativeImputer] Ending imputation round 4/100, elapsed time 0.03\n",
      "[IterativeImputer] Change: 19.142506119394056, scaled tolerance: 0.00065 \n",
      "[IterativeImputer] Ending imputation round 5/100, elapsed time 0.04\n",
      "[IterativeImputer] Change: 14.548318837988063, scaled tolerance: 0.00065 \n",
      "[IterativeImputer] Ending imputation round 6/100, elapsed time 0.05\n",
      "[IterativeImputer] Change: 11.056733099184385, scaled tolerance: 0.00065 \n",
      "[IterativeImputer] Ending imputation round 7/100, elapsed time 0.05\n",
      "[IterativeImputer] Change: 8.403125349951097, scaled tolerance: 0.00065 \n",
      "[IterativeImputer] Ending imputation round 8/100, elapsed time 0.06\n",
      "[IterativeImputer] Change: 6.386381493840872, scaled tolerance: 0.00065 \n",
      "[IterativeImputer] Ending imputation round 9/100, elapsed time 0.07\n",
      "[IterativeImputer] Change: 4.853654668511808, scaled tolerance: 0.00065 \n",
      "[IterativeImputer] Ending imputation round 10/100, elapsed time 0.07\n",
      "[IterativeImputer] Change: 3.688781145300709, scaled tolerance: 0.00065 \n",
      "[IterativeImputer] Ending imputation round 11/100, elapsed time 0.08\n",
      "[IterativeImputer] Change: 2.803476404326375, scaled tolerance: 0.00065 \n",
      "[IterativeImputer] Ending imputation round 12/100, elapsed time 0.08\n",
      "[IterativeImputer] Change: 2.1306441450478815, scaled tolerance: 0.00065 \n",
      "[IterativeImputer] Ending imputation round 13/100, elapsed time 0.09\n",
      "[IterativeImputer] Change: 1.619291129339672, scaled tolerance: 0.00065 \n",
      "[IterativeImputer] Ending imputation round 14/100, elapsed time 0.10\n",
      "[IterativeImputer] Change: 1.2306624584211932, scaled tolerance: 0.00065 \n",
      "[IterativeImputer] Ending imputation round 15/100, elapsed time 0.10\n",
      "[IterativeImputer] Change: 0.9353043804926529, scaled tolerance: 0.00065 \n",
      "[IterativeImputer] Ending imputation round 16/100, elapsed time 0.11\n",
      "[IterativeImputer] Change: 0.7108320223619558, scaled tolerance: 0.00065 \n",
      "[IterativeImputer] Ending imputation round 17/100, elapsed time 0.12\n",
      "[IterativeImputer] Change: 0.540232863818801, scaled tolerance: 0.00065 \n",
      "[IterativeImputer] Ending imputation round 18/100, elapsed time 0.12\n",
      "[IterativeImputer] Change: 0.4105773768906147, scaled tolerance: 0.00065 \n",
      "[IterativeImputer] Ending imputation round 19/100, elapsed time 0.13\n",
      "[IterativeImputer] Change: 0.3120391107318028, scaled tolerance: 0.00065 \n",
      "[IterativeImputer] Ending imputation round 20/100, elapsed time 0.14\n",
      "[IterativeImputer] Change: 0.23714995541786266, scaled tolerance: 0.00065 \n",
      "[IterativeImputer] Ending imputation round 21/100, elapsed time 0.14\n",
      "[IterativeImputer] Change: 0.1802341418811011, scaled tolerance: 0.00065 \n",
      "[IterativeImputer] Ending imputation round 22/100, elapsed time 0.15\n",
      "[IterativeImputer] Change: 0.13697808140568668, scaled tolerance: 0.00065 \n",
      "[IterativeImputer] Ending imputation round 23/100, elapsed time 0.16\n",
      "[IterativeImputer] Change: 0.1041034433887944, scaled tolerance: 0.00065 \n",
      "[IterativeImputer] Ending imputation round 24/100, elapsed time 0.16\n",
      "[IterativeImputer] Change: 0.07911869413328532, scaled tolerance: 0.00065 \n",
      "[IterativeImputer] Ending imputation round 25/100, elapsed time 0.17\n",
      "[IterativeImputer] Change: 0.06013026617711148, scaled tolerance: 0.00065 \n",
      "[IterativeImputer] Ending imputation round 26/100, elapsed time 0.17\n",
      "[IterativeImputer] Change: 0.045699046859226655, scaled tolerance: 0.00065 \n",
      "[IterativeImputer] Ending imputation round 27/100, elapsed time 0.18\n",
      "[IterativeImputer] Change: 0.0347313094830497, scaled tolerance: 0.00065 \n",
      "[IterativeImputer] Ending imputation round 28/100, elapsed time 0.19\n",
      "[IterativeImputer] Change: 0.02639582094934667, scaled tolerance: 0.00065 \n",
      "[IterativeImputer] Ending imputation round 29/100, elapsed time 0.19\n",
      "[IterativeImputer] Change: 0.020060843482951896, scaled tolerance: 0.00065 \n",
      "[IterativeImputer] Ending imputation round 30/100, elapsed time 0.20\n",
      "[IterativeImputer] Change: 0.015246255914917128, scaled tolerance: 0.00065 \n",
      "[IterativeImputer] Ending imputation round 31/100, elapsed time 0.22\n",
      "[IterativeImputer] Change: 0.01158716579539032, scaled tolerance: 0.00065 \n",
      "[IterativeImputer] Ending imputation round 32/100, elapsed time 0.23\n",
      "[IterativeImputer] Change: 0.008806254593309859, scaled tolerance: 0.00065 \n",
      "[IterativeImputer] Ending imputation round 33/100, elapsed time 0.24\n",
      "[IterativeImputer] Change: 0.006692760013265797, scaled tolerance: 0.00065 \n",
      "[IterativeImputer] Ending imputation round 34/100, elapsed time 0.25\n",
      "[IterativeImputer] Change: 0.005086502571430174, scaled tolerance: 0.00065 \n",
      "[IterativeImputer] Ending imputation round 35/100, elapsed time 0.26\n",
      "[IterativeImputer] Change: 0.0038657457271256135, scaled tolerance: 0.00065 \n",
      "[IterativeImputer] Ending imputation round 36/100, elapsed time 0.26\n",
      "[IterativeImputer] Change: 0.002937969614777103, scaled tolerance: 0.00065 \n",
      "[IterativeImputer] Ending imputation round 37/100, elapsed time 0.27\n",
      "[IterativeImputer] Change: 0.002232859088053374, scaled tolerance: 0.00065 \n",
      "[IterativeImputer] Ending imputation round 38/100, elapsed time 0.28\n",
      "[IterativeImputer] Change: 0.0016969745583992335, scaled tolerance: 0.00065 \n",
      "[IterativeImputer] Ending imputation round 39/100, elapsed time 0.29\n",
      "[IterativeImputer] Change: 0.0012897019219053618, scaled tolerance: 0.00065 \n",
      "[IterativeImputer] Ending imputation round 40/100, elapsed time 0.31\n",
      "[IterativeImputer] Change: 0.000980174416781665, scaled tolerance: 0.00065 \n",
      "[IterativeImputer] Ending imputation round 41/100, elapsed time 0.32\n",
      "[IterativeImputer] Change: 0.0007449332847500045, scaled tolerance: 0.00065 \n",
      "[IterativeImputer] Ending imputation round 42/100, elapsed time 0.33\n",
      "[IterativeImputer] Change: 0.0005661498485096672, scaled tolerance: 0.00065 \n",
      "[IterativeImputer] Early stopping criterion reached.\n",
      "[IterativeImputer] Completing matrix with shape (6019, 4)\n",
      "[IterativeImputer] Ending imputation round 1/42, elapsed time 0.00\n",
      "[IterativeImputer] Ending imputation round 2/42, elapsed time 0.00\n",
      "[IterativeImputer] Ending imputation round 3/42, elapsed time 0.01\n",
      "[IterativeImputer] Ending imputation round 4/42, elapsed time 0.01\n",
      "[IterativeImputer] Ending imputation round 5/42, elapsed time 0.01\n",
      "[IterativeImputer] Ending imputation round 6/42, elapsed time 0.02\n",
      "[IterativeImputer] Ending imputation round 7/42, elapsed time 0.02\n",
      "[IterativeImputer] Ending imputation round 8/42, elapsed time 0.02\n",
      "[IterativeImputer] Ending imputation round 9/42, elapsed time 0.02\n",
      "[IterativeImputer] Ending imputation round 10/42, elapsed time 0.02\n",
      "[IterativeImputer] Ending imputation round 11/42, elapsed time 0.02\n",
      "[IterativeImputer] Ending imputation round 12/42, elapsed time 0.02\n",
      "[IterativeImputer] Ending imputation round 13/42, elapsed time 0.02\n",
      "[IterativeImputer] Ending imputation round 14/42, elapsed time 0.02\n",
      "[IterativeImputer] Ending imputation round 15/42, elapsed time 0.03\n",
      "[IterativeImputer] Ending imputation round 16/42, elapsed time 0.03\n",
      "[IterativeImputer] Ending imputation round 17/42, elapsed time 0.03\n",
      "[IterativeImputer] Ending imputation round 18/42, elapsed time 0.03\n",
      "[IterativeImputer] Ending imputation round 19/42, elapsed time 0.03\n",
      "[IterativeImputer] Ending imputation round 20/42, elapsed time 0.03\n",
      "[IterativeImputer] Ending imputation round 21/42, elapsed time 0.03\n",
      "[IterativeImputer] Ending imputation round 22/42, elapsed time 0.03\n",
      "[IterativeImputer] Ending imputation round 23/42, elapsed time 0.03\n",
      "[IterativeImputer] Ending imputation round 24/42, elapsed time 0.03\n",
      "[IterativeImputer] Ending imputation round 25/42, elapsed time 0.03\n",
      "[IterativeImputer] Ending imputation round 26/42, elapsed time 0.04\n",
      "[IterativeImputer] Ending imputation round 27/42, elapsed time 0.04\n",
      "[IterativeImputer] Ending imputation round 28/42, elapsed time 0.04\n",
      "[IterativeImputer] Ending imputation round 29/42, elapsed time 0.04\n",
      "[IterativeImputer] Ending imputation round 30/42, elapsed time 0.04\n",
      "[IterativeImputer] Ending imputation round 31/42, elapsed time 0.04\n",
      "[IterativeImputer] Ending imputation round 32/42, elapsed time 0.05\n",
      "[IterativeImputer] Ending imputation round 33/42, elapsed time 0.05\n",
      "[IterativeImputer] Ending imputation round 34/42, elapsed time 0.05\n",
      "[IterativeImputer] Ending imputation round 35/42, elapsed time 0.05\n",
      "[IterativeImputer] Ending imputation round 36/42, elapsed time 0.05\n",
      "[IterativeImputer] Ending imputation round 37/42, elapsed time 0.05\n",
      "[IterativeImputer] Ending imputation round 38/42, elapsed time 0.05\n",
      "[IterativeImputer] Ending imputation round 39/42, elapsed time 0.06\n",
      "[IterativeImputer] Ending imputation round 40/42, elapsed time 0.06\n",
      "[IterativeImputer] Ending imputation round 41/42, elapsed time 0.06\n",
      "[IterativeImputer] Ending imputation round 42/42, elapsed time 0.06\n"
     ]
    }
   ],
   "source": [
    "X = cars.loc[:, [\"Power\", \"Engine\", \"Kilometers_Driven\", \"Year\"]]\n",
    "lr = LinearRegression()\n",
    "imp = IterativeImputer(estimator = lr, verbose = 2, max_iter = 100, tol = 1e-10, imputation_order = 'roman')\n",
    "\n",
    "imp.fit(X)\n",
    "miceDf = pd.DataFrame(imp.transform(X), columns = [\"Power\", \"Engine\", \"Kilometers_Driven\", \"Year\"])"
   ]
  },
  {
   "cell_type": "code",
   "execution_count": 17,
   "id": "626c50c4",
   "metadata": {},
   "outputs": [
    {
     "data": {
      "text/html": [
       "<div>\n",
       "<style scoped>\n",
       "    .dataframe tbody tr th:only-of-type {\n",
       "        vertical-align: middle;\n",
       "    }\n",
       "\n",
       "    .dataframe tbody tr th {\n",
       "        vertical-align: top;\n",
       "    }\n",
       "\n",
       "    .dataframe thead th {\n",
       "        text-align: right;\n",
       "    }\n",
       "</style>\n",
       "<table border=\"1\" class=\"dataframe\">\n",
       "  <thead>\n",
       "    <tr style=\"text-align: right;\">\n",
       "      <th></th>\n",
       "      <th>Power</th>\n",
       "      <th>Engine</th>\n",
       "      <th>Kilometers_Driven</th>\n",
       "      <th>Year</th>\n",
       "      <th>LnPrice</th>\n",
       "    </tr>\n",
       "  </thead>\n",
       "  <tbody>\n",
       "    <tr>\n",
       "      <th>0</th>\n",
       "      <td>58.16</td>\n",
       "      <td>998.0</td>\n",
       "      <td>72000.0</td>\n",
       "      <td>2010.0</td>\n",
       "      <td>0.559616</td>\n",
       "    </tr>\n",
       "    <tr>\n",
       "      <th>1</th>\n",
       "      <td>126.20</td>\n",
       "      <td>1582.0</td>\n",
       "      <td>41000.0</td>\n",
       "      <td>2015.0</td>\n",
       "      <td>2.525729</td>\n",
       "    </tr>\n",
       "    <tr>\n",
       "      <th>2</th>\n",
       "      <td>88.70</td>\n",
       "      <td>1199.0</td>\n",
       "      <td>46000.0</td>\n",
       "      <td>2011.0</td>\n",
       "      <td>1.504077</td>\n",
       "    </tr>\n",
       "    <tr>\n",
       "      <th>3</th>\n",
       "      <td>88.76</td>\n",
       "      <td>1248.0</td>\n",
       "      <td>87000.0</td>\n",
       "      <td>2012.0</td>\n",
       "      <td>1.791759</td>\n",
       "    </tr>\n",
       "    <tr>\n",
       "      <th>4</th>\n",
       "      <td>140.80</td>\n",
       "      <td>1968.0</td>\n",
       "      <td>40670.0</td>\n",
       "      <td>2013.0</td>\n",
       "      <td>2.875822</td>\n",
       "    </tr>\n",
       "  </tbody>\n",
       "</table>\n",
       "</div>"
      ],
      "text/plain": [
       "    Power  Engine  Kilometers_Driven    Year   LnPrice\n",
       "0   58.16   998.0            72000.0  2010.0  0.559616\n",
       "1  126.20  1582.0            41000.0  2015.0  2.525729\n",
       "2   88.70  1199.0            46000.0  2011.0  1.504077\n",
       "3   88.76  1248.0            87000.0  2012.0  1.791759\n",
       "4  140.80  1968.0            40670.0  2013.0  2.875822"
      ]
     },
     "execution_count": 17,
     "metadata": {},
     "output_type": "execute_result"
    }
   ],
   "source": [
    "car3 = pd.concat([miceDf, cars[\"LnPrice\"]], axis = 1)\n",
    "car3.head()"
   ]
  },
  {
   "cell_type": "code",
   "execution_count": 18,
   "id": "959fc585",
   "metadata": {},
   "outputs": [
    {
     "data": {
      "text/html": [
       "<table class=\"simpletable\">\n",
       "<caption>OLS Regression Results</caption>\n",
       "<tr>\n",
       "  <th>Dep. Variable:</th>         <td>LnPrice</td>     <th>  R-squared:         </th> <td>   0.830</td>\n",
       "</tr>\n",
       "<tr>\n",
       "  <th>Model:</th>                   <td>OLS</td>       <th>  Adj. R-squared:    </th> <td>   0.830</td>\n",
       "</tr>\n",
       "<tr>\n",
       "  <th>Method:</th>             <td>Least Squares</td>  <th>  F-statistic:       </th> <td>   7329.</td>\n",
       "</tr>\n",
       "<tr>\n",
       "  <th>Date:</th>             <td>Wed, 19 Oct 2022</td> <th>  Prob (F-statistic):</th>  <td>  0.00</td> \n",
       "</tr>\n",
       "<tr>\n",
       "  <th>Time:</th>                 <td>16:39:28</td>     <th>  Log-Likelihood:    </th> <td> -2401.0</td>\n",
       "</tr>\n",
       "<tr>\n",
       "  <th>No. Observations:</th>      <td>  6019</td>      <th>  AIC:               </th> <td>   4812.</td>\n",
       "</tr>\n",
       "<tr>\n",
       "  <th>Df Residuals:</th>          <td>  6014</td>      <th>  BIC:               </th> <td>   4846.</td>\n",
       "</tr>\n",
       "<tr>\n",
       "  <th>Df Model:</th>              <td>     4</td>      <th>                     </th>     <td> </td>   \n",
       "</tr>\n",
       "<tr>\n",
       "  <th>Covariance Type:</th>      <td>nonrobust</td>    <th>                     </th>     <td> </td>   \n",
       "</tr>\n",
       "</table>\n",
       "<table class=\"simpletable\">\n",
       "<tr>\n",
       "          <td></td>             <th>coef</th>     <th>std err</th>      <th>t</th>      <th>P>|t|</th>  <th>[0.025</th>    <th>0.975]</th>  \n",
       "</tr>\n",
       "<tr>\n",
       "  <th>const</th>             <td> -269.4455</td> <td>    2.940</td> <td>  -91.656</td> <td> 0.000</td> <td> -275.208</td> <td> -263.683</td>\n",
       "</tr>\n",
       "<tr>\n",
       "  <th>Power</th>             <td>    0.0088</td> <td>    0.000</td> <td>   49.466</td> <td> 0.000</td> <td>    0.008</td> <td>    0.009</td>\n",
       "</tr>\n",
       "<tr>\n",
       "  <th>Engine</th>            <td>    0.0004</td> <td> 1.59e-05</td> <td>   22.246</td> <td> 0.000</td> <td>    0.000</td> <td>    0.000</td>\n",
       "</tr>\n",
       "<tr>\n",
       "  <th>Kilometers_Driven</th> <td>-1.492e-09</td> <td>  5.2e-08</td> <td>   -0.029</td> <td> 0.977</td> <td>-1.04e-07</td> <td> 1.01e-07</td>\n",
       "</tr>\n",
       "<tr>\n",
       "  <th>Year</th>              <td>    0.1340</td> <td>    0.001</td> <td>   91.787</td> <td> 0.000</td> <td>    0.131</td> <td>    0.137</td>\n",
       "</tr>\n",
       "</table>\n",
       "<table class=\"simpletable\">\n",
       "<tr>\n",
       "  <th>Omnibus:</th>       <td>1218.061</td> <th>  Durbin-Watson:     </th> <td>   1.973</td> \n",
       "</tr>\n",
       "<tr>\n",
       "  <th>Prob(Omnibus):</th>  <td> 0.000</td>  <th>  Jarque-Bera (JB):  </th> <td>16778.317</td>\n",
       "</tr>\n",
       "<tr>\n",
       "  <th>Skew:</th>           <td>-0.572</td>  <th>  Prob(JB):          </th> <td>    0.00</td> \n",
       "</tr>\n",
       "<tr>\n",
       "  <th>Kurtosis:</th>       <td>11.099</td>  <th>  Cond. No.          </th> <td>6.86e+07</td> \n",
       "</tr>\n",
       "</table><br/><br/>Notes:<br/>[1] Standard Errors assume that the covariance matrix of the errors is correctly specified.<br/>[2] The condition number is large, 6.86e+07. This might indicate that there are<br/>strong multicollinearity or other numerical problems."
      ],
      "text/plain": [
       "<class 'statsmodels.iolib.summary.Summary'>\n",
       "\"\"\"\n",
       "                            OLS Regression Results                            \n",
       "==============================================================================\n",
       "Dep. Variable:                LnPrice   R-squared:                       0.830\n",
       "Model:                            OLS   Adj. R-squared:                  0.830\n",
       "Method:                 Least Squares   F-statistic:                     7329.\n",
       "Date:                Wed, 19 Oct 2022   Prob (F-statistic):               0.00\n",
       "Time:                        16:39:28   Log-Likelihood:                -2401.0\n",
       "No. Observations:                6019   AIC:                             4812.\n",
       "Df Residuals:                    6014   BIC:                             4846.\n",
       "Df Model:                           4                                         \n",
       "Covariance Type:            nonrobust                                         \n",
       "=====================================================================================\n",
       "                        coef    std err          t      P>|t|      [0.025      0.975]\n",
       "-------------------------------------------------------------------------------------\n",
       "const              -269.4455      2.940    -91.656      0.000    -275.208    -263.683\n",
       "Power                 0.0088      0.000     49.466      0.000       0.008       0.009\n",
       "Engine                0.0004   1.59e-05     22.246      0.000       0.000       0.000\n",
       "Kilometers_Driven -1.492e-09    5.2e-08     -0.029      0.977   -1.04e-07    1.01e-07\n",
       "Year                  0.1340      0.001     91.787      0.000       0.131       0.137\n",
       "==============================================================================\n",
       "Omnibus:                     1218.061   Durbin-Watson:                   1.973\n",
       "Prob(Omnibus):                  0.000   Jarque-Bera (JB):            16778.317\n",
       "Skew:                          -0.572   Prob(JB):                         0.00\n",
       "Kurtosis:                      11.099   Cond. No.                     6.86e+07\n",
       "==============================================================================\n",
       "\n",
       "Notes:\n",
       "[1] Standard Errors assume that the covariance matrix of the errors is correctly specified.\n",
       "[2] The condition number is large, 6.86e+07. This might indicate that there are\n",
       "strong multicollinearity or other numerical problems.\n",
       "\"\"\""
      ]
     },
     "execution_count": 18,
     "metadata": {},
     "output_type": "execute_result"
    }
   ],
   "source": [
    "model_fill_mice = sm.OLS(car3[\"LnPrice\"], sm.add_constant(car3[[\"Power\", \"Engine\", \"Kilometers_Driven\", \"Year\"]]) ).fit()\n",
    "model_fill_mice.summary()"
   ]
  },
  {
   "cell_type": "markdown",
   "id": "d7767464",
   "metadata": {},
   "source": [
    "*83% of the variance in LnPrice can be explained by the 4 variables where null values are filled with the MICE procedure.*"
   ]
  },
  {
   "cell_type": "markdown",
   "id": "c7f5a930",
   "metadata": {},
   "source": [
    "### 9. How have the parameter estimates changed from step 4?"
   ]
  },
  {
   "cell_type": "code",
   "execution_count": 19,
   "id": "39cb580b",
   "metadata": {},
   "outputs": [
    {
     "name": "stdout",
     "output_type": "stream",
     "text": [
      "\t\tPower\t\t\t\tEngine\t\t\t\tKilometers_Driven\t\tYear\n",
      "drop NA\t0.00876573168507434\t0.00035669292338624277\t3.426330136294642e-09\t0.1352129373314112\n",
      "fill mean\t0.008393195691603485\t0.0003951353657641591\t-9.705803963173997e-09\t0.13678802055382927\n",
      "fill MICE\t0.00876573166754284\t0.0003538971787973637\t-1.492226640920685e-09\t0.13395934998855852\n"
     ]
    }
   ],
   "source": [
    "print(\"\\t\\tPower\\t\\t\\t\\tEngine\\t\\t\\t\\tKilometers_Driven\\t\\tYear\")\n",
    "print(\"drop NA\", model_drop_na.params[1], model_drop_na.params[2], model_drop_na.params[3], model_drop_na.params[4], sep=\"\\t\")\n",
    "print(\"fill mean\", model_fill_mean.params[1], model_fill_mean.params[2], model_fill_mean.params[3], model_fill_mean.params[4], sep=\"\\t\")\n",
    "print(\"fill MICE\", model_fill_mice.params[1], model_fill_mice.params[2], model_fill_mice.params[3], model_fill_mice.params[4], sep=\"\\t\")"
   ]
  },
  {
   "cell_type": "markdown",
   "id": "5438956a",
   "metadata": {},
   "source": [
    "*The parameter estimates of Power and Engine do not change much whether NA values are dropped, filled with means or filled with MICE imputation. The estimates of them, however, are closer to each other when NA values are dropped and when filled with MICE imputation.*  \n",
    "*On the other hand, it looks like the coefficients of Kilometers_Driven and Year are changing with different models. However, the coefficients changed very little.*"
   ]
  },
  {
   "cell_type": "markdown",
   "id": "0cb8559c",
   "metadata": {},
   "source": [
    "### 10. Plot the distribution of Power with and without MICE"
   ]
  },
  {
   "cell_type": "code",
   "execution_count": 20,
   "id": "3a3c34df",
   "metadata": {},
   "outputs": [
    {
     "data": {
      "image/png": "[encoded data removed]",
      "text/plain": [
       "<Figure size 576x360 with 1 Axes>"
      ]
     },
     "metadata": {
      "needs_background": "light"
     },
     "output_type": "display_data"
    }
   ],
   "source": [
    "no_mice_power = pd.concat([cars[\"Power\"], pd.DataFrame([\"Without MICE\"]*cars.shape[0])], axis = 1)\n",
    "mice_power = pd.concat([car3[\"Power\"], pd.DataFrame([\"With MICE\"]*car3.shape[0])], axis = 1)\n",
    "comb_power = pd.concat([no_mice_power, mice_power], axis = 0)\n",
    "comb_power.rename(columns = {0 : \"Mice\"}, inplace = True)\n",
    "\n",
    "plt.figure(figsize=(8,5))\n",
    "sns.histplot(x=comb_power[\"Power\"], hue=comb_power[\"Mice\"], kde = True,\n",
    "             alpha = 0.4, multiple=\"layer\", element=\"step\", hue_order=[\"With MICE\", \"Without MICE\"])\n",
    "plt.show()"
   ]
  },
  {
   "cell_type": "markdown",
   "id": "f045be4d",
   "metadata": {},
   "source": [
    "*The two distributions almost overlap with each other , with a slight difference when Power is around 70-120.*"
   ]
  },
  {
   "cell_type": "markdown",
   "id": "018836b0",
   "metadata": {},
   "source": [
    "### 11. Plot the distribution of Engine with and without MICE"
   ]
  },
  {
   "cell_type": "code",
   "execution_count": 21,
   "id": "3c440342",
   "metadata": {},
   "outputs": [
    {
     "data": {
      "image/png": "[encoded data removed]",
      "text/plain": [
       "<Figure size 576x360 with 1 Axes>"
      ]
     },
     "metadata": {
      "needs_background": "light"
     },
     "output_type": "display_data"
    }
   ],
   "source": [
    "no_mice_engine = pd.concat([cars[\"Engine\"], pd.DataFrame([\"Without MICE\"]*cars.shape[0])], axis = 1)\n",
    "mice_engine = pd.concat([car3[\"Engine\"], pd.DataFrame([\"With MICE\"]*car3.shape[0])], axis = 1)\n",
    "comb_engine = pd.concat([no_mice_engine, mice_engine], axis = 0)\n",
    "comb_engine.rename(columns = {0 : \"Mice\"}, inplace = True)\n",
    "\n",
    "plt.figure(figsize=(8,5))   \n",
    "sns.histplot(x=comb_engine[\"Engine\"], hue=comb_engine[\"Mice\"], alpha = 0.4, kde = True, \n",
    "            element=\"step\", hue_order=[\"With MICE\", \"Without MICE\"])\n",
    "plt.show()"
   ]
  },
  {
   "cell_type": "markdown",
   "id": "1a86b25d",
   "metadata": {},
   "source": [
    "*The two distributions are almost the same. There is only a small difference around Engine = 1800.*"
   ]
  }
 ],
 "metadata": {
  "kernelspec": {
   "display_name": "Python 3",
   "language": "python",
   "name": "python3"
  },
  "language_info": {
   "codemirror_mode": {
    "name": "ipython",
    "version": 3
   },
   "file_extension": ".py",
   "mimetype": "text/x-python",
   "name": "python",
   "nbconvert_exporter": "python",
   "pygments_lexer": "ipython3",
   "version": "3.8.8"
  }
 },
 "nbformat": 4,
 "nbformat_minor": 5
}
