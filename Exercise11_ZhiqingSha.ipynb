{
 "cells": [
  {
   "cell_type": "markdown",
   "id": "f18377c0",
   "metadata": {},
   "source": [
    "### Read in IMDB data from IMDB.csv, do some preprocessing by dropping rows that have null values and dropping any duplicate reviews."
   ]
  },
  {
   "cell_type": "code",
   "execution_count": 1,
   "id": "7f04b147",
   "metadata": {},
   "outputs": [],
   "source": [
    "import pandas as pd\n",
    "import numpy as np\n",
    "import matplotlib.pyplot as plt\n",
    "import seaborn as sns"
   ]
  },
  {
   "cell_type": "code",
   "execution_count": 2,
   "id": "9cfdfa7f",
   "metadata": {},
   "outputs": [
    {
     "data": {
      "text/html": [
       "<div>\n",
       "<style scoped>\n",
       "    .dataframe tbody tr th:only-of-type {\n",
       "        vertical-align: middle;\n",
       "    }\n",
       "\n",
       "    .dataframe tbody tr th {\n",
       "        vertical-align: top;\n",
       "    }\n",
       "\n",
       "    .dataframe thead th {\n",
       "        text-align: right;\n",
       "    }\n",
       "</style>\n",
       "<table border=\"1\" class=\"dataframe\">\n",
       "  <thead>\n",
       "    <tr style=\"text-align: right;\">\n",
       "      <th></th>\n",
       "      <th>AUTHOR</th>\n",
       "      <th>TITLE</th>\n",
       "      <th>REVIEW</th>\n",
       "      <th>RATING</th>\n",
       "    </tr>\n",
       "  </thead>\n",
       "  <tbody>\n",
       "    <tr>\n",
       "      <th>0</th>\n",
       "      <td>margarida-44311</td>\n",
       "      <td>Not Bad</td>\n",
       "      <td>I don't get all the terrible reviews for this ...</td>\n",
       "      <td>5.0</td>\n",
       "    </tr>\n",
       "    <tr>\n",
       "      <th>1</th>\n",
       "      <td>joemay-2</td>\n",
       "      <td>What are all the bad reviews about is it a wo...</td>\n",
       "      <td>I cannot believe anyone could give this film l...</td>\n",
       "      <td>8.0</td>\n",
       "    </tr>\n",
       "    <tr>\n",
       "      <th>2</th>\n",
       "      <td>nebk</td>\n",
       "      <td>Great White=Jaws Lite</td>\n",
       "      <td>Great White is not the worst way to spend 90 m...</td>\n",
       "      <td>4.0</td>\n",
       "    </tr>\n",
       "    <tr>\n",
       "      <th>3</th>\n",
       "      <td>kuarinofu</td>\n",
       "      <td>Bare-bones killer shark film</td>\n",
       "      <td>Great White is as basic of a killer shark film...</td>\n",
       "      <td>4.0</td>\n",
       "    </tr>\n",
       "    <tr>\n",
       "      <th>4</th>\n",
       "      <td>Horror_Flick_Fanatic</td>\n",
       "      <td>Terrible story, dialogue, and CGI</td>\n",
       "      <td>Terrible story, dialogue and CGI. The film has...</td>\n",
       "      <td>4.0</td>\n",
       "    </tr>\n",
       "  </tbody>\n",
       "</table>\n",
       "</div>"
      ],
      "text/plain": [
       "                 AUTHOR                                              TITLE  \\\n",
       "0       margarida-44311                                            Not Bad   \n",
       "1              joemay-2   What are all the bad reviews about is it a wo...   \n",
       "2                  nebk                              Great White=Jaws Lite   \n",
       "3             kuarinofu                       Bare-bones killer shark film   \n",
       "4  Horror_Flick_Fanatic                  Terrible story, dialogue, and CGI   \n",
       "\n",
       "                                              REVIEW  RATING  \n",
       "0  I don't get all the terrible reviews for this ...     5.0  \n",
       "1  I cannot believe anyone could give this film l...     8.0  \n",
       "2  Great White is not the worst way to spend 90 m...     4.0  \n",
       "3  Great White is as basic of a killer shark film...     4.0  \n",
       "4  Terrible story, dialogue and CGI. The film has...     4.0  "
      ]
     },
     "execution_count": 2,
     "metadata": {},
     "output_type": "execute_result"
    }
   ],
   "source": [
    "imdb = pd.read_csv(\"../W13/IMDB.csv\")\n",
    "imdb.dropna(inplace = True)\n",
    "imdb.drop_duplicates(subset = [\"REVIEW\", \"RATING\"], inplace = True)\n",
    "imdb.head()"
   ]
  },
  {
   "cell_type": "markdown",
   "id": "14680d03",
   "metadata": {},
   "source": [
    "## Sentiment analysis"
   ]
  },
  {
   "cell_type": "code",
   "execution_count": 3,
   "id": "ddc2862f",
   "metadata": {},
   "outputs": [],
   "source": [
    "import nltk \n",
    "# nltk.download('stopwords') \n",
    "# nltk.download('punkt') \n",
    "# nltk.download('vader_lexicon')\n",
    "\n",
    "from nltk.sentiment.vader import SentimentIntensityAnalyzer \n",
    "from nltk.sentiment.util import * \n",
    "from textblob import TextBlob"
   ]
  },
  {
   "cell_type": "markdown",
   "id": "0401aaab",
   "metadata": {},
   "source": [
    "### 1. Using textblob get the polarity of the rating (Textblob(review).sentiment.polarity)."
   ]
  },
  {
   "cell_type": "code",
   "execution_count": 4,
   "id": "a00bff97",
   "metadata": {},
   "outputs": [],
   "source": [
    "textblob_polarity = []\n",
    "for r in imdb[\"REVIEW\"]:\n",
    "    textblob_polarity.append(TextBlob(r).sentiment.polarity)\n",
    "\n",
    "imdb[\"textblob_polarity\"] = textblob_polarity"
   ]
  },
  {
   "cell_type": "markdown",
   "id": "f50f09be",
   "metadata": {},
   "source": [
    "### 2. Using VADER get the probability that a review is positive, negative, or neutral (SenitmentIntensityAnalyzer().polarity_scores(review)."
   ]
  },
  {
   "cell_type": "code",
   "execution_count": 5,
   "id": "e4572248",
   "metadata": {},
   "outputs": [],
   "source": [
    "# get VADER polarity scores (positive + neutral + negative + compound)\n",
    "vader_polarity = []\n",
    "vader_analyzer = SentimentIntensityAnalyzer()\n",
    "for r in imdb[\"REVIEW\"]:\n",
    "    vader_polarity.append(vader_analyzer.polarity_scores(r))"
   ]
  },
  {
   "cell_type": "code",
   "execution_count": 6,
   "id": "2761e8c0",
   "metadata": {},
   "outputs": [],
   "source": [
    "# extract the compound scores from VADER polarity scores\n",
    "compound_score = []\n",
    "for vp in vader_polarity:\n",
    "    compound_score.append(vp[\"compound\"])\n",
    "    \n",
    "imdb[\"compound_score\"] = compound_score"
   ]
  },
  {
   "cell_type": "code",
   "execution_count": 7,
   "id": "8de3cb5b",
   "metadata": {},
   "outputs": [
    {
     "data": {
      "text/html": [
       "<div>\n",
       "<style scoped>\n",
       "    .dataframe tbody tr th:only-of-type {\n",
       "        vertical-align: middle;\n",
       "    }\n",
       "\n",
       "    .dataframe tbody tr th {\n",
       "        vertical-align: top;\n",
       "    }\n",
       "\n",
       "    .dataframe thead th {\n",
       "        text-align: right;\n",
       "    }\n",
       "</style>\n",
       "<table border=\"1\" class=\"dataframe\">\n",
       "  <thead>\n",
       "    <tr style=\"text-align: right;\">\n",
       "      <th></th>\n",
       "      <th>AUTHOR</th>\n",
       "      <th>TITLE</th>\n",
       "      <th>REVIEW</th>\n",
       "      <th>RATING</th>\n",
       "      <th>textblob_polarity</th>\n",
       "      <th>compound_score</th>\n",
       "    </tr>\n",
       "  </thead>\n",
       "  <tbody>\n",
       "    <tr>\n",
       "      <th>0</th>\n",
       "      <td>margarida-44311</td>\n",
       "      <td>Not Bad</td>\n",
       "      <td>I don't get all the terrible reviews for this ...</td>\n",
       "      <td>5.0</td>\n",
       "      <td>0.021383</td>\n",
       "      <td>-0.5823</td>\n",
       "    </tr>\n",
       "    <tr>\n",
       "      <th>1</th>\n",
       "      <td>joemay-2</td>\n",
       "      <td>What are all the bad reviews about is it a wo...</td>\n",
       "      <td>I cannot believe anyone could give this film l...</td>\n",
       "      <td>8.0</td>\n",
       "      <td>0.311111</td>\n",
       "      <td>0.7269</td>\n",
       "    </tr>\n",
       "    <tr>\n",
       "      <th>2</th>\n",
       "      <td>nebk</td>\n",
       "      <td>Great White=Jaws Lite</td>\n",
       "      <td>Great White is not the worst way to spend 90 m...</td>\n",
       "      <td>4.0</td>\n",
       "      <td>0.076299</td>\n",
       "      <td>0.9822</td>\n",
       "    </tr>\n",
       "    <tr>\n",
       "      <th>3</th>\n",
       "      <td>kuarinofu</td>\n",
       "      <td>Bare-bones killer shark film</td>\n",
       "      <td>Great White is as basic of a killer shark film...</td>\n",
       "      <td>4.0</td>\n",
       "      <td>0.013755</td>\n",
       "      <td>-0.9308</td>\n",
       "    </tr>\n",
       "    <tr>\n",
       "      <th>4</th>\n",
       "      <td>Horror_Flick_Fanatic</td>\n",
       "      <td>Terrible story, dialogue, and CGI</td>\n",
       "      <td>Terrible story, dialogue and CGI. The film has...</td>\n",
       "      <td>4.0</td>\n",
       "      <td>0.038889</td>\n",
       "      <td>0.9294</td>\n",
       "    </tr>\n",
       "  </tbody>\n",
       "</table>\n",
       "</div>"
      ],
      "text/plain": [
       "                 AUTHOR                                              TITLE  \\\n",
       "0       margarida-44311                                            Not Bad   \n",
       "1              joemay-2   What are all the bad reviews about is it a wo...   \n",
       "2                  nebk                              Great White=Jaws Lite   \n",
       "3             kuarinofu                       Bare-bones killer shark film   \n",
       "4  Horror_Flick_Fanatic                  Terrible story, dialogue, and CGI   \n",
       "\n",
       "                                              REVIEW  RATING  \\\n",
       "0  I don't get all the terrible reviews for this ...     5.0   \n",
       "1  I cannot believe anyone could give this film l...     8.0   \n",
       "2  Great White is not the worst way to spend 90 m...     4.0   \n",
       "3  Great White is as basic of a killer shark film...     4.0   \n",
       "4  Terrible story, dialogue and CGI. The film has...     4.0   \n",
       "\n",
       "   textblob_polarity  compound_score  \n",
       "0           0.021383         -0.5823  \n",
       "1           0.311111          0.7269  \n",
       "2           0.076299          0.9822  \n",
       "3           0.013755         -0.9308  \n",
       "4           0.038889          0.9294  "
      ]
     },
     "execution_count": 7,
     "metadata": {},
     "output_type": "execute_result"
    }
   ],
   "source": [
    "imdb.head()"
   ]
  },
  {
   "cell_type": "markdown",
   "id": "42115bdd",
   "metadata": {},
   "source": [
    "### 3. For each rating score graph the corresponding average value of textblob polarity and VADER compound score."
   ]
  },
  {
   "cell_type": "code",
   "execution_count": 8,
   "id": "dfd05bf2",
   "metadata": {},
   "outputs": [
    {
     "data": {
      "image/png": "[encoded data removed]",
      "text/plain": [
       "<Figure size 432x288 with 1 Axes>"
      ]
     },
     "metadata": {
      "needs_background": "light"
     },
     "output_type": "display_data"
    }
   ],
   "source": [
    "# group by ratings, then show the average TextBlob and VADER compound score\n",
    "temp = imdb.groupby(\"RATING\")[[\"textblob_polarity\",\"compound_score\"]].mean()\n",
    "\n",
    "x = np.arange(len(temp.index))+1\n",
    "width = 0.45\n",
    "fig, ax = plt.subplots()\n",
    "rects1 = ax.bar(x - width/2, temp[\"textblob_polarity\"], width, label='textblob polarity')\n",
    "rects2 = ax.bar(x + width/2, temp[\"compound_score\"], width, label='compound score')\n",
    "ax.legend()\n",
    "fig.tight_layout()\n",
    "plt.show()"
   ]
  },
  {
   "cell_type": "markdown",
   "id": "26cb6af3",
   "metadata": {},
   "source": [
    "### 4. Combine the scores and classify each rating as Positive, Negative, or Neutral."
   ]
  },
  {
   "cell_type": "code",
   "execution_count": 9,
   "id": "1088aca7",
   "metadata": {},
   "outputs": [],
   "source": [
    "# combined score = (textblob_polarity + compound_score) / 2 \n",
    "combined_score = list(map(lambda x,y : (x+y)/2, compound_score, textblob_polarity))\n",
    "classify_score = [\"Positive\" if cs > 0.05 else \"Negative\" if cs < -0.05 else \"Neutral\" for cs in combined_score]\n",
    "imdb[\"combined_score\"] = combined_score\n",
    "imdb[\"classify_score\"] = classify_score"
   ]
  },
  {
   "cell_type": "code",
   "execution_count": 10,
   "id": "49297ca2",
   "metadata": {},
   "outputs": [
    {
     "data": {
      "text/html": [
       "<div>\n",
       "<style scoped>\n",
       "    .dataframe tbody tr th:only-of-type {\n",
       "        vertical-align: middle;\n",
       "    }\n",
       "\n",
       "    .dataframe tbody tr th {\n",
       "        vertical-align: top;\n",
       "    }\n",
       "\n",
       "    .dataframe thead th {\n",
       "        text-align: right;\n",
       "    }\n",
       "</style>\n",
       "<table border=\"1\" class=\"dataframe\">\n",
       "  <thead>\n",
       "    <tr style=\"text-align: right;\">\n",
       "      <th></th>\n",
       "      <th>AUTHOR</th>\n",
       "      <th>TITLE</th>\n",
       "      <th>REVIEW</th>\n",
       "      <th>RATING</th>\n",
       "      <th>textblob_polarity</th>\n",
       "      <th>compound_score</th>\n",
       "      <th>combined_score</th>\n",
       "      <th>classify_score</th>\n",
       "    </tr>\n",
       "  </thead>\n",
       "  <tbody>\n",
       "    <tr>\n",
       "      <th>0</th>\n",
       "      <td>margarida-44311</td>\n",
       "      <td>Not Bad</td>\n",
       "      <td>I don't get all the terrible reviews for this ...</td>\n",
       "      <td>5.0</td>\n",
       "      <td>0.021383</td>\n",
       "      <td>-0.5823</td>\n",
       "      <td>-0.280459</td>\n",
       "      <td>Negative</td>\n",
       "    </tr>\n",
       "    <tr>\n",
       "      <th>1</th>\n",
       "      <td>joemay-2</td>\n",
       "      <td>What are all the bad reviews about is it a wo...</td>\n",
       "      <td>I cannot believe anyone could give this film l...</td>\n",
       "      <td>8.0</td>\n",
       "      <td>0.311111</td>\n",
       "      <td>0.7269</td>\n",
       "      <td>0.519006</td>\n",
       "      <td>Positive</td>\n",
       "    </tr>\n",
       "    <tr>\n",
       "      <th>2</th>\n",
       "      <td>nebk</td>\n",
       "      <td>Great White=Jaws Lite</td>\n",
       "      <td>Great White is not the worst way to spend 90 m...</td>\n",
       "      <td>4.0</td>\n",
       "      <td>0.076299</td>\n",
       "      <td>0.9822</td>\n",
       "      <td>0.529250</td>\n",
       "      <td>Positive</td>\n",
       "    </tr>\n",
       "    <tr>\n",
       "      <th>3</th>\n",
       "      <td>kuarinofu</td>\n",
       "      <td>Bare-bones killer shark film</td>\n",
       "      <td>Great White is as basic of a killer shark film...</td>\n",
       "      <td>4.0</td>\n",
       "      <td>0.013755</td>\n",
       "      <td>-0.9308</td>\n",
       "      <td>-0.458523</td>\n",
       "      <td>Negative</td>\n",
       "    </tr>\n",
       "    <tr>\n",
       "      <th>4</th>\n",
       "      <td>Horror_Flick_Fanatic</td>\n",
       "      <td>Terrible story, dialogue, and CGI</td>\n",
       "      <td>Terrible story, dialogue and CGI. The film has...</td>\n",
       "      <td>4.0</td>\n",
       "      <td>0.038889</td>\n",
       "      <td>0.9294</td>\n",
       "      <td>0.484144</td>\n",
       "      <td>Positive</td>\n",
       "    </tr>\n",
       "  </tbody>\n",
       "</table>\n",
       "</div>"
      ],
      "text/plain": [
       "                 AUTHOR                                              TITLE  \\\n",
       "0       margarida-44311                                            Not Bad   \n",
       "1              joemay-2   What are all the bad reviews about is it a wo...   \n",
       "2                  nebk                              Great White=Jaws Lite   \n",
       "3             kuarinofu                       Bare-bones killer shark film   \n",
       "4  Horror_Flick_Fanatic                  Terrible story, dialogue, and CGI   \n",
       "\n",
       "                                              REVIEW  RATING  \\\n",
       "0  I don't get all the terrible reviews for this ...     5.0   \n",
       "1  I cannot believe anyone could give this film l...     8.0   \n",
       "2  Great White is not the worst way to spend 90 m...     4.0   \n",
       "3  Great White is as basic of a killer shark film...     4.0   \n",
       "4  Terrible story, dialogue and CGI. The film has...     4.0   \n",
       "\n",
       "   textblob_polarity  compound_score  combined_score classify_score  \n",
       "0           0.021383         -0.5823       -0.280459       Negative  \n",
       "1           0.311111          0.7269        0.519006       Positive  \n",
       "2           0.076299          0.9822        0.529250       Positive  \n",
       "3           0.013755         -0.9308       -0.458523       Negative  \n",
       "4           0.038889          0.9294        0.484144       Positive  "
      ]
     },
     "execution_count": 10,
     "metadata": {},
     "output_type": "execute_result"
    }
   ],
   "source": [
    "imdb.head()"
   ]
  },
  {
   "cell_type": "markdown",
   "id": "5fa9ecf2",
   "metadata": {},
   "source": [
    "### 5. Describe your method of combining the ratings and why you choose it."
   ]
  },
  {
   "cell_type": "markdown",
   "id": "d4f36c7d",
   "metadata": {},
   "source": [
    "*I added up Textblob polarity and the compound score from VADER, then divided the sum by two. Since both scores have the range [-1,1], the new range of the combined score would be [-1,1]. For those scores higher than 0.05, I put them as positive, for smaller than -0.05 I put negative, and if equals 0, I put neutral. This classificatin method matches how it is defined in VADER.*  \n",
    "*This way the polarity of score would not be lost, and the scale can be kept from both methods. Additionally, the polarity is maintained in the result.*"
   ]
  },
  {
   "cell_type": "markdown",
   "id": "e109d051",
   "metadata": {},
   "source": [
    "## Tokenizing and stemming"
   ]
  },
  {
   "cell_type": "code",
   "execution_count": 11,
   "id": "2eeb6cc2",
   "metadata": {},
   "outputs": [],
   "source": [
    "from sklearn.feature_extraction.text import TfidfVectorizer \n",
    "from sklearn.decomposition import LatentDirichletAllocation\n",
    "\n",
    "from nltk.stem.wordnet import WordNetLemmatizer"
   ]
  },
  {
   "cell_type": "markdown",
   "id": "8ae4d846",
   "metadata": {},
   "source": [
    "### 0. Create a Tokenizer function that takes a string and returns the word stems"
   ]
  },
  {
   "cell_type": "code",
   "execution_count": 12,
   "id": "1813e7e8",
   "metadata": {},
   "outputs": [],
   "source": [
    "# string = sentence, turn sentence into word tokens\n",
    "def tokenizing(sentence):\n",
    "    tokens = nltk.word_tokenize(sentence)\n",
    "    return tokens"
   ]
  },
  {
   "cell_type": "code",
   "execution_count": 13,
   "id": "bf00de15",
   "metadata": {},
   "outputs": [],
   "source": [
    "# remove punctuations\n",
    "def remove_meaningless(tokens):\n",
    "    useful_tokens = []\n",
    "    useful_tokens = [tokens.lower() for tokens in tokens if tokens.isalpha()]\n",
    "    return useful_tokens"
   ]
  },
  {
   "cell_type": "code",
   "execution_count": 14,
   "id": "0158f52b",
   "metadata": {},
   "outputs": [],
   "source": [
    "# remove stop words\n",
    "def remove_stopword(tokens):\n",
    "    # define stop words\n",
    "    typical_stopwords = nltk.corpus.stopwords.words('english')\n",
    "    add_stopwords = {\"<br />\", \"movie\", \"film\"}\n",
    "    stopwords = add_stopwords.union(typical_stopwords)\n",
    "    # filter out stop words and keep useful words\n",
    "    useful_tokens = []\n",
    "    for t in tokens:\n",
    "        if t not in stopwords:\n",
    "            useful_tokens.append(t)\n",
    "            \n",
    "    return useful_tokens"
   ]
  },
  {
   "cell_type": "code",
   "execution_count": 15,
   "id": "329139ff",
   "metadata": {},
   "outputs": [],
   "source": [
    "# stem words\n",
    "def stemming(tokens):\n",
    "    stemmed_tokens=[]\n",
    "    \n",
    "    stemmer = nltk.stem.snowball.SnowballStemmer(\"english\")\n",
    "    for t in tokens:\n",
    "        stemmed_tokens.append(stemmer.stem(t))\n",
    "    \n",
    "    return stemmed_tokens"
   ]
  },
  {
   "cell_type": "code",
   "execution_count": 16,
   "id": "c81398bb",
   "metadata": {},
   "outputs": [],
   "source": [
    "clean_tokens = []\n",
    "for r in imdb[\"REVIEW\"]:\n",
    "    tokens = tokenizing(r)\n",
    "    punc_free = remove_meaningless(tokens)\n",
    "    stop_free = remove_stopword(punc_free)\n",
    "    stemmed_tokens = stemming(stop_free)\n",
    "    clean_tokens.append(stemmed_tokens)"
   ]
  },
  {
   "cell_type": "code",
   "execution_count": 17,
   "id": "dcac4c20",
   "metadata": {},
   "outputs": [],
   "source": [
    "corpus = [' '.join(t) for t in clean_tokens]"
   ]
  },
  {
   "cell_type": "markdown",
   "id": "b7fa548e",
   "metadata": {},
   "source": [
    "### 1. Using the TfidfVectorizer create a TF-IDF matrix specifying your tokenizer function and your stopwords in the model."
   ]
  },
  {
   "cell_type": "code",
   "execution_count": 18,
   "id": "dad3cf56",
   "metadata": {},
   "outputs": [],
   "source": [
    "vectorizer_TF_IDF = TfidfVectorizer(norm = None, smooth_idf = True)\n",
    "TF_IDF_matrix = vectorizer_TF_IDF.fit_transform(corpus).toarray()"
   ]
  },
  {
   "cell_type": "code",
   "execution_count": 19,
   "id": "ad60697b",
   "metadata": {},
   "outputs": [
    {
     "data": {
      "text/html": [
       "<div>\n",
       "<style scoped>\n",
       "    .dataframe tbody tr th:only-of-type {\n",
       "        vertical-align: middle;\n",
       "    }\n",
       "\n",
       "    .dataframe tbody tr th {\n",
       "        vertical-align: top;\n",
       "    }\n",
       "\n",
       "    .dataframe thead th {\n",
       "        text-align: right;\n",
       "    }\n",
       "</style>\n",
       "<table border=\"1\" class=\"dataframe\">\n",
       "  <thead>\n",
       "    <tr style=\"text-align: right;\">\n",
       "      <th></th>\n",
       "      <th>aa</th>\n",
       "      <th>aaa</th>\n",
       "      <th>aaaa</th>\n",
       "      <th>aaaaaamaz</th>\n",
       "      <th>aanrad</th>\n",
       "      <th>aaron</th>\n",
       "      <th>aarp</th>\n",
       "      <th>aback</th>\n",
       "      <th>abandon</th>\n",
       "      <th>abbey</th>\n",
       "      <th>...</th>\n",
       "      <th>zone</th>\n",
       "      <th>zoo</th>\n",
       "      <th>zooland</th>\n",
       "      <th>zoom</th>\n",
       "      <th>zoomer</th>\n",
       "      <th>zsjl</th>\n",
       "      <th>zwart</th>\n",
       "      <th>zzzzz</th>\n",
       "      <th>ðÿ</th>\n",
       "      <th>ðÿžÿ</th>\n",
       "    </tr>\n",
       "  </thead>\n",
       "  <tbody>\n",
       "    <tr>\n",
       "      <th>0</th>\n",
       "      <td>0.0</td>\n",
       "      <td>0.0</td>\n",
       "      <td>0.0</td>\n",
       "      <td>0.0</td>\n",
       "      <td>0.0</td>\n",
       "      <td>0.0</td>\n",
       "      <td>0.0</td>\n",
       "      <td>0.0</td>\n",
       "      <td>0.0</td>\n",
       "      <td>0.0</td>\n",
       "      <td>...</td>\n",
       "      <td>0.0</td>\n",
       "      <td>0.0</td>\n",
       "      <td>0.0</td>\n",
       "      <td>0.0</td>\n",
       "      <td>0.0</td>\n",
       "      <td>0.0</td>\n",
       "      <td>0.0</td>\n",
       "      <td>0.0</td>\n",
       "      <td>0.0</td>\n",
       "      <td>0.0</td>\n",
       "    </tr>\n",
       "    <tr>\n",
       "      <th>1</th>\n",
       "      <td>0.0</td>\n",
       "      <td>0.0</td>\n",
       "      <td>0.0</td>\n",
       "      <td>0.0</td>\n",
       "      <td>0.0</td>\n",
       "      <td>0.0</td>\n",
       "      <td>0.0</td>\n",
       "      <td>0.0</td>\n",
       "      <td>0.0</td>\n",
       "      <td>0.0</td>\n",
       "      <td>...</td>\n",
       "      <td>0.0</td>\n",
       "      <td>0.0</td>\n",
       "      <td>0.0</td>\n",
       "      <td>0.0</td>\n",
       "      <td>0.0</td>\n",
       "      <td>0.0</td>\n",
       "      <td>0.0</td>\n",
       "      <td>0.0</td>\n",
       "      <td>0.0</td>\n",
       "      <td>0.0</td>\n",
       "    </tr>\n",
       "    <tr>\n",
       "      <th>2</th>\n",
       "      <td>0.0</td>\n",
       "      <td>0.0</td>\n",
       "      <td>0.0</td>\n",
       "      <td>0.0</td>\n",
       "      <td>0.0</td>\n",
       "      <td>0.0</td>\n",
       "      <td>0.0</td>\n",
       "      <td>0.0</td>\n",
       "      <td>0.0</td>\n",
       "      <td>0.0</td>\n",
       "      <td>...</td>\n",
       "      <td>0.0</td>\n",
       "      <td>0.0</td>\n",
       "      <td>0.0</td>\n",
       "      <td>0.0</td>\n",
       "      <td>0.0</td>\n",
       "      <td>0.0</td>\n",
       "      <td>0.0</td>\n",
       "      <td>0.0</td>\n",
       "      <td>0.0</td>\n",
       "      <td>0.0</td>\n",
       "    </tr>\n",
       "    <tr>\n",
       "      <th>3</th>\n",
       "      <td>0.0</td>\n",
       "      <td>0.0</td>\n",
       "      <td>0.0</td>\n",
       "      <td>0.0</td>\n",
       "      <td>0.0</td>\n",
       "      <td>0.0</td>\n",
       "      <td>0.0</td>\n",
       "      <td>0.0</td>\n",
       "      <td>0.0</td>\n",
       "      <td>0.0</td>\n",
       "      <td>...</td>\n",
       "      <td>0.0</td>\n",
       "      <td>0.0</td>\n",
       "      <td>0.0</td>\n",
       "      <td>0.0</td>\n",
       "      <td>0.0</td>\n",
       "      <td>0.0</td>\n",
       "      <td>0.0</td>\n",
       "      <td>0.0</td>\n",
       "      <td>0.0</td>\n",
       "      <td>0.0</td>\n",
       "    </tr>\n",
       "    <tr>\n",
       "      <th>4</th>\n",
       "      <td>0.0</td>\n",
       "      <td>0.0</td>\n",
       "      <td>0.0</td>\n",
       "      <td>0.0</td>\n",
       "      <td>0.0</td>\n",
       "      <td>0.0</td>\n",
       "      <td>0.0</td>\n",
       "      <td>0.0</td>\n",
       "      <td>0.0</td>\n",
       "      <td>0.0</td>\n",
       "      <td>...</td>\n",
       "      <td>0.0</td>\n",
       "      <td>0.0</td>\n",
       "      <td>0.0</td>\n",
       "      <td>0.0</td>\n",
       "      <td>0.0</td>\n",
       "      <td>0.0</td>\n",
       "      <td>0.0</td>\n",
       "      <td>0.0</td>\n",
       "      <td>0.0</td>\n",
       "      <td>0.0</td>\n",
       "    </tr>\n",
       "  </tbody>\n",
       "</table>\n",
       "<p>5 rows × 13148 columns</p>\n",
       "</div>"
      ],
      "text/plain": [
       "    aa  aaa  aaaa  aaaaaamaz  aanrad  aaron  aarp  aback  abandon  abbey  ...  \\\n",
       "0  0.0  0.0   0.0        0.0     0.0    0.0   0.0    0.0      0.0    0.0  ...   \n",
       "1  0.0  0.0   0.0        0.0     0.0    0.0   0.0    0.0      0.0    0.0  ...   \n",
       "2  0.0  0.0   0.0        0.0     0.0    0.0   0.0    0.0      0.0    0.0  ...   \n",
       "3  0.0  0.0   0.0        0.0     0.0    0.0   0.0    0.0      0.0    0.0  ...   \n",
       "4  0.0  0.0   0.0        0.0     0.0    0.0   0.0    0.0      0.0    0.0  ...   \n",
       "\n",
       "   zone  zoo  zooland  zoom  zoomer  zsjl  zwart  zzzzz   ðÿ  ðÿžÿ  \n",
       "0   0.0  0.0      0.0   0.0     0.0   0.0    0.0    0.0  0.0   0.0  \n",
       "1   0.0  0.0      0.0   0.0     0.0   0.0    0.0    0.0  0.0   0.0  \n",
       "2   0.0  0.0      0.0   0.0     0.0   0.0    0.0    0.0  0.0   0.0  \n",
       "3   0.0  0.0      0.0   0.0     0.0   0.0    0.0    0.0  0.0   0.0  \n",
       "4   0.0  0.0      0.0   0.0     0.0   0.0    0.0    0.0  0.0   0.0  \n",
       "\n",
       "[5 rows x 13148 columns]"
      ]
     },
     "execution_count": 19,
     "metadata": {},
     "output_type": "execute_result"
    }
   ],
   "source": [
    "pd.DataFrame(np.round(TF_IDF_matrix,2), columns=vectorizer_TF_IDF.get_feature_names()).head()"
   ]
  },
  {
   "cell_type": "markdown",
   "id": "9af89167",
   "metadata": {},
   "source": [
    "### 2. Create a LDA model with 6 topics, create a column for the highest weighted topic for each review."
   ]
  },
  {
   "cell_type": "code",
   "execution_count": 20,
   "id": "fad8207b",
   "metadata": {},
   "outputs": [],
   "source": [
    "lda_model = LatentDirichletAllocation(n_components=6, random_state=0).fit(TF_IDF_matrix)\n",
    "pred = lda_model.fit_transform(TF_IDF_matrix)"
   ]
  },
  {
   "cell_type": "code",
   "execution_count": 21,
   "id": "50918737",
   "metadata": {},
   "outputs": [
    {
     "data": {
      "text/html": [
       "<div>\n",
       "<style scoped>\n",
       "    .dataframe tbody tr th:only-of-type {\n",
       "        vertical-align: middle;\n",
       "    }\n",
       "\n",
       "    .dataframe tbody tr th {\n",
       "        vertical-align: top;\n",
       "    }\n",
       "\n",
       "    .dataframe thead th {\n",
       "        text-align: right;\n",
       "    }\n",
       "</style>\n",
       "<table border=\"1\" class=\"dataframe\">\n",
       "  <thead>\n",
       "    <tr style=\"text-align: right;\">\n",
       "      <th></th>\n",
       "      <th>AUTHOR</th>\n",
       "      <th>TITLE</th>\n",
       "      <th>REVIEW</th>\n",
       "      <th>RATING</th>\n",
       "      <th>textblob_polarity</th>\n",
       "      <th>compound_score</th>\n",
       "      <th>combined_score</th>\n",
       "      <th>classify_score</th>\n",
       "      <th>topic_1</th>\n",
       "      <th>topic_2</th>\n",
       "      <th>topic_3</th>\n",
       "      <th>topic_4</th>\n",
       "      <th>topic_5</th>\n",
       "      <th>topic_6</th>\n",
       "      <th>highest_topic</th>\n",
       "    </tr>\n",
       "  </thead>\n",
       "  <tbody>\n",
       "    <tr>\n",
       "      <th>0</th>\n",
       "      <td>margarida-44311</td>\n",
       "      <td>Not Bad</td>\n",
       "      <td>I don't get all the terrible reviews for this ...</td>\n",
       "      <td>5.0</td>\n",
       "      <td>0.021383</td>\n",
       "      <td>-0.5823</td>\n",
       "      <td>-0.280459</td>\n",
       "      <td>Negative</td>\n",
       "      <td>0.179405</td>\n",
       "      <td>0.001183</td>\n",
       "      <td>0.390673</td>\n",
       "      <td>0.426374</td>\n",
       "      <td>0.001181</td>\n",
       "      <td>0.001184</td>\n",
       "      <td>topic_4</td>\n",
       "    </tr>\n",
       "    <tr>\n",
       "      <th>1</th>\n",
       "      <td>joemay-2</td>\n",
       "      <td>What are all the bad reviews about is it a wo...</td>\n",
       "      <td>I cannot believe anyone could give this film l...</td>\n",
       "      <td>8.0</td>\n",
       "      <td>0.311111</td>\n",
       "      <td>0.7269</td>\n",
       "      <td>0.519006</td>\n",
       "      <td>Positive</td>\n",
       "      <td>0.003043</td>\n",
       "      <td>0.003039</td>\n",
       "      <td>0.003054</td>\n",
       "      <td>0.984759</td>\n",
       "      <td>0.003053</td>\n",
       "      <td>0.003053</td>\n",
       "      <td>topic_4</td>\n",
       "    </tr>\n",
       "    <tr>\n",
       "      <th>2</th>\n",
       "      <td>nebk</td>\n",
       "      <td>Great White=Jaws Lite</td>\n",
       "      <td>Great White is not the worst way to spend 90 m...</td>\n",
       "      <td>4.0</td>\n",
       "      <td>0.076299</td>\n",
       "      <td>0.9822</td>\n",
       "      <td>0.529250</td>\n",
       "      <td>Positive</td>\n",
       "      <td>0.000271</td>\n",
       "      <td>0.921740</td>\n",
       "      <td>0.000272</td>\n",
       "      <td>0.052651</td>\n",
       "      <td>0.024794</td>\n",
       "      <td>0.000272</td>\n",
       "      <td>topic_2</td>\n",
       "    </tr>\n",
       "    <tr>\n",
       "      <th>3</th>\n",
       "      <td>kuarinofu</td>\n",
       "      <td>Bare-bones killer shark film</td>\n",
       "      <td>Great White is as basic of a killer shark film...</td>\n",
       "      <td>4.0</td>\n",
       "      <td>0.013755</td>\n",
       "      <td>-0.9308</td>\n",
       "      <td>-0.458523</td>\n",
       "      <td>Negative</td>\n",
       "      <td>0.000424</td>\n",
       "      <td>0.000424</td>\n",
       "      <td>0.000424</td>\n",
       "      <td>0.802590</td>\n",
       "      <td>0.000424</td>\n",
       "      <td>0.195713</td>\n",
       "      <td>topic_4</td>\n",
       "    </tr>\n",
       "    <tr>\n",
       "      <th>4</th>\n",
       "      <td>Horror_Flick_Fanatic</td>\n",
       "      <td>Terrible story, dialogue, and CGI</td>\n",
       "      <td>Terrible story, dialogue and CGI. The film has...</td>\n",
       "      <td>4.0</td>\n",
       "      <td>0.038889</td>\n",
       "      <td>0.9294</td>\n",
       "      <td>0.484144</td>\n",
       "      <td>Positive</td>\n",
       "      <td>0.000868</td>\n",
       "      <td>0.000869</td>\n",
       "      <td>0.000869</td>\n",
       "      <td>0.995658</td>\n",
       "      <td>0.000869</td>\n",
       "      <td>0.000867</td>\n",
       "      <td>topic_4</td>\n",
       "    </tr>\n",
       "  </tbody>\n",
       "</table>\n",
       "</div>"
      ],
      "text/plain": [
       "                 AUTHOR                                              TITLE  \\\n",
       "0       margarida-44311                                            Not Bad   \n",
       "1              joemay-2   What are all the bad reviews about is it a wo...   \n",
       "2                  nebk                              Great White=Jaws Lite   \n",
       "3             kuarinofu                       Bare-bones killer shark film   \n",
       "4  Horror_Flick_Fanatic                  Terrible story, dialogue, and CGI   \n",
       "\n",
       "                                              REVIEW  RATING  \\\n",
       "0  I don't get all the terrible reviews for this ...     5.0   \n",
       "1  I cannot believe anyone could give this film l...     8.0   \n",
       "2  Great White is not the worst way to spend 90 m...     4.0   \n",
       "3  Great White is as basic of a killer shark film...     4.0   \n",
       "4  Terrible story, dialogue and CGI. The film has...     4.0   \n",
       "\n",
       "   textblob_polarity  compound_score  combined_score classify_score   topic_1  \\\n",
       "0           0.021383         -0.5823       -0.280459       Negative  0.179405   \n",
       "1           0.311111          0.7269        0.519006       Positive  0.003043   \n",
       "2           0.076299          0.9822        0.529250       Positive  0.000271   \n",
       "3           0.013755         -0.9308       -0.458523       Negative  0.000424   \n",
       "4           0.038889          0.9294        0.484144       Positive  0.000868   \n",
       "\n",
       "    topic_2   topic_3   topic_4   topic_5   topic_6 highest_topic  \n",
       "0  0.001183  0.390673  0.426374  0.001181  0.001184       topic_4  \n",
       "1  0.003039  0.003054  0.984759  0.003053  0.003053       topic_4  \n",
       "2  0.921740  0.000272  0.052651  0.024794  0.000272       topic_2  \n",
       "3  0.000424  0.000424  0.802590  0.000424  0.195713       topic_4  \n",
       "4  0.000869  0.000869  0.995658  0.000869  0.000867       topic_4  "
      ]
     },
     "execution_count": 21,
     "metadata": {},
     "output_type": "execute_result"
    }
   ],
   "source": [
    "# find the top weighted topic for each review\n",
    "for i in range(0,6):\n",
    "    imdb[\"topic_{}\".format(i+1)] = pred[:,i]\n",
    "imdb[\"highest_topic\"] = imdb[[\"topic_1\", \"topic_2\", \"topic_3\", \"topic_4\", \"topic_5\", \"topic_6\"]].idxmax(axis=1)\n",
    "imdb.head()"
   ]
  },
  {
   "cell_type": "markdown",
   "id": "c28793a6",
   "metadata": {},
   "source": [
    "### 3. Combine the sentiment and topic datasets, create a chart with average sentiment and average review score by topic. Ensure that the axes are scaled to make the graph easy to read."
   ]
  },
  {
   "cell_type": "code",
   "execution_count": 22,
   "id": "50eb1d06",
   "metadata": {},
   "outputs": [],
   "source": [
    "# datasets combined already in previous steps"
   ]
  },
  {
   "cell_type": "code",
   "execution_count": 23,
   "id": "e4659de6",
   "metadata": {},
   "outputs": [
    {
     "data": {
      "text/html": [
       "<div>\n",
       "<style scoped>\n",
       "    .dataframe tbody tr th:only-of-type {\n",
       "        vertical-align: middle;\n",
       "    }\n",
       "\n",
       "    .dataframe tbody tr th {\n",
       "        vertical-align: top;\n",
       "    }\n",
       "\n",
       "    .dataframe thead th {\n",
       "        text-align: right;\n",
       "    }\n",
       "</style>\n",
       "<table border=\"1\" class=\"dataframe\">\n",
       "  <thead>\n",
       "    <tr style=\"text-align: right;\">\n",
       "      <th></th>\n",
       "      <th>combined_score</th>\n",
       "      <th>RATING</th>\n",
       "      <th>sentiment_norm</th>\n",
       "      <th>rating_norm</th>\n",
       "    </tr>\n",
       "    <tr>\n",
       "      <th>highest_topic</th>\n",
       "      <th></th>\n",
       "      <th></th>\n",
       "      <th></th>\n",
       "      <th></th>\n",
       "    </tr>\n",
       "  </thead>\n",
       "  <tbody>\n",
       "    <tr>\n",
       "      <th>topic_1</th>\n",
       "      <td>0.373404</td>\n",
       "      <td>7.428846</td>\n",
       "      <td>0.686702</td>\n",
       "      <td>0.714316</td>\n",
       "    </tr>\n",
       "    <tr>\n",
       "      <th>topic_2</th>\n",
       "      <td>0.195085</td>\n",
       "      <td>5.845735</td>\n",
       "      <td>0.597543</td>\n",
       "      <td>0.538415</td>\n",
       "    </tr>\n",
       "    <tr>\n",
       "      <th>topic_3</th>\n",
       "      <td>0.002161</td>\n",
       "      <td>3.613728</td>\n",
       "      <td>0.501080</td>\n",
       "      <td>0.290414</td>\n",
       "    </tr>\n",
       "    <tr>\n",
       "      <th>topic_4</th>\n",
       "      <td>0.277467</td>\n",
       "      <td>6.320734</td>\n",
       "      <td>0.638734</td>\n",
       "      <td>0.591193</td>\n",
       "    </tr>\n",
       "    <tr>\n",
       "      <th>topic_5</th>\n",
       "      <td>-0.020893</td>\n",
       "      <td>3.166052</td>\n",
       "      <td>0.489553</td>\n",
       "      <td>0.240672</td>\n",
       "    </tr>\n",
       "    <tr>\n",
       "      <th>topic_6</th>\n",
       "      <td>0.313074</td>\n",
       "      <td>6.764414</td>\n",
       "      <td>0.656537</td>\n",
       "      <td>0.640490</td>\n",
       "    </tr>\n",
       "  </tbody>\n",
       "</table>\n",
       "</div>"
      ],
      "text/plain": [
       "               combined_score    RATING  sentiment_norm  rating_norm\n",
       "highest_topic                                                       \n",
       "topic_1              0.373404  7.428846        0.686702     0.714316\n",
       "topic_2              0.195085  5.845735        0.597543     0.538415\n",
       "topic_3              0.002161  3.613728        0.501080     0.290414\n",
       "topic_4              0.277467  6.320734        0.638734     0.591193\n",
       "topic_5             -0.020893  3.166052        0.489553     0.240672\n",
       "topic_6              0.313074  6.764414        0.656537     0.640490"
      ]
     },
     "execution_count": 23,
     "metadata": {},
     "output_type": "execute_result"
    }
   ],
   "source": [
    "temp2 = imdb.groupby(\"highest_topic\")[[\"combined_score\", \"RATING\"]].mean()\n",
    "temp2[\"sentiment_norm\"] = temp2[\"combined_score\"].map(lambda x: (x +1) / 2)\n",
    "temp2[\"rating_norm\"] = temp2[\"RATING\"].map(lambda x: (x -1) / (10-1))\n",
    "temp2"
   ]
  },
  {
   "cell_type": "code",
   "execution_count": 24,
   "id": "89edecdf",
   "metadata": {},
   "outputs": [
    {
     "data": {
      "image/png": "[encoded data removed]",
      "text/plain": [
       "<Figure size 432x288 with 1 Axes>"
      ]
     },
     "metadata": {
      "needs_background": "light"
     },
     "output_type": "display_data"
    }
   ],
   "source": [
    "x = np.arange(len(temp2.index))+1  # the label locations\n",
    "width = 0.45  # the width of the bars\n",
    "\n",
    "fig, ax = plt.subplots()\n",
    "rects1 = ax.bar(x - width/2, temp2[\"sentiment_norm\"], width, label='Average Sentiment')\n",
    "rects2 = ax.bar(x + width/2, temp2[\"rating_norm\"], width, label='Average Review Score')\n",
    "ax.legend()\n",
    "ax.set_xlabel(\"Topics\")\n",
    "ax.set_ylabel(\"Normalized Score\")\n",
    "ax.set_title(\"Average Sentiment & Review Score across Topics\")\n",
    "fig.tight_layout()\n",
    "plt.show()"
   ]
  },
  {
   "cell_type": "markdown",
   "id": "2b16035a",
   "metadata": {},
   "source": [
    "### 4. Create a dataset of the 20 words with the highest weights on each topic"
   ]
  },
  {
   "cell_type": "code",
   "execution_count": 25,
   "id": "a5731025",
   "metadata": {},
   "outputs": [],
   "source": [
    "def display_topics(model, feature_names, no_top_words):\n",
    "    for topic_idx, topic in enumerate(model.components_):\n",
    "        print(\"Topic %d:\" % (topic_idx+1))\n",
    "        print(\" \".join([feature_names[i]\n",
    "                        for i in topic.argsort()[:-no_top_words - 1:-1]]))"
   ]
  },
  {
   "cell_type": "code",
   "execution_count": 26,
   "id": "b7c72105",
   "metadata": {},
   "outputs": [
    {
     "name": "stdout",
     "output_type": "stream",
     "text": [
      "Topic 1:\n",
      "dig stori hampton black charact fienn fred perform ralph one mulligan beauti peopl great excav love histori war interest fbi\n",
      "Topic 2:\n",
      "cage like one get fun good charact turn love famili peopl look realli wrong show even kill sequel animatron origin\n",
      "Topic 3:\n",
      "bad like watch good action time make movi act even liam realli funni charact get one neeson could stori scene\n",
      "Topic 4:\n",
      "horror like end one good saw first realli charact well movi watch see great would stori thought much time get\n",
      "Topic 5:\n",
      "book clanci tom plot read one even action watch like charact make time would seal stori name wast remors bad\n",
      "Topic 6:\n",
      "perform malcolm feel charact mari day one like zendaya billi scene realli make washington great watch thing time holiday stori\n"
     ]
    }
   ],
   "source": [
    "no_top_words = 20\n",
    "display_topics(lda_model, vectorizer_TF_IDF.get_feature_names(), no_top_words)"
   ]
  },
  {
   "cell_type": "markdown",
   "id": "d67cc964",
   "metadata": {},
   "source": [
    "### 5. Use the top 20 words and the sentiment to describe each topic"
   ]
  },
  {
   "cell_type": "markdown",
   "id": "97846ceb",
   "metadata": {},
   "source": [
    "- *__topic 1__: has the strongest (highest) sentiment and highest rating. Considering keywords like \"fbi\", \"war\", \"love\", \"histori\", I think this might be talking about the motion, exicitment aspects of the movies.*\n",
    "- *__topic 2__: also has high sentiment. It includes some keywords like family, cage and kill, so maybe this is related to suspense movies, or a more bloody aspect of movies.*\n",
    "- *__topic 3__: has neutral sentiment. Keywords are like \"bad\", but also \"like\", \"good\", \"funni\".*\n",
    "- *__topic 4__: has relatively high (positive) sentiment but neutral rating. It includes many good words such as \"well\", \"great\", and \"good\", which correponds to positive sentiment. It could be taking about the characters in the movie.*\n",
    "- *__topic 5__: has the lowest (negtive) sentiment and rating. It looks like this topic is related to movie stories and emotions.*\n",
    "- *__topic 6__: relatively high, positive sentiment and rating. Looks like this is about actors, as names like \"billi\", \"malcolm\", \"washinton\" and \"zendaya\" appears as the topic top words.*"
   ]
  }
 ],
 "metadata": {
  "kernelspec": {
   "display_name": "Python 3",
   "language": "python",
   "name": "python3"
  },
  "language_info": {
   "codemirror_mode": {
    "name": "ipython",
    "version": 3
   },
   "file_extension": ".py",
   "mimetype": "text/x-python",
   "name": "python",
   "nbconvert_exporter": "python",
   "pygments_lexer": "ipython3",
   "version": "3.8.8"
  }
 },
 "nbformat": 4,
 "nbformat_minor": 5
}
