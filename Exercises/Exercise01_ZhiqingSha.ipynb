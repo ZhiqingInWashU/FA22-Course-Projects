{
 "cells": [
  {
   "cell_type": "markdown",
   "id": "48252a52",
   "metadata": {},
   "source": [
    "### 1. DateOffset"
   ]
  },
  {
   "cell_type": "code",
   "execution_count": 1,
   "id": "bc64b2bc",
   "metadata": {},
   "outputs": [],
   "source": [
    "# load necessary package for date\n",
    "from datetime import datetime     # string to date\n",
    "from datetime import timedelta    # date addition\n",
    "\n",
    "def DateOffset(date_str, day_offset):\n",
    "    # correct input string to datetime format for datetime arithmetic\n",
    "    date_dt = datetime.strptime(date_str, \"%Y-%m-%d\")\n",
    "    # output date in string format\n",
    "    return datetime.strftime(date_dt + timedelta(days = day_offset), \"%Y-%m-%d\")"
   ]
  },
  {
   "cell_type": "code",
   "execution_count": 2,
   "id": "81f5fbe5",
   "metadata": {},
   "outputs": [
    {
     "name": "stdout",
     "output_type": "stream",
     "text": [
      "2023-01-01\n",
      "2022-08-31\n"
     ]
    }
   ],
   "source": [
    "# testing\n",
    "print(DateOffset(\"2022-12-31\",1))\n",
    "print(DateOffset(\"2022-09-01\",-1))"
   ]
  },
  {
   "cell_type": "markdown",
   "id": "b68dfa50",
   "metadata": {},
   "source": [
    "### 2. Factorial"
   ]
  },
  {
   "cell_type": "code",
   "execution_count": 3,
   "id": "91edd3a1",
   "metadata": {},
   "outputs": [],
   "source": [
    "def Factorial(n):\n",
    "    \n",
    "    # edge case\n",
    "    if n < 0:\n",
    "        return \"undefined\"\n",
    "    \n",
    "    # base case\n",
    "    if n == 0:\n",
    "        return 1\n",
    "    \n",
    "    # recursion\n",
    "    return Factorial(n-1) * n"
   ]
  },
  {
   "cell_type": "code",
   "execution_count": 4,
   "id": "7f682a98",
   "metadata": {},
   "outputs": [
    {
     "name": "stdout",
     "output_type": "stream",
     "text": [
      "6\n",
      "undefined\n"
     ]
    }
   ],
   "source": [
    "# testing\n",
    "print(Factorial(3))\n",
    "print(Factorial(-1))"
   ]
  },
  {
   "cell_type": "markdown",
   "id": "ef3dc8c7",
   "metadata": {},
   "source": [
    "### 3. LongestString"
   ]
  },
  {
   "cell_type": "code",
   "execution_count": 5,
   "id": "f5ad1192",
   "metadata": {},
   "outputs": [],
   "source": [
    "def LongestString(str_list):\n",
    "    \n",
    "    # calculate lengths of each string\n",
    "    lengths = [len(e) for e in str_list]\n",
    "    \n",
    "    # output strings where length is max\n",
    "    return [e for e in str_list if len(e) == max(lengths)]"
   ]
  },
  {
   "cell_type": "code",
   "execution_count": 6,
   "id": "823256e0",
   "metadata": {},
   "outputs": [
    {
     "name": "stdout",
     "output_type": "stream",
     "text": [
      "['aba', 'vcd', 'aba']\n",
      "['yes', 'wow']\n",
      "[' ', '1']\n"
     ]
    }
   ],
   "source": [
    "# testing\n",
    "print(LongestString([\"aba\", \"aa\", \"ad\", \"vcd\", \"aba\"])) # no s after 'LongeSttring'?\n",
    "print(LongestString([\"yes\", \"no\", \"wow\"]))\n",
    "print(LongestString([\" \", \"1\", \"\"]))"
   ]
  },
  {
   "cell_type": "markdown",
   "id": "f76e1813",
   "metadata": {},
   "source": [
    "### 4. IsPalindrome"
   ]
  },
  {
   "cell_type": "code",
   "execution_count": 7,
   "id": "164e27f2",
   "metadata": {},
   "outputs": [],
   "source": [
    "def IsPalindrome(target_str):\n",
    "    \n",
    "    # base case\n",
    "    if ( len(target_str) == 0 ) or ( len(target_str) == 1 ):\n",
    "        return True\n",
    "    \n",
    "    str_list = [char for char in target_str]\n",
    "    f = str_list.pop(0)  # first character\n",
    "    l = str_list.pop()    # last character\n",
    "    # recursive\n",
    "    if f == l:\n",
    "        return IsPalindrome(str_list)\n",
    "    \n",
    "    return False"
   ]
  },
  {
   "cell_type": "code",
   "execution_count": 8,
   "id": "96493687",
   "metadata": {},
   "outputs": [
    {
     "name": "stdout",
     "output_type": "stream",
     "text": [
      "True\n",
      "False\n",
      "False\n",
      "False\n",
      "True\n"
     ]
    }
   ],
   "source": [
    "# testing\n",
    "print(IsPalindrome(\"racecar\"))\n",
    "print(IsPalindrome(\"racecars\"))\n",
    "print(IsPalindrome(\"Zhiqing\"))\n",
    "print(IsPalindrome(\"test\"))\n",
    "print(IsPalindrome(\"\"))"
   ]
  },
  {
   "cell_type": "markdown",
   "id": "bdabc4e8",
   "metadata": {},
   "source": [
    "### 5. MakeChange"
   ]
  },
  {
   "cell_type": "code",
   "execution_count": 9,
   "id": "720ab197",
   "metadata": {},
   "outputs": [],
   "source": [
    "def MakeChange(money):\n",
    "    change = dict()\n",
    "    \n",
    "    c50 = int(money/50)\n",
    "    left_part = money - 50*c50 if c50>0 else money\n",
    "    \n",
    "    c25 = int(left_part/25)\n",
    "    left_part = left_part - 25*c25 if c25>0 else left_part\n",
    "    \n",
    "    c10 = int(left_part/10) \n",
    "    left_part = left_part - 10*c10 if c10>0 else left_part\n",
    "    \n",
    "    c5 = int(left_part/5)\n",
    "    left_part = left_part - 5*c5 if c5>0 else left_part\n",
    "    \n",
    "    change[\"$0.01\"] = left_part\n",
    "    change[\"$0.05\"] = c5\n",
    "    change[\"$0.10\"] = c10\n",
    "    change[\"$0.25\"] = c25\n",
    "    change[\"$0.50\"] = c50\n",
    "\n",
    "    return change"
   ]
  },
  {
   "cell_type": "code",
   "execution_count": 10,
   "id": "09fa896b",
   "metadata": {},
   "outputs": [
    {
     "name": "stdout",
     "output_type": "stream",
     "text": [
      "{'$0.01': 1, '$0.05': 0, '$0.10': 0, '$0.25': 1, '$0.50': 0}\n",
      "{'$0.01': 4, '$0.05': 0, '$0.10': 2, '$0.25': 1, '$0.50': 0}\n",
      "{'$0.01': 0, '$0.05': 0, '$0.10': 0, '$0.25': 0, '$0.50': 2}\n",
      "{'$0.01': 1, '$0.05': 1, '$0.10': 0, '$0.25': 0, '$0.50': 1}\n",
      "{'$0.01': 1, '$0.05': 0, '$0.10': 0, '$0.25': 0, '$0.50': 4}\n",
      "{'$0.01': 4, '$0.05': 0, '$0.10': 2, '$0.25': 1, '$0.50': 19}\n"
     ]
    }
   ],
   "source": [
    "print(MakeChange(26))\n",
    "print(MakeChange(49))\n",
    "print(MakeChange(100))\n",
    "print(MakeChange(56))\n",
    "print(MakeChange(201))\n",
    "print(MakeChange(999))"
   ]
  }
 ],
 "metadata": {
  "kernelspec": {
   "display_name": "Python 3",
   "language": "python",
   "name": "python3"
  },
  "language_info": {
   "codemirror_mode": {
    "name": "ipython",
    "version": 3
   },
   "file_extension": ".py",
   "mimetype": "text/x-python",
   "name": "python",
   "nbconvert_exporter": "python",
   "pygments_lexer": "ipython3",
   "version": "3.8.8"
  }
 },
 "nbformat": 4,
 "nbformat_minor": 5
}
