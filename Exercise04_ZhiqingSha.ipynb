{
 "cells": [
  {
   "cell_type": "markdown",
   "id": "8f3624ea",
   "metadata": {},
   "source": [
    "## Section 1: Analysis"
   ]
  },
  {
   "cell_type": "markdown",
   "id": "50a30468",
   "metadata": {},
   "source": [
    "### 1. An explanation of why the analysis is being conducted and what the hypotheses are\n",
    "\n",
    "**(1) What is the outcome?**  \n",
    "*The outcome is the sales numbers.*  \n",
    "\n",
    "**(2) What is the main effect/predictor she wants to understand the impact of?**  \n",
    "*Temperature.*\n",
    "\n",
    "**(3) What is the hypothesis?**  \n",
    "*The hypothesis is that sales are higher on hot days (high temperature) than on normal days (lower temperature).*  \n",
    "*Null hypothesis is that sales are not different in hot days and in normal days.*\n",
    "\n",
    "*There is a disagreement on whether sales are higher in hot days or not. The analysis is being conducted to test if there is a true difference between sales in higher temperature and lower/normal temperature. If the analysis result shows that there is a significant difference in sales with different temperature, we would conclude that the friend is right.* "
   ]
  },
  {
   "cell_type": "markdown",
   "id": "8cc40943",
   "metadata": {},
   "source": [
    "### 2. Descriptive information about the data, including summary statistics (such as number of observations, measures of central tendency, & measures of dispersion) and plots of the data distributions"
   ]
  },
  {
   "cell_type": "code",
   "execution_count": 1,
   "id": "a60730a5",
   "metadata": {},
   "outputs": [
    {
     "data": {
      "text/html": [
       "<div>\n",
       "<style scoped>\n",
       "    .dataframe tbody tr th:only-of-type {\n",
       "        vertical-align: middle;\n",
       "    }\n",
       "\n",
       "    .dataframe tbody tr th {\n",
       "        vertical-align: top;\n",
       "    }\n",
       "\n",
       "    .dataframe thead th {\n",
       "        text-align: right;\n",
       "    }\n",
       "</style>\n",
       "<table border=\"1\" class=\"dataframe\">\n",
       "  <thead>\n",
       "    <tr style=\"text-align: right;\">\n",
       "      <th></th>\n",
       "      <th>Temperature</th>\n",
       "      <th>Sales</th>\n",
       "    </tr>\n",
       "  </thead>\n",
       "  <tbody>\n",
       "    <tr>\n",
       "      <th>0</th>\n",
       "      <td>75.0</td>\n",
       "      <td>3140</td>\n",
       "    </tr>\n",
       "    <tr>\n",
       "      <th>1</th>\n",
       "      <td>63.0</td>\n",
       "      <td>2448</td>\n",
       "    </tr>\n",
       "    <tr>\n",
       "      <th>2</th>\n",
       "      <td>85.0</td>\n",
       "      <td>2970</td>\n",
       "    </tr>\n",
       "    <tr>\n",
       "      <th>3</th>\n",
       "      <td>82.0</td>\n",
       "      <td>2728</td>\n",
       "    </tr>\n",
       "    <tr>\n",
       "      <th>4</th>\n",
       "      <td>66.0</td>\n",
       "      <td>2102</td>\n",
       "    </tr>\n",
       "  </tbody>\n",
       "</table>\n",
       "</div>"
      ],
      "text/plain": [
       "   Temperature  Sales\n",
       "0         75.0   3140\n",
       "1         63.0   2448\n",
       "2         85.0   2970\n",
       "3         82.0   2728\n",
       "4         66.0   2102"
      ]
     },
     "execution_count": 1,
     "metadata": {},
     "output_type": "execute_result"
    }
   ],
   "source": [
    "import pandas as pd\n",
    "import numpy as np\n",
    "\n",
    "custard = pd.read_excel(\"../W4/frzn_custard.xlsx\",  \n",
    "                        names = ['Temperature', 'Sales'],\n",
    "                        dtype = {'Temperature': np.float64})\n",
    "custard = custard.dropna()\n",
    "custard[\"Sales\"] = custard[\"Sales\"].astype(\"int64\") \n",
    "custard.head(5)"
   ]
  },
  {
   "cell_type": "code",
   "execution_count": 2,
   "id": "ab55d9f0",
   "metadata": {},
   "outputs": [
    {
     "data": {
      "text/plain": [
       "(107.24087867693477, 158579.55068804443)"
      ]
     },
     "execution_count": 2,
     "metadata": {},
     "output_type": "execute_result"
    }
   ],
   "source": [
    "np.var(custard[\"Temperature\"]), np.var(custard[\"Sales\"])"
   ]
  },
  {
   "cell_type": "code",
   "execution_count": 3,
   "id": "7ac8caab",
   "metadata": {},
   "outputs": [
    {
     "name": "stdout",
     "output_type": "stream",
     "text": [
      "<class 'pandas.core.frame.DataFrame'>\n",
      "Int64Index: 178 entries, 0 to 179\n",
      "Data columns (total 2 columns):\n",
      " #   Column       Non-Null Count  Dtype  \n",
      "---  ------       --------------  -----  \n",
      " 0   Temperature  178 non-null    float64\n",
      " 1   Sales        178 non-null    int64  \n",
      "dtypes: float64(1), int64(1)\n",
      "memory usage: 4.2 KB\n"
     ]
    }
   ],
   "source": [
    "custard.info()"
   ]
  },
  {
   "cell_type": "code",
   "execution_count": 4,
   "id": "d85a4104",
   "metadata": {},
   "outputs": [
    {
     "data": {
      "text/html": [
       "<div>\n",
       "<style scoped>\n",
       "    .dataframe tbody tr th:only-of-type {\n",
       "        vertical-align: middle;\n",
       "    }\n",
       "\n",
       "    .dataframe tbody tr th {\n",
       "        vertical-align: top;\n",
       "    }\n",
       "\n",
       "    .dataframe thead th {\n",
       "        text-align: right;\n",
       "    }\n",
       "</style>\n",
       "<table border=\"1\" class=\"dataframe\">\n",
       "  <thead>\n",
       "    <tr style=\"text-align: right;\">\n",
       "      <th></th>\n",
       "      <th>Temperature</th>\n",
       "      <th>Sales</th>\n",
       "    </tr>\n",
       "  </thead>\n",
       "  <tbody>\n",
       "    <tr>\n",
       "      <th>count</th>\n",
       "      <td>178.000000</td>\n",
       "      <td>178.000000</td>\n",
       "    </tr>\n",
       "    <tr>\n",
       "      <th>mean</th>\n",
       "      <td>79.404494</td>\n",
       "      <td>2936.382022</td>\n",
       "    </tr>\n",
       "    <tr>\n",
       "      <th>std</th>\n",
       "      <td>10.384929</td>\n",
       "      <td>399.343812</td>\n",
       "    </tr>\n",
       "    <tr>\n",
       "      <th>min</th>\n",
       "      <td>57.000000</td>\n",
       "      <td>1959.000000</td>\n",
       "    </tr>\n",
       "    <tr>\n",
       "      <th>25%</th>\n",
       "      <td>72.000000</td>\n",
       "      <td>2652.500000</td>\n",
       "    </tr>\n",
       "    <tr>\n",
       "      <th>50%</th>\n",
       "      <td>79.000000</td>\n",
       "      <td>2955.500000</td>\n",
       "    </tr>\n",
       "    <tr>\n",
       "      <th>75%</th>\n",
       "      <td>87.000000</td>\n",
       "      <td>3199.750000</td>\n",
       "    </tr>\n",
       "    <tr>\n",
       "      <th>max</th>\n",
       "      <td>105.000000</td>\n",
       "      <td>3971.000000</td>\n",
       "    </tr>\n",
       "  </tbody>\n",
       "</table>\n",
       "</div>"
      ],
      "text/plain": [
       "       Temperature        Sales\n",
       "count   178.000000   178.000000\n",
       "mean     79.404494  2936.382022\n",
       "std      10.384929   399.343812\n",
       "min      57.000000  1959.000000\n",
       "25%      72.000000  2652.500000\n",
       "50%      79.000000  2955.500000\n",
       "75%      87.000000  3199.750000\n",
       "max     105.000000  3971.000000"
      ]
     },
     "execution_count": 4,
     "metadata": {},
     "output_type": "execute_result"
    }
   ],
   "source": [
    "custard.describe()"
   ]
  },
  {
   "cell_type": "code",
   "execution_count": 5,
   "id": "ae30bfd2",
   "metadata": {},
   "outputs": [
    {
     "data": {
      "text/plain": [
       "<AxesSubplot:xlabel='Sales', ylabel='Count'>"
      ]
     },
     "execution_count": 5,
     "metadata": {},
     "output_type": "execute_result"
    },
    {
     "data": {
      "image/png": "[encoded data removed]",
      "text/plain": [
       "<Figure size 720x288 with 2 Axes>"
      ]
     },
     "metadata": {},
     "output_type": "display_data"
    }
   ],
   "source": [
    "import seaborn as sns\n",
    "import matplotlib.pyplot as plt\n",
    "\n",
    "sns.set(style=\"darkgrid\")\n",
    "fig, ax = plt.subplots(nrows = 1, ncols = 2, figsize = (10,4))\n",
    "sns.histplot(ax = ax[0], x=custard[\"Temperature\"], color=\"skyblue\", label=\"Temperature\", kde=True)\n",
    "sns.histplot(ax = ax[1], x=custard[\"Sales\"], color=\"lightcoral\", label=\"Sales\", kde=True)"
   ]
  },
  {
   "cell_type": "markdown",
   "id": "adf3c2f3",
   "metadata": {},
   "source": [
    "### 3. Descriptive information about the relationships between the two variables, including correlation and scatterplots"
   ]
  },
  {
   "cell_type": "code",
   "execution_count": 6,
   "id": "f11eef26",
   "metadata": {},
   "outputs": [
    {
     "data": {
      "text/plain": [
       "0.823046239446803"
      ]
     },
     "execution_count": 6,
     "metadata": {},
     "output_type": "execute_result"
    }
   ],
   "source": [
    "np.corrcoef(custard[\"Temperature\"], custard[\"Sales\"])[0,1]"
   ]
  },
  {
   "cell_type": "code",
   "execution_count": 7,
   "id": "835dbc97",
   "metadata": {},
   "outputs": [
    {
     "data": {
      "image/png": "[encoded data removed]",
      "text/plain": [
       "<Figure size 432x288 with 1 Axes>"
      ]
     },
     "metadata": {},
     "output_type": "display_data"
    }
   ],
   "source": [
    "plt.clf()\n",
    "plt.scatter(x = custard[\"Temperature\"], y = custard[\"Sales\"], alpha = 0.9)\n",
    "plt.xlabel(\"Temperature\")\n",
    "plt.ylabel(\"Sales\")\n",
    "plt.show()"
   ]
  },
  {
   "cell_type": "markdown",
   "id": "773b687c",
   "metadata": {},
   "source": [
    "### 4. A regression analysis to test the hypothesis"
   ]
  },
  {
   "cell_type": "code",
   "execution_count": 8,
   "id": "b1402e14",
   "metadata": {},
   "outputs": [],
   "source": [
    "import statsmodels.api as sm\n",
    "\n",
    "x = sm.add_constant(custard[\"Temperature\"]) # adding a constant\n",
    "lm = sm.OLS(custard[\"Sales\"], x).fit() # y, x"
   ]
  },
  {
   "cell_type": "code",
   "execution_count": 9,
   "id": "a46c397c",
   "metadata": {},
   "outputs": [
    {
     "data": {
      "text/html": [
       "<table class=\"simpletable\">\n",
       "<caption>OLS Regression Results</caption>\n",
       "<tr>\n",
       "  <th>Dep. Variable:</th>          <td>Sales</td>      <th>  R-squared:         </th> <td>   0.677</td>\n",
       "</tr>\n",
       "<tr>\n",
       "  <th>Model:</th>                   <td>OLS</td>       <th>  Adj. R-squared:    </th> <td>   0.676</td>\n",
       "</tr>\n",
       "<tr>\n",
       "  <th>Method:</th>             <td>Least Squares</td>  <th>  F-statistic:       </th> <td>   369.6</td>\n",
       "</tr>\n",
       "<tr>\n",
       "  <th>Date:</th>             <td>Wed, 28 Sep 2022</td> <th>  Prob (F-statistic):</th> <td>4.21e-45</td>\n",
       "</tr>\n",
       "<tr>\n",
       "  <th>Time:</th>                 <td>18:11:53</td>     <th>  Log-Likelihood:    </th> <td> -1217.6</td>\n",
       "</tr>\n",
       "<tr>\n",
       "  <th>No. Observations:</th>      <td>   178</td>      <th>  AIC:               </th> <td>   2439.</td>\n",
       "</tr>\n",
       "<tr>\n",
       "  <th>Df Residuals:</th>          <td>   176</td>      <th>  BIC:               </th> <td>   2445.</td>\n",
       "</tr>\n",
       "<tr>\n",
       "  <th>Df Model:</th>              <td>     1</td>      <th>                     </th>     <td> </td>   \n",
       "</tr>\n",
       "<tr>\n",
       "  <th>Covariance Type:</th>      <td>nonrobust</td>    <th>                     </th>     <td> </td>   \n",
       "</tr>\n",
       "</table>\n",
       "<table class=\"simpletable\">\n",
       "<tr>\n",
       "       <td></td>          <th>coef</th>     <th>std err</th>      <th>t</th>      <th>P>|t|</th>  <th>[0.025</th>    <th>0.975]</th>  \n",
       "</tr>\n",
       "<tr>\n",
       "  <th>const</th>       <td>  423.2649</td> <td>  131.833</td> <td>    3.211</td> <td> 0.002</td> <td>  163.088</td> <td>  683.441</td>\n",
       "</tr>\n",
       "<tr>\n",
       "  <th>Temperature</th> <td>   31.6496</td> <td>    1.646</td> <td>   19.224</td> <td> 0.000</td> <td>   28.400</td> <td>   34.899</td>\n",
       "</tr>\n",
       "</table>\n",
       "<table class=\"simpletable\">\n",
       "<tr>\n",
       "  <th>Omnibus:</th>       <td> 7.647</td> <th>  Durbin-Watson:     </th> <td>   1.923</td>\n",
       "</tr>\n",
       "<tr>\n",
       "  <th>Prob(Omnibus):</th> <td> 0.022</td> <th>  Jarque-Bera (JB):  </th> <td>   3.999</td>\n",
       "</tr>\n",
       "<tr>\n",
       "  <th>Skew:</th>          <td>-0.127</td> <th>  Prob(JB):          </th> <td>   0.135</td>\n",
       "</tr>\n",
       "<tr>\n",
       "  <th>Kurtosis:</th>      <td> 2.311</td> <th>  Cond. No.          </th> <td>    619.</td>\n",
       "</tr>\n",
       "</table><br/><br/>Notes:<br/>[1] Standard Errors assume that the covariance matrix of the errors is correctly specified."
      ],
      "text/plain": [
       "<class 'statsmodels.iolib.summary.Summary'>\n",
       "\"\"\"\n",
       "                            OLS Regression Results                            \n",
       "==============================================================================\n",
       "Dep. Variable:                  Sales   R-squared:                       0.677\n",
       "Model:                            OLS   Adj. R-squared:                  0.676\n",
       "Method:                 Least Squares   F-statistic:                     369.6\n",
       "Date:                Wed, 28 Sep 2022   Prob (F-statistic):           4.21e-45\n",
       "Time:                        18:11:53   Log-Likelihood:                -1217.6\n",
       "No. Observations:                 178   AIC:                             2439.\n",
       "Df Residuals:                     176   BIC:                             2445.\n",
       "Df Model:                           1                                         \n",
       "Covariance Type:            nonrobust                                         \n",
       "===============================================================================\n",
       "                  coef    std err          t      P>|t|      [0.025      0.975]\n",
       "-------------------------------------------------------------------------------\n",
       "const         423.2649    131.833      3.211      0.002     163.088     683.441\n",
       "Temperature    31.6496      1.646     19.224      0.000      28.400      34.899\n",
       "==============================================================================\n",
       "Omnibus:                        7.647   Durbin-Watson:                   1.923\n",
       "Prob(Omnibus):                  0.022   Jarque-Bera (JB):                3.999\n",
       "Skew:                          -0.127   Prob(JB):                        0.135\n",
       "Kurtosis:                       2.311   Cond. No.                         619.\n",
       "==============================================================================\n",
       "\n",
       "Notes:\n",
       "[1] Standard Errors assume that the covariance matrix of the errors is correctly specified.\n",
       "\"\"\""
      ]
     },
     "execution_count": 9,
     "metadata": {},
     "output_type": "execute_result"
    }
   ],
   "source": [
    "lm.summary()"
   ]
  },
  {
   "cell_type": "code",
   "execution_count": 10,
   "id": "ce8900bd",
   "metadata": {},
   "outputs": [
    {
     "data": {
      "text/plain": [
       "0      2796.981724\n",
       "1      2417.187032\n",
       "2      3113.477300\n",
       "3      3018.528627\n",
       "4      2512.135705\n",
       "          ...     \n",
       "175    2702.033051\n",
       "176    2702.033051\n",
       "177    3303.374646\n",
       "178    3398.323319\n",
       "179    3176.776415\n",
       "Length: 178, dtype: float64"
      ]
     },
     "execution_count": 10,
     "metadata": {},
     "output_type": "execute_result"
    }
   ],
   "source": [
    "lm.predict(x)"
   ]
  },
  {
   "cell_type": "code",
   "execution_count": 11,
   "id": "afcf56d9",
   "metadata": {},
   "outputs": [
    {
     "data": {
      "image/png": "[encoded data removed]",
      "text/plain": [
       "<Figure size 432x288 with 1 Axes>"
      ]
     },
     "metadata": {},
     "output_type": "display_data"
    }
   ],
   "source": [
    "y_pred = 31.6496 * custard[\"Temperature\"] + 423.2649\n",
    "# coef, \n",
    "sns.scatterplot(x = custard['Temperature'], y = custard['Sales'])\n",
    "sns.lineplot(x=custard['Temperature'], y = y_pred, color='red')\n",
    "plt.show()"
   ]
  },
  {
   "cell_type": "markdown",
   "id": "95818bf0",
   "metadata": {},
   "source": [
    "### 5. A description of the results of the analysis. Included in this description should be an interpretation of the coefficients, description of the goodness of fit, and a discussion of whether the results are statistically significant"
   ]
  },
  {
   "cell_type": "markdown",
   "id": "5312f5dd",
   "metadata": {},
   "source": [
    "As printed above, the coefficient between temperature and sales in the dataset is around 0.823, a highly positive number indicating a strong positive correlation.  \n",
    "The p-value of temperature in predicting sales is less than 0.000, meaning that the regression result is statistically significant. It means that temperature is a strong predictor of sales, and each degree increase of temperature in F corresponds to 31.6496 more unit of sales."
   ]
  },
  {
   "cell_type": "markdown",
   "id": "e2343d0a",
   "metadata": {},
   "source": [
    "## Section 2: Gradient Descent"
   ]
  },
  {
   "cell_type": "markdown",
   "id": "e818ea05",
   "metadata": {},
   "source": [
    "### 1. Write a program in Python that uses gradient descent to find the regression coefficients (βs) for the frozen custard data in Section 1. \n",
    "#### a. Cite the source you used. "
   ]
  },
  {
   "cell_type": "markdown",
   "id": "09c9c8ad",
   "metadata": {},
   "source": [
    "source: https://neuraspike.com/blog/linear-regression-gradient-descent-python/"
   ]
  },
  {
   "cell_type": "code",
   "execution_count": 12,
   "id": "f4197469",
   "metadata": {},
   "outputs": [
    {
     "name": "stdout",
     "output_type": "stream",
     "text": [
      "loss:4479939.679328464 \t epoch: 0\n",
      "loss:4.505724873329677e+42 \t epoch: 10\n",
      "loss:4.559217370217706e+78 \t epoch: 20\n",
      "loss:4.61334493633516e+114 \t epoch: 30\n",
      "loss:4.66811511129881e+150 \t epoch: 40\n",
      "loss:4.723535524236622e+186 \t epoch: 50\n",
      "loss:4.7796138948505115e+222 \t epoch: 60\n",
      "loss:4.83635803449153e+258 \t epoch: 70\n",
      "loss:4.893775847248096e+294 \t epoch: 80\n",
      "loss:inf \t epoch: 90\n",
      "\n",
      "β_0: -4.894632134847974e+179 \n",
      "β_1: -3.952652747289114e+181\n"
     ]
    }
   ],
   "source": [
    "def gradient_descent(X, y, l=0.01, epochs=30):\n",
    "    \"\"\"\n",
    "    :param X: feature matrix\n",
    "    :param y: target vector\n",
    "    :param l: learning rate (default:0.01)\n",
    "    :param epochs: maximum number of iterations of the linear regression algorithm for a single run (default=30)\n",
    "    :return: beta, list of the loss function changing overtime\n",
    "    \"\"\"\n",
    " \n",
    "    n = np.shape(X)[0]  # total number of samples\n",
    "    p = np.shape(X)[1]  # total number of features\n",
    " \n",
    "    X = np.concatenate((np.ones((n, 1)), X), axis=1) # adjust shape, add a \"1\" column\n",
    "    B = np.random.randn(p+1, ) # randomly initiate β (+1 for intercept)\n",
    " \n",
    "    loss_history = []\n",
    "    \n",
    "    # iterate until the maximum number of epochs\n",
    "    for current_iteration in range(epochs):\n",
    "        \n",
    "        # calculate loss = 1/2n * ∑(predict_y-actual_y)^2\n",
    "        y_estimated = np.matmul(X, B)\n",
    "        loss = (1 / (2*n)) * np.sum((y_estimated - y) ** 2)\n",
    "        \n",
    "        # Update gradient = 1/n * (predict_y-actual_y)X_T\n",
    "        gradient = (1 / n) * np.matmul(X.T, y_estimated - y)\n",
    "        \n",
    "        # update β = β - learningRate * gradient\n",
    "        B = B - l * gradient\n",
    "        \n",
    "        # print out the cost to see how these valueschanges after every 10th iteration\n",
    "        if current_iteration % 10 == 0:\n",
    "            print(f\"loss:{loss} \\t epoch: {current_iteration}\")\n",
    " \n",
    "        # keep track the cost as it changes in each iteration\n",
    "        loss_history.append(loss)\n",
    " \n",
    "    return B, loss_history\n",
    "\n",
    "beta, cost_history_list = gradient_descent(np.array(custard[\"Temperature\"]).reshape(-1,1), custard[\"Sales\"], l=0.01, epochs=100)\n",
    "print(\"\\nβ_0:\", beta[0], \"\\nβ_1:\", beta[1])"
   ]
  },
  {
   "cell_type": "markdown",
   "id": "8fe4094c",
   "metadata": {},
   "source": [
    "#### b.Graph the loss function over iterations so that you can see what is happening."
   ]
  },
  {
   "cell_type": "code",
   "execution_count": 13,
   "id": "db14fdad",
   "metadata": {},
   "outputs": [
    {
     "data": {
      "image/png": "[encoded data removed]",
      "text/plain": [
       "<Figure size 432x288 with 1 Axes>"
      ]
     },
     "metadata": {},
     "output_type": "display_data"
    }
   ],
   "source": [
    "plt.plot(np.arange(len(cost_history_list)), cost_history_list)\n",
    "plt.xlabel(\"Number of iterations (Epochs)\")\n",
    "plt.ylabel(\"Loss function\")\n",
    "plt.title(\"Gradient Descent\")\n",
    "plt.show()"
   ]
  },
  {
   "cell_type": "markdown",
   "id": "6dfd4c98",
   "metadata": {},
   "source": [
    "#### c. Standardize your X and Y variables. To do this, subtract the mean from each value and divide it by the standard deviation. Please note that the input array for X needs to have a column of 1’s in it. Do not standardize the 1’s."
   ]
  },
  {
   "cell_type": "code",
   "execution_count": 14,
   "id": "f88b0b63",
   "metadata": {},
   "outputs": [],
   "source": [
    "X = custard[\"Temperature\"]\n",
    "m_X = X.mean()\n",
    "sd_X = X.std()\n",
    "X = [(x-m_X)/sd_X for x in X]\n",
    "# X = np.concatenate((np.ones((len(custard[\"Temperature\"]), 1)), np.array(custard[\"Temperature\"]).reshape(-1,1)), axis=1)\n",
    "\n",
    "Y = custard[\"Sales\"]\n",
    "m_Y = Y.mean()\n",
    "sd_Y = Y.std()\n",
    "Y = [(y-m_Y)/sd_Y for y in Y]"
   ]
  },
  {
   "cell_type": "markdown",
   "id": "2bd1dd88",
   "metadata": {},
   "source": [
    "#### d. Rerun your section 1 model using the standardized inputs. Compare your results using gradient descent and using the module you used in Section 1 for the standardized inputs."
   ]
  },
  {
   "cell_type": "code",
   "execution_count": 15,
   "id": "10e78ae0",
   "metadata": {},
   "outputs": [
    {
     "data": {
      "text/html": [
       "<table class=\"simpletable\">\n",
       "<caption>OLS Regression Results</caption>\n",
       "<tr>\n",
       "  <th>Dep. Variable:</th>            <td>y</td>        <th>  R-squared:         </th> <td>   0.677</td>\n",
       "</tr>\n",
       "<tr>\n",
       "  <th>Model:</th>                   <td>OLS</td>       <th>  Adj. R-squared:    </th> <td>   0.676</td>\n",
       "</tr>\n",
       "<tr>\n",
       "  <th>Method:</th>             <td>Least Squares</td>  <th>  F-statistic:       </th> <td>   369.6</td>\n",
       "</tr>\n",
       "<tr>\n",
       "  <th>Date:</th>             <td>Wed, 28 Sep 2022</td> <th>  Prob (F-statistic):</th> <td>4.21e-45</td>\n",
       "</tr>\n",
       "<tr>\n",
       "  <th>Time:</th>                 <td>18:11:55</td>     <th>  Log-Likelihood:    </th> <td> -151.38</td>\n",
       "</tr>\n",
       "<tr>\n",
       "  <th>No. Observations:</th>      <td>   178</td>      <th>  AIC:               </th> <td>   306.8</td>\n",
       "</tr>\n",
       "<tr>\n",
       "  <th>Df Residuals:</th>          <td>   176</td>      <th>  BIC:               </th> <td>   313.1</td>\n",
       "</tr>\n",
       "<tr>\n",
       "  <th>Df Model:</th>              <td>     1</td>      <th>                     </th>     <td> </td>   \n",
       "</tr>\n",
       "<tr>\n",
       "  <th>Covariance Type:</th>      <td>nonrobust</td>    <th>                     </th>     <td> </td>   \n",
       "</tr>\n",
       "</table>\n",
       "<table class=\"simpletable\">\n",
       "<tr>\n",
       "    <td></td>       <th>coef</th>     <th>std err</th>      <th>t</th>      <th>P>|t|</th>  <th>[0.025</th>    <th>0.975]</th>  \n",
       "</tr>\n",
       "<tr>\n",
       "  <th>const</th> <td>-2.186e-16</td> <td>    0.043</td> <td>-5.12e-15</td> <td> 1.000</td> <td>   -0.084</td> <td>    0.084</td>\n",
       "</tr>\n",
       "<tr>\n",
       "  <th>x1</th>    <td>    0.8230</td> <td>    0.043</td> <td>   19.224</td> <td> 0.000</td> <td>    0.739</td> <td>    0.908</td>\n",
       "</tr>\n",
       "</table>\n",
       "<table class=\"simpletable\">\n",
       "<tr>\n",
       "  <th>Omnibus:</th>       <td> 7.647</td> <th>  Durbin-Watson:     </th> <td>   1.923</td>\n",
       "</tr>\n",
       "<tr>\n",
       "  <th>Prob(Omnibus):</th> <td> 0.022</td> <th>  Jarque-Bera (JB):  </th> <td>   3.999</td>\n",
       "</tr>\n",
       "<tr>\n",
       "  <th>Skew:</th>          <td>-0.127</td> <th>  Prob(JB):          </th> <td>   0.135</td>\n",
       "</tr>\n",
       "<tr>\n",
       "  <th>Kurtosis:</th>      <td> 2.311</td> <th>  Cond. No.          </th> <td>    1.00</td>\n",
       "</tr>\n",
       "</table><br/><br/>Notes:<br/>[1] Standard Errors assume that the covariance matrix of the errors is correctly specified."
      ],
      "text/plain": [
       "<class 'statsmodels.iolib.summary.Summary'>\n",
       "\"\"\"\n",
       "                            OLS Regression Results                            \n",
       "==============================================================================\n",
       "Dep. Variable:                      y   R-squared:                       0.677\n",
       "Model:                            OLS   Adj. R-squared:                  0.676\n",
       "Method:                 Least Squares   F-statistic:                     369.6\n",
       "Date:                Wed, 28 Sep 2022   Prob (F-statistic):           4.21e-45\n",
       "Time:                        18:11:55   Log-Likelihood:                -151.38\n",
       "No. Observations:                 178   AIC:                             306.8\n",
       "Df Residuals:                     176   BIC:                             313.1\n",
       "Df Model:                           1                                         \n",
       "Covariance Type:            nonrobust                                         \n",
       "==============================================================================\n",
       "                 coef    std err          t      P>|t|      [0.025      0.975]\n",
       "------------------------------------------------------------------------------\n",
       "const      -2.186e-16      0.043  -5.12e-15      1.000      -0.084       0.084\n",
       "x1             0.8230      0.043     19.224      0.000       0.739       0.908\n",
       "==============================================================================\n",
       "Omnibus:                        7.647   Durbin-Watson:                   1.923\n",
       "Prob(Omnibus):                  0.022   Jarque-Bera (JB):                3.999\n",
       "Skew:                          -0.127   Prob(JB):                        0.135\n",
       "Kurtosis:                       2.311   Cond. No.                         1.00\n",
       "==============================================================================\n",
       "\n",
       "Notes:\n",
       "[1] Standard Errors assume that the covariance matrix of the errors is correctly specified.\n",
       "\"\"\""
      ]
     },
     "execution_count": 15,
     "metadata": {},
     "output_type": "execute_result"
    }
   ],
   "source": [
    "# using stat model\n",
    "X2 = sm.add_constant(X)\n",
    "lm2 = sm.OLS(Y, X2).fit()\n",
    "lm2.summary()"
   ]
  },
  {
   "cell_type": "code",
   "execution_count": 16,
   "id": "c0f15859",
   "metadata": {},
   "outputs": [
    {
     "name": "stdout",
     "output_type": "stream",
     "text": [
      "loss:0.672637291948553 \t epoch: 0\n",
      "loss:0.5798345296458485 \t epoch: 10\n",
      "loss:0.5038446920897267 \t epoch: 20\n",
      "loss:0.44162180883668123 \t epoch: 30\n",
      "loss:0.39067174305664354 \t epoch: 40\n",
      "loss:0.3489522167046139 \t epoch: 50\n",
      "loss:0.31479094797692286 \t epoch: 60\n",
      "loss:0.2868186196772155 \t epoch: 70\n",
      "loss:0.2639139915989976 \t epoch: 80\n",
      "loss:0.24515895681195013 \t epoch: 90\n",
      "loss:0.2298017403303159 \t epoch: 100\n",
      "loss:0.21722676502060462 \t epoch: 110\n",
      "loss:0.2069299768552228 \t epoch: 120\n",
      "loss:0.1984986404508323 \t epoch: 130\n",
      "loss:0.19159479501693638 \t epoch: 140\n",
      "loss:0.18594170756390882 \t epoch: 150\n",
      "loss:0.18131278036168427 \t epoch: 160\n",
      "loss:0.17752246801638577 \t epoch: 170\n",
      "loss:0.17441884008558556 \t epoch: 180\n",
      "loss:0.17187749111257447 \t epoch: 190\n",
      "loss:0.16979655396988108 \t epoch: 200\n",
      "loss:0.16809261662726382 \t epoch: 210\n",
      "loss:0.1666973786722093 \t epoch: 220\n",
      "loss:0.16555491356316218 \t epoch: 230\n",
      "loss:0.1646194268758631 \t epoch: 240\n",
      "loss:0.16385342068452202 \t epoch: 250\n",
      "loss:0.16322619049903794 \t epoch: 260\n",
      "loss:0.1627125945096245 \t epoch: 270\n",
      "loss:0.1622920458053523 \t epoch: 280\n",
      "loss:0.1619476871707879 \t epoch: 290\n",
      "loss:0.1616657153833535 \t epoch: 300\n",
      "loss:0.1614348279266085 \t epoch: 310\n",
      "loss:0.16124576994156053 \t epoch: 320\n",
      "loss:0.1610909632560486 \t epoch: 330\n",
      "loss:0.1609642026222492 \t epoch: 340\n",
      "loss:0.16086040698632195 \t epoch: 350\n",
      "loss:0.16077541582011295 \t epoch: 360\n",
      "loss:0.16070582235109881 \t epoch: 370\n",
      "loss:0.1606488370057779 \t epoch: 380\n",
      "loss:0.1606021755927904 \t epoch: 390\n",
      "loss:0.16056396774371118 \t epoch: 400\n",
      "loss:0.16053268194146747 \t epoch: 410\n",
      "loss:0.16050706413122967 \t epoch: 420\n",
      "loss:0.16048608745306106 \t epoch: 430\n",
      "loss:0.16046891108141684 \t epoch: 440\n",
      "loss:0.16045484652161984 \t epoch: 450\n",
      "loss:0.16044333001234526 \t epoch: 460\n",
      "loss:0.16043389992789914 \t epoch: 470\n",
      "loss:0.160426178274487 \t epoch: 480\n",
      "loss:0.16041985553877056 \t epoch: 490\n",
      "loss:0.16041467828138545 \t epoch: 500\n",
      "loss:0.16041043897811913 \t epoch: 510\n",
      "loss:0.16040696770154492 \t epoch: 520\n",
      "loss:0.16040412530967962 \t epoch: 530\n",
      "loss:0.16040179786863992 \t epoch: 540\n",
      "loss:0.1603998920857364 \t epoch: 550\n",
      "loss:0.1603983315699456 \t epoch: 560\n",
      "loss:0.16039705376986577 \t epoch: 570\n",
      "loss:0.16039600746641772 \t epoch: 580\n",
      "loss:0.1603951507197885 \t epoch: 590\n",
      "\n",
      "β_0: 0.0001609881255865076 \n",
      "β_1: 0.8205260731694368\n"
     ]
    }
   ],
   "source": [
    "# gradient descent\n",
    "s_beta, s_cost_history_list = gradient_descent(pd.DataFrame(X), Y, l=0.01, epochs=600)\n",
    "print(\"\\nβ_0:\", s_beta[0], \"\\nβ_1:\", s_beta[1])"
   ]
  },
  {
   "cell_type": "markdown",
   "id": "5ad80a67",
   "metadata": {},
   "source": [
    "#### e. Plot the loss (i.e. cost) function over the iterations"
   ]
  },
  {
   "cell_type": "code",
   "execution_count": 17,
   "id": "3fe91a0f",
   "metadata": {},
   "outputs": [
    {
     "data": {
      "image/png": "[encoded data removed]",
      "text/plain": [
       "<Figure size 432x288 with 1 Axes>"
      ]
     },
     "metadata": {},
     "output_type": "display_data"
    }
   ],
   "source": [
    "plt.plot(np.arange(len(s_cost_history_list)), s_cost_history_list)\n",
    "plt.xlabel(\"Number of iterations (Epochs)\")\n",
    "plt.ylabel(\"Cost function\")\n",
    "plt.title(\"Gradient Descent\")\n",
    "plt.show()"
   ]
  },
  {
   "cell_type": "code",
   "execution_count": 18,
   "id": "c011badc",
   "metadata": {},
   "outputs": [
    {
     "data": {
      "image/png": "[encoded data removed]",
      "text/plain": [
       "<Figure size 432x288 with 1 Axes>"
      ]
     },
     "metadata": {},
     "output_type": "display_data"
    }
   ],
   "source": [
    "Y_pred = round(s_beta[1])*X + s_beta[0]\n",
    "sns.scatterplot(x = X, y = Y)\n",
    "sns.lineplot(x=X, y = Y_pred, color='red')\n",
    "plt.show()"
   ]
  },
  {
   "cell_type": "markdown",
   "id": "db6e9578",
   "metadata": {},
   "source": [
    "#### Version 2"
   ]
  },
  {
   "cell_type": "markdown",
   "id": "417295cc",
   "metadata": {},
   "source": [
    "https://towardsdatascience.com/gradient-descent-in-python-a0d07285742f"
   ]
  },
  {
   "cell_type": "code",
   "execution_count": 19,
   "id": "77a1bd72",
   "metadata": {},
   "outputs": [],
   "source": [
    "def gd(X, y, beta, l = 0.01, epoch = 100):\n",
    "    m = len(y)\n",
    "    cost_history = np.zeros(epoch)\n",
    "    \n",
    "    for i in range(epoch):\n",
    "        pred = np.matmul(X, beta)       \n",
    "        beta = beta - (1/m) * l * np.matmul(X.T, (pred-y))\n",
    "        cost_history[i] = (1/2*m) * np.sum(np.square(pred-y))\n",
    "        \n",
    "    return beta, cost_history"
   ]
  },
  {
   "cell_type": "code",
   "execution_count": 20,
   "id": "82f100a3",
   "metadata": {},
   "outputs": [
    {
     "name": "stderr",
     "output_type": "stream",
     "text": [
      "<ipython-input-19-b555605f543c>:8: RuntimeWarning: overflow encountered in double_scalars\n",
      "  cost_history[i] = (1/2*m) * np.sum(np.square(pred-y))\n",
      "<ipython-input-19-b555605f543c>:8: RuntimeWarning: overflow encountered in square\n",
      "  cost_history[i] = (1/2*m) * np.sum(np.square(pred-y))\n",
      "<ipython-input-19-b555605f543c>:7: RuntimeWarning: overflow encountered in matmul\n",
      "  beta = beta - (1/m) * l * np.matmul(X.T, (pred-y))\n",
      "<ipython-input-19-b555605f543c>:7: RuntimeWarning: invalid value encountered in matmul\n",
      "  beta = beta - (1/m) * l * np.matmul(X.T, (pred-y))\n",
      "<ipython-input-19-b555605f543c>:7: RuntimeWarning: invalid value encountered in subtract\n",
      "  beta = beta - (1/m) * l * np.matmul(X.T, (pred-y))\n"
     ]
    },
    {
     "data": {
      "text/plain": [
       "array([[nan],\n",
       "       [nan]])"
      ]
     },
     "execution_count": 20,
     "metadata": {},
     "output_type": "execute_result"
    }
   ],
   "source": [
    "theta = np.random.randn(2, 1) # randomly initialize beta\n",
    "X_b = np.c_[np.ones((len(custard[\"Temperature\"]), 1)), custard[\"Temperature\"]] # add 1s to the matrix of X\n",
    "\n",
    "be, ch = gd(X_b, np.array(custard[\"Sales\"]).reshape(-1,1), theta, l = 0.01, epoch = 1000)\n",
    "be"
   ]
  },
  {
   "cell_type": "code",
   "execution_count": 21,
   "id": "4475eda7",
   "metadata": {},
   "outputs": [
    {
     "data": {
      "image/png": "[encoded data removed]",
      "text/plain": [
       "<Figure size 432x288 with 1 Axes>"
      ]
     },
     "metadata": {},
     "output_type": "display_data"
    }
   ],
   "source": [
    "plt.plot(np.arange(len(ch)), ch)\n",
    "plt.xlabel(\"Number of iterations (Epochs)\")\n",
    "plt.ylabel(\"Cost function\")\n",
    "plt.title(\"Gradient Descent\")\n",
    "plt.show()"
   ]
  },
  {
   "cell_type": "code",
   "execution_count": 22,
   "id": "4bb08cbc",
   "metadata": {},
   "outputs": [],
   "source": [
    "# standardization\n",
    "X1 = custard[\"Temperature\"]\n",
    "m_X = X1.mean()\n",
    "sd_X = X1.std()\n",
    "X1 = [(x-m_X)/sd_X for x in X1]\n",
    "\n",
    "X = np.c_[np.ones((len(X),1)), X1]\n",
    "Y = custard[\"Sales\"]\n",
    "m_Y = Y.mean()\n",
    "sd_Y = Y.std()\n",
    "Y = [(y-m_Y)/sd_Y for y in Y]"
   ]
  },
  {
   "cell_type": "code",
   "execution_count": 23,
   "id": "2e93f0f4",
   "metadata": {},
   "outputs": [
    {
     "data": {
      "text/plain": [
       "array([[5.38920558e-05],\n",
       "       [8.23023389e-01]])"
      ]
     },
     "execution_count": 23,
     "metadata": {},
     "output_type": "execute_result"
    }
   ],
   "source": [
    "be2, ch2= gd(X, np.array(Y).reshape(-1,1), theta, 0.01, 1000)\n",
    "be2"
   ]
  },
  {
   "cell_type": "code",
   "execution_count": 24,
   "id": "3e3fbd1b",
   "metadata": {},
   "outputs": [
    {
     "data": {
      "image/png": "[encoded data removed]",
      "text/plain": [
       "<Figure size 432x288 with 1 Axes>"
      ]
     },
     "metadata": {},
     "output_type": "display_data"
    }
   ],
   "source": [
    "plt.plot(np.arange(len(ch2)), ch2)\n",
    "plt.xlabel(\"Number of iterations (Epochs)\")\n",
    "plt.ylabel(\"Cost function\")\n",
    "plt.title(\"Gradient Descent\")\n",
    "plt.show()"
   ]
  },
  {
   "cell_type": "code",
   "execution_count": 25,
   "id": "fe59d0c9",
   "metadata": {},
   "outputs": [
    {
     "data": {
      "image/png": "[encoded data removed]",
      "text/plain": [
       "<Figure size 432x288 with 1 Axes>"
      ]
     },
     "metadata": {},
     "output_type": "display_data"
    }
   ],
   "source": [
    "pr = be2[1]*X1 + be2[0]\n",
    "sns.scatterplot(x = X1, y =  Y)\n",
    "sns.lineplot(x=X1, y = pr, color='red')\n",
    "plt.show()"
   ]
  }
 ],
 "metadata": {
  "kernelspec": {
   "display_name": "Python 3",
   "language": "python",
   "name": "python3"
  },
  "language_info": {
   "codemirror_mode": {
    "name": "ipython",
    "version": 3
   },
   "file_extension": ".py",
   "mimetype": "text/x-python",
   "name": "python",
   "nbconvert_exporter": "python",
   "pygments_lexer": "ipython3",
   "version": "3.8.8"
  }
 },
 "nbformat": 4,
 "nbformat_minor": 5
}
