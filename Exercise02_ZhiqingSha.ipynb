{
 "cells": [
  {
   "cell_type": "markdown",
   "id": "eaf77656",
   "metadata": {},
   "source": [
    "Basic gramma / psycopg usage reference from Psycopg 2.9.3 documentation (https://www.psycopg.org/docs/usage.html)"
   ]
  },
  {
   "cell_type": "markdown",
   "id": "a4bafe55",
   "metadata": {},
   "source": [
    "### Section 1: Querying a database in python"
   ]
  },
  {
   "cell_type": "code",
   "execution_count": 1,
   "id": "4fc46234",
   "metadata": {},
   "outputs": [],
   "source": [
    "import psycopg2\n",
    "import pandas as pd\n",
    "import matplotlib.pyplot as plt"
   ]
  },
  {
   "cell_type": "code",
   "execution_count": 2,
   "id": "dc954108",
   "metadata": {},
   "outputs": [],
   "source": [
    "# 1. Connect to local postgres instance\n",
    "conn = psycopg2.connect(host=\"localhost\",\n",
    "                        database=\"dvdrental\",\n",
    "                        user=\"postgres\",\n",
    "                        password=\"password\",\n",
    "                        port = \"5432\")"
   ]
  },
  {
   "cell_type": "code",
   "execution_count": 3,
   "id": "456869a0",
   "metadata": {},
   "outputs": [
    {
     "data": {
      "text/html": [
       "<div>\n",
       "<style scoped>\n",
       "    .dataframe tbody tr th:only-of-type {\n",
       "        vertical-align: middle;\n",
       "    }\n",
       "\n",
       "    .dataframe tbody tr th {\n",
       "        vertical-align: top;\n",
       "    }\n",
       "\n",
       "    .dataframe thead th {\n",
       "        text-align: right;\n",
       "    }\n",
       "</style>\n",
       "<table border=\"1\" class=\"dataframe\">\n",
       "  <thead>\n",
       "    <tr style=\"text-align: right;\">\n",
       "      <th></th>\n",
       "      <th>rental_date</th>\n",
       "      <th>payment_amount</th>\n",
       "      <th>customer_id</th>\n",
       "      <th>store_id</th>\n",
       "      <th>film_id</th>\n",
       "      <th>film_name</th>\n",
       "      <th>fulltext</th>\n",
       "      <th>rating</th>\n",
       "      <th>category_id</th>\n",
       "      <th>rental_rate</th>\n",
       "    </tr>\n",
       "  </thead>\n",
       "  <tbody>\n",
       "    <tr>\n",
       "      <th>0</th>\n",
       "      <td>2005-06-15 02:57:51</td>\n",
       "      <td>0.99</td>\n",
       "      <td>345.0</td>\n",
       "      <td>2</td>\n",
       "      <td>1</td>\n",
       "      <td>Academy Dinosaur</td>\n",
       "      <td>'academi':1 'battl':15 'canadian':20 'dinosaur...</td>\n",
       "      <td>PG</td>\n",
       "      <td>6</td>\n",
       "      <td>0.99</td>\n",
       "    </tr>\n",
       "    <tr>\n",
       "      <th>1</th>\n",
       "      <td>2005-08-02 00:47:19</td>\n",
       "      <td>0.99</td>\n",
       "      <td>301.0</td>\n",
       "      <td>1</td>\n",
       "      <td>1</td>\n",
       "      <td>Academy Dinosaur</td>\n",
       "      <td>'academi':1 'battl':15 'canadian':20 'dinosaur...</td>\n",
       "      <td>PG</td>\n",
       "      <td>6</td>\n",
       "      <td>0.99</td>\n",
       "    </tr>\n",
       "    <tr>\n",
       "      <th>2</th>\n",
       "      <td>2005-08-22 00:44:08</td>\n",
       "      <td>0.99</td>\n",
       "      <td>92.0</td>\n",
       "      <td>2</td>\n",
       "      <td>1</td>\n",
       "      <td>Academy Dinosaur</td>\n",
       "      <td>'academi':1 'battl':15 'canadian':20 'dinosaur...</td>\n",
       "      <td>PG</td>\n",
       "      <td>6</td>\n",
       "      <td>0.99</td>\n",
       "    </tr>\n",
       "    <tr>\n",
       "      <th>3</th>\n",
       "      <td>2005-08-22 23:56:37</td>\n",
       "      <td>0.99</td>\n",
       "      <td>541.0</td>\n",
       "      <td>1</td>\n",
       "      <td>1</td>\n",
       "      <td>Academy Dinosaur</td>\n",
       "      <td>'academi':1 'battl':15 'canadian':20 'dinosaur...</td>\n",
       "      <td>PG</td>\n",
       "      <td>6</td>\n",
       "      <td>0.99</td>\n",
       "    </tr>\n",
       "    <tr>\n",
       "      <th>4</th>\n",
       "      <td>2005-06-17 20:24:00</td>\n",
       "      <td>0.99</td>\n",
       "      <td>170.0</td>\n",
       "      <td>1</td>\n",
       "      <td>1</td>\n",
       "      <td>Academy Dinosaur</td>\n",
       "      <td>'academi':1 'battl':15 'canadian':20 'dinosaur...</td>\n",
       "      <td>PG</td>\n",
       "      <td>6</td>\n",
       "      <td>0.99</td>\n",
       "    </tr>\n",
       "  </tbody>\n",
       "</table>\n",
       "</div>"
      ],
      "text/plain": [
       "          rental_date  payment_amount  customer_id  store_id  film_id  \\\n",
       "0 2005-06-15 02:57:51            0.99        345.0         2        1   \n",
       "1 2005-08-02 00:47:19            0.99        301.0         1        1   \n",
       "2 2005-08-22 00:44:08            0.99         92.0         2        1   \n",
       "3 2005-08-22 23:56:37            0.99        541.0         1        1   \n",
       "4 2005-06-17 20:24:00            0.99        170.0         1        1   \n",
       "\n",
       "          film_name                                           fulltext rating  \\\n",
       "0  Academy Dinosaur  'academi':1 'battl':15 'canadian':20 'dinosaur...     PG   \n",
       "1  Academy Dinosaur  'academi':1 'battl':15 'canadian':20 'dinosaur...     PG   \n",
       "2  Academy Dinosaur  'academi':1 'battl':15 'canadian':20 'dinosaur...     PG   \n",
       "3  Academy Dinosaur  'academi':1 'battl':15 'canadian':20 'dinosaur...     PG   \n",
       "4  Academy Dinosaur  'academi':1 'battl':15 'canadian':20 'dinosaur...     PG   \n",
       "\n",
       "   category_id  rental_rate  \n",
       "0            6         0.99  \n",
       "1            6         0.99  \n",
       "2            6         0.99  \n",
       "3            6         0.99  \n",
       "4            6         0.99  "
      ]
     },
     "execution_count": 3,
     "metadata": {},
     "output_type": "execute_result"
    }
   ],
   "source": [
    "# 2. Write a query to return a dataset with film, rental, and payment information. \n",
    "#     Your dataset should have multiple rows per film, one for each time the film was rented and the amount spent on each rental. \n",
    "#     Create a dataframe with this information\n",
    "\n",
    "# Open a cursor to perform database operations\n",
    "cur = conn.cursor()\n",
    "# retrieve all necessary information\n",
    "cur.execute(\"SELECT rental.rental_date, payment.amount, payment.customer_id, inventory.store_id, \\\n",
    "                    film.film_id, film.title, film.fulltext, film.rating, film_category.category_id, film.rental_rate \\\n",
    "                FROM rental LEFT JOIN payment USING(rental_id) \\\n",
    "                    LEFT JOIN inventory USING(inventory_id) \\\n",
    "                    LEFT JOIN film USING(film_id) \\\n",
    "                    LEFT JOIN film_category USING(film_id) \\\n",
    "                ORDER BY title\")\n",
    "# fetch results and convert to a Pandas dataframe\n",
    "rentals = pd.DataFrame(cur.fetchall(), columns=[\"rental_date\", \"payment_amount\", \"customer_id\", \"store_id\", \\\n",
    "                                                \"film_id\", \"film_name\", \"fulltext\", \"rating\", \"category_id\", \"rental_rate\"])\n",
    "rentals[\"payment_amount\"] = rentals[\"payment_amount\"].astype(\"float\")\n",
    "rentals[\"rental_rate\"] = rentals[\"rental_rate\"].astype(\"float\")\n",
    "rentals.head()"
   ]
  },
  {
   "cell_type": "code",
   "execution_count": 4,
   "id": "7efbc8fd",
   "metadata": {},
   "outputs": [],
   "source": [
    "# 3. Create a dataframe from the customer table\n",
    "\n",
    "# retrieve all customer information\n",
    "cur.execute(\"SELECT * FROM customer\")\n",
    "# fetch results and convert to a Pandas dataframe\n",
    "customers = pd.DataFrame(cur.fetchall(), columns=[\"customer_id\", \"store_id\", \\\n",
    "                                                  \"first_name\", \"last_name\", \"email\", \"address_id\", \\\n",
    "                                                  \"activebool\", \"create_date\", \"last_update\", \"active\"])"
   ]
  },
  {
   "cell_type": "markdown",
   "id": "8403fe57",
   "metadata": {},
   "source": [
    "### Section 2: Manipulating dataframes"
   ]
  },
  {
   "cell_type": "code",
   "execution_count": 5,
   "id": "81157597",
   "metadata": {},
   "outputs": [],
   "source": [
    " # 1. Create a column for customer_name that has the first name and last name in the same column.\n",
    "customers[\"customer_name\"] = customers[\"first_name\"] + \" \" + customers[\"last_name\"] "
   ]
  },
  {
   "cell_type": "code",
   "execution_count": 6,
   "id": "5927f7c6",
   "metadata": {},
   "outputs": [],
   "source": [
    "# 2. Remove any inactive customers from the dataframe\n",
    "active_customers = customers[(customers[\"active\"] == 1)].copy()"
   ]
  },
  {
   "cell_type": "code",
   "execution_count": 7,
   "id": "929b0a14",
   "metadata": {},
   "outputs": [],
   "source": [
    "# 3. Change the email addresses to be ‘joe.person@wustl.edu’, but only when their store_id is an even number\n",
    "active_customers[\"email\"] = active_customers.apply(lambda x: \"joe.person@wustl.edu\" if (x[\"store_id\"] %2 == 0) else x[\"email\"], axis = 1 )"
   ]
  },
  {
   "cell_type": "markdown",
   "id": "1a21ef8c",
   "metadata": {},
   "source": [
    "### Section 3: Visualizations"
   ]
  },
  {
   "cell_type": "code",
   "execution_count": 8,
   "id": "e9e7a301",
   "metadata": {},
   "outputs": [
    {
     "data": {
      "image/png": "[encoded data removed]",
      "text/plain": [
       "<Figure size 720x360 with 1 Axes>"
      ]
     },
     "metadata": {
      "needs_background": "light"
     },
     "output_type": "display_data"
    }
   ],
   "source": [
    "# 1. How much do customers tend to spend on rentals in aggregate?\n",
    "customer_payments = rentals.groupby(\"customer_id\")[\"payment_amount\"].sum()\n",
    "\n",
    "plt.figure(figsize = (10,5))\n",
    "plt.title(label='Customer Spending')\n",
    "plt.boxplot(customer_payments)\n",
    "plt.show()"
   ]
  },
  {
   "cell_type": "markdown",
   "id": "6d7dc61a",
   "metadata": {},
   "source": [
    "*Most customers spend between \\\\$80 and \\\\$115. The highest amount paid is around \\\\$210, and the least amount paid is around \\\\$27. The average of customer payment is around \\\\$102.*"
   ]
  },
  {
   "cell_type": "code",
   "execution_count": 9,
   "id": "1b70ee4c",
   "metadata": {},
   "outputs": [
    {
     "data": {
      "text/plain": [
       "<Figure size 432x288 with 0 Axes>"
      ]
     },
     "metadata": {},
     "output_type": "display_data"
    },
    {
     "data": {
      "image/png": "[encoded data removed]",
      "text/plain": [
       "<Figure size 1080x360 with 1 Axes>"
      ]
     },
     "metadata": {
      "needs_background": "light"
     },
     "output_type": "display_data"
    }
   ],
   "source": [
    "# 2. What does the distribution of film revenue look like?\n",
    "film_revenue = pd.DataFrame(rentals.groupby(\"film_name\").apply(lambda x:x[\"rental_rate\"].mean()*x[\"rental_date\"].\\\n",
    "                                                               count())).reset_index().rename(columns={0: \"revenue\"})\n",
    "\n",
    "# visual 1: bar chart \n",
    "plt.clf()\n",
    "plt.figure(figsize = (15,5))\n",
    "plt.bar(film_revenue.sort_values(\"revenue\")[\"film_name\"], height = film_revenue.sort_values(\"revenue\")[\"revenue\"])\n",
    "plt.title(label='Revenue by Film')\n",
    "plt.xlabel(\"Film Name\")\n",
    "plt.ylabel(\"Revenue\")\n",
    "plt.show()"
   ]
  },
  {
   "cell_type": "code",
   "execution_count": 10,
   "id": "bc32cfee",
   "metadata": {},
   "outputs": [
    {
     "data": {
      "text/plain": [
       "(array([268., 182., 145., 123.,  97.,  52.,  50.,  21.,  14.,   6.]),\n",
       " array([  4.95 ,  21.421,  37.892,  54.363,  70.834,  87.305, 103.776,\n",
       "        120.247, 136.718, 153.189, 169.66 ]),\n",
       " <BarContainer object of 10 artists>)"
      ]
     },
     "execution_count": 10,
     "metadata": {},
     "output_type": "execute_result"
    },
    {
     "data": {
      "text/plain": [
       "<Figure size 432x288 with 0 Axes>"
      ]
     },
     "metadata": {},
     "output_type": "display_data"
    },
    {
     "data": {
      "image/png": "[encoded data removed]",
      "text/plain": [
       "<Figure size 720x360 with 1 Axes>"
      ]
     },
     "metadata": {
      "needs_background": "light"
     },
     "output_type": "display_data"
    }
   ],
   "source": [
    "# visual 2: histogram\n",
    "plt.clf()\n",
    "plt.figure(figsize = (10,5))\n",
    "plt.title(label='Film Revenue Distribution')\n",
    "plt.subplot().set_ylabel(\"Frequency\") \n",
    "plt.subplot().set_xlabel(\"Revenue\")\n",
    "plt.hist(film_revenue[\"revenue\"])"
   ]
  },
  {
   "cell_type": "markdown",
   "id": "e6ded8e9",
   "metadata": {},
   "source": [
    "*Most revenue are around 0-25. Lower frequency as the revenue goes up.*"
   ]
  },
  {
   "cell_type": "markdown",
   "id": "a6a46565",
   "metadata": {},
   "source": [
    "*Since there are situations where payment amount is greater than rental rate, I believe it is more accurate to use the sum of payment amount as the revenue for films. The following visual is a histogram of film revenue based on payment amount.*"
   ]
  },
  {
   "cell_type": "code",
   "execution_count": 11,
   "id": "87d1fa29",
   "metadata": {},
   "outputs": [
    {
     "data": {
      "text/plain": [
       "(array([159., 243., 182., 155.,  99.,  58.,  41.,  13.,   5.,   3.]),\n",
       " array([  5.94 ,  26.921,  47.902,  68.883,  89.864, 110.845, 131.826,\n",
       "        152.807, 173.788, 194.769, 215.75 ]),\n",
       " <BarContainer object of 10 artists>)"
      ]
     },
     "execution_count": 11,
     "metadata": {},
     "output_type": "execute_result"
    },
    {
     "data": {
      "text/plain": [
       "<Figure size 432x288 with 0 Axes>"
      ]
     },
     "metadata": {},
     "output_type": "display_data"
    },
    {
     "data": {
      "image/png": "[encoded data removed]",
      "text/plain": [
       "<Figure size 720x360 with 1 Axes>"
      ]
     },
     "metadata": {
      "needs_background": "light"
     },
     "output_type": "display_data"
    }
   ],
   "source": [
    "# histogram: revenue from sum of payment amount\n",
    "film_amount = rentals.groupby(\"film_name\")[\"payment_amount\"].sum()\n",
    "\n",
    "plt.clf()\n",
    "plt.figure(figsize = (10,5))\n",
    "plt.hist(film_amount)"
   ]
  },
  {
   "cell_type": "markdown",
   "id": "749f25d4",
   "metadata": {},
   "source": [
    "### Section 4: Analysis"
   ]
  },
  {
   "cell_type": "code",
   "execution_count": 12,
   "id": "72a11c2f",
   "metadata": {},
   "outputs": [
    {
     "data": {
      "text/plain": [
       "<Figure size 432x288 with 0 Axes>"
      ]
     },
     "metadata": {},
     "output_type": "display_data"
    },
    {
     "data": {
      "image/png": "[encoded data removed]",
      "text/plain": [
       "<Figure size 504x360 with 1 Axes>"
      ]
     },
     "metadata": {
      "needs_background": "light"
     },
     "output_type": "display_data"
    }
   ],
   "source": [
    "#1. On average, do some movie ratings generate more revenue than others?\n",
    "rating_revenue =  rentals.groupby(\"rating\")[\"payment_amount\"].mean()\n",
    "\n",
    "plt.clf()\n",
    "plt.figure(figsize = (7,5))\n",
    "plt.bar(x = rating_revenue.index, height = rating_revenue, color = \"#ebc934\")\n",
    "plt.show()"
   ]
  },
  {
   "cell_type": "markdown",
   "id": "6b107e62",
   "metadata": {},
   "source": [
    "*Five moving ratings have pretty similar revenue on average. It suggests that no movie rating is generating significantly larger revenue than others.*  "
   ]
  },
  {
   "cell_type": "code",
   "execution_count": 13,
   "id": "57420746",
   "metadata": {},
   "outputs": [
    {
     "data": {
      "text/plain": [
       "<Figure size 432x288 with 0 Axes>"
      ]
     },
     "metadata": {},
     "output_type": "display_data"
    },
    {
     "data": {
      "image/png": "[encoded data removed]",
      "text/plain": [
       "<Figure size 1440x360 with 1 Axes>"
      ]
     },
     "metadata": {
      "needs_background": "light"
     },
     "output_type": "display_data"
    }
   ],
   "source": [
    "#2. Do distributions of counts of rented films by category_id look the same for the 2 stores?\n",
    "\n",
    "store1_category = rentals.loc[rentals[\"store_id\"]==1, :].groupby(\"category_id\")[\"film_id\"].count()\n",
    "store2_category = rentals.loc[rentals[\"store_id\"]==2, :].groupby(\"category_id\")[\"film_id\"].count()\n",
    "\n",
    "# clustered bar chart reference from Matplotlib documentation (https://matplotlib.org/stable/gallery/lines_bars_and_markers/barchart.html)\n",
    "plt.clf()\n",
    "fig, ax = plt.subplots(figsize=(20,5))\n",
    "x = store1_category.index\n",
    "width = 0.4\n",
    "s1 = ax.bar(x- width/2, store1_category, width, label='store 1')\n",
    "s2 = ax.bar(x+ width/2, store2_category, width, label='store 2')\n",
    "\n",
    "ax.bar_label(s1)\n",
    "ax.bar_label(s2)\n",
    "\n",
    "ax.set_title('Count of Rented Films by category_id')\n",
    "ax.set_xlabel(\"category_id\")\n",
    "ax.set_xticks(x)\n",
    "ax.legend()\n",
    "\n",
    "plt.show()"
   ]
  },
  {
   "cell_type": "markdown",
   "id": "9a915424",
   "metadata": {},
   "source": [
    "*The distributions of counts of rented films by category_id look similar for the 2 stores, with no significant difference.* "
   ]
  },
  {
   "cell_type": "code",
   "execution_count": 14,
   "id": "691e1262",
   "metadata": {},
   "outputs": [],
   "source": [
    "#3. Do films that have a ‘husband’ (check the ‘fulltext’ field) generate the same amount of revenue as films that feature a ‘dinosaur’?\n",
    "rental2 = rentals.copy()\n",
    "rental2[\"husband\"] = rental2[\"fulltext\"].apply(lambda x: 1 if \"husband\" in x.lower() else 0)\n",
    "rental2[\"dinosaur\"] = rental2[\"fulltext\"].apply(lambda x: 1 if \"dinosaur\" in x.lower() else 0)"
   ]
  },
  {
   "cell_type": "code",
   "execution_count": 15,
   "id": "70cb13bc",
   "metadata": {},
   "outputs": [],
   "source": [
    "husband_films = rental2.loc[rental2[\"husband\"]==1, \"payment_amount\"]\n",
    "dinosaur_films = rental2.loc[rental2[\"dinosaur\"]==1, \"payment_amount\"]"
   ]
  },
  {
   "cell_type": "code",
   "execution_count": 16,
   "id": "8cf54c1d",
   "metadata": {},
   "outputs": [
    {
     "name": "stdout",
     "output_type": "stream",
     "text": [
      "Revenue for films that feature a \"husband\": 5553.49 \n",
      "Revenue for films that feature a \"dinosaur\": 223.39 \n",
      "Difference:  5330.1\n"
     ]
    }
   ],
   "source": [
    "print('Revenue for films that feature a \"husband\":', round(husband_films.sum(), 3), \\\n",
    "      '\\nRevenue for films that feature a \"dinosaur\":', round(dinosaur_films.sum(), 3), \\\n",
    "     '\\nDifference: ', round(husband_films.sum()-dinosaur_films.sum(), 3))"
   ]
  },
  {
   "cell_type": "markdown",
   "id": "12ff9668",
   "metadata": {},
   "source": [
    "*Films that have a \"husband\" generate much more revenue than films that feature a \"dinosaur\". The difference is as high as \\\\$5330.1.*"
   ]
  }
 ],
 "metadata": {
  "kernelspec": {
   "display_name": "Python 3",
   "language": "python",
   "name": "python3"
  },
  "language_info": {
   "codemirror_mode": {
    "name": "ipython",
    "version": 3
   },
   "file_extension": ".py",
   "mimetype": "text/x-python",
   "name": "python",
   "nbconvert_exporter": "python",
   "pygments_lexer": "ipython3",
   "version": "3.8.8"
  }
 },
 "nbformat": 4,
 "nbformat_minor": 5
}
